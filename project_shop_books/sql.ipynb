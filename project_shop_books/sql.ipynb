{
 "cells": [
  {
   "cell_type": "markdown",
   "id": "9c89f449",
   "metadata": {},
   "source": [
    "## Обзор данных"
   ]
  },
  {
   "cell_type": "code",
   "execution_count": 1,
   "id": "d73c4b7d",
   "metadata": {},
   "outputs": [],
   "source": [
    "# импортируем библиотеки \n",
    "import pandas as pd \n",
    "\n",
    "from sqlalchemy import create_engine "
   ]
  },
  {
   "cell_type": "code",
   "execution_count": 2,
   "id": "1558a65d",
   "metadata": {},
   "outputs": [],
   "source": [
    "# устанавливаем параметры \n",
    "db_config = {'user': 'praktikum_student', # имя пользователя  \n",
    "             'pwd': 'Sdf4$2;d-d30pp', # пароль  \n",
    "             'host': 'rc1b-wcoijxj3yxfsf3fs.mdb.yandexcloud.net',  \n",
    "             'port': 6432, # порт подключения  \n",
    "             'db': 'data-analyst-final-project-db'} # название базы данных \n",
    "connection_string = 'postgresql://{}:{}@{}:{}/{}'.format(db_config['user'],  \n",
    "                                                         db_config['pwd'],  \n",
    "                                                         db_config['host'],  \n",
    "                                                         db_config['port'], \n",
    "                                                         db_config['db']) # сохраняем коннектор \n",
    "\n",
    "# Подключаемся к БД\n",
    "engine = create_engine(connection_string, connect_args={'sslmode':'require'}) "
   ]
  },
  {
   "cell_type": "markdown",
   "id": "f61cca17",
   "metadata": {},
   "source": [
    "Ознакокмимся с таблицами:"
   ]
  },
  {
   "cell_type": "markdown",
   "id": "1a8e6792",
   "metadata": {},
   "source": [
    "**Таблица `books`**\n",
    "\n",
    "Содержит данные о книгах:\n",
    "\n",
    "- `book_id` — идентификатор книги;\n",
    "- `author_id` — идентификатор автора;\n",
    "- `title` — название книги;\n",
    "- `num_pages` — количество страниц;\n",
    "- `publication_date` — дата публикации книги;\n",
    "- `publisher_id` — идентификатор издателя."
   ]
  },
  {
   "cell_type": "code",
   "execution_count": 3,
   "id": "22d370d6",
   "metadata": {},
   "outputs": [],
   "source": [
    "# Формируем sql-запрос\n",
    "query = ''' SELECT *\n",
    "            FROM books\n",
    "        '''"
   ]
  },
  {
   "cell_type": "code",
   "execution_count": 4,
   "id": "a417a9c5",
   "metadata": {},
   "outputs": [
    {
     "data": {
      "text/html": [
       "<div>\n",
       "<style scoped>\n",
       "    .dataframe tbody tr th:only-of-type {\n",
       "        vertical-align: middle;\n",
       "    }\n",
       "\n",
       "    .dataframe tbody tr th {\n",
       "        vertical-align: top;\n",
       "    }\n",
       "\n",
       "    .dataframe thead th {\n",
       "        text-align: right;\n",
       "    }\n",
       "</style>\n",
       "<table border=\"1\" class=\"dataframe\">\n",
       "  <thead>\n",
       "    <tr style=\"text-align: right;\">\n",
       "      <th></th>\n",
       "      <th>book_id</th>\n",
       "      <th>author_id</th>\n",
       "      <th>title</th>\n",
       "      <th>num_pages</th>\n",
       "      <th>publication_date</th>\n",
       "      <th>publisher_id</th>\n",
       "    </tr>\n",
       "  </thead>\n",
       "  <tbody>\n",
       "    <tr>\n",
       "      <th>0</th>\n",
       "      <td>1</td>\n",
       "      <td>546</td>\n",
       "      <td>'Salem's Lot</td>\n",
       "      <td>594</td>\n",
       "      <td>2005-11-01</td>\n",
       "      <td>93</td>\n",
       "    </tr>\n",
       "    <tr>\n",
       "      <th>1</th>\n",
       "      <td>2</td>\n",
       "      <td>465</td>\n",
       "      <td>1 000 Places to See Before You Die</td>\n",
       "      <td>992</td>\n",
       "      <td>2003-05-22</td>\n",
       "      <td>336</td>\n",
       "    </tr>\n",
       "    <tr>\n",
       "      <th>2</th>\n",
       "      <td>3</td>\n",
       "      <td>407</td>\n",
       "      <td>13 Little Blue Envelopes (Little Blue Envelope...</td>\n",
       "      <td>322</td>\n",
       "      <td>2010-12-21</td>\n",
       "      <td>135</td>\n",
       "    </tr>\n",
       "    <tr>\n",
       "      <th>3</th>\n",
       "      <td>4</td>\n",
       "      <td>82</td>\n",
       "      <td>1491: New Revelations of the Americas Before C...</td>\n",
       "      <td>541</td>\n",
       "      <td>2006-10-10</td>\n",
       "      <td>309</td>\n",
       "    </tr>\n",
       "    <tr>\n",
       "      <th>4</th>\n",
       "      <td>5</td>\n",
       "      <td>125</td>\n",
       "      <td>1776</td>\n",
       "      <td>386</td>\n",
       "      <td>2006-07-04</td>\n",
       "      <td>268</td>\n",
       "    </tr>\n",
       "  </tbody>\n",
       "</table>\n",
       "</div>"
      ],
      "text/plain": [
       "   book_id  author_id                                              title  \\\n",
       "0        1        546                                       'Salem's Lot   \n",
       "1        2        465                 1 000 Places to See Before You Die   \n",
       "2        3        407  13 Little Blue Envelopes (Little Blue Envelope...   \n",
       "3        4         82  1491: New Revelations of the Americas Before C...   \n",
       "4        5        125                                               1776   \n",
       "\n",
       "   num_pages publication_date  publisher_id  \n",
       "0        594       2005-11-01            93  \n",
       "1        992       2003-05-22           336  \n",
       "2        322       2010-12-21           135  \n",
       "3        541       2006-10-10           309  \n",
       "4        386       2006-07-04           268  "
      ]
     },
     "execution_count": 4,
     "metadata": {},
     "output_type": "execute_result"
    }
   ],
   "source": [
    "# Выполняем запрос и сохраняем результат  выполнения в DataFrame\n",
    "#Sqlalchemy автоматически установит названия колонок  такими же, как у таблицы в БД\n",
    "\n",
    "books = pd.io.sql.read_sql(query, con = engine)\n",
    "books.head()"
   ]
  },
  {
   "cell_type": "markdown",
   "id": "98c9cb50",
   "metadata": {},
   "source": [
    "**Таблица `authors`**\n",
    "\n",
    "Содержит данные об авторах:\n",
    "\n",
    "- `author_id` — идентификатор автора;\n",
    "- `author` — имя автора."
   ]
  },
  {
   "cell_type": "code",
   "execution_count": 5,
   "id": "096efbad",
   "metadata": {},
   "outputs": [],
   "source": [
    "query = ''' SELECT *\n",
    "            FROM authors\n",
    "        '''"
   ]
  },
  {
   "cell_type": "code",
   "execution_count": 6,
   "id": "1939e8ad",
   "metadata": {
    "scrolled": true
   },
   "outputs": [
    {
     "data": {
      "text/html": [
       "<div>\n",
       "<style scoped>\n",
       "    .dataframe tbody tr th:only-of-type {\n",
       "        vertical-align: middle;\n",
       "    }\n",
       "\n",
       "    .dataframe tbody tr th {\n",
       "        vertical-align: top;\n",
       "    }\n",
       "\n",
       "    .dataframe thead th {\n",
       "        text-align: right;\n",
       "    }\n",
       "</style>\n",
       "<table border=\"1\" class=\"dataframe\">\n",
       "  <thead>\n",
       "    <tr style=\"text-align: right;\">\n",
       "      <th></th>\n",
       "      <th>author_id</th>\n",
       "      <th>author</th>\n",
       "    </tr>\n",
       "  </thead>\n",
       "  <tbody>\n",
       "    <tr>\n",
       "      <th>0</th>\n",
       "      <td>1</td>\n",
       "      <td>A.S. Byatt</td>\n",
       "    </tr>\n",
       "    <tr>\n",
       "      <th>1</th>\n",
       "      <td>2</td>\n",
       "      <td>Aesop/Laura Harris/Laura Gibbs</td>\n",
       "    </tr>\n",
       "    <tr>\n",
       "      <th>2</th>\n",
       "      <td>3</td>\n",
       "      <td>Agatha Christie</td>\n",
       "    </tr>\n",
       "    <tr>\n",
       "      <th>3</th>\n",
       "      <td>4</td>\n",
       "      <td>Alan Brennert</td>\n",
       "    </tr>\n",
       "    <tr>\n",
       "      <th>4</th>\n",
       "      <td>5</td>\n",
       "      <td>Alan Moore/David   Lloyd</td>\n",
       "    </tr>\n",
       "  </tbody>\n",
       "</table>\n",
       "</div>"
      ],
      "text/plain": [
       "   author_id                          author\n",
       "0          1                      A.S. Byatt\n",
       "1          2  Aesop/Laura Harris/Laura Gibbs\n",
       "2          3                 Agatha Christie\n",
       "3          4                   Alan Brennert\n",
       "4          5        Alan Moore/David   Lloyd"
      ]
     },
     "execution_count": 6,
     "metadata": {},
     "output_type": "execute_result"
    }
   ],
   "source": [
    "authors = pd.io.sql.read_sql(query, con = engine)\n",
    "authors.head()"
   ]
  },
  {
   "cell_type": "markdown",
   "id": "dc7787c4",
   "metadata": {},
   "source": [
    "**Таблица `publishers`**\n",
    "\n",
    "Содержит данные об издательствах:\n",
    "\n",
    "- `publisher_id` — идентификатор издательства;\n",
    "- `publisher` — название издательства;\n"
   ]
  },
  {
   "cell_type": "code",
   "execution_count": 7,
   "id": "f2f2c241",
   "metadata": {},
   "outputs": [],
   "source": [
    "query = ''' SELECT *\n",
    "            FROM publishers\n",
    "        '''"
   ]
  },
  {
   "cell_type": "code",
   "execution_count": 8,
   "id": "e8af49f1",
   "metadata": {},
   "outputs": [
    {
     "data": {
      "text/html": [
       "<div>\n",
       "<style scoped>\n",
       "    .dataframe tbody tr th:only-of-type {\n",
       "        vertical-align: middle;\n",
       "    }\n",
       "\n",
       "    .dataframe tbody tr th {\n",
       "        vertical-align: top;\n",
       "    }\n",
       "\n",
       "    .dataframe thead th {\n",
       "        text-align: right;\n",
       "    }\n",
       "</style>\n",
       "<table border=\"1\" class=\"dataframe\">\n",
       "  <thead>\n",
       "    <tr style=\"text-align: right;\">\n",
       "      <th></th>\n",
       "      <th>publisher_id</th>\n",
       "      <th>publisher</th>\n",
       "    </tr>\n",
       "  </thead>\n",
       "  <tbody>\n",
       "    <tr>\n",
       "      <th>0</th>\n",
       "      <td>1</td>\n",
       "      <td>Ace</td>\n",
       "    </tr>\n",
       "    <tr>\n",
       "      <th>1</th>\n",
       "      <td>2</td>\n",
       "      <td>Ace Book</td>\n",
       "    </tr>\n",
       "    <tr>\n",
       "      <th>2</th>\n",
       "      <td>3</td>\n",
       "      <td>Ace Books</td>\n",
       "    </tr>\n",
       "    <tr>\n",
       "      <th>3</th>\n",
       "      <td>4</td>\n",
       "      <td>Ace Hardcover</td>\n",
       "    </tr>\n",
       "    <tr>\n",
       "      <th>4</th>\n",
       "      <td>5</td>\n",
       "      <td>Addison Wesley Publishing Company</td>\n",
       "    </tr>\n",
       "  </tbody>\n",
       "</table>\n",
       "</div>"
      ],
      "text/plain": [
       "   publisher_id                          publisher\n",
       "0             1                                Ace\n",
       "1             2                           Ace Book\n",
       "2             3                          Ace Books\n",
       "3             4                      Ace Hardcover\n",
       "4             5  Addison Wesley Publishing Company"
      ]
     },
     "execution_count": 8,
     "metadata": {},
     "output_type": "execute_result"
    }
   ],
   "source": [
    "publishers = pd.io.sql.read_sql(query, con = engine)\n",
    "publishers.head()"
   ]
  },
  {
   "cell_type": "markdown",
   "id": "29c6a129",
   "metadata": {},
   "source": [
    "**Таблица `ratings`**\n",
    "\n",
    "Содержит данные о пользовательских оценках книг:\n",
    "\n",
    "- `rating_id` — идентификатор оценки;\n",
    "- `book_id` — идентификатор книги;\n",
    "- `username` — имя пользователя, оставившего оценку;\n",
    "- `rating` — оценка книги."
   ]
  },
  {
   "cell_type": "code",
   "execution_count": 9,
   "id": "680ef65e",
   "metadata": {},
   "outputs": [],
   "source": [
    "query = ''' SELECT *\n",
    "            FROM ratings\n",
    "        '''"
   ]
  },
  {
   "cell_type": "code",
   "execution_count": 10,
   "id": "533db212",
   "metadata": {},
   "outputs": [
    {
     "data": {
      "text/html": [
       "<div>\n",
       "<style scoped>\n",
       "    .dataframe tbody tr th:only-of-type {\n",
       "        vertical-align: middle;\n",
       "    }\n",
       "\n",
       "    .dataframe tbody tr th {\n",
       "        vertical-align: top;\n",
       "    }\n",
       "\n",
       "    .dataframe thead th {\n",
       "        text-align: right;\n",
       "    }\n",
       "</style>\n",
       "<table border=\"1\" class=\"dataframe\">\n",
       "  <thead>\n",
       "    <tr style=\"text-align: right;\">\n",
       "      <th></th>\n",
       "      <th>rating_id</th>\n",
       "      <th>book_id</th>\n",
       "      <th>username</th>\n",
       "      <th>rating</th>\n",
       "    </tr>\n",
       "  </thead>\n",
       "  <tbody>\n",
       "    <tr>\n",
       "      <th>0</th>\n",
       "      <td>1</td>\n",
       "      <td>1</td>\n",
       "      <td>ryanfranco</td>\n",
       "      <td>4</td>\n",
       "    </tr>\n",
       "    <tr>\n",
       "      <th>1</th>\n",
       "      <td>2</td>\n",
       "      <td>1</td>\n",
       "      <td>grantpatricia</td>\n",
       "      <td>2</td>\n",
       "    </tr>\n",
       "    <tr>\n",
       "      <th>2</th>\n",
       "      <td>3</td>\n",
       "      <td>1</td>\n",
       "      <td>brandtandrea</td>\n",
       "      <td>5</td>\n",
       "    </tr>\n",
       "    <tr>\n",
       "      <th>3</th>\n",
       "      <td>4</td>\n",
       "      <td>2</td>\n",
       "      <td>lorichen</td>\n",
       "      <td>3</td>\n",
       "    </tr>\n",
       "    <tr>\n",
       "      <th>4</th>\n",
       "      <td>5</td>\n",
       "      <td>2</td>\n",
       "      <td>mariokeller</td>\n",
       "      <td>2</td>\n",
       "    </tr>\n",
       "  </tbody>\n",
       "</table>\n",
       "</div>"
      ],
      "text/plain": [
       "   rating_id  book_id       username  rating\n",
       "0          1        1     ryanfranco       4\n",
       "1          2        1  grantpatricia       2\n",
       "2          3        1   brandtandrea       5\n",
       "3          4        2       lorichen       3\n",
       "4          5        2    mariokeller       2"
      ]
     },
     "execution_count": 10,
     "metadata": {},
     "output_type": "execute_result"
    }
   ],
   "source": [
    "ratings = pd.io.sql.read_sql(query, con = engine)\n",
    "ratings.head()"
   ]
  },
  {
   "cell_type": "markdown",
   "id": "1cebbbc6",
   "metadata": {},
   "source": [
    "**Таблица `reviews`**\n",
    "\n",
    "Содержит данные о пользовательских обзорах на книги:\n",
    "\n",
    "- `review_id` — идентификатор обзора;\n",
    "- `book_id` — идентификатор книги;\n",
    "- `username` — имя пользователя, написавшего обзор;\n",
    "- `text` — текст обзора."
   ]
  },
  {
   "cell_type": "code",
   "execution_count": 11,
   "id": "73b65bac",
   "metadata": {},
   "outputs": [],
   "source": [
    "query = ''' SELECT *\n",
    "            FROM reviews\n",
    "        '''"
   ]
  },
  {
   "cell_type": "code",
   "execution_count": 12,
   "id": "6183611a",
   "metadata": {},
   "outputs": [
    {
     "data": {
      "text/html": [
       "<div>\n",
       "<style scoped>\n",
       "    .dataframe tbody tr th:only-of-type {\n",
       "        vertical-align: middle;\n",
       "    }\n",
       "\n",
       "    .dataframe tbody tr th {\n",
       "        vertical-align: top;\n",
       "    }\n",
       "\n",
       "    .dataframe thead th {\n",
       "        text-align: right;\n",
       "    }\n",
       "</style>\n",
       "<table border=\"1\" class=\"dataframe\">\n",
       "  <thead>\n",
       "    <tr style=\"text-align: right;\">\n",
       "      <th></th>\n",
       "      <th>review_id</th>\n",
       "      <th>book_id</th>\n",
       "      <th>username</th>\n",
       "      <th>text</th>\n",
       "    </tr>\n",
       "  </thead>\n",
       "  <tbody>\n",
       "    <tr>\n",
       "      <th>0</th>\n",
       "      <td>1</td>\n",
       "      <td>1</td>\n",
       "      <td>brandtandrea</td>\n",
       "      <td>Mention society tell send professor analysis. ...</td>\n",
       "    </tr>\n",
       "    <tr>\n",
       "      <th>1</th>\n",
       "      <td>2</td>\n",
       "      <td>1</td>\n",
       "      <td>ryanfranco</td>\n",
       "      <td>Foot glass pretty audience hit themselves. Amo...</td>\n",
       "    </tr>\n",
       "    <tr>\n",
       "      <th>2</th>\n",
       "      <td>3</td>\n",
       "      <td>2</td>\n",
       "      <td>lorichen</td>\n",
       "      <td>Listen treat keep worry. Miss husband tax but ...</td>\n",
       "    </tr>\n",
       "    <tr>\n",
       "      <th>3</th>\n",
       "      <td>4</td>\n",
       "      <td>3</td>\n",
       "      <td>johnsonamanda</td>\n",
       "      <td>Finally month interesting blue could nature cu...</td>\n",
       "    </tr>\n",
       "    <tr>\n",
       "      <th>4</th>\n",
       "      <td>5</td>\n",
       "      <td>3</td>\n",
       "      <td>scotttamara</td>\n",
       "      <td>Nation purpose heavy give wait song will. List...</td>\n",
       "    </tr>\n",
       "  </tbody>\n",
       "</table>\n",
       "</div>"
      ],
      "text/plain": [
       "   review_id  book_id       username  \\\n",
       "0          1        1   brandtandrea   \n",
       "1          2        1     ryanfranco   \n",
       "2          3        2       lorichen   \n",
       "3          4        3  johnsonamanda   \n",
       "4          5        3    scotttamara   \n",
       "\n",
       "                                                text  \n",
       "0  Mention society tell send professor analysis. ...  \n",
       "1  Foot glass pretty audience hit themselves. Amo...  \n",
       "2  Listen treat keep worry. Miss husband tax but ...  \n",
       "3  Finally month interesting blue could nature cu...  \n",
       "4  Nation purpose heavy give wait song will. List...  "
      ]
     },
     "execution_count": 12,
     "metadata": {},
     "output_type": "execute_result"
    }
   ],
   "source": [
    "reviews = pd.io.sql.read_sql(query, con = engine)\n",
    "reviews.head()"
   ]
  },
  {
   "cell_type": "markdown",
   "id": "739fdc68",
   "metadata": {},
   "source": [
    "## Количество книг, вышедших после 01.01.2000 г."
   ]
  },
  {
   "cell_type": "code",
   "execution_count": 13,
   "id": "427aa37d",
   "metadata": {},
   "outputs": [],
   "source": [
    "query = ''' SELECT COUNT(book_id)\n",
    "            FROM books\n",
    "            WHERE publication_date > '2000-01-01'\n",
    "        '''"
   ]
  },
  {
   "cell_type": "code",
   "execution_count": 14,
   "id": "b8e429c5",
   "metadata": {},
   "outputs": [
    {
     "data": {
      "text/html": [
       "<div>\n",
       "<style scoped>\n",
       "    .dataframe tbody tr th:only-of-type {\n",
       "        vertical-align: middle;\n",
       "    }\n",
       "\n",
       "    .dataframe tbody tr th {\n",
       "        vertical-align: top;\n",
       "    }\n",
       "\n",
       "    .dataframe thead th {\n",
       "        text-align: right;\n",
       "    }\n",
       "</style>\n",
       "<table border=\"1\" class=\"dataframe\">\n",
       "  <thead>\n",
       "    <tr style=\"text-align: right;\">\n",
       "      <th></th>\n",
       "      <th>count</th>\n",
       "    </tr>\n",
       "  </thead>\n",
       "  <tbody>\n",
       "    <tr>\n",
       "      <th>0</th>\n",
       "      <td>819</td>\n",
       "    </tr>\n",
       "  </tbody>\n",
       "</table>\n",
       "</div>"
      ],
      "text/plain": [
       "   count\n",
       "0    819"
      ]
     },
     "execution_count": 14,
     "metadata": {},
     "output_type": "execute_result"
    }
   ],
   "source": [
    "count_book = pd.io.sql.read_sql(query, con = engine)\n",
    "count_book"
   ]
  },
  {
   "cell_type": "markdown",
   "id": "554a2025",
   "metadata": {},
   "source": [
    "### Вывод:\n",
    "\n",
    "Таким образом, количество книг, вышедших после 01.01.2000 года - 819  книг. "
   ]
  },
  {
   "cell_type": "markdown",
   "id": "762885e7",
   "metadata": {},
   "source": [
    "##  Количество обзоров и средняя оценка для каждой книги"
   ]
  },
  {
   "cell_type": "markdown",
   "id": "57ebcdc1",
   "metadata": {},
   "source": [
    "Для каждой книги посчитаем количество обзоров и среднюю оценку"
   ]
  },
  {
   "cell_type": "code",
   "execution_count": 15,
   "id": "8ff23d43",
   "metadata": {},
   "outputs": [],
   "source": [
    "query = ''' SELECT DISTINCT(b.title),\n",
    "                   COUNT(DISTINCT(rev.review_id)) as count_review, \n",
    "                   AVG(r.rating) as avg_rating\n",
    "            FROM books as b \n",
    "            FULL OUTER JOIN  authors as a on b.author_id = a.author_id\n",
    "            FULL OUTER JOIN ratings as r on b.book_id = r.book_id\n",
    "            FULL OUTER JOIN reviews as rev on b.book_id = rev.book_id\n",
    "            GROUP BY b.book_id\n",
    "            ORDER BY count_review desc, avg_rating desc\n",
    "            \n",
    "        '''"
   ]
  },
  {
   "cell_type": "code",
   "execution_count": 16,
   "id": "681ad704",
   "metadata": {
    "scrolled": true
   },
   "outputs": [
    {
     "data": {
      "text/html": [
       "<div>\n",
       "<style scoped>\n",
       "    .dataframe tbody tr th:only-of-type {\n",
       "        vertical-align: middle;\n",
       "    }\n",
       "\n",
       "    .dataframe tbody tr th {\n",
       "        vertical-align: top;\n",
       "    }\n",
       "\n",
       "    .dataframe thead th {\n",
       "        text-align: right;\n",
       "    }\n",
       "</style>\n",
       "<table border=\"1\" class=\"dataframe\">\n",
       "  <thead>\n",
       "    <tr style=\"text-align: right;\">\n",
       "      <th></th>\n",
       "      <th>title</th>\n",
       "      <th>count_review</th>\n",
       "      <th>avg_rating</th>\n",
       "    </tr>\n",
       "  </thead>\n",
       "  <tbody>\n",
       "    <tr>\n",
       "      <th>0</th>\n",
       "      <td>Twilight (Twilight  #1)</td>\n",
       "      <td>7</td>\n",
       "      <td>3.662500</td>\n",
       "    </tr>\n",
       "    <tr>\n",
       "      <th>1</th>\n",
       "      <td>Harry Potter and the Prisoner of Azkaban (Harr...</td>\n",
       "      <td>6</td>\n",
       "      <td>4.414634</td>\n",
       "    </tr>\n",
       "    <tr>\n",
       "      <th>2</th>\n",
       "      <td>Harry Potter and the Chamber of Secrets (Harry...</td>\n",
       "      <td>6</td>\n",
       "      <td>4.287500</td>\n",
       "    </tr>\n",
       "    <tr>\n",
       "      <th>3</th>\n",
       "      <td>The Book Thief</td>\n",
       "      <td>6</td>\n",
       "      <td>4.264151</td>\n",
       "    </tr>\n",
       "    <tr>\n",
       "      <th>4</th>\n",
       "      <td>The Glass Castle</td>\n",
       "      <td>6</td>\n",
       "      <td>4.206897</td>\n",
       "    </tr>\n",
       "    <tr>\n",
       "      <th>...</th>\n",
       "      <td>...</td>\n",
       "      <td>...</td>\n",
       "      <td>...</td>\n",
       "    </tr>\n",
       "    <tr>\n",
       "      <th>995</th>\n",
       "      <td>Disney's Beauty and the Beast (A Little Golden...</td>\n",
       "      <td>0</td>\n",
       "      <td>4.000000</td>\n",
       "    </tr>\n",
       "    <tr>\n",
       "      <th>996</th>\n",
       "      <td>Essential Tales and Poems</td>\n",
       "      <td>0</td>\n",
       "      <td>4.000000</td>\n",
       "    </tr>\n",
       "    <tr>\n",
       "      <th>997</th>\n",
       "      <td>Leonardo's Notebooks</td>\n",
       "      <td>0</td>\n",
       "      <td>4.000000</td>\n",
       "    </tr>\n",
       "    <tr>\n",
       "      <th>998</th>\n",
       "      <td>Anne Rice's The Vampire Lestat: A Graphic Novel</td>\n",
       "      <td>0</td>\n",
       "      <td>3.666667</td>\n",
       "    </tr>\n",
       "    <tr>\n",
       "      <th>999</th>\n",
       "      <td>The Natural Way to Draw</td>\n",
       "      <td>0</td>\n",
       "      <td>3.000000</td>\n",
       "    </tr>\n",
       "  </tbody>\n",
       "</table>\n",
       "<p>1000 rows × 3 columns</p>\n",
       "</div>"
      ],
      "text/plain": [
       "                                                 title  count_review  \\\n",
       "0                              Twilight (Twilight  #1)             7   \n",
       "1    Harry Potter and the Prisoner of Azkaban (Harr...             6   \n",
       "2    Harry Potter and the Chamber of Secrets (Harry...             6   \n",
       "3                                       The Book Thief             6   \n",
       "4                                     The Glass Castle             6   \n",
       "..                                                 ...           ...   \n",
       "995  Disney's Beauty and the Beast (A Little Golden...             0   \n",
       "996                          Essential Tales and Poems             0   \n",
       "997                               Leonardo's Notebooks             0   \n",
       "998    Anne Rice's The Vampire Lestat: A Graphic Novel             0   \n",
       "999                            The Natural Way to Draw             0   \n",
       "\n",
       "     avg_rating  \n",
       "0      3.662500  \n",
       "1      4.414634  \n",
       "2      4.287500  \n",
       "3      4.264151  \n",
       "4      4.206897  \n",
       "..          ...  \n",
       "995    4.000000  \n",
       "996    4.000000  \n",
       "997    4.000000  \n",
       "998    3.666667  \n",
       "999    3.000000  \n",
       "\n",
       "[1000 rows x 3 columns]"
      ]
     },
     "execution_count": 16,
     "metadata": {},
     "output_type": "execute_result"
    }
   ],
   "source": [
    "count_review =  pd.io.sql.read_sql(query, con = engine)\n",
    "count_review"
   ]
  },
  {
   "cell_type": "markdown",
   "id": "978a3997",
   "metadata": {},
   "source": [
    "### Вывод:"
   ]
  },
  {
   "cell_type": "markdown",
   "id": "c4e9f1c3",
   "metadata": {},
   "source": [
    "Таким образом, по таблице видно, что есть книги, которые более популярны и имеют высокую оценку (в пордяке убывания) представлены в таблице"
   ]
  },
  {
   "cell_type": "markdown",
   "id": "eadd26cd",
   "metadata": {},
   "source": [
    "## Издательство, которое выпустило наибольшее число книг толще 50 страниц"
   ]
  },
  {
   "cell_type": "markdown",
   "id": "f621918a",
   "metadata": {},
   "source": [
    "Определить издательство, которое выпустило наибольшее число книг толще 50 страниц необходимо, что бы исключить из анализа брошюры"
   ]
  },
  {
   "cell_type": "code",
   "execution_count": 17,
   "id": "dd4c330c",
   "metadata": {},
   "outputs": [],
   "source": [
    "query = ''' SELECT p.publisher,\n",
    "                   COUNT(b.book_id) as count_book\n",
    "            FROM books as b join publishers as p on b.publisher_id = p.publisher_id\n",
    "            WHERE b.num_pages > 50  \n",
    "            GROUP BY p.publisher_id\n",
    "            ORDER BY count_book desc\n",
    "          \n",
    "        '''"
   ]
  },
  {
   "cell_type": "code",
   "execution_count": 18,
   "id": "51c502ac",
   "metadata": {},
   "outputs": [
    {
     "data": {
      "text/html": [
       "<div>\n",
       "<style scoped>\n",
       "    .dataframe tbody tr th:only-of-type {\n",
       "        vertical-align: middle;\n",
       "    }\n",
       "\n",
       "    .dataframe tbody tr th {\n",
       "        vertical-align: top;\n",
       "    }\n",
       "\n",
       "    .dataframe thead th {\n",
       "        text-align: right;\n",
       "    }\n",
       "</style>\n",
       "<table border=\"1\" class=\"dataframe\">\n",
       "  <thead>\n",
       "    <tr style=\"text-align: right;\">\n",
       "      <th></th>\n",
       "      <th>publisher</th>\n",
       "      <th>count_book</th>\n",
       "    </tr>\n",
       "  </thead>\n",
       "  <tbody>\n",
       "    <tr>\n",
       "      <th>0</th>\n",
       "      <td>Penguin Books</td>\n",
       "      <td>42</td>\n",
       "    </tr>\n",
       "    <tr>\n",
       "      <th>1</th>\n",
       "      <td>Vintage</td>\n",
       "      <td>31</td>\n",
       "    </tr>\n",
       "    <tr>\n",
       "      <th>2</th>\n",
       "      <td>Grand Central Publishing</td>\n",
       "      <td>25</td>\n",
       "    </tr>\n",
       "    <tr>\n",
       "      <th>3</th>\n",
       "      <td>Penguin Classics</td>\n",
       "      <td>24</td>\n",
       "    </tr>\n",
       "    <tr>\n",
       "      <th>4</th>\n",
       "      <td>Ballantine Books</td>\n",
       "      <td>19</td>\n",
       "    </tr>\n",
       "    <tr>\n",
       "      <th>...</th>\n",
       "      <td>...</td>\n",
       "      <td>...</td>\n",
       "    </tr>\n",
       "    <tr>\n",
       "      <th>329</th>\n",
       "      <td>Ballantine Books (NY)</td>\n",
       "      <td>1</td>\n",
       "    </tr>\n",
       "    <tr>\n",
       "      <th>330</th>\n",
       "      <td>Plaza y Janés</td>\n",
       "      <td>1</td>\n",
       "    </tr>\n",
       "    <tr>\n",
       "      <th>331</th>\n",
       "      <td>HarperCollinsPublishers</td>\n",
       "      <td>1</td>\n",
       "    </tr>\n",
       "    <tr>\n",
       "      <th>332</th>\n",
       "      <td>Random House: Modern Library</td>\n",
       "      <td>1</td>\n",
       "    </tr>\n",
       "    <tr>\n",
       "      <th>333</th>\n",
       "      <td>Pan Childrens</td>\n",
       "      <td>1</td>\n",
       "    </tr>\n",
       "  </tbody>\n",
       "</table>\n",
       "<p>334 rows × 2 columns</p>\n",
       "</div>"
      ],
      "text/plain": [
       "                        publisher  count_book\n",
       "0                   Penguin Books          42\n",
       "1                         Vintage          31\n",
       "2        Grand Central Publishing          25\n",
       "3                Penguin Classics          24\n",
       "4                Ballantine Books          19\n",
       "..                            ...         ...\n",
       "329         Ballantine Books (NY)           1\n",
       "330                 Plaza y Janés           1\n",
       "331       HarperCollinsPublishers           1\n",
       "332  Random House: Modern Library           1\n",
       "333                 Pan Childrens           1\n",
       "\n",
       "[334 rows x 2 columns]"
      ]
     },
     "execution_count": 18,
     "metadata": {},
     "output_type": "execute_result"
    }
   ],
   "source": [
    "count_publish =  pd.io.sql.read_sql(query, con = engine)\n",
    "count_publish"
   ]
  },
  {
   "cell_type": "markdown",
   "id": "385b1306",
   "metadata": {},
   "source": [
    "### Вывод:\n",
    "\n",
    "Таким образом, издательство, которое выпустило наибольшее число книг толще 50 страниц-Penguin Books."
   ]
  },
  {
   "cell_type": "markdown",
   "id": "7063a8e7",
   "metadata": {},
   "source": [
    "## Автор с самой высокой средней оценкой книг (книги с 50 и более оценками)"
   ]
  },
  {
   "cell_type": "code",
   "execution_count": 19,
   "id": "4ebaa11e",
   "metadata": {},
   "outputs": [],
   "source": [
    "query = ''' SELECT a.author,\n",
    "                   AVG (r.rating),  \n",
    "                   COUNT (r.rating)\n",
    "            FROM books as b join authors as a on b.author_id = a.author_id\n",
    "            JOIN ratings as r on b.book_id = r.book_id\n",
    "            GROUP BY a.author_id, r.book_id\n",
    "            HAVING COUNT (r.rating) >= 50\n",
    "            ORDER BY  AVG (r.rating) desc\n",
    "           \n",
    "        \n",
    "        '''"
   ]
  },
  {
   "cell_type": "code",
   "execution_count": 20,
   "id": "95f19da7",
   "metadata": {
    "scrolled": false
   },
   "outputs": [
    {
     "data": {
      "text/html": [
       "<div>\n",
       "<style scoped>\n",
       "    .dataframe tbody tr th:only-of-type {\n",
       "        vertical-align: middle;\n",
       "    }\n",
       "\n",
       "    .dataframe tbody tr th {\n",
       "        vertical-align: top;\n",
       "    }\n",
       "\n",
       "    .dataframe thead th {\n",
       "        text-align: right;\n",
       "    }\n",
       "</style>\n",
       "<table border=\"1\" class=\"dataframe\">\n",
       "  <thead>\n",
       "    <tr style=\"text-align: right;\">\n",
       "      <th></th>\n",
       "      <th>author</th>\n",
       "      <th>avg</th>\n",
       "      <th>count</th>\n",
       "    </tr>\n",
       "  </thead>\n",
       "  <tbody>\n",
       "    <tr>\n",
       "      <th>0</th>\n",
       "      <td>J.K. Rowling/Mary GrandPré</td>\n",
       "      <td>4.414634</td>\n",
       "      <td>82</td>\n",
       "    </tr>\n",
       "    <tr>\n",
       "      <th>1</th>\n",
       "      <td>J.R.R. Tolkien</td>\n",
       "      <td>4.391892</td>\n",
       "      <td>74</td>\n",
       "    </tr>\n",
       "    <tr>\n",
       "      <th>2</th>\n",
       "      <td>J.K. Rowling/Mary GrandPré</td>\n",
       "      <td>4.287500</td>\n",
       "      <td>80</td>\n",
       "    </tr>\n",
       "    <tr>\n",
       "      <th>3</th>\n",
       "      <td>Markus Zusak/Cao Xuân Việt Khương</td>\n",
       "      <td>4.264151</td>\n",
       "      <td>53</td>\n",
       "    </tr>\n",
       "    <tr>\n",
       "      <th>4</th>\n",
       "      <td>J.K. Rowling/Mary GrandPré</td>\n",
       "      <td>4.246575</td>\n",
       "      <td>73</td>\n",
       "    </tr>\n",
       "    <tr>\n",
       "      <th>5</th>\n",
       "      <td>Louisa May Alcott</td>\n",
       "      <td>4.192308</td>\n",
       "      <td>52</td>\n",
       "    </tr>\n",
       "    <tr>\n",
       "      <th>6</th>\n",
       "      <td>J.K. Rowling/Mary GrandPré</td>\n",
       "      <td>4.186667</td>\n",
       "      <td>75</td>\n",
       "    </tr>\n",
       "    <tr>\n",
       "      <th>7</th>\n",
       "      <td>J.R.R. Tolkien</td>\n",
       "      <td>4.125000</td>\n",
       "      <td>88</td>\n",
       "    </tr>\n",
       "    <tr>\n",
       "      <th>8</th>\n",
       "      <td>Rick Riordan</td>\n",
       "      <td>4.080645</td>\n",
       "      <td>62</td>\n",
       "    </tr>\n",
       "    <tr>\n",
       "      <th>9</th>\n",
       "      <td>William Golding</td>\n",
       "      <td>3.901408</td>\n",
       "      <td>71</td>\n",
       "    </tr>\n",
       "    <tr>\n",
       "      <th>10</th>\n",
       "      <td>Dan Brown</td>\n",
       "      <td>3.830508</td>\n",
       "      <td>59</td>\n",
       "    </tr>\n",
       "    <tr>\n",
       "      <th>11</th>\n",
       "      <td>J.D. Salinger</td>\n",
       "      <td>3.825581</td>\n",
       "      <td>86</td>\n",
       "    </tr>\n",
       "    <tr>\n",
       "      <th>12</th>\n",
       "      <td>Paulo Coelho/Alan R. Clarke/Özdemir İnce</td>\n",
       "      <td>3.789474</td>\n",
       "      <td>57</td>\n",
       "    </tr>\n",
       "    <tr>\n",
       "      <th>13</th>\n",
       "      <td>William Shakespeare/Paul Werstine/Barbara A. M...</td>\n",
       "      <td>3.787879</td>\n",
       "      <td>66</td>\n",
       "    </tr>\n",
       "    <tr>\n",
       "      <th>14</th>\n",
       "      <td>Lois Lowry</td>\n",
       "      <td>3.750000</td>\n",
       "      <td>56</td>\n",
       "    </tr>\n",
       "    <tr>\n",
       "      <th>15</th>\n",
       "      <td>George Orwell/Boris Grabnar/Peter Škerl</td>\n",
       "      <td>3.729730</td>\n",
       "      <td>74</td>\n",
       "    </tr>\n",
       "    <tr>\n",
       "      <th>16</th>\n",
       "      <td>Dan Brown</td>\n",
       "      <td>3.678571</td>\n",
       "      <td>84</td>\n",
       "    </tr>\n",
       "    <tr>\n",
       "      <th>17</th>\n",
       "      <td>Stephenie Meyer</td>\n",
       "      <td>3.662500</td>\n",
       "      <td>160</td>\n",
       "    </tr>\n",
       "    <tr>\n",
       "      <th>18</th>\n",
       "      <td>John Steinbeck</td>\n",
       "      <td>3.622951</td>\n",
       "      <td>61</td>\n",
       "    </tr>\n",
       "  </tbody>\n",
       "</table>\n",
       "</div>"
      ],
      "text/plain": [
       "                                               author       avg  count\n",
       "0                          J.K. Rowling/Mary GrandPré  4.414634     82\n",
       "1                                      J.R.R. Tolkien  4.391892     74\n",
       "2                          J.K. Rowling/Mary GrandPré  4.287500     80\n",
       "3                   Markus Zusak/Cao Xuân Việt Khương  4.264151     53\n",
       "4                          J.K. Rowling/Mary GrandPré  4.246575     73\n",
       "5                                   Louisa May Alcott  4.192308     52\n",
       "6                          J.K. Rowling/Mary GrandPré  4.186667     75\n",
       "7                                      J.R.R. Tolkien  4.125000     88\n",
       "8                                        Rick Riordan  4.080645     62\n",
       "9                                     William Golding  3.901408     71\n",
       "10                                          Dan Brown  3.830508     59\n",
       "11                                      J.D. Salinger  3.825581     86\n",
       "12           Paulo Coelho/Alan R. Clarke/Özdemir İnce  3.789474     57\n",
       "13  William Shakespeare/Paul Werstine/Barbara A. M...  3.787879     66\n",
       "14                                         Lois Lowry  3.750000     56\n",
       "15            George Orwell/Boris Grabnar/Peter Škerl  3.729730     74\n",
       "16                                          Dan Brown  3.678571     84\n",
       "17                                    Stephenie Meyer  3.662500    160\n",
       "18                                     John Steinbeck  3.622951     61"
      ]
     },
     "execution_count": 20,
     "metadata": {},
     "output_type": "execute_result"
    }
   ],
   "source": [
    "best_author =  pd.io.sql.read_sql(query, con = engine)\n",
    "best_author"
   ]
  },
  {
   "cell_type": "markdown",
   "id": "40d35abd",
   "metadata": {},
   "source": [
    "### Вывод:\n",
    "\n",
    "Автор с самой высокой средней оценкой книг (среди книг с 50 и более оценками)-J.K. Rowling/Mary GrandPré"
   ]
  },
  {
   "cell_type": "markdown",
   "id": "b9080f4b",
   "metadata": {},
   "source": [
    "## Среднее количество обзоров от пользователей, которые поставили больше 50 оценок"
   ]
  },
  {
   "cell_type": "code",
   "execution_count": 21,
   "id": "452fdfcc",
   "metadata": {},
   "outputs": [],
   "source": [
    "query = ''' with \n",
    "            i as \n",
    "            (SELECT username\n",
    "            FROM ratings --as r  join reviews as rev on r.book_id = rev.book_id\n",
    "            GROUP BY username\n",
    "            HAVING COUNT(rating) > 50),\n",
    "            \n",
    "            m as \n",
    "            (SELECT username,\n",
    "            COUNT(review_id) as count_review\n",
    "            FROM reviews \n",
    "            GROUP BY username)\n",
    "           \n",
    "           \n",
    "            SELECT AVG(m.count_review)\n",
    "            FROM i LEFT OUTER JOIN m ON i.username=m.username\n",
    "\n",
    "        '''\n",
    " "
   ]
  },
  {
   "cell_type": "code",
   "execution_count": 22,
   "id": "b2d98e1c",
   "metadata": {},
   "outputs": [
    {
     "data": {
      "text/html": [
       "<div>\n",
       "<style scoped>\n",
       "    .dataframe tbody tr th:only-of-type {\n",
       "        vertical-align: middle;\n",
       "    }\n",
       "\n",
       "    .dataframe tbody tr th {\n",
       "        vertical-align: top;\n",
       "    }\n",
       "\n",
       "    .dataframe thead th {\n",
       "        text-align: right;\n",
       "    }\n",
       "</style>\n",
       "<table border=\"1\" class=\"dataframe\">\n",
       "  <thead>\n",
       "    <tr style=\"text-align: right;\">\n",
       "      <th></th>\n",
       "      <th>avg</th>\n",
       "    </tr>\n",
       "  </thead>\n",
       "  <tbody>\n",
       "    <tr>\n",
       "      <th>0</th>\n",
       "      <td>24.333333</td>\n",
       "    </tr>\n",
       "  </tbody>\n",
       "</table>\n",
       "</div>"
      ],
      "text/plain": [
       "         avg\n",
       "0  24.333333"
      ]
     },
     "execution_count": 22,
     "metadata": {},
     "output_type": "execute_result"
    }
   ],
   "source": [
    "avg_review =  pd.io.sql.read_sql(query, con = engine)\n",
    "avg_review"
   ]
  },
  {
   "cell_type": "markdown",
   "id": "38fb7957",
   "metadata": {},
   "source": [
    "### Вывод:\n",
    "\n",
    "Таким образом, среднее количество обзоров от пользователей, которые поставили больше 50 оценок - 24"
   ]
  },
  {
   "cell_type": "markdown",
   "id": "83aa6361",
   "metadata": {},
   "source": [
    "## Выводы:"
   ]
  },
  {
   "cell_type": "markdown",
   "id": "3c3ebb5b",
   "metadata": {},
   "source": [
    "В ходе исследования, мы установили, что:\n",
    "1. В нашем распоряжении больше всего книг, выпущенных после 01.01.2000 года (819 книг, общее количество книг- 1000 книг)\n",
    "2. Для каждой книги посчитали количество обзоров и среднюю оценку.Более детальная характеристика по каждой книге представлена в таблице. \n",
    "3. Определили издательство, которое выпустило наибольшее число книг толще 50 страниц, что бы исключить из анализа издательства, которые выпускали брошюры и выяснили, что: издательство, которое выпустило наибольшее число книг толще 50 страниц-Penguin Books. \n",
    "4. Определили автора с самой высокой средней оценкой книг, у которых было 50 и более оценок-Diana Gabaldon..\n",
    "5. Определили среднее количество обзоров от пользователей, которые поставили больше 50 оценок-24 обзора\n",
    "\n",
    "    "
   ]
  }
 ],
 "metadata": {
  "ExecuteTimeLog": [
   {
    "duration": 596,
    "start_time": "2022-08-03T07:34:49.993Z"
   },
   {
    "duration": 10026,
    "start_time": "2022-08-03T07:34:50.591Z"
   },
   {
    "duration": 3,
    "start_time": "2022-08-03T07:35:00.620Z"
   },
   {
    "duration": 108,
    "start_time": "2022-08-03T07:35:00.625Z"
   },
   {
    "duration": 3,
    "start_time": "2022-08-03T07:35:00.734Z"
   },
   {
    "duration": 28,
    "start_time": "2022-08-03T07:35:00.739Z"
   },
   {
    "duration": 9,
    "start_time": "2022-08-03T07:35:00.769Z"
   },
   {
    "duration": 25,
    "start_time": "2022-08-03T07:35:00.780Z"
   },
   {
    "duration": 25,
    "start_time": "2022-08-03T07:35:00.807Z"
   },
   {
    "duration": 46,
    "start_time": "2022-08-03T07:35:00.835Z"
   },
   {
    "duration": 2,
    "start_time": "2022-08-03T07:35:00.883Z"
   },
   {
    "duration": 50,
    "start_time": "2022-08-03T07:35:00.887Z"
   },
   {
    "duration": 11,
    "start_time": "2022-08-03T07:35:00.939Z"
   },
   {
    "duration": 62,
    "start_time": "2022-08-03T07:35:00.952Z"
   },
   {
    "duration": 24,
    "start_time": "2022-08-03T07:35:01.016Z"
   },
   {
    "duration": 51,
    "start_time": "2022-08-03T07:35:01.042Z"
   },
   {
    "duration": 3,
    "start_time": "2022-08-03T07:35:01.095Z"
   },
   {
    "duration": 67,
    "start_time": "2022-08-03T07:35:01.099Z"
   },
   {
    "duration": 11,
    "start_time": "2022-08-03T07:35:01.168Z"
   },
   {
    "duration": 208,
    "start_time": "2022-08-03T07:35:01.181Z"
   },
   {
    "duration": 0,
    "start_time": "2022-08-03T07:35:01.391Z"
   },
   {
    "duration": 0,
    "start_time": "2022-08-03T07:35:01.392Z"
   },
   {
    "duration": 2,
    "start_time": "2022-08-03T07:35:12.421Z"
   },
   {
    "duration": 21,
    "start_time": "2022-08-03T07:35:13.580Z"
   },
   {
    "duration": 573,
    "start_time": "2022-08-03T07:35:20.505Z"
   },
   {
    "duration": 20506,
    "start_time": "2022-08-03T07:35:21.080Z"
   },
   {
    "duration": 4,
    "start_time": "2022-08-03T07:35:41.588Z"
   },
   {
    "duration": 134,
    "start_time": "2022-08-03T07:35:41.594Z"
   },
   {
    "duration": 3,
    "start_time": "2022-08-03T07:35:41.731Z"
   },
   {
    "duration": 20,
    "start_time": "2022-08-03T07:35:41.736Z"
   },
   {
    "duration": 2,
    "start_time": "2022-08-03T07:35:41.758Z"
   },
   {
    "duration": 18,
    "start_time": "2022-08-03T07:35:41.763Z"
   },
   {
    "duration": 5,
    "start_time": "2022-08-03T07:35:41.783Z"
   },
   {
    "duration": 44,
    "start_time": "2022-08-03T07:35:41.812Z"
   },
   {
    "duration": 3,
    "start_time": "2022-08-03T07:35:41.858Z"
   },
   {
    "duration": 46,
    "start_time": "2022-08-03T07:35:41.863Z"
   },
   {
    "duration": 3,
    "start_time": "2022-08-03T07:35:41.912Z"
   },
   {
    "duration": 48,
    "start_time": "2022-08-03T07:35:41.918Z"
   },
   {
    "duration": 4,
    "start_time": "2022-08-03T07:35:41.969Z"
   },
   {
    "duration": 62,
    "start_time": "2022-08-03T07:35:41.975Z"
   },
   {
    "duration": 4,
    "start_time": "2022-08-03T07:35:42.039Z"
   },
   {
    "duration": 37,
    "start_time": "2022-08-03T07:35:42.045Z"
   },
   {
    "duration": 10,
    "start_time": "2022-08-03T07:35:42.084Z"
   },
   {
    "duration": 36,
    "start_time": "2022-08-03T07:35:42.096Z"
   },
   {
    "duration": 4,
    "start_time": "2022-08-03T07:35:42.137Z"
   },
   {
    "duration": 24,
    "start_time": "2022-08-03T07:35:42.143Z"
   },
   {
    "duration": 4,
    "start_time": "2022-08-03T07:38:45.665Z"
   },
   {
    "duration": 31,
    "start_time": "2022-08-03T07:38:46.175Z"
   },
   {
    "duration": 3,
    "start_time": "2022-08-03T07:41:24.569Z"
   },
   {
    "duration": 185,
    "start_time": "2022-08-03T07:41:25.692Z"
   },
   {
    "duration": 3,
    "start_time": "2022-08-03T07:41:40.323Z"
   },
   {
    "duration": 108,
    "start_time": "2022-08-03T07:41:41.257Z"
   },
   {
    "duration": 3,
    "start_time": "2022-08-03T07:41:47.251Z"
   },
   {
    "duration": 38,
    "start_time": "2022-08-03T07:41:48.254Z"
   },
   {
    "duration": 3,
    "start_time": "2022-08-03T07:49:56.587Z"
   },
   {
    "duration": 32,
    "start_time": "2022-08-03T07:49:57.584Z"
   },
   {
    "duration": 3,
    "start_time": "2022-08-03T07:50:07.913Z"
   },
   {
    "duration": 2915,
    "start_time": "2022-08-03T07:50:08.311Z"
   },
   {
    "duration": 3,
    "start_time": "2022-08-03T07:50:57.134Z"
   },
   {
    "duration": 29,
    "start_time": "2022-08-03T07:50:57.480Z"
   },
   {
    "duration": 3,
    "start_time": "2022-08-03T07:51:08.128Z"
   },
   {
    "duration": 37,
    "start_time": "2022-08-03T07:51:08.776Z"
   },
   {
    "duration": 533,
    "start_time": "2022-08-03T07:51:16.849Z"
   },
   {
    "duration": 8021,
    "start_time": "2022-08-03T07:51:17.384Z"
   },
   {
    "duration": 3,
    "start_time": "2022-08-03T07:51:25.407Z"
   },
   {
    "duration": 73,
    "start_time": "2022-08-03T07:51:25.412Z"
   },
   {
    "duration": 3,
    "start_time": "2022-08-03T07:51:25.487Z"
   },
   {
    "duration": 16,
    "start_time": "2022-08-03T07:51:25.491Z"
   },
   {
    "duration": 2,
    "start_time": "2022-08-03T07:51:25.509Z"
   },
   {
    "duration": 19,
    "start_time": "2022-08-03T07:51:25.513Z"
   },
   {
    "duration": 2,
    "start_time": "2022-08-03T07:51:25.534Z"
   },
   {
    "duration": 40,
    "start_time": "2022-08-03T07:51:25.539Z"
   },
   {
    "duration": 3,
    "start_time": "2022-08-03T07:51:25.581Z"
   },
   {
    "duration": 25,
    "start_time": "2022-08-03T07:51:25.586Z"
   },
   {
    "duration": 3,
    "start_time": "2022-08-03T07:51:25.613Z"
   },
   {
    "duration": 13,
    "start_time": "2022-08-03T07:51:25.618Z"
   },
   {
    "duration": 3,
    "start_time": "2022-08-03T07:51:25.634Z"
   },
   {
    "duration": 33,
    "start_time": "2022-08-03T07:51:25.639Z"
   },
   {
    "duration": 73,
    "start_time": "2022-08-03T07:51:25.674Z"
   },
   {
    "duration": 0,
    "start_time": "2022-08-03T07:51:25.749Z"
   },
   {
    "duration": 0,
    "start_time": "2022-08-03T07:51:25.750Z"
   },
   {
    "duration": 0,
    "start_time": "2022-08-03T07:51:25.751Z"
   },
   {
    "duration": 0,
    "start_time": "2022-08-03T07:51:25.753Z"
   },
   {
    "duration": 0,
    "start_time": "2022-08-03T07:51:25.754Z"
   },
   {
    "duration": 0,
    "start_time": "2022-08-03T07:51:25.755Z"
   },
   {
    "duration": 4,
    "start_time": "2022-08-03T07:52:28.997Z"
   },
   {
    "duration": 36,
    "start_time": "2022-08-03T07:52:29.406Z"
   },
   {
    "duration": 2,
    "start_time": "2022-08-03T07:52:46.536Z"
   },
   {
    "duration": 33,
    "start_time": "2022-08-03T07:52:46.898Z"
   },
   {
    "duration": 590,
    "start_time": "2022-08-03T07:52:53.079Z"
   },
   {
    "duration": 8948,
    "start_time": "2022-08-03T07:52:53.671Z"
   },
   {
    "duration": 3,
    "start_time": "2022-08-03T07:53:02.621Z"
   },
   {
    "duration": 82,
    "start_time": "2022-08-03T07:53:02.627Z"
   },
   {
    "duration": 3,
    "start_time": "2022-08-03T07:53:02.711Z"
   },
   {
    "duration": 19,
    "start_time": "2022-08-03T07:53:02.715Z"
   },
   {
    "duration": 3,
    "start_time": "2022-08-03T07:53:02.736Z"
   },
   {
    "duration": 17,
    "start_time": "2022-08-03T07:53:02.741Z"
   },
   {
    "duration": 3,
    "start_time": "2022-08-03T07:53:02.760Z"
   },
   {
    "duration": 62,
    "start_time": "2022-08-03T07:53:02.767Z"
   },
   {
    "duration": 3,
    "start_time": "2022-08-03T07:53:02.832Z"
   },
   {
    "duration": 33,
    "start_time": "2022-08-03T07:53:02.837Z"
   },
   {
    "duration": 3,
    "start_time": "2022-08-03T07:53:02.872Z"
   },
   {
    "duration": 34,
    "start_time": "2022-08-03T07:53:02.877Z"
   },
   {
    "duration": 3,
    "start_time": "2022-08-03T07:53:02.914Z"
   },
   {
    "duration": 49,
    "start_time": "2022-08-03T07:53:02.919Z"
   },
   {
    "duration": 95,
    "start_time": "2022-08-03T07:53:02.970Z"
   },
   {
    "duration": 0,
    "start_time": "2022-08-03T07:53:03.067Z"
   },
   {
    "duration": 0,
    "start_time": "2022-08-03T07:53:03.068Z"
   },
   {
    "duration": 0,
    "start_time": "2022-08-03T07:53:03.070Z"
   },
   {
    "duration": 0,
    "start_time": "2022-08-03T07:53:03.072Z"
   },
   {
    "duration": 0,
    "start_time": "2022-08-03T07:53:03.074Z"
   },
   {
    "duration": 0,
    "start_time": "2022-08-03T07:53:03.075Z"
   },
   {
    "duration": 3,
    "start_time": "2022-08-03T07:53:29.456Z"
   },
   {
    "duration": 40,
    "start_time": "2022-08-03T07:53:29.975Z"
   },
   {
    "duration": 3,
    "start_time": "2022-08-03T07:55:11.465Z"
   },
   {
    "duration": 245,
    "start_time": "2022-08-03T07:55:11.993Z"
   },
   {
    "duration": 3,
    "start_time": "2022-08-03T07:55:41.431Z"
   },
   {
    "duration": 29,
    "start_time": "2022-08-03T07:55:42.328Z"
   },
   {
    "duration": 3,
    "start_time": "2022-08-03T07:55:53.640Z"
   },
   {
    "duration": 30,
    "start_time": "2022-08-03T07:55:54.032Z"
   },
   {
    "duration": 3,
    "start_time": "2022-08-03T07:56:25.384Z"
   },
   {
    "duration": 37,
    "start_time": "2022-08-03T07:56:25.691Z"
   },
   {
    "duration": 3,
    "start_time": "2022-08-03T07:56:39.458Z"
   },
   {
    "duration": 32,
    "start_time": "2022-08-03T07:56:39.897Z"
   },
   {
    "duration": 3,
    "start_time": "2022-08-03T07:58:00.925Z"
   },
   {
    "duration": 98,
    "start_time": "2022-08-03T07:58:01.426Z"
   },
   {
    "duration": 2,
    "start_time": "2022-08-03T07:58:26.366Z"
   },
   {
    "duration": 120,
    "start_time": "2022-08-03T07:58:26.925Z"
   },
   {
    "duration": 3,
    "start_time": "2022-08-03T07:58:44.325Z"
   },
   {
    "duration": 103,
    "start_time": "2022-08-03T07:58:44.859Z"
   },
   {
    "duration": 3,
    "start_time": "2022-08-03T07:59:17.252Z"
   },
   {
    "duration": 102,
    "start_time": "2022-08-03T07:59:17.667Z"
   },
   {
    "duration": 3,
    "start_time": "2022-08-03T08:06:11.880Z"
   },
   {
    "duration": 112,
    "start_time": "2022-08-03T08:06:12.228Z"
   },
   {
    "duration": 3,
    "start_time": "2022-08-03T08:06:22.328Z"
   },
   {
    "duration": 33,
    "start_time": "2022-08-03T08:06:22.804Z"
   },
   {
    "duration": 3,
    "start_time": "2022-08-03T08:06:38.399Z"
   },
   {
    "duration": 38,
    "start_time": "2022-08-03T08:06:38.835Z"
   },
   {
    "duration": 3,
    "start_time": "2022-08-03T08:06:47.108Z"
   },
   {
    "duration": 29,
    "start_time": "2022-08-03T08:06:47.436Z"
   },
   {
    "duration": 4,
    "start_time": "2022-08-03T08:07:44.559Z"
   },
   {
    "duration": 122,
    "start_time": "2022-08-03T08:07:45.196Z"
   },
   {
    "duration": 4,
    "start_time": "2022-08-03T08:07:50.366Z"
   },
   {
    "duration": 96,
    "start_time": "2022-08-03T08:07:51.359Z"
   },
   {
    "duration": 3,
    "start_time": "2022-08-03T08:07:57.021Z"
   },
   {
    "duration": 103,
    "start_time": "2022-08-03T08:07:57.341Z"
   },
   {
    "duration": 3,
    "start_time": "2022-08-03T08:08:29.740Z"
   },
   {
    "duration": 29,
    "start_time": "2022-08-03T08:08:30.271Z"
   },
   {
    "duration": 4,
    "start_time": "2022-08-03T08:08:57.210Z"
   },
   {
    "duration": 30,
    "start_time": "2022-08-03T08:08:57.628Z"
   },
   {
    "duration": 3,
    "start_time": "2022-08-03T08:09:22.961Z"
   },
   {
    "duration": 30,
    "start_time": "2022-08-03T08:09:23.307Z"
   },
   {
    "duration": 3,
    "start_time": "2022-08-03T08:10:11.191Z"
   },
   {
    "duration": 35,
    "start_time": "2022-08-03T08:10:11.971Z"
   },
   {
    "duration": 4,
    "start_time": "2022-08-03T08:12:42.967Z"
   },
   {
    "duration": 107,
    "start_time": "2022-08-03T08:12:43.357Z"
   },
   {
    "duration": 3,
    "start_time": "2022-08-03T08:12:55.673Z"
   },
   {
    "duration": 138,
    "start_time": "2022-08-03T08:12:56.344Z"
   },
   {
    "duration": 2,
    "start_time": "2022-08-03T08:13:11.220Z"
   },
   {
    "duration": 33,
    "start_time": "2022-08-03T08:13:12.184Z"
   },
   {
    "duration": 3,
    "start_time": "2022-08-03T08:13:43.695Z"
   },
   {
    "duration": 104,
    "start_time": "2022-08-03T08:13:44.319Z"
   },
   {
    "duration": 3,
    "start_time": "2022-08-03T08:13:48.783Z"
   },
   {
    "duration": 158,
    "start_time": "2022-08-03T08:13:49.195Z"
   },
   {
    "duration": 2,
    "start_time": "2022-08-03T08:13:59.081Z"
   },
   {
    "duration": 108,
    "start_time": "2022-08-03T08:13:59.387Z"
   },
   {
    "duration": 3,
    "start_time": "2022-08-03T08:14:33.757Z"
   },
   {
    "duration": 168,
    "start_time": "2022-08-03T08:14:34.182Z"
   },
   {
    "duration": 4,
    "start_time": "2022-08-03T08:15:02.653Z"
   },
   {
    "duration": 160,
    "start_time": "2022-08-03T08:15:03.019Z"
   },
   {
    "duration": 3,
    "start_time": "2022-08-03T08:25:31.703Z"
   },
   {
    "duration": 35,
    "start_time": "2022-08-03T08:25:32.177Z"
   },
   {
    "duration": 3,
    "start_time": "2022-08-03T08:25:42.872Z"
   },
   {
    "duration": 30,
    "start_time": "2022-08-03T08:25:43.238Z"
   },
   {
    "duration": 3,
    "start_time": "2022-08-03T08:26:30.081Z"
   },
   {
    "duration": 31,
    "start_time": "2022-08-03T08:26:30.744Z"
   },
   {
    "duration": 3,
    "start_time": "2022-08-03T08:26:39.502Z"
   },
   {
    "duration": 31,
    "start_time": "2022-08-03T08:26:40.532Z"
   },
   {
    "duration": 2,
    "start_time": "2022-08-03T08:27:11.766Z"
   },
   {
    "duration": 41,
    "start_time": "2022-08-03T08:27:12.370Z"
   },
   {
    "duration": 3,
    "start_time": "2022-08-03T08:27:58.026Z"
   },
   {
    "duration": 40,
    "start_time": "2022-08-03T08:27:58.472Z"
   },
   {
    "duration": 2,
    "start_time": "2022-08-03T08:28:02.751Z"
   },
   {
    "duration": 35,
    "start_time": "2022-08-03T08:28:03.141Z"
   },
   {
    "duration": 3,
    "start_time": "2022-08-03T08:32:26.966Z"
   },
   {
    "duration": 131,
    "start_time": "2022-08-03T08:32:29.790Z"
   },
   {
    "duration": 4,
    "start_time": "2022-08-03T08:32:42.034Z"
   },
   {
    "duration": 118,
    "start_time": "2022-08-03T08:32:44.404Z"
   },
   {
    "duration": 3,
    "start_time": "2022-08-03T08:33:22.948Z"
   },
   {
    "duration": 103,
    "start_time": "2022-08-03T08:33:24.092Z"
   },
   {
    "duration": 113,
    "start_time": "2022-08-03T08:33:25.519Z"
   },
   {
    "duration": 3,
    "start_time": "2022-08-03T08:33:36.875Z"
   },
   {
    "duration": 103,
    "start_time": "2022-08-03T08:33:37.636Z"
   },
   {
    "duration": 4,
    "start_time": "2022-08-03T08:34:45.403Z"
   },
   {
    "duration": 2,
    "start_time": "2022-08-03T08:34:45.827Z"
   },
   {
    "duration": 112,
    "start_time": "2022-08-03T08:34:46.389Z"
   },
   {
    "duration": 9,
    "start_time": "2022-08-03T08:47:38.781Z"
   },
   {
    "duration": 3,
    "start_time": "2022-08-03T08:47:40.725Z"
   },
   {
    "duration": 123,
    "start_time": "2022-08-03T08:47:41.058Z"
   },
   {
    "duration": 3,
    "start_time": "2022-08-03T08:47:56.522Z"
   },
   {
    "duration": 2,
    "start_time": "2022-08-03T08:47:57.002Z"
   },
   {
    "duration": 101,
    "start_time": "2022-08-03T08:47:57.463Z"
   },
   {
    "duration": 3,
    "start_time": "2022-08-03T08:48:18.056Z"
   },
   {
    "duration": 2,
    "start_time": "2022-08-03T08:48:18.495Z"
   },
   {
    "duration": 93,
    "start_time": "2022-08-03T08:48:18.869Z"
   },
   {
    "duration": 3,
    "start_time": "2022-08-03T08:48:43.290Z"
   },
   {
    "duration": 3,
    "start_time": "2022-08-03T08:48:43.763Z"
   },
   {
    "duration": 97,
    "start_time": "2022-08-03T08:48:44.175Z"
   },
   {
    "duration": 4,
    "start_time": "2022-08-03T08:49:05.826Z"
   },
   {
    "duration": 2,
    "start_time": "2022-08-03T08:49:43.064Z"
   },
   {
    "duration": 25,
    "start_time": "2022-08-03T08:49:43.412Z"
   },
   {
    "duration": 3,
    "start_time": "2022-08-03T08:50:02.270Z"
   },
   {
    "duration": 14,
    "start_time": "2022-08-03T08:50:03.019Z"
   },
   {
    "duration": 6,
    "start_time": "2022-08-03T08:50:46.967Z"
   },
   {
    "duration": 6,
    "start_time": "2022-08-03T08:50:47.371Z"
   },
   {
    "duration": 155,
    "start_time": "2022-08-03T08:50:50.318Z"
   },
   {
    "duration": 3,
    "start_time": "2022-08-03T08:51:17.260Z"
   },
   {
    "duration": 3,
    "start_time": "2022-08-03T08:51:18.116Z"
   },
   {
    "duration": 100,
    "start_time": "2022-08-03T08:51:18.432Z"
   },
   {
    "duration": 4,
    "start_time": "2022-08-03T08:51:31.962Z"
   },
   {
    "duration": 3,
    "start_time": "2022-08-03T08:51:32.459Z"
   },
   {
    "duration": 96,
    "start_time": "2022-08-03T08:51:33.277Z"
   },
   {
    "duration": 4,
    "start_time": "2022-08-03T08:52:11.405Z"
   },
   {
    "duration": 4,
    "start_time": "2022-08-03T08:52:11.802Z"
   },
   {
    "duration": 113,
    "start_time": "2022-08-03T08:52:12.211Z"
   },
   {
    "duration": 2,
    "start_time": "2022-08-03T09:07:34.232Z"
   },
   {
    "duration": 133,
    "start_time": "2022-08-03T09:07:35.108Z"
   },
   {
    "duration": 3,
    "start_time": "2022-08-03T09:09:40.036Z"
   },
   {
    "duration": 115,
    "start_time": "2022-08-03T09:09:40.537Z"
   },
   {
    "duration": 3,
    "start_time": "2022-08-03T09:10:03.754Z"
   },
   {
    "duration": 21,
    "start_time": "2022-08-03T09:10:04.364Z"
   },
   {
    "duration": 3,
    "start_time": "2022-08-03T09:10:14.130Z"
   },
   {
    "duration": 3,
    "start_time": "2022-08-03T09:11:52.782Z"
   },
   {
    "duration": 3,
    "start_time": "2022-08-03T09:12:06.704Z"
   },
   {
    "duration": 105,
    "start_time": "2022-08-03T09:12:07.832Z"
   },
   {
    "duration": 2,
    "start_time": "2022-08-03T09:12:33.731Z"
   },
   {
    "duration": 107,
    "start_time": "2022-08-03T09:12:34.139Z"
   },
   {
    "duration": 3,
    "start_time": "2022-08-03T09:12:47.631Z"
   },
   {
    "duration": 19,
    "start_time": "2022-08-03T09:12:48.154Z"
   },
   {
    "duration": 3,
    "start_time": "2022-08-03T09:12:58.870Z"
   },
   {
    "duration": 20,
    "start_time": "2022-08-03T09:12:59.547Z"
   },
   {
    "duration": 3,
    "start_time": "2022-08-03T09:14:29.471Z"
   },
   {
    "duration": 2,
    "start_time": "2022-08-03T09:14:29.963Z"
   },
   {
    "duration": 3,
    "start_time": "2022-08-03T09:14:30.538Z"
   },
   {
    "duration": 19,
    "start_time": "2022-08-03T09:14:31.649Z"
   },
   {
    "duration": 3,
    "start_time": "2022-08-03T09:14:44.368Z"
   },
   {
    "duration": 3,
    "start_time": "2022-08-03T09:14:44.734Z"
   },
   {
    "duration": 172,
    "start_time": "2022-08-03T09:14:45.062Z"
   },
   {
    "duration": 3,
    "start_time": "2022-08-03T09:15:05.434Z"
   },
   {
    "duration": 2,
    "start_time": "2022-08-03T09:15:05.842Z"
   },
   {
    "duration": 112,
    "start_time": "2022-08-03T09:15:06.541Z"
   },
   {
    "duration": 3,
    "start_time": "2022-08-03T09:16:14.159Z"
   },
   {
    "duration": 19,
    "start_time": "2022-08-03T09:16:14.729Z"
   },
   {
    "duration": 3,
    "start_time": "2022-08-03T09:16:26.228Z"
   },
   {
    "duration": 24,
    "start_time": "2022-08-03T09:16:26.604Z"
   },
   {
    "duration": 3,
    "start_time": "2022-08-03T09:16:54.845Z"
   },
   {
    "duration": 102,
    "start_time": "2022-08-03T09:16:55.451Z"
   },
   {
    "duration": 5,
    "start_time": "2022-08-03T09:17:06.001Z"
   },
   {
    "duration": 21,
    "start_time": "2022-08-03T09:17:06.528Z"
   },
   {
    "duration": 3,
    "start_time": "2022-08-03T09:17:14.852Z"
   },
   {
    "duration": 3,
    "start_time": "2022-08-03T09:17:29.934Z"
   },
   {
    "duration": 3,
    "start_time": "2022-08-03T09:17:30.338Z"
   },
   {
    "duration": 115,
    "start_time": "2022-08-03T09:17:30.649Z"
   },
   {
    "duration": 3,
    "start_time": "2022-08-03T09:17:37.053Z"
   },
   {
    "duration": 3,
    "start_time": "2022-08-03T09:17:40.934Z"
   },
   {
    "duration": 2,
    "start_time": "2022-08-03T09:17:41.459Z"
   },
   {
    "duration": 155,
    "start_time": "2022-08-03T09:17:41.828Z"
   },
   {
    "duration": 3,
    "start_time": "2022-08-03T09:19:15.035Z"
   },
   {
    "duration": 22,
    "start_time": "2022-08-03T09:19:15.470Z"
   },
   {
    "duration": 2,
    "start_time": "2022-08-03T09:21:26.138Z"
   },
   {
    "duration": 278,
    "start_time": "2022-08-03T09:21:31.858Z"
   },
   {
    "duration": 2,
    "start_time": "2022-08-03T09:21:54.744Z"
   },
   {
    "duration": 2,
    "start_time": "2022-08-03T09:21:55.137Z"
   },
   {
    "duration": 99,
    "start_time": "2022-08-03T09:21:55.721Z"
   },
   {
    "duration": 3,
    "start_time": "2022-08-03T09:22:27.695Z"
   },
   {
    "duration": 2,
    "start_time": "2022-08-03T09:22:28.130Z"
   },
   {
    "duration": 103,
    "start_time": "2022-08-03T09:22:28.542Z"
   },
   {
    "duration": 3,
    "start_time": "2022-08-03T09:23:03.429Z"
   },
   {
    "duration": 3,
    "start_time": "2022-08-03T09:23:03.969Z"
   },
   {
    "duration": 144,
    "start_time": "2022-08-03T09:23:04.375Z"
   },
   {
    "duration": 3,
    "start_time": "2022-08-03T09:23:49.442Z"
   },
   {
    "duration": 3,
    "start_time": "2022-08-03T09:23:49.947Z"
   },
   {
    "duration": 127,
    "start_time": "2022-08-03T09:23:50.351Z"
   },
   {
    "duration": 3,
    "start_time": "2022-08-03T09:23:59.933Z"
   },
   {
    "duration": 2,
    "start_time": "2022-08-03T09:24:00.295Z"
   },
   {
    "duration": 97,
    "start_time": "2022-08-03T09:24:00.686Z"
   },
   {
    "duration": 4,
    "start_time": "2022-08-03T09:24:15.987Z"
   },
   {
    "duration": 3,
    "start_time": "2022-08-03T09:24:16.377Z"
   },
   {
    "duration": 128,
    "start_time": "2022-08-03T09:24:16.935Z"
   },
   {
    "duration": 3,
    "start_time": "2022-08-03T09:37:37.121Z"
   },
   {
    "duration": 3,
    "start_time": "2022-08-03T09:37:37.533Z"
   },
   {
    "duration": 172,
    "start_time": "2022-08-03T09:37:38.120Z"
   },
   {
    "duration": 4,
    "start_time": "2022-08-03T09:42:09.534Z"
   },
   {
    "duration": 3,
    "start_time": "2022-08-03T09:42:10.220Z"
   },
   {
    "duration": 96,
    "start_time": "2022-08-03T09:42:10.731Z"
   },
   {
    "duration": 3,
    "start_time": "2022-08-03T09:45:27.387Z"
   },
   {
    "duration": 110,
    "start_time": "2022-08-03T09:45:28.367Z"
   },
   {
    "duration": 2,
    "start_time": "2022-08-03T09:45:36.242Z"
   },
   {
    "duration": 30,
    "start_time": "2022-08-03T09:45:36.588Z"
   },
   {
    "duration": 3,
    "start_time": "2022-08-03T09:45:47.439Z"
   },
   {
    "duration": 24,
    "start_time": "2022-08-03T09:45:48.183Z"
   },
   {
    "duration": 3,
    "start_time": "2022-08-03T09:46:13.284Z"
   },
   {
    "duration": 426,
    "start_time": "2022-08-03T09:46:27.084Z"
   },
   {
    "duration": 3,
    "start_time": "2022-08-03T09:46:28.541Z"
   },
   {
    "duration": 107,
    "start_time": "2022-08-03T09:46:28.932Z"
   },
   {
    "duration": 3,
    "start_time": "2022-08-03T09:47:06.653Z"
   },
   {
    "duration": 23,
    "start_time": "2022-08-03T09:47:07.144Z"
   },
   {
    "duration": 3,
    "start_time": "2022-08-03T09:48:39.129Z"
   },
   {
    "duration": 101,
    "start_time": "2022-08-03T09:48:40.004Z"
   },
   {
    "duration": 3,
    "start_time": "2022-08-03T09:48:51.429Z"
   },
   {
    "duration": 121,
    "start_time": "2022-08-03T09:48:51.808Z"
   },
   {
    "duration": 3,
    "start_time": "2022-08-03T09:49:22.504Z"
   },
   {
    "duration": 28,
    "start_time": "2022-08-03T09:49:22.871Z"
   },
   {
    "duration": 4,
    "start_time": "2022-08-03T09:49:59.268Z"
   },
   {
    "duration": 38,
    "start_time": "2022-08-03T09:49:59.560Z"
   },
   {
    "duration": 3,
    "start_time": "2022-08-03T09:50:59.104Z"
   },
   {
    "duration": 35,
    "start_time": "2022-08-03T09:50:59.192Z"
   },
   {
    "duration": 3,
    "start_time": "2022-08-03T09:51:05.663Z"
   },
   {
    "duration": 35,
    "start_time": "2022-08-03T09:51:06.005Z"
   },
   {
    "duration": 3,
    "start_time": "2022-08-03T09:51:22.231Z"
   },
   {
    "duration": 29,
    "start_time": "2022-08-03T09:51:22.772Z"
   },
   {
    "duration": 8,
    "start_time": "2022-08-04T04:18:00.172Z"
   },
   {
    "duration": 69,
    "start_time": "2022-08-04T04:18:00.588Z"
   },
   {
    "duration": 549,
    "start_time": "2022-08-04T04:18:08.013Z"
   },
   {
    "duration": 8745,
    "start_time": "2022-08-04T04:18:08.564Z"
   },
   {
    "duration": 3,
    "start_time": "2022-08-04T04:18:17.310Z"
   },
   {
    "duration": 75,
    "start_time": "2022-08-04T04:18:17.315Z"
   },
   {
    "duration": 3,
    "start_time": "2022-08-04T04:18:17.393Z"
   },
   {
    "duration": 26,
    "start_time": "2022-08-04T04:18:17.399Z"
   },
   {
    "duration": 2,
    "start_time": "2022-08-04T04:18:17.427Z"
   },
   {
    "duration": 18,
    "start_time": "2022-08-04T04:18:17.431Z"
   },
   {
    "duration": 3,
    "start_time": "2022-08-04T04:18:17.451Z"
   },
   {
    "duration": 54,
    "start_time": "2022-08-04T04:18:17.456Z"
   },
   {
    "duration": 3,
    "start_time": "2022-08-04T04:18:17.512Z"
   },
   {
    "duration": 23,
    "start_time": "2022-08-04T04:18:17.517Z"
   },
   {
    "duration": 3,
    "start_time": "2022-08-04T04:18:17.542Z"
   },
   {
    "duration": 15,
    "start_time": "2022-08-04T04:18:17.548Z"
   },
   {
    "duration": 28,
    "start_time": "2022-08-04T04:18:17.564Z"
   },
   {
    "duration": 48,
    "start_time": "2022-08-04T04:18:17.594Z"
   },
   {
    "duration": 3,
    "start_time": "2022-08-04T04:18:17.644Z"
   },
   {
    "duration": 18,
    "start_time": "2022-08-04T04:18:17.648Z"
   },
   {
    "duration": 3,
    "start_time": "2022-08-04T04:18:17.667Z"
   },
   {
    "duration": 184,
    "start_time": "2022-08-04T04:18:17.672Z"
   },
   {
    "duration": 0,
    "start_time": "2022-08-04T04:18:17.859Z"
   },
   {
    "duration": 0,
    "start_time": "2022-08-04T04:18:17.861Z"
   },
   {
    "duration": 3,
    "start_time": "2022-08-04T04:19:02.913Z"
   },
   {
    "duration": 117,
    "start_time": "2022-08-04T04:19:03.432Z"
   },
   {
    "duration": 3,
    "start_time": "2022-08-04T04:19:31.629Z"
   },
   {
    "duration": 145,
    "start_time": "2022-08-04T04:19:32.051Z"
   },
   {
    "duration": 3,
    "start_time": "2022-08-04T04:19:51.017Z"
   },
   {
    "duration": 113,
    "start_time": "2022-08-04T04:19:51.619Z"
   },
   {
    "duration": 3,
    "start_time": "2022-08-04T04:20:08.390Z"
   },
   {
    "duration": 379,
    "start_time": "2022-08-04T04:20:09.464Z"
   },
   {
    "duration": 13,
    "start_time": "2022-08-04T04:20:17.192Z"
   },
   {
    "duration": 121,
    "start_time": "2022-08-04T04:20:17.835Z"
   },
   {
    "duration": 3,
    "start_time": "2022-08-04T04:20:56.711Z"
   },
   {
    "duration": 27,
    "start_time": "2022-08-04T04:20:57.146Z"
   },
   {
    "duration": 12,
    "start_time": "2022-08-04T04:21:58.812Z"
   },
   {
    "duration": 144,
    "start_time": "2022-08-04T04:21:59.286Z"
   },
   {
    "duration": 2,
    "start_time": "2022-08-04T04:22:05.656Z"
   },
   {
    "duration": 106,
    "start_time": "2022-08-04T04:22:06.220Z"
   },
   {
    "duration": 4,
    "start_time": "2022-08-04T04:22:11.516Z"
   },
   {
    "duration": 146,
    "start_time": "2022-08-04T04:22:11.916Z"
   },
   {
    "duration": 6,
    "start_time": "2022-08-04T04:22:23.613Z"
   },
   {
    "duration": 166,
    "start_time": "2022-08-04T04:22:24.066Z"
   },
   {
    "duration": 5,
    "start_time": "2022-08-04T04:28:25.017Z"
   },
   {
    "duration": 129,
    "start_time": "2022-08-04T04:28:25.369Z"
   },
   {
    "duration": 3,
    "start_time": "2022-08-04T04:28:52.885Z"
   },
   {
    "duration": 127,
    "start_time": "2022-08-04T04:28:53.216Z"
   },
   {
    "duration": 3,
    "start_time": "2022-08-04T04:29:05.336Z"
   },
   {
    "duration": 119,
    "start_time": "2022-08-04T04:29:05.770Z"
   },
   {
    "duration": 3,
    "start_time": "2022-08-04T04:29:20.040Z"
   },
   {
    "duration": 19,
    "start_time": "2022-08-04T04:29:20.529Z"
   },
   {
    "duration": 3,
    "start_time": "2022-08-04T04:30:30.509Z"
   },
   {
    "duration": 18,
    "start_time": "2022-08-04T04:30:30.933Z"
   },
   {
    "duration": 3,
    "start_time": "2022-08-04T04:30:38.852Z"
   },
   {
    "duration": 37,
    "start_time": "2022-08-04T04:30:39.490Z"
   },
   {
    "duration": 4,
    "start_time": "2022-08-04T04:30:47.113Z"
   },
   {
    "duration": 17,
    "start_time": "2022-08-04T04:30:47.520Z"
   },
   {
    "duration": 2,
    "start_time": "2022-08-04T04:31:02.732Z"
   },
   {
    "duration": 20,
    "start_time": "2022-08-04T04:31:03.312Z"
   },
   {
    "duration": 4,
    "start_time": "2022-08-04T04:31:25.216Z"
   },
   {
    "duration": 22,
    "start_time": "2022-08-04T04:31:25.556Z"
   },
   {
    "duration": 91,
    "start_time": "2022-08-04T04:31:54.583Z"
   },
   {
    "duration": 563,
    "start_time": "2022-08-04T04:32:05.376Z"
   },
   {
    "duration": 9696,
    "start_time": "2022-08-04T04:32:05.941Z"
   },
   {
    "duration": 3,
    "start_time": "2022-08-04T04:32:15.639Z"
   },
   {
    "duration": 99,
    "start_time": "2022-08-04T04:32:15.643Z"
   },
   {
    "duration": 2,
    "start_time": "2022-08-04T04:32:15.744Z"
   },
   {
    "duration": 18,
    "start_time": "2022-08-04T04:32:15.747Z"
   },
   {
    "duration": 2,
    "start_time": "2022-08-04T04:32:15.767Z"
   },
   {
    "duration": 14,
    "start_time": "2022-08-04T04:32:15.771Z"
   },
   {
    "duration": 3,
    "start_time": "2022-08-04T04:32:15.787Z"
   },
   {
    "duration": 55,
    "start_time": "2022-08-04T04:32:15.795Z"
   },
   {
    "duration": 3,
    "start_time": "2022-08-04T04:32:15.852Z"
   },
   {
    "duration": 21,
    "start_time": "2022-08-04T04:32:15.857Z"
   },
   {
    "duration": 2,
    "start_time": "2022-08-04T04:32:15.880Z"
   },
   {
    "duration": 42,
    "start_time": "2022-08-04T04:32:15.885Z"
   },
   {
    "duration": 2,
    "start_time": "2022-08-04T04:32:15.929Z"
   },
   {
    "duration": 36,
    "start_time": "2022-08-04T04:32:15.933Z"
   },
   {
    "duration": 3,
    "start_time": "2022-08-04T04:32:15.970Z"
   },
   {
    "duration": 25,
    "start_time": "2022-08-04T04:32:15.975Z"
   },
   {
    "duration": 7,
    "start_time": "2022-08-04T04:32:16.002Z"
   },
   {
    "duration": 32,
    "start_time": "2022-08-04T04:32:16.014Z"
   },
   {
    "duration": 3,
    "start_time": "2022-08-04T04:32:16.047Z"
   },
   {
    "duration": 17,
    "start_time": "2022-08-04T04:32:16.051Z"
   }
  ],
  "kernelspec": {
   "display_name": "Python 3 (ipykernel)",
   "language": "python",
   "name": "python3"
  },
  "language_info": {
   "codemirror_mode": {
    "name": "ipython",
    "version": 3
   },
   "file_extension": ".py",
   "mimetype": "text/x-python",
   "name": "python",
   "nbconvert_exporter": "python",
   "pygments_lexer": "ipython3",
   "version": "3.9.7"
  },
  "toc": {
   "base_numbering": 1,
   "nav_menu": {},
   "number_sections": true,
   "sideBar": true,
   "skip_h1_title": true,
   "title_cell": "Table of Contents",
   "title_sidebar": "Contents",
   "toc_cell": true,
   "toc_position": {
    "height": "calc(100% - 180px)",
    "left": "10px",
    "top": "150px",
    "width": "165px"
   },
   "toc_section_display": true,
   "toc_window_display": true
  }
 },
 "nbformat": 4,
 "nbformat_minor": 5
}
