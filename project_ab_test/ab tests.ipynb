{
 "cells": [
  {
   "cell_type": "markdown",
   "metadata": {},
   "source": [
    "# Исследование способов увеличения прибыли"
   ]
  },
  {
   "cell_type": "markdown",
   "metadata": {},
   "source": [
    "**Описание данных:**\n",
    "\n",
    "Таблица hypothesis - с данными о гипотезах: \n",
    "\n",
    "* Hypothesis — краткое описание гипотезы;\n",
    "* Reach — охват пользователей по 10-балльной шкале;\n",
    "* Impact — влияние на пользователей по 10-балльной шкале;\n",
    "* Confidence — уверенность в гипотезе по 10-балльной шкале;\n",
    "* Efforts — затраты ресурсов на проверку гипотезы по 10-балльной шкале. Чем больше значение Efforts, тем дороже проверка гипотезы.\n",
    "\n",
    "\n",
    "Таблица orders - с данными о покупателях:\n",
    "* transactionId — идентификатор заказа;\n",
    "* visitorId — идентификатор пользователя, совершившего заказ;\n",
    "* date — дата, когда был совершён заказ;\n",
    "* revenue — выручка заказа;\n",
    "* group — группа A/B-теста, в которую попал заказ.\n",
    "\n",
    "\n",
    "Таблица visitors - с данными о пользователях:\n",
    "* date — дата;\n",
    "* group — группа A/B-теста;\n",
    "* visitors — количество пользователей в указанную дату в указанной группе A/B-теста\n"
   ]
  },
  {
   "cell_type": "markdown",
   "metadata": {},
   "source": [
    "## Обзор данных"
   ]
  },
  {
   "cell_type": "code",
   "execution_count": 1,
   "metadata": {},
   "outputs": [],
   "source": [
    "import pandas as pd\n",
    "import seaborn as sns\n",
    "import matplotlib.pyplot as plt\n",
    "import numpy as np\n",
    "import datetime as dt\n",
    "from scipy import stats"
   ]
  },
  {
   "cell_type": "code",
   "execution_count": 2,
   "metadata": {},
   "outputs": [],
   "source": [
    "try: #серверный путь \n",
    "    hypothesis = pd.read_csv('/datasets/hypothesis.csv')\n",
    "    orders = pd.read_csv('/datasets/orders.csv')\n",
    "    visitors = pd.read_csv('/datasets/visitors.csv')\n",
    "except: #локальный путь \n",
    "    hypothesis = pd.read_csv('C:/Users/User/Desktop/hypothesis.csv')\n",
    "    orders = pd.read_csv('C:/Users/User/Desktop/orders.csv')\n",
    "    visitors = pd.read_csv('C:/Users/User/Desktop/visitors.csv')"
   ]
  },
  {
   "cell_type": "code",
   "execution_count": 3,
   "metadata": {},
   "outputs": [
    {
     "data": {
      "text/html": [
       "<div>\n",
       "<style scoped>\n",
       "    .dataframe tbody tr th:only-of-type {\n",
       "        vertical-align: middle;\n",
       "    }\n",
       "\n",
       "    .dataframe tbody tr th {\n",
       "        vertical-align: top;\n",
       "    }\n",
       "\n",
       "    .dataframe thead th {\n",
       "        text-align: right;\n",
       "    }\n",
       "</style>\n",
       "<table border=\"1\" class=\"dataframe\">\n",
       "  <thead>\n",
       "    <tr style=\"text-align: right;\">\n",
       "      <th></th>\n",
       "      <th>Hypothesis</th>\n",
       "      <th>Reach</th>\n",
       "      <th>Impact</th>\n",
       "      <th>Confidence</th>\n",
       "      <th>Efforts</th>\n",
       "    </tr>\n",
       "  </thead>\n",
       "  <tbody>\n",
       "    <tr>\n",
       "      <th>0</th>\n",
       "      <td>Добавить два новых канала привлечения трафика,...</td>\n",
       "      <td>3</td>\n",
       "      <td>10</td>\n",
       "      <td>8</td>\n",
       "      <td>6</td>\n",
       "    </tr>\n",
       "    <tr>\n",
       "      <th>1</th>\n",
       "      <td>Запустить собственную службу доставки, что сок...</td>\n",
       "      <td>2</td>\n",
       "      <td>5</td>\n",
       "      <td>4</td>\n",
       "      <td>10</td>\n",
       "    </tr>\n",
       "    <tr>\n",
       "      <th>2</th>\n",
       "      <td>Добавить блоки рекомендаций товаров на сайт ин...</td>\n",
       "      <td>8</td>\n",
       "      <td>3</td>\n",
       "      <td>7</td>\n",
       "      <td>3</td>\n",
       "    </tr>\n",
       "    <tr>\n",
       "      <th>3</th>\n",
       "      <td>Изменить структура категорий, что увеличит кон...</td>\n",
       "      <td>8</td>\n",
       "      <td>3</td>\n",
       "      <td>3</td>\n",
       "      <td>8</td>\n",
       "    </tr>\n",
       "    <tr>\n",
       "      <th>4</th>\n",
       "      <td>Изменить цвет фона главной страницы, чтобы уве...</td>\n",
       "      <td>3</td>\n",
       "      <td>1</td>\n",
       "      <td>1</td>\n",
       "      <td>1</td>\n",
       "    </tr>\n",
       "    <tr>\n",
       "      <th>5</th>\n",
       "      <td>Добавить страницу отзывов клиентов о магазине,...</td>\n",
       "      <td>3</td>\n",
       "      <td>2</td>\n",
       "      <td>2</td>\n",
       "      <td>3</td>\n",
       "    </tr>\n",
       "    <tr>\n",
       "      <th>6</th>\n",
       "      <td>Показать на главной странице баннеры с актуаль...</td>\n",
       "      <td>5</td>\n",
       "      <td>3</td>\n",
       "      <td>8</td>\n",
       "      <td>3</td>\n",
       "    </tr>\n",
       "    <tr>\n",
       "      <th>7</th>\n",
       "      <td>Добавить форму подписки на все основные страни...</td>\n",
       "      <td>10</td>\n",
       "      <td>7</td>\n",
       "      <td>8</td>\n",
       "      <td>5</td>\n",
       "    </tr>\n",
       "    <tr>\n",
       "      <th>8</th>\n",
       "      <td>Запустить акцию, дающую скидку на товар в день...</td>\n",
       "      <td>1</td>\n",
       "      <td>9</td>\n",
       "      <td>9</td>\n",
       "      <td>5</td>\n",
       "    </tr>\n",
       "  </tbody>\n",
       "</table>\n",
       "</div>"
      ],
      "text/plain": [
       "                                          Hypothesis  Reach  Impact  \\\n",
       "0  Добавить два новых канала привлечения трафика,...      3      10   \n",
       "1  Запустить собственную службу доставки, что сок...      2       5   \n",
       "2  Добавить блоки рекомендаций товаров на сайт ин...      8       3   \n",
       "3  Изменить структура категорий, что увеличит кон...      8       3   \n",
       "4  Изменить цвет фона главной страницы, чтобы уве...      3       1   \n",
       "5  Добавить страницу отзывов клиентов о магазине,...      3       2   \n",
       "6  Показать на главной странице баннеры с актуаль...      5       3   \n",
       "7  Добавить форму подписки на все основные страни...     10       7   \n",
       "8  Запустить акцию, дающую скидку на товар в день...      1       9   \n",
       "\n",
       "   Confidence  Efforts  \n",
       "0           8        6  \n",
       "1           4       10  \n",
       "2           7        3  \n",
       "3           3        8  \n",
       "4           1        1  \n",
       "5           2        3  \n",
       "6           8        3  \n",
       "7           8        5  \n",
       "8           9        5  "
      ]
     },
     "metadata": {},
     "output_type": "display_data"
    },
    {
     "name": "stdout",
     "output_type": "stream",
     "text": [
      "<class 'pandas.core.frame.DataFrame'>\n",
      "RangeIndex: 9 entries, 0 to 8\n",
      "Data columns (total 5 columns):\n",
      " #   Column      Non-Null Count  Dtype \n",
      "---  ------      --------------  ----- \n",
      " 0   Hypothesis  9 non-null      object\n",
      " 1   Reach       9 non-null      int64 \n",
      " 2   Impact      9 non-null      int64 \n",
      " 3   Confidence  9 non-null      int64 \n",
      " 4   Efforts     9 non-null      int64 \n",
      "dtypes: int64(4), object(1)\n",
      "memory usage: 488.0+ bytes\n"
     ]
    }
   ],
   "source": [
    "display(hypothesis)\n",
    "hypothesis.info()"
   ]
  },
  {
   "cell_type": "markdown",
   "metadata": {},
   "source": [
    "В таблице `hypothesis` предаставлены данные о гипотезах:\n",
    "\n",
    "* Hypothesis — краткое описание гипотезы;\n",
    "* Reach — охват пользователей по 10-балльной шкале;\n",
    "* Impact — влияние на пользователей по 10-балльной шкале;\n",
    "* Confidence — уверенность в гипотезе по 10-балльной шкале;\n",
    "* Efforts — затраты ресурсов на проверку гипотезы по 10-балльной шкале. Чем больше значение Efforts, тем дороже проверка гипотезы."
   ]
  },
  {
   "cell_type": "code",
   "execution_count": 4,
   "metadata": {},
   "outputs": [
    {
     "data": {
      "text/html": [
       "<div>\n",
       "<style scoped>\n",
       "    .dataframe tbody tr th:only-of-type {\n",
       "        vertical-align: middle;\n",
       "    }\n",
       "\n",
       "    .dataframe tbody tr th {\n",
       "        vertical-align: top;\n",
       "    }\n",
       "\n",
       "    .dataframe thead th {\n",
       "        text-align: right;\n",
       "    }\n",
       "</style>\n",
       "<table border=\"1\" class=\"dataframe\">\n",
       "  <thead>\n",
       "    <tr style=\"text-align: right;\">\n",
       "      <th></th>\n",
       "      <th>transactionId</th>\n",
       "      <th>visitorId</th>\n",
       "      <th>date</th>\n",
       "      <th>revenue</th>\n",
       "      <th>group</th>\n",
       "    </tr>\n",
       "  </thead>\n",
       "  <tbody>\n",
       "    <tr>\n",
       "      <th>0</th>\n",
       "      <td>3667963787</td>\n",
       "      <td>3312258926</td>\n",
       "      <td>2019-08-15</td>\n",
       "      <td>1650</td>\n",
       "      <td>B</td>\n",
       "    </tr>\n",
       "    <tr>\n",
       "      <th>1</th>\n",
       "      <td>2804400009</td>\n",
       "      <td>3642806036</td>\n",
       "      <td>2019-08-15</td>\n",
       "      <td>730</td>\n",
       "      <td>B</td>\n",
       "    </tr>\n",
       "    <tr>\n",
       "      <th>2</th>\n",
       "      <td>2961555356</td>\n",
       "      <td>4069496402</td>\n",
       "      <td>2019-08-15</td>\n",
       "      <td>400</td>\n",
       "      <td>A</td>\n",
       "    </tr>\n",
       "    <tr>\n",
       "      <th>3</th>\n",
       "      <td>3797467345</td>\n",
       "      <td>1196621759</td>\n",
       "      <td>2019-08-15</td>\n",
       "      <td>9759</td>\n",
       "      <td>B</td>\n",
       "    </tr>\n",
       "    <tr>\n",
       "      <th>4</th>\n",
       "      <td>2282983706</td>\n",
       "      <td>2322279887</td>\n",
       "      <td>2019-08-15</td>\n",
       "      <td>2308</td>\n",
       "      <td>B</td>\n",
       "    </tr>\n",
       "  </tbody>\n",
       "</table>\n",
       "</div>"
      ],
      "text/plain": [
       "   transactionId   visitorId        date  revenue group\n",
       "0     3667963787  3312258926  2019-08-15     1650     B\n",
       "1     2804400009  3642806036  2019-08-15      730     B\n",
       "2     2961555356  4069496402  2019-08-15      400     A\n",
       "3     3797467345  1196621759  2019-08-15     9759     B\n",
       "4     2282983706  2322279887  2019-08-15     2308     B"
      ]
     },
     "metadata": {},
     "output_type": "display_data"
    },
    {
     "name": "stdout",
     "output_type": "stream",
     "text": [
      "<class 'pandas.core.frame.DataFrame'>\n",
      "RangeIndex: 1197 entries, 0 to 1196\n",
      "Data columns (total 5 columns):\n",
      " #   Column         Non-Null Count  Dtype \n",
      "---  ------         --------------  ----- \n",
      " 0   transactionId  1197 non-null   int64 \n",
      " 1   visitorId      1197 non-null   int64 \n",
      " 2   date           1197 non-null   object\n",
      " 3   revenue        1197 non-null   int64 \n",
      " 4   group          1197 non-null   object\n",
      "dtypes: int64(3), object(2)\n",
      "memory usage: 46.9+ KB\n"
     ]
    }
   ],
   "source": [
    "display(orders.head())\n",
    "orders.info()"
   ]
  },
  {
   "cell_type": "markdown",
   "metadata": {},
   "source": [
    "В таблице `orders` представлены данные о покупателях:\n",
    "\n",
    "* transactionId — идентификатор заказа;\n",
    "* visitorId — идентификатор пользователя, совершившего заказ;\n",
    "* date — дата, когда был совершён заказ;\n",
    "* revenue — выручка заказа;\n",
    "* group — группа A/B-теста, в которую попал заказ.\n",
    "\n",
    "В столбце `date`, где указана дата, когда был совершён заказ тип данных не соотвествует содержанию."
   ]
  },
  {
   "cell_type": "code",
   "execution_count": 5,
   "metadata": {},
   "outputs": [
    {
     "data": {
      "text/html": [
       "<div>\n",
       "<style scoped>\n",
       "    .dataframe tbody tr th:only-of-type {\n",
       "        vertical-align: middle;\n",
       "    }\n",
       "\n",
       "    .dataframe tbody tr th {\n",
       "        vertical-align: top;\n",
       "    }\n",
       "\n",
       "    .dataframe thead th {\n",
       "        text-align: right;\n",
       "    }\n",
       "</style>\n",
       "<table border=\"1\" class=\"dataframe\">\n",
       "  <thead>\n",
       "    <tr style=\"text-align: right;\">\n",
       "      <th></th>\n",
       "      <th>date</th>\n",
       "      <th>group</th>\n",
       "      <th>visitors</th>\n",
       "    </tr>\n",
       "  </thead>\n",
       "  <tbody>\n",
       "    <tr>\n",
       "      <th>0</th>\n",
       "      <td>2019-08-01</td>\n",
       "      <td>A</td>\n",
       "      <td>719</td>\n",
       "    </tr>\n",
       "    <tr>\n",
       "      <th>1</th>\n",
       "      <td>2019-08-02</td>\n",
       "      <td>A</td>\n",
       "      <td>619</td>\n",
       "    </tr>\n",
       "    <tr>\n",
       "      <th>2</th>\n",
       "      <td>2019-08-03</td>\n",
       "      <td>A</td>\n",
       "      <td>507</td>\n",
       "    </tr>\n",
       "    <tr>\n",
       "      <th>3</th>\n",
       "      <td>2019-08-04</td>\n",
       "      <td>A</td>\n",
       "      <td>717</td>\n",
       "    </tr>\n",
       "    <tr>\n",
       "      <th>4</th>\n",
       "      <td>2019-08-05</td>\n",
       "      <td>A</td>\n",
       "      <td>756</td>\n",
       "    </tr>\n",
       "  </tbody>\n",
       "</table>\n",
       "</div>"
      ],
      "text/plain": [
       "         date group  visitors\n",
       "0  2019-08-01     A       719\n",
       "1  2019-08-02     A       619\n",
       "2  2019-08-03     A       507\n",
       "3  2019-08-04     A       717\n",
       "4  2019-08-05     A       756"
      ]
     },
     "metadata": {},
     "output_type": "display_data"
    },
    {
     "name": "stdout",
     "output_type": "stream",
     "text": [
      "<class 'pandas.core.frame.DataFrame'>\n",
      "RangeIndex: 62 entries, 0 to 61\n",
      "Data columns (total 3 columns):\n",
      " #   Column    Non-Null Count  Dtype \n",
      "---  ------    --------------  ----- \n",
      " 0   date      62 non-null     object\n",
      " 1   group     62 non-null     object\n",
      " 2   visitors  62 non-null     int64 \n",
      "dtypes: int64(1), object(2)\n",
      "memory usage: 1.6+ KB\n"
     ]
    }
   ],
   "source": [
    "display(visitors.head())\n",
    "visitors.info()"
   ]
  },
  {
   "cell_type": "markdown",
   "metadata": {},
   "source": [
    "В таблице `visitors` представлены данные о группах тестирования:\n",
    "\n",
    "* date — дата;\n",
    "* group — группа A/B-теста;\n",
    "* visitors — количество пользователей в указанную дату в указанной группе A/B-теста\n",
    "\n",
    "В столбце `date`, где указана дата - тип данных так же не соотвествует содержанию."
   ]
  },
  {
   "cell_type": "markdown",
   "metadata": {},
   "source": [
    "### Выводы:"
   ]
  },
  {
   "cell_type": "markdown",
   "metadata": {},
   "source": [
    "1. В таблицах `orders`  и `visitors`  в столбцах date тип данных не соотвествует содержанию.\n",
    "2. В данных нет пропусков"
   ]
  },
  {
   "cell_type": "markdown",
   "metadata": {},
   "source": [
    "## Предобработка данных"
   ]
  },
  {
   "cell_type": "markdown",
   "metadata": {},
   "source": [
    "Изменим тип данных в таблицах `orders`  и `visitors`, в столбцах date."
   ]
  },
  {
   "cell_type": "code",
   "execution_count": 6,
   "metadata": {},
   "outputs": [
    {
     "name": "stdout",
     "output_type": "stream",
     "text": [
      "<class 'pandas.core.frame.DataFrame'>\n",
      "RangeIndex: 1197 entries, 0 to 1196\n",
      "Data columns (total 5 columns):\n",
      " #   Column         Non-Null Count  Dtype         \n",
      "---  ------         --------------  -----         \n",
      " 0   transactionId  1197 non-null   int64         \n",
      " 1   visitorId      1197 non-null   int64         \n",
      " 2   date           1197 non-null   datetime64[ns]\n",
      " 3   revenue        1197 non-null   int64         \n",
      " 4   group          1197 non-null   object        \n",
      "dtypes: datetime64[ns](1), int64(3), object(1)\n",
      "memory usage: 46.9+ KB\n"
     ]
    }
   ],
   "source": [
    "orders['date'] = pd.to_datetime(orders['date'])\n",
    "orders.info()"
   ]
  },
  {
   "cell_type": "code",
   "execution_count": 7,
   "metadata": {
    "scrolled": false
   },
   "outputs": [
    {
     "name": "stdout",
     "output_type": "stream",
     "text": [
      "<class 'pandas.core.frame.DataFrame'>\n",
      "RangeIndex: 62 entries, 0 to 61\n",
      "Data columns (total 3 columns):\n",
      " #   Column    Non-Null Count  Dtype         \n",
      "---  ------    --------------  -----         \n",
      " 0   date      62 non-null     datetime64[ns]\n",
      " 1   group     62 non-null     object        \n",
      " 2   visitors  62 non-null     int64         \n",
      "dtypes: datetime64[ns](1), int64(1), object(1)\n",
      "memory usage: 1.6+ KB\n"
     ]
    }
   ],
   "source": [
    "visitors['date'] = pd.to_datetime(visitors['date'])\n",
    "visitors.info()"
   ]
  },
  {
   "cell_type": "code",
   "execution_count": 8,
   "metadata": {
    "scrolled": true
   },
   "outputs": [
    {
     "data": {
      "text/plain": [
       "0      8300375\n",
       "1    199603092\n",
       "2    232979603\n",
       "3    237748145\n",
       "4    276558944\n",
       "Name: visitorId, dtype: int64"
      ]
     },
     "execution_count": 8,
     "metadata": {},
     "output_type": "execute_result"
    }
   ],
   "source": [
    "#получаем user id пользователей, котоые попали в обе группы теста \n",
    "filt = orders.groupby('visitorId').agg({ 'group' : 'nunique'}).query('group == 2').reset_index()['visitorId']\n",
    "filt.head()"
   ]
  },
  {
   "cell_type": "markdown",
   "metadata": {},
   "source": [
    "Посмотрим сколько пользователей попали в обе группы:"
   ]
  },
  {
   "cell_type": "code",
   "execution_count": 9,
   "metadata": {},
   "outputs": [
    {
     "data": {
      "text/plain": [
       "58"
      ]
     },
     "execution_count": 9,
     "metadata": {},
     "output_type": "execute_result"
    }
   ],
   "source": [
    "len(filt)"
   ]
  },
  {
   "cell_type": "markdown",
   "metadata": {},
   "source": [
    "Таким образом, в обе группы попали 58 пользователей. Удалим их, что  бы не искажать результаты исследования."
   ]
  },
  {
   "cell_type": "code",
   "execution_count": 10,
   "metadata": {},
   "outputs": [
    {
     "data": {
      "text/html": [
       "<div>\n",
       "<style scoped>\n",
       "    .dataframe tbody tr th:only-of-type {\n",
       "        vertical-align: middle;\n",
       "    }\n",
       "\n",
       "    .dataframe tbody tr th {\n",
       "        vertical-align: top;\n",
       "    }\n",
       "\n",
       "    .dataframe thead th {\n",
       "        text-align: right;\n",
       "    }\n",
       "</style>\n",
       "<table border=\"1\" class=\"dataframe\">\n",
       "  <thead>\n",
       "    <tr style=\"text-align: right;\">\n",
       "      <th></th>\n",
       "      <th>transactionId</th>\n",
       "      <th>visitorId</th>\n",
       "      <th>date</th>\n",
       "      <th>revenue</th>\n",
       "      <th>group</th>\n",
       "    </tr>\n",
       "  </thead>\n",
       "  <tbody>\n",
       "    <tr>\n",
       "      <th>0</th>\n",
       "      <td>3667963787</td>\n",
       "      <td>3312258926</td>\n",
       "      <td>2019-08-15</td>\n",
       "      <td>1650</td>\n",
       "      <td>B</td>\n",
       "    </tr>\n",
       "    <tr>\n",
       "      <th>1</th>\n",
       "      <td>2804400009</td>\n",
       "      <td>3642806036</td>\n",
       "      <td>2019-08-15</td>\n",
       "      <td>730</td>\n",
       "      <td>B</td>\n",
       "    </tr>\n",
       "    <tr>\n",
       "      <th>3</th>\n",
       "      <td>3797467345</td>\n",
       "      <td>1196621759</td>\n",
       "      <td>2019-08-15</td>\n",
       "      <td>9759</td>\n",
       "      <td>B</td>\n",
       "    </tr>\n",
       "    <tr>\n",
       "      <th>4</th>\n",
       "      <td>2282983706</td>\n",
       "      <td>2322279887</td>\n",
       "      <td>2019-08-15</td>\n",
       "      <td>2308</td>\n",
       "      <td>B</td>\n",
       "    </tr>\n",
       "    <tr>\n",
       "      <th>5</th>\n",
       "      <td>182168103</td>\n",
       "      <td>935554773</td>\n",
       "      <td>2019-08-15</td>\n",
       "      <td>2210</td>\n",
       "      <td>B</td>\n",
       "    </tr>\n",
       "  </tbody>\n",
       "</table>\n",
       "</div>"
      ],
      "text/plain": [
       "   transactionId   visitorId       date  revenue group\n",
       "0     3667963787  3312258926 2019-08-15     1650     B\n",
       "1     2804400009  3642806036 2019-08-15      730     B\n",
       "3     3797467345  1196621759 2019-08-15     9759     B\n",
       "4     2282983706  2322279887 2019-08-15     2308     B\n",
       "5      182168103   935554773 2019-08-15     2210     B"
      ]
     },
     "execution_count": 10,
     "metadata": {},
     "output_type": "execute_result"
    }
   ],
   "source": [
    "# удаление пользователей попавших в обе группы\n",
    "orders = orders.query('visitorId not in @filt')\n",
    "orders.head()"
   ]
  },
  {
   "cell_type": "markdown",
   "metadata": {},
   "source": [
    "Получаем таблицу с пользователями, которые попали только в одну группу."
   ]
  },
  {
   "cell_type": "markdown",
   "metadata": {},
   "source": [
    "### Выводы: \n",
    "\n",
    "1. Тип данных в таблицах `orders`  и `visitors`, в столбцах date изменен  с `object` на `datetime`. \n",
    "2. Удалили пользователей, котрые попали в обе группы"
   ]
  },
  {
   "cell_type": "markdown",
   "metadata": {},
   "source": [
    "## Исследовательский анализ"
   ]
  },
  {
   "cell_type": "markdown",
   "metadata": {},
   "source": [
    "### Приоритезация гипотез по ICE"
   ]
  },
  {
   "cell_type": "markdown",
   "metadata": {},
   "source": [
    "Ознакомимся с таблицей `hypothesis`, где указаны данные о гипотезах."
   ]
  },
  {
   "cell_type": "code",
   "execution_count": 11,
   "metadata": {
    "scrolled": true
   },
   "outputs": [
    {
     "data": {
      "text/html": [
       "<div>\n",
       "<style scoped>\n",
       "    .dataframe tbody tr th:only-of-type {\n",
       "        vertical-align: middle;\n",
       "    }\n",
       "\n",
       "    .dataframe tbody tr th {\n",
       "        vertical-align: top;\n",
       "    }\n",
       "\n",
       "    .dataframe thead th {\n",
       "        text-align: right;\n",
       "    }\n",
       "</style>\n",
       "<table border=\"1\" class=\"dataframe\">\n",
       "  <thead>\n",
       "    <tr style=\"text-align: right;\">\n",
       "      <th></th>\n",
       "      <th>Hypothesis</th>\n",
       "      <th>Reach</th>\n",
       "      <th>Impact</th>\n",
       "      <th>Confidence</th>\n",
       "      <th>Efforts</th>\n",
       "    </tr>\n",
       "  </thead>\n",
       "  <tbody>\n",
       "    <tr>\n",
       "      <th>0</th>\n",
       "      <td>Добавить два новых канала привлечения трафика, что позволит привлекать на 30% больше пользователей</td>\n",
       "      <td>3</td>\n",
       "      <td>10</td>\n",
       "      <td>8</td>\n",
       "      <td>6</td>\n",
       "    </tr>\n",
       "    <tr>\n",
       "      <th>1</th>\n",
       "      <td>Запустить собственную службу доставки, что сократит срок доставки заказов</td>\n",
       "      <td>2</td>\n",
       "      <td>5</td>\n",
       "      <td>4</td>\n",
       "      <td>10</td>\n",
       "    </tr>\n",
       "    <tr>\n",
       "      <th>2</th>\n",
       "      <td>Добавить блоки рекомендаций товаров на сайт интернет магазина, чтобы повысить конверсию и средний чек заказа</td>\n",
       "      <td>8</td>\n",
       "      <td>3</td>\n",
       "      <td>7</td>\n",
       "      <td>3</td>\n",
       "    </tr>\n",
       "    <tr>\n",
       "      <th>3</th>\n",
       "      <td>Изменить структура категорий, что увеличит конверсию, т.к. пользователи быстрее найдут нужный товар</td>\n",
       "      <td>8</td>\n",
       "      <td>3</td>\n",
       "      <td>3</td>\n",
       "      <td>8</td>\n",
       "    </tr>\n",
       "    <tr>\n",
       "      <th>4</th>\n",
       "      <td>Изменить цвет фона главной страницы, чтобы увеличить вовлеченность пользователей</td>\n",
       "      <td>3</td>\n",
       "      <td>1</td>\n",
       "      <td>1</td>\n",
       "      <td>1</td>\n",
       "    </tr>\n",
       "    <tr>\n",
       "      <th>5</th>\n",
       "      <td>Добавить страницу отзывов клиентов о магазине, что позволит увеличить количество заказов</td>\n",
       "      <td>3</td>\n",
       "      <td>2</td>\n",
       "      <td>2</td>\n",
       "      <td>3</td>\n",
       "    </tr>\n",
       "    <tr>\n",
       "      <th>6</th>\n",
       "      <td>Показать на главной странице баннеры с актуальными акциями и распродажами, чтобы увеличить конверсию</td>\n",
       "      <td>5</td>\n",
       "      <td>3</td>\n",
       "      <td>8</td>\n",
       "      <td>3</td>\n",
       "    </tr>\n",
       "    <tr>\n",
       "      <th>7</th>\n",
       "      <td>Добавить форму подписки на все основные страницы, чтобы собрать базу клиентов для email-рассылок</td>\n",
       "      <td>10</td>\n",
       "      <td>7</td>\n",
       "      <td>8</td>\n",
       "      <td>5</td>\n",
       "    </tr>\n",
       "    <tr>\n",
       "      <th>8</th>\n",
       "      <td>Запустить акцию, дающую скидку на товар в день рождения</td>\n",
       "      <td>1</td>\n",
       "      <td>9</td>\n",
       "      <td>9</td>\n",
       "      <td>5</td>\n",
       "    </tr>\n",
       "  </tbody>\n",
       "</table>\n",
       "</div>"
      ],
      "text/plain": [
       "                                                                                                     Hypothesis  \\\n",
       "0            Добавить два новых канала привлечения трафика, что позволит привлекать на 30% больше пользователей   \n",
       "1                                     Запустить собственную службу доставки, что сократит срок доставки заказов   \n",
       "2  Добавить блоки рекомендаций товаров на сайт интернет магазина, чтобы повысить конверсию и средний чек заказа   \n",
       "3           Изменить структура категорий, что увеличит конверсию, т.к. пользователи быстрее найдут нужный товар   \n",
       "4                              Изменить цвет фона главной страницы, чтобы увеличить вовлеченность пользователей   \n",
       "5                      Добавить страницу отзывов клиентов о магазине, что позволит увеличить количество заказов   \n",
       "6          Показать на главной странице баннеры с актуальными акциями и распродажами, чтобы увеличить конверсию   \n",
       "7              Добавить форму подписки на все основные страницы, чтобы собрать базу клиентов для email-рассылок   \n",
       "8                                                       Запустить акцию, дающую скидку на товар в день рождения   \n",
       "\n",
       "   Reach  Impact  Confidence  Efforts  \n",
       "0      3      10           8        6  \n",
       "1      2       5           4       10  \n",
       "2      8       3           7        3  \n",
       "3      8       3           3        8  \n",
       "4      3       1           1        1  \n",
       "5      3       2           2        3  \n",
       "6      5       3           8        3  \n",
       "7     10       7           8        5  \n",
       "8      1       9           9        5  "
      ]
     },
     "execution_count": 11,
     "metadata": {},
     "output_type": "execute_result"
    }
   ],
   "source": [
    "pd.set_option(\"max_colwidth\", 120) #для полного отображения гипотез\n",
    "hypothesis"
   ]
  },
  {
   "cell_type": "markdown",
   "metadata": {},
   "source": [
    "В таблице представлено всего 9 гипотез. Проверка гипотез дорогостоящий, трудоемкий и времязатратный процесс. В связи с чем, определим приоритет гипотез, то есть проведем приоритизацию гипотез по формуле ICE, RICE. \n",
    "\n",
    "Обратим внимание, что провести приоритезацию по шкале WSJF не представляется возможным, так как приоритет по  WSJF - это отношение цены промедления к длительности работы, а данных по длительности работы нет."
   ]
  },
  {
   "cell_type": "code",
   "execution_count": 12,
   "metadata": {},
   "outputs": [
    {
     "data": {
      "text/html": [
       "<div>\n",
       "<style scoped>\n",
       "    .dataframe tbody tr th:only-of-type {\n",
       "        vertical-align: middle;\n",
       "    }\n",
       "\n",
       "    .dataframe tbody tr th {\n",
       "        vertical-align: top;\n",
       "    }\n",
       "\n",
       "    .dataframe thead th {\n",
       "        text-align: right;\n",
       "    }\n",
       "</style>\n",
       "<table border=\"1\" class=\"dataframe\">\n",
       "  <thead>\n",
       "    <tr style=\"text-align: right;\">\n",
       "      <th></th>\n",
       "      <th>Hypothesis</th>\n",
       "      <th>ICE</th>\n",
       "    </tr>\n",
       "  </thead>\n",
       "  <tbody>\n",
       "    <tr>\n",
       "      <th>8</th>\n",
       "      <td>Запустить акцию, дающую скидку на товар в день рождения</td>\n",
       "      <td>16.200000</td>\n",
       "    </tr>\n",
       "    <tr>\n",
       "      <th>0</th>\n",
       "      <td>Добавить два новых канала привлечения трафика, что позволит привлекать на 30% больше пользователей</td>\n",
       "      <td>13.333333</td>\n",
       "    </tr>\n",
       "    <tr>\n",
       "      <th>7</th>\n",
       "      <td>Добавить форму подписки на все основные страницы, чтобы собрать базу клиентов для email-рассылок</td>\n",
       "      <td>11.200000</td>\n",
       "    </tr>\n",
       "    <tr>\n",
       "      <th>6</th>\n",
       "      <td>Показать на главной странице баннеры с актуальными акциями и распродажами, чтобы увеличить конверсию</td>\n",
       "      <td>8.000000</td>\n",
       "    </tr>\n",
       "    <tr>\n",
       "      <th>2</th>\n",
       "      <td>Добавить блоки рекомендаций товаров на сайт интернет магазина, чтобы повысить конверсию и средний чек заказа</td>\n",
       "      <td>7.000000</td>\n",
       "    </tr>\n",
       "    <tr>\n",
       "      <th>1</th>\n",
       "      <td>Запустить собственную службу доставки, что сократит срок доставки заказов</td>\n",
       "      <td>2.000000</td>\n",
       "    </tr>\n",
       "    <tr>\n",
       "      <th>5</th>\n",
       "      <td>Добавить страницу отзывов клиентов о магазине, что позволит увеличить количество заказов</td>\n",
       "      <td>1.333333</td>\n",
       "    </tr>\n",
       "    <tr>\n",
       "      <th>3</th>\n",
       "      <td>Изменить структура категорий, что увеличит конверсию, т.к. пользователи быстрее найдут нужный товар</td>\n",
       "      <td>1.125000</td>\n",
       "    </tr>\n",
       "    <tr>\n",
       "      <th>4</th>\n",
       "      <td>Изменить цвет фона главной страницы, чтобы увеличить вовлеченность пользователей</td>\n",
       "      <td>1.000000</td>\n",
       "    </tr>\n",
       "  </tbody>\n",
       "</table>\n",
       "</div>"
      ],
      "text/plain": [
       "                                                                                                     Hypothesis  \\\n",
       "8                                                       Запустить акцию, дающую скидку на товар в день рождения   \n",
       "0            Добавить два новых канала привлечения трафика, что позволит привлекать на 30% больше пользователей   \n",
       "7              Добавить форму подписки на все основные страницы, чтобы собрать базу клиентов для email-рассылок   \n",
       "6          Показать на главной странице баннеры с актуальными акциями и распродажами, чтобы увеличить конверсию   \n",
       "2  Добавить блоки рекомендаций товаров на сайт интернет магазина, чтобы повысить конверсию и средний чек заказа   \n",
       "1                                     Запустить собственную службу доставки, что сократит срок доставки заказов   \n",
       "5                      Добавить страницу отзывов клиентов о магазине, что позволит увеличить количество заказов   \n",
       "3           Изменить структура категорий, что увеличит конверсию, т.к. пользователи быстрее найдут нужный товар   \n",
       "4                              Изменить цвет фона главной страницы, чтобы увеличить вовлеченность пользователей   \n",
       "\n",
       "         ICE  \n",
       "8  16.200000  \n",
       "0  13.333333  \n",
       "7  11.200000  \n",
       "6   8.000000  \n",
       "2   7.000000  \n",
       "1   2.000000  \n",
       "5   1.333333  \n",
       "3   1.125000  \n",
       "4   1.000000  "
      ]
     },
     "execution_count": 12,
     "metadata": {},
     "output_type": "execute_result"
    }
   ],
   "source": [
    "#приоритизация по ICE\n",
    "hypothesis['ICE'] = (hypothesis['Impact'] * hypothesis['Confidence']) / hypothesis['Efforts'] \n",
    "hypothesis[['Hypothesis', 'ICE']].sort_values(by='ICE', ascending=False)"
   ]
  },
  {
   "cell_type": "markdown",
   "metadata": {},
   "source": [
    "По таблице видно, что гипотезы 9,1,8,7,3 наиболее перспективные.     "
   ]
  },
  {
   "cell_type": "markdown",
   "metadata": {},
   "source": [
    "### Приоритизация гипотез  по RICE"
   ]
  },
  {
   "cell_type": "markdown",
   "metadata": {},
   "source": [
    "Проведем приоритизацию гипотез по RICE:"
   ]
  },
  {
   "cell_type": "code",
   "execution_count": 13,
   "metadata": {},
   "outputs": [
    {
     "data": {
      "text/html": [
       "<div>\n",
       "<style scoped>\n",
       "    .dataframe tbody tr th:only-of-type {\n",
       "        vertical-align: middle;\n",
       "    }\n",
       "\n",
       "    .dataframe tbody tr th {\n",
       "        vertical-align: top;\n",
       "    }\n",
       "\n",
       "    .dataframe thead th {\n",
       "        text-align: right;\n",
       "    }\n",
       "</style>\n",
       "<table border=\"1\" class=\"dataframe\">\n",
       "  <thead>\n",
       "    <tr style=\"text-align: right;\">\n",
       "      <th></th>\n",
       "      <th>Hypothesis</th>\n",
       "      <th>Reach</th>\n",
       "      <th>Impact</th>\n",
       "      <th>Confidence</th>\n",
       "      <th>Efforts</th>\n",
       "      <th>ICE</th>\n",
       "    </tr>\n",
       "  </thead>\n",
       "  <tbody>\n",
       "    <tr>\n",
       "      <th>0</th>\n",
       "      <td>Добавить два новых канала привлечения трафика, что позволит привлекать на 30% больше пользователей</td>\n",
       "      <td>3</td>\n",
       "      <td>10</td>\n",
       "      <td>8</td>\n",
       "      <td>6</td>\n",
       "      <td>13.333333</td>\n",
       "    </tr>\n",
       "    <tr>\n",
       "      <th>1</th>\n",
       "      <td>Запустить собственную службу доставки, что сократит срок доставки заказов</td>\n",
       "      <td>2</td>\n",
       "      <td>5</td>\n",
       "      <td>4</td>\n",
       "      <td>10</td>\n",
       "      <td>2.000000</td>\n",
       "    </tr>\n",
       "    <tr>\n",
       "      <th>2</th>\n",
       "      <td>Добавить блоки рекомендаций товаров на сайт интернет магазина, чтобы повысить конверсию и средний чек заказа</td>\n",
       "      <td>8</td>\n",
       "      <td>3</td>\n",
       "      <td>7</td>\n",
       "      <td>3</td>\n",
       "      <td>7.000000</td>\n",
       "    </tr>\n",
       "    <tr>\n",
       "      <th>3</th>\n",
       "      <td>Изменить структура категорий, что увеличит конверсию, т.к. пользователи быстрее найдут нужный товар</td>\n",
       "      <td>8</td>\n",
       "      <td>3</td>\n",
       "      <td>3</td>\n",
       "      <td>8</td>\n",
       "      <td>1.125000</td>\n",
       "    </tr>\n",
       "    <tr>\n",
       "      <th>4</th>\n",
       "      <td>Изменить цвет фона главной страницы, чтобы увеличить вовлеченность пользователей</td>\n",
       "      <td>3</td>\n",
       "      <td>1</td>\n",
       "      <td>1</td>\n",
       "      <td>1</td>\n",
       "      <td>1.000000</td>\n",
       "    </tr>\n",
       "    <tr>\n",
       "      <th>5</th>\n",
       "      <td>Добавить страницу отзывов клиентов о магазине, что позволит увеличить количество заказов</td>\n",
       "      <td>3</td>\n",
       "      <td>2</td>\n",
       "      <td>2</td>\n",
       "      <td>3</td>\n",
       "      <td>1.333333</td>\n",
       "    </tr>\n",
       "    <tr>\n",
       "      <th>6</th>\n",
       "      <td>Показать на главной странице баннеры с актуальными акциями и распродажами, чтобы увеличить конверсию</td>\n",
       "      <td>5</td>\n",
       "      <td>3</td>\n",
       "      <td>8</td>\n",
       "      <td>3</td>\n",
       "      <td>8.000000</td>\n",
       "    </tr>\n",
       "    <tr>\n",
       "      <th>7</th>\n",
       "      <td>Добавить форму подписки на все основные страницы, чтобы собрать базу клиентов для email-рассылок</td>\n",
       "      <td>10</td>\n",
       "      <td>7</td>\n",
       "      <td>8</td>\n",
       "      <td>5</td>\n",
       "      <td>11.200000</td>\n",
       "    </tr>\n",
       "    <tr>\n",
       "      <th>8</th>\n",
       "      <td>Запустить акцию, дающую скидку на товар в день рождения</td>\n",
       "      <td>1</td>\n",
       "      <td>9</td>\n",
       "      <td>9</td>\n",
       "      <td>5</td>\n",
       "      <td>16.200000</td>\n",
       "    </tr>\n",
       "  </tbody>\n",
       "</table>\n",
       "</div>"
      ],
      "text/plain": [
       "                                                                                                     Hypothesis  \\\n",
       "0            Добавить два новых канала привлечения трафика, что позволит привлекать на 30% больше пользователей   \n",
       "1                                     Запустить собственную службу доставки, что сократит срок доставки заказов   \n",
       "2  Добавить блоки рекомендаций товаров на сайт интернет магазина, чтобы повысить конверсию и средний чек заказа   \n",
       "3           Изменить структура категорий, что увеличит конверсию, т.к. пользователи быстрее найдут нужный товар   \n",
       "4                              Изменить цвет фона главной страницы, чтобы увеличить вовлеченность пользователей   \n",
       "5                      Добавить страницу отзывов клиентов о магазине, что позволит увеличить количество заказов   \n",
       "6          Показать на главной странице баннеры с актуальными акциями и распродажами, чтобы увеличить конверсию   \n",
       "7              Добавить форму подписки на все основные страницы, чтобы собрать базу клиентов для email-рассылок   \n",
       "8                                                       Запустить акцию, дающую скидку на товар в день рождения   \n",
       "\n",
       "   Reach  Impact  Confidence  Efforts        ICE  \n",
       "0      3      10           8        6  13.333333  \n",
       "1      2       5           4       10   2.000000  \n",
       "2      8       3           7        3   7.000000  \n",
       "3      8       3           3        8   1.125000  \n",
       "4      3       1           1        1   1.000000  \n",
       "5      3       2           2        3   1.333333  \n",
       "6      5       3           8        3   8.000000  \n",
       "7     10       7           8        5  11.200000  \n",
       "8      1       9           9        5  16.200000  "
      ]
     },
     "execution_count": 13,
     "metadata": {},
     "output_type": "execute_result"
    }
   ],
   "source": [
    "hypothesis"
   ]
  },
  {
   "cell_type": "code",
   "execution_count": 14,
   "metadata": {
    "scrolled": false
   },
   "outputs": [
    {
     "data": {
      "text/html": [
       "<div>\n",
       "<style scoped>\n",
       "    .dataframe tbody tr th:only-of-type {\n",
       "        vertical-align: middle;\n",
       "    }\n",
       "\n",
       "    .dataframe tbody tr th {\n",
       "        vertical-align: top;\n",
       "    }\n",
       "\n",
       "    .dataframe thead th {\n",
       "        text-align: right;\n",
       "    }\n",
       "</style>\n",
       "<table border=\"1\" class=\"dataframe\">\n",
       "  <thead>\n",
       "    <tr style=\"text-align: right;\">\n",
       "      <th></th>\n",
       "      <th>Hypothesis</th>\n",
       "      <th>RICE</th>\n",
       "    </tr>\n",
       "  </thead>\n",
       "  <tbody>\n",
       "    <tr>\n",
       "      <th>7</th>\n",
       "      <td>Добавить форму подписки на все основные страницы, чтобы собрать базу клиентов для email-рассылок</td>\n",
       "      <td>112.0</td>\n",
       "    </tr>\n",
       "    <tr>\n",
       "      <th>2</th>\n",
       "      <td>Добавить блоки рекомендаций товаров на сайт интернет магазина, чтобы повысить конверсию и средний чек заказа</td>\n",
       "      <td>56.0</td>\n",
       "    </tr>\n",
       "    <tr>\n",
       "      <th>0</th>\n",
       "      <td>Добавить два новых канала привлечения трафика, что позволит привлекать на 30% больше пользователей</td>\n",
       "      <td>40.0</td>\n",
       "    </tr>\n",
       "    <tr>\n",
       "      <th>6</th>\n",
       "      <td>Показать на главной странице баннеры с актуальными акциями и распродажами, чтобы увеличить конверсию</td>\n",
       "      <td>40.0</td>\n",
       "    </tr>\n",
       "    <tr>\n",
       "      <th>8</th>\n",
       "      <td>Запустить акцию, дающую скидку на товар в день рождения</td>\n",
       "      <td>16.2</td>\n",
       "    </tr>\n",
       "    <tr>\n",
       "      <th>3</th>\n",
       "      <td>Изменить структура категорий, что увеличит конверсию, т.к. пользователи быстрее найдут нужный товар</td>\n",
       "      <td>9.0</td>\n",
       "    </tr>\n",
       "    <tr>\n",
       "      <th>1</th>\n",
       "      <td>Запустить собственную службу доставки, что сократит срок доставки заказов</td>\n",
       "      <td>4.0</td>\n",
       "    </tr>\n",
       "    <tr>\n",
       "      <th>5</th>\n",
       "      <td>Добавить страницу отзывов клиентов о магазине, что позволит увеличить количество заказов</td>\n",
       "      <td>4.0</td>\n",
       "    </tr>\n",
       "    <tr>\n",
       "      <th>4</th>\n",
       "      <td>Изменить цвет фона главной страницы, чтобы увеличить вовлеченность пользователей</td>\n",
       "      <td>3.0</td>\n",
       "    </tr>\n",
       "  </tbody>\n",
       "</table>\n",
       "</div>"
      ],
      "text/plain": [
       "                                                                                                     Hypothesis  \\\n",
       "7              Добавить форму подписки на все основные страницы, чтобы собрать базу клиентов для email-рассылок   \n",
       "2  Добавить блоки рекомендаций товаров на сайт интернет магазина, чтобы повысить конверсию и средний чек заказа   \n",
       "0            Добавить два новых канала привлечения трафика, что позволит привлекать на 30% больше пользователей   \n",
       "6          Показать на главной странице баннеры с актуальными акциями и распродажами, чтобы увеличить конверсию   \n",
       "8                                                       Запустить акцию, дающую скидку на товар в день рождения   \n",
       "3           Изменить структура категорий, что увеличит конверсию, т.к. пользователи быстрее найдут нужный товар   \n",
       "1                                     Запустить собственную службу доставки, что сократит срок доставки заказов   \n",
       "5                      Добавить страницу отзывов клиентов о магазине, что позволит увеличить количество заказов   \n",
       "4                              Изменить цвет фона главной страницы, чтобы увеличить вовлеченность пользователей   \n",
       "\n",
       "    RICE  \n",
       "7  112.0  \n",
       "2   56.0  \n",
       "0   40.0  \n",
       "6   40.0  \n",
       "8   16.2  \n",
       "3    9.0  \n",
       "1    4.0  \n",
       "5    4.0  \n",
       "4    3.0  "
      ]
     },
     "execution_count": 14,
     "metadata": {},
     "output_type": "execute_result"
    }
   ],
   "source": [
    "# приоритизация по RICE\n",
    "pd.set_option(\"max_colwidth\", 120) #для полного отображения гипотез\n",
    "hypothesis['RICE'] = (hypothesis['Reach']*hypothesis['Impact'] * hypothesis['Confidence']) / hypothesis['Efforts']\n",
    "hypothesis[['Hypothesis', 'RICE']].sort_values(by='RICE', ascending=False)\n"
   ]
  },
  {
   "cell_type": "markdown",
   "metadata": {},
   "source": [
    "По таблице видно, что гипотезы 8,3,1,7,9 - наиболее приоритетные."
   ]
  },
  {
   "cell_type": "markdown",
   "metadata": {},
   "source": [
    "Объеденим результаты приоритезации по шкале ICE и RICE в одной таблице, так же добавим содержание гипотез:"
   ]
  },
  {
   "cell_type": "code",
   "execution_count": 15,
   "metadata": {},
   "outputs": [
    {
     "data": {
      "text/html": [
       "<div>\n",
       "<style scoped>\n",
       "    .dataframe tbody tr th:only-of-type {\n",
       "        vertical-align: middle;\n",
       "    }\n",
       "\n",
       "    .dataframe tbody tr th {\n",
       "        vertical-align: top;\n",
       "    }\n",
       "\n",
       "    .dataframe thead th {\n",
       "        text-align: right;\n",
       "    }\n",
       "</style>\n",
       "<table border=\"1\" class=\"dataframe\">\n",
       "  <thead>\n",
       "    <tr style=\"text-align: right;\">\n",
       "      <th></th>\n",
       "      <th>Hypothesis</th>\n",
       "      <th>ICE</th>\n",
       "      <th>RICE</th>\n",
       "    </tr>\n",
       "  </thead>\n",
       "  <tbody>\n",
       "    <tr>\n",
       "      <th>8</th>\n",
       "      <td>Запустить акцию, дающую скидку на товар в день рождения</td>\n",
       "      <td>16.200000</td>\n",
       "      <td>16.2</td>\n",
       "    </tr>\n",
       "    <tr>\n",
       "      <th>0</th>\n",
       "      <td>Добавить два новых канала привлечения трафика, что позволит привлекать на 30% больше пользователей</td>\n",
       "      <td>13.333333</td>\n",
       "      <td>40.0</td>\n",
       "    </tr>\n",
       "    <tr>\n",
       "      <th>7</th>\n",
       "      <td>Добавить форму подписки на все основные страницы, чтобы собрать базу клиентов для email-рассылок</td>\n",
       "      <td>11.200000</td>\n",
       "      <td>112.0</td>\n",
       "    </tr>\n",
       "    <tr>\n",
       "      <th>6</th>\n",
       "      <td>Показать на главной странице баннеры с актуальными акциями и распродажами, чтобы увеличить конверсию</td>\n",
       "      <td>8.000000</td>\n",
       "      <td>40.0</td>\n",
       "    </tr>\n",
       "    <tr>\n",
       "      <th>2</th>\n",
       "      <td>Добавить блоки рекомендаций товаров на сайт интернет магазина, чтобы повысить конверсию и средний чек заказа</td>\n",
       "      <td>7.000000</td>\n",
       "      <td>56.0</td>\n",
       "    </tr>\n",
       "  </tbody>\n",
       "</table>\n",
       "</div>"
      ],
      "text/plain": [
       "                                                                                                     Hypothesis  \\\n",
       "8                                                       Запустить акцию, дающую скидку на товар в день рождения   \n",
       "0            Добавить два новых канала привлечения трафика, что позволит привлекать на 30% больше пользователей   \n",
       "7              Добавить форму подписки на все основные страницы, чтобы собрать базу клиентов для email-рассылок   \n",
       "6          Показать на главной странице баннеры с актуальными акциями и распродажами, чтобы увеличить конверсию   \n",
       "2  Добавить блоки рекомендаций товаров на сайт интернет магазина, чтобы повысить конверсию и средний чек заказа   \n",
       "\n",
       "         ICE   RICE  \n",
       "8  16.200000   16.2  \n",
       "0  13.333333   40.0  \n",
       "7  11.200000  112.0  \n",
       "6   8.000000   40.0  \n",
       "2   7.000000   56.0  "
      ]
     },
     "execution_count": 15,
     "metadata": {},
     "output_type": "execute_result"
    }
   ],
   "source": [
    "hypothesis = hypothesis[['Hypothesis', 'ICE','RICE']].sort_values(by=['ICE', 'RICE'], ascending=False)\n",
    "hypothesis.head()"
   ]
  },
  {
   "cell_type": "code",
   "execution_count": 16,
   "metadata": {},
   "outputs": [
    {
     "data": {
      "text/html": [
       "<style  type=\"text/css\" >\n",
       "#T_96e59_row0_col1,#T_96e59_row2_col2{\n",
       "            background-color:  #08306b;\n",
       "            color:  #f1f1f1;\n",
       "        }#T_96e59_row0_col2{\n",
       "            background-color:  #dfebf7;\n",
       "            color:  #000000;\n",
       "        }#T_96e59_row1_col1{\n",
       "            background-color:  #1561a9;\n",
       "            color:  #f1f1f1;\n",
       "        }#T_96e59_row1_col2,#T_96e59_row3_col2{\n",
       "            background-color:  #aacfe5;\n",
       "            color:  #000000;\n",
       "        }#T_96e59_row2_col1{\n",
       "            background-color:  #3686c0;\n",
       "            color:  #000000;\n",
       "        }#T_96e59_row3_col1{\n",
       "            background-color:  #7cb7da;\n",
       "            color:  #000000;\n",
       "        }#T_96e59_row4_col1{\n",
       "            background-color:  #95c5df;\n",
       "            color:  #000000;\n",
       "        }#T_96e59_row4_col2{\n",
       "            background-color:  #71b1d7;\n",
       "            color:  #000000;\n",
       "        }#T_96e59_row5_col1{\n",
       "            background-color:  #eaf3fb;\n",
       "            color:  #000000;\n",
       "        }#T_96e59_row5_col2,#T_96e59_row6_col2,#T_96e59_row7_col1{\n",
       "            background-color:  #f5fafe;\n",
       "            color:  #000000;\n",
       "        }#T_96e59_row6_col1{\n",
       "            background-color:  #f3f8fe;\n",
       "            color:  #000000;\n",
       "        }#T_96e59_row7_col2{\n",
       "            background-color:  #ecf4fb;\n",
       "            color:  #000000;\n",
       "        }#T_96e59_row8_col1,#T_96e59_row8_col2{\n",
       "            background-color:  #f7fbff;\n",
       "            color:  #000000;\n",
       "        }</style><table id=\"T_96e59_\" ><thead>    <tr>        <th class=\"blank level0\" ></th>        <th class=\"col_heading level0 col0\" >Hypothesis</th>        <th class=\"col_heading level0 col1\" >ICE</th>        <th class=\"col_heading level0 col2\" >RICE</th>    </tr></thead><tbody>\n",
       "                <tr>\n",
       "                        <th id=\"T_96e59_level0_row0\" class=\"row_heading level0 row0\" >8</th>\n",
       "                        <td id=\"T_96e59_row0_col0\" class=\"data row0 col0\" >Запустить акцию, дающую скидку на товар в день рождения</td>\n",
       "                        <td id=\"T_96e59_row0_col1\" class=\"data row0 col1\" >16.200000</td>\n",
       "                        <td id=\"T_96e59_row0_col2\" class=\"data row0 col2\" >16.200000</td>\n",
       "            </tr>\n",
       "            <tr>\n",
       "                        <th id=\"T_96e59_level0_row1\" class=\"row_heading level0 row1\" >0</th>\n",
       "                        <td id=\"T_96e59_row1_col0\" class=\"data row1 col0\" >Добавить два новых канала привлечения трафика, что позволит привлекать на 30% больше пользователей</td>\n",
       "                        <td id=\"T_96e59_row1_col1\" class=\"data row1 col1\" >13.333333</td>\n",
       "                        <td id=\"T_96e59_row1_col2\" class=\"data row1 col2\" >40.000000</td>\n",
       "            </tr>\n",
       "            <tr>\n",
       "                        <th id=\"T_96e59_level0_row2\" class=\"row_heading level0 row2\" >7</th>\n",
       "                        <td id=\"T_96e59_row2_col0\" class=\"data row2 col0\" >Добавить форму подписки на все основные страницы, чтобы собрать базу клиентов для email-рассылок</td>\n",
       "                        <td id=\"T_96e59_row2_col1\" class=\"data row2 col1\" >11.200000</td>\n",
       "                        <td id=\"T_96e59_row2_col2\" class=\"data row2 col2\" >112.000000</td>\n",
       "            </tr>\n",
       "            <tr>\n",
       "                        <th id=\"T_96e59_level0_row3\" class=\"row_heading level0 row3\" >6</th>\n",
       "                        <td id=\"T_96e59_row3_col0\" class=\"data row3 col0\" >Показать на главной странице баннеры с актуальными акциями и распродажами, чтобы увеличить конверсию</td>\n",
       "                        <td id=\"T_96e59_row3_col1\" class=\"data row3 col1\" >8.000000</td>\n",
       "                        <td id=\"T_96e59_row3_col2\" class=\"data row3 col2\" >40.000000</td>\n",
       "            </tr>\n",
       "            <tr>\n",
       "                        <th id=\"T_96e59_level0_row4\" class=\"row_heading level0 row4\" >2</th>\n",
       "                        <td id=\"T_96e59_row4_col0\" class=\"data row4 col0\" >Добавить блоки рекомендаций товаров на сайт интернет магазина, чтобы повысить конверсию и средний чек заказа</td>\n",
       "                        <td id=\"T_96e59_row4_col1\" class=\"data row4 col1\" >7.000000</td>\n",
       "                        <td id=\"T_96e59_row4_col2\" class=\"data row4 col2\" >56.000000</td>\n",
       "            </tr>\n",
       "            <tr>\n",
       "                        <th id=\"T_96e59_level0_row5\" class=\"row_heading level0 row5\" >1</th>\n",
       "                        <td id=\"T_96e59_row5_col0\" class=\"data row5 col0\" >Запустить собственную службу доставки, что сократит срок доставки заказов</td>\n",
       "                        <td id=\"T_96e59_row5_col1\" class=\"data row5 col1\" >2.000000</td>\n",
       "                        <td id=\"T_96e59_row5_col2\" class=\"data row5 col2\" >4.000000</td>\n",
       "            </tr>\n",
       "            <tr>\n",
       "                        <th id=\"T_96e59_level0_row6\" class=\"row_heading level0 row6\" >5</th>\n",
       "                        <td id=\"T_96e59_row6_col0\" class=\"data row6 col0\" >Добавить страницу отзывов клиентов о магазине, что позволит увеличить количество заказов</td>\n",
       "                        <td id=\"T_96e59_row6_col1\" class=\"data row6 col1\" >1.333333</td>\n",
       "                        <td id=\"T_96e59_row6_col2\" class=\"data row6 col2\" >4.000000</td>\n",
       "            </tr>\n",
       "            <tr>\n",
       "                        <th id=\"T_96e59_level0_row7\" class=\"row_heading level0 row7\" >3</th>\n",
       "                        <td id=\"T_96e59_row7_col0\" class=\"data row7 col0\" >Изменить структура категорий, что увеличит конверсию, т.к. пользователи быстрее найдут нужный товар</td>\n",
       "                        <td id=\"T_96e59_row7_col1\" class=\"data row7 col1\" >1.125000</td>\n",
       "                        <td id=\"T_96e59_row7_col2\" class=\"data row7 col2\" >9.000000</td>\n",
       "            </tr>\n",
       "            <tr>\n",
       "                        <th id=\"T_96e59_level0_row8\" class=\"row_heading level0 row8\" >4</th>\n",
       "                        <td id=\"T_96e59_row8_col0\" class=\"data row8 col0\" >Изменить цвет фона главной страницы, чтобы увеличить вовлеченность пользователей</td>\n",
       "                        <td id=\"T_96e59_row8_col1\" class=\"data row8 col1\" >1.000000</td>\n",
       "                        <td id=\"T_96e59_row8_col2\" class=\"data row8 col2\" >3.000000</td>\n",
       "            </tr>\n",
       "    </tbody></table>"
      ],
      "text/plain": [
       "<pandas.io.formats.style.Styler at 0x7fdd128c69d0>"
      ]
     },
     "execution_count": 16,
     "metadata": {},
     "output_type": "execute_result"
    }
   ],
   "source": [
    " hypothesis.style.background_gradient(cmap='Blues') #окрашиваение ячеек"
   ]
  },
  {
   "cell_type": "markdown",
   "metadata": {},
   "source": [
    "### Выводы:\n",
    "\n",
    "1. По шкале ICE - наиболее перспективные гипотезы: 9,1,8,7,3\n",
    "\n",
    "2. По шкале RICE - наиболее перспективные гипотезы: 8,3,1,7,9\n",
    "\n",
    "\n",
    "Наиболее перспективные гипотезы по обеим шкалам совпадают, но на первом месте по шкале RICE уже гипотеза 8, так как параметр `reach`, который показывает скольких пользователей затронет изменение, которое мы хотим внести, у этой гипотезы = 10. \n",
    "\n",
    "То есть в данной шкале мы учитываем и силу гипотезы, и то скольких пользователей эти изменения коснуться (эта гипотеза коснется).\n",
    "\n",
    "Таким образом, наиболее перспективными гипотезами для увеличения прибыли являются следующие (приоритет указан по шкале RICE): \n",
    "\n",
    "8. Добавить форму подписки на все основные страницы, чтобы собрать базу клиентов для email-рассылок\n",
    "3. Добавить блоки рекомендаций товаров на сайт интернет магазина, чтобы повысить конверсию и средний чек заказа\t\n",
    "1. Добавить два новых канала привлечения трафика, что позволит привлекать на 30% больше пользователей\n",
    "7. Показать на главной странице баннеры с актуальными акциями и распродажами, чтобы увеличить конверсию\t\n",
    "9. Запустить акцию, дающую скидку на товар в день рождения\t\n",
    "\n",
    "Соотвественно, проверять необходимо данные гипотезы."
   ]
  },
  {
   "cell_type": "markdown",
   "metadata": {},
   "source": [
    "## Анализ результатов "
   ]
  },
  {
   "cell_type": "markdown",
   "metadata": {},
   "source": [
    "Был проведен А/Б тест и нам были переданы результаты.Ознакомимся с данными таблиц :\n",
    "* orders - с данными о покупках\n",
    "* visitors - с данными о посетителях"
   ]
  },
  {
   "cell_type": "code",
   "execution_count": 17,
   "metadata": {},
   "outputs": [
    {
     "data": {
      "text/html": [
       "<div>\n",
       "<style scoped>\n",
       "    .dataframe tbody tr th:only-of-type {\n",
       "        vertical-align: middle;\n",
       "    }\n",
       "\n",
       "    .dataframe tbody tr th {\n",
       "        vertical-align: top;\n",
       "    }\n",
       "\n",
       "    .dataframe thead th {\n",
       "        text-align: right;\n",
       "    }\n",
       "</style>\n",
       "<table border=\"1\" class=\"dataframe\">\n",
       "  <thead>\n",
       "    <tr style=\"text-align: right;\">\n",
       "      <th></th>\n",
       "      <th>transactionId</th>\n",
       "      <th>visitorId</th>\n",
       "      <th>date</th>\n",
       "      <th>revenue</th>\n",
       "      <th>group</th>\n",
       "    </tr>\n",
       "  </thead>\n",
       "  <tbody>\n",
       "    <tr>\n",
       "      <th>0</th>\n",
       "      <td>3667963787</td>\n",
       "      <td>3312258926</td>\n",
       "      <td>2019-08-15</td>\n",
       "      <td>1650</td>\n",
       "      <td>B</td>\n",
       "    </tr>\n",
       "    <tr>\n",
       "      <th>1</th>\n",
       "      <td>2804400009</td>\n",
       "      <td>3642806036</td>\n",
       "      <td>2019-08-15</td>\n",
       "      <td>730</td>\n",
       "      <td>B</td>\n",
       "    </tr>\n",
       "    <tr>\n",
       "      <th>3</th>\n",
       "      <td>3797467345</td>\n",
       "      <td>1196621759</td>\n",
       "      <td>2019-08-15</td>\n",
       "      <td>9759</td>\n",
       "      <td>B</td>\n",
       "    </tr>\n",
       "    <tr>\n",
       "      <th>4</th>\n",
       "      <td>2282983706</td>\n",
       "      <td>2322279887</td>\n",
       "      <td>2019-08-15</td>\n",
       "      <td>2308</td>\n",
       "      <td>B</td>\n",
       "    </tr>\n",
       "    <tr>\n",
       "      <th>5</th>\n",
       "      <td>182168103</td>\n",
       "      <td>935554773</td>\n",
       "      <td>2019-08-15</td>\n",
       "      <td>2210</td>\n",
       "      <td>B</td>\n",
       "    </tr>\n",
       "  </tbody>\n",
       "</table>\n",
       "</div>"
      ],
      "text/plain": [
       "   transactionId   visitorId       date  revenue group\n",
       "0     3667963787  3312258926 2019-08-15     1650     B\n",
       "1     2804400009  3642806036 2019-08-15      730     B\n",
       "3     3797467345  1196621759 2019-08-15     9759     B\n",
       "4     2282983706  2322279887 2019-08-15     2308     B\n",
       "5      182168103   935554773 2019-08-15     2210     B"
      ]
     },
     "execution_count": 17,
     "metadata": {},
     "output_type": "execute_result"
    }
   ],
   "source": [
    "orders.head()"
   ]
  },
  {
   "cell_type": "code",
   "execution_count": 18,
   "metadata": {},
   "outputs": [
    {
     "data": {
      "text/html": [
       "<div>\n",
       "<style scoped>\n",
       "    .dataframe tbody tr th:only-of-type {\n",
       "        vertical-align: middle;\n",
       "    }\n",
       "\n",
       "    .dataframe tbody tr th {\n",
       "        vertical-align: top;\n",
       "    }\n",
       "\n",
       "    .dataframe thead th {\n",
       "        text-align: right;\n",
       "    }\n",
       "</style>\n",
       "<table border=\"1\" class=\"dataframe\">\n",
       "  <thead>\n",
       "    <tr style=\"text-align: right;\">\n",
       "      <th></th>\n",
       "      <th>date</th>\n",
       "      <th>group</th>\n",
       "      <th>visitors</th>\n",
       "    </tr>\n",
       "  </thead>\n",
       "  <tbody>\n",
       "    <tr>\n",
       "      <th>0</th>\n",
       "      <td>2019-08-01</td>\n",
       "      <td>A</td>\n",
       "      <td>719</td>\n",
       "    </tr>\n",
       "    <tr>\n",
       "      <th>1</th>\n",
       "      <td>2019-08-02</td>\n",
       "      <td>A</td>\n",
       "      <td>619</td>\n",
       "    </tr>\n",
       "    <tr>\n",
       "      <th>2</th>\n",
       "      <td>2019-08-03</td>\n",
       "      <td>A</td>\n",
       "      <td>507</td>\n",
       "    </tr>\n",
       "    <tr>\n",
       "      <th>3</th>\n",
       "      <td>2019-08-04</td>\n",
       "      <td>A</td>\n",
       "      <td>717</td>\n",
       "    </tr>\n",
       "    <tr>\n",
       "      <th>4</th>\n",
       "      <td>2019-08-05</td>\n",
       "      <td>A</td>\n",
       "      <td>756</td>\n",
       "    </tr>\n",
       "  </tbody>\n",
       "</table>\n",
       "</div>"
      ],
      "text/plain": [
       "        date group  visitors\n",
       "0 2019-08-01     A       719\n",
       "1 2019-08-02     A       619\n",
       "2 2019-08-03     A       507\n",
       "3 2019-08-04     A       717\n",
       "4 2019-08-05     A       756"
      ]
     },
     "execution_count": 18,
     "metadata": {},
     "output_type": "execute_result"
    }
   ],
   "source": [
    "visitors.head()"
   ]
  },
  {
   "cell_type": "markdown",
   "metadata": {},
   "source": [
    "В таблице представлены данные по группам и датам\n",
    "Сгруппируем данные по датам и расчитаем кумулятивную выручку по группам."
   ]
  },
  {
   "cell_type": "markdown",
   "metadata": {},
   "source": [
    "### Расчет кумулятивной выручки по группам"
   ]
  },
  {
   "cell_type": "markdown",
   "metadata": {},
   "source": [
    "Создадим датафрейм с уникальными датами и группами, чтобы в дальнейшем проводить расчеты и анализировать  данные по этим уникальным дням и уникальным группам:"
   ]
  },
  {
   "cell_type": "code",
   "execution_count": 19,
   "metadata": {
    "scrolled": true
   },
   "outputs": [
    {
     "data": {
      "text/html": [
       "<div>\n",
       "<style scoped>\n",
       "    .dataframe tbody tr th:only-of-type {\n",
       "        vertical-align: middle;\n",
       "    }\n",
       "\n",
       "    .dataframe tbody tr th {\n",
       "        vertical-align: top;\n",
       "    }\n",
       "\n",
       "    .dataframe thead th {\n",
       "        text-align: right;\n",
       "    }\n",
       "</style>\n",
       "<table border=\"1\" class=\"dataframe\">\n",
       "  <thead>\n",
       "    <tr style=\"text-align: right;\">\n",
       "      <th></th>\n",
       "      <th>date</th>\n",
       "      <th>group</th>\n",
       "    </tr>\n",
       "  </thead>\n",
       "  <tbody>\n",
       "    <tr>\n",
       "      <th>0</th>\n",
       "      <td>2019-08-15</td>\n",
       "      <td>B</td>\n",
       "    </tr>\n",
       "    <tr>\n",
       "      <th>7</th>\n",
       "      <td>2019-08-15</td>\n",
       "      <td>A</td>\n",
       "    </tr>\n",
       "    <tr>\n",
       "      <th>45</th>\n",
       "      <td>2019-08-16</td>\n",
       "      <td>A</td>\n",
       "    </tr>\n",
       "    <tr>\n",
       "      <th>47</th>\n",
       "      <td>2019-08-16</td>\n",
       "      <td>B</td>\n",
       "    </tr>\n",
       "    <tr>\n",
       "      <th>55</th>\n",
       "      <td>2019-08-01</td>\n",
       "      <td>A</td>\n",
       "    </tr>\n",
       "  </tbody>\n",
       "</table>\n",
       "</div>"
      ],
      "text/plain": [
       "         date group\n",
       "0  2019-08-15     B\n",
       "7  2019-08-15     A\n",
       "45 2019-08-16     A\n",
       "47 2019-08-16     B\n",
       "55 2019-08-01     A"
      ]
     },
     "execution_count": 19,
     "metadata": {},
     "output_type": "execute_result"
    }
   ],
   "source": [
    "orders_group = orders[['date','group']].drop_duplicates() #удаляем дубликаты\n",
    "orders_group.head()"
   ]
  },
  {
   "cell_type": "markdown",
   "metadata": {},
   "source": [
    "Получили таблицу, в которой указана уникальнаые даты покупок и названия групп покупателей.\n",
    "\n",
    "Далее расчитаем кумулятивную выручку по уникальным датам и по уникальным группам. Для этого:\n",
    "* получеам из таблицы `orders` элементы строк, где дата и группа равны дате и группе из нашей таблицы `df_group` (что бы расчет проходил именно ежедневно и по группам)\n",
    "* далее подсчитываем уникальное количество покупателей (по visitorId) и уникальное количество заказов (по transactionId), а так же сумму покупок за эти дни\n",
    "* это методы применяем к каждой строчке и сортируем данные по дате и группе "
   ]
  },
  {
   "cell_type": "code",
   "execution_count": 20,
   "metadata": {},
   "outputs": [
    {
     "data": {
      "text/html": [
       "<div>\n",
       "<style scoped>\n",
       "    .dataframe tbody tr th:only-of-type {\n",
       "        vertical-align: middle;\n",
       "    }\n",
       "\n",
       "    .dataframe tbody tr th {\n",
       "        vertical-align: top;\n",
       "    }\n",
       "\n",
       "    .dataframe thead th {\n",
       "        text-align: right;\n",
       "    }\n",
       "</style>\n",
       "<table border=\"1\" class=\"dataframe\">\n",
       "  <thead>\n",
       "    <tr style=\"text-align: right;\">\n",
       "      <th></th>\n",
       "      <th>date</th>\n",
       "      <th>group</th>\n",
       "      <th>transactionId</th>\n",
       "      <th>visitorId</th>\n",
       "      <th>revenue</th>\n",
       "    </tr>\n",
       "  </thead>\n",
       "  <tbody>\n",
       "    <tr>\n",
       "      <th>55</th>\n",
       "      <td>2019-08-01</td>\n",
       "      <td>A</td>\n",
       "      <td>23</td>\n",
       "      <td>19</td>\n",
       "      <td>142779</td>\n",
       "    </tr>\n",
       "    <tr>\n",
       "      <th>66</th>\n",
       "      <td>2019-08-01</td>\n",
       "      <td>B</td>\n",
       "      <td>17</td>\n",
       "      <td>17</td>\n",
       "      <td>59758</td>\n",
       "    </tr>\n",
       "    <tr>\n",
       "      <th>175</th>\n",
       "      <td>2019-08-02</td>\n",
       "      <td>A</td>\n",
       "      <td>42</td>\n",
       "      <td>36</td>\n",
       "      <td>234381</td>\n",
       "    </tr>\n",
       "    <tr>\n",
       "      <th>173</th>\n",
       "      <td>2019-08-02</td>\n",
       "      <td>B</td>\n",
       "      <td>40</td>\n",
       "      <td>39</td>\n",
       "      <td>221801</td>\n",
       "    </tr>\n",
       "    <tr>\n",
       "      <th>291</th>\n",
       "      <td>2019-08-03</td>\n",
       "      <td>A</td>\n",
       "      <td>66</td>\n",
       "      <td>60</td>\n",
       "      <td>346854</td>\n",
       "    </tr>\n",
       "  </tbody>\n",
       "</table>\n",
       "</div>"
      ],
      "text/plain": [
       "          date group  transactionId  visitorId  revenue\n",
       "55  2019-08-01     A             23         19   142779\n",
       "66  2019-08-01     B             17         17    59758\n",
       "175 2019-08-02     A             42         36   234381\n",
       "173 2019-08-02     B             40         39   221801\n",
       "291 2019-08-03     A             66         60   346854"
      ]
     },
     "execution_count": 20,
     "metadata": {},
     "output_type": "execute_result"
    }
   ],
   "source": [
    "#расчитываем кумулятивную выручку по дням и группам\n",
    "orders_aggregated = (\n",
    "    orders_group\n",
    "    .apply(lambda x: orders[np.logical_and(orders['date'] <= x['date'], orders['group'] == x['group'])]\n",
    "    .agg({'date' : 'max', 'group' : 'max', 'transactionId' : 'nunique', 'visitorId' : 'nunique', 'revenue' : 'sum'}), axis=1)\n",
    "    .sort_values(by=['date','group'])  \n",
    ")\n",
    "orders_aggregated.head()"
   ]
  },
  {
   "cell_type": "markdown",
   "metadata": {},
   "source": [
    "Таким образом, мы получили таблицу по датам и группам с:\n",
    "* кумулятивным количеством заказов (transactionId)\n",
    "* кумулятивным количеством покупателей (visitorId) \n",
    "* кумулятивной  выручкой (revenue)\n",
    "\n",
    "Далее вспомним таблицу `visitors`."
   ]
  },
  {
   "cell_type": "code",
   "execution_count": 21,
   "metadata": {},
   "outputs": [
    {
     "data": {
      "text/html": [
       "<div>\n",
       "<style scoped>\n",
       "    .dataframe tbody tr th:only-of-type {\n",
       "        vertical-align: middle;\n",
       "    }\n",
       "\n",
       "    .dataframe tbody tr th {\n",
       "        vertical-align: top;\n",
       "    }\n",
       "\n",
       "    .dataframe thead th {\n",
       "        text-align: right;\n",
       "    }\n",
       "</style>\n",
       "<table border=\"1\" class=\"dataframe\">\n",
       "  <thead>\n",
       "    <tr style=\"text-align: right;\">\n",
       "      <th></th>\n",
       "      <th>date</th>\n",
       "      <th>group</th>\n",
       "      <th>visitors</th>\n",
       "    </tr>\n",
       "  </thead>\n",
       "  <tbody>\n",
       "    <tr>\n",
       "      <th>0</th>\n",
       "      <td>2019-08-01</td>\n",
       "      <td>A</td>\n",
       "      <td>719</td>\n",
       "    </tr>\n",
       "    <tr>\n",
       "      <th>1</th>\n",
       "      <td>2019-08-02</td>\n",
       "      <td>A</td>\n",
       "      <td>619</td>\n",
       "    </tr>\n",
       "    <tr>\n",
       "      <th>2</th>\n",
       "      <td>2019-08-03</td>\n",
       "      <td>A</td>\n",
       "      <td>507</td>\n",
       "    </tr>\n",
       "    <tr>\n",
       "      <th>3</th>\n",
       "      <td>2019-08-04</td>\n",
       "      <td>A</td>\n",
       "      <td>717</td>\n",
       "    </tr>\n",
       "    <tr>\n",
       "      <th>4</th>\n",
       "      <td>2019-08-05</td>\n",
       "      <td>A</td>\n",
       "      <td>756</td>\n",
       "    </tr>\n",
       "  </tbody>\n",
       "</table>\n",
       "</div>"
      ],
      "text/plain": [
       "        date group  visitors\n",
       "0 2019-08-01     A       719\n",
       "1 2019-08-02     A       619\n",
       "2 2019-08-03     A       507\n",
       "3 2019-08-04     A       717\n",
       "4 2019-08-05     A       756"
      ]
     },
     "execution_count": 21,
     "metadata": {},
     "output_type": "execute_result"
    }
   ],
   "source": [
    "visitors.head()"
   ]
  },
  {
   "cell_type": "markdown",
   "metadata": {},
   "source": [
    "Так же, как и ранее, создадим таблицу с уникальными датами и уникальными группами посетителей"
   ]
  },
  {
   "cell_type": "code",
   "execution_count": 22,
   "metadata": {},
   "outputs": [
    {
     "data": {
      "text/html": [
       "<div>\n",
       "<style scoped>\n",
       "    .dataframe tbody tr th:only-of-type {\n",
       "        vertical-align: middle;\n",
       "    }\n",
       "\n",
       "    .dataframe tbody tr th {\n",
       "        vertical-align: top;\n",
       "    }\n",
       "\n",
       "    .dataframe thead th {\n",
       "        text-align: right;\n",
       "    }\n",
       "</style>\n",
       "<table border=\"1\" class=\"dataframe\">\n",
       "  <thead>\n",
       "    <tr style=\"text-align: right;\">\n",
       "      <th></th>\n",
       "      <th>date</th>\n",
       "      <th>group</th>\n",
       "    </tr>\n",
       "  </thead>\n",
       "  <tbody>\n",
       "    <tr>\n",
       "      <th>0</th>\n",
       "      <td>2019-08-01</td>\n",
       "      <td>A</td>\n",
       "    </tr>\n",
       "    <tr>\n",
       "      <th>1</th>\n",
       "      <td>2019-08-02</td>\n",
       "      <td>A</td>\n",
       "    </tr>\n",
       "    <tr>\n",
       "      <th>2</th>\n",
       "      <td>2019-08-03</td>\n",
       "      <td>A</td>\n",
       "    </tr>\n",
       "    <tr>\n",
       "      <th>3</th>\n",
       "      <td>2019-08-04</td>\n",
       "      <td>A</td>\n",
       "    </tr>\n",
       "    <tr>\n",
       "      <th>4</th>\n",
       "      <td>2019-08-05</td>\n",
       "      <td>A</td>\n",
       "    </tr>\n",
       "  </tbody>\n",
       "</table>\n",
       "</div>"
      ],
      "text/plain": [
       "        date group\n",
       "0 2019-08-01     A\n",
       "1 2019-08-02     A\n",
       "2 2019-08-03     A\n",
       "3 2019-08-04     A\n",
       "4 2019-08-05     A"
      ]
     },
     "execution_count": 22,
     "metadata": {},
     "output_type": "execute_result"
    }
   ],
   "source": [
    "visitors_group = visitors[['date', 'group']].drop_duplicates()\n",
    "visitors_group.head()"
   ]
  },
  {
   "cell_type": "markdown",
   "metadata": {},
   "source": [
    "Получаем таблицу с уникальными датами посещений и группами посетителей.\n",
    "\n",
    "Далее, посчитаем кумулятивное количество пользователей по датам и группам:"
   ]
  },
  {
   "cell_type": "code",
   "execution_count": 23,
   "metadata": {},
   "outputs": [
    {
     "data": {
      "text/html": [
       "<div>\n",
       "<style scoped>\n",
       "    .dataframe tbody tr th:only-of-type {\n",
       "        vertical-align: middle;\n",
       "    }\n",
       "\n",
       "    .dataframe tbody tr th {\n",
       "        vertical-align: top;\n",
       "    }\n",
       "\n",
       "    .dataframe thead th {\n",
       "        text-align: right;\n",
       "    }\n",
       "</style>\n",
       "<table border=\"1\" class=\"dataframe\">\n",
       "  <thead>\n",
       "    <tr style=\"text-align: right;\">\n",
       "      <th></th>\n",
       "      <th>date</th>\n",
       "      <th>group</th>\n",
       "      <th>visitors</th>\n",
       "    </tr>\n",
       "  </thead>\n",
       "  <tbody>\n",
       "    <tr>\n",
       "      <th>0</th>\n",
       "      <td>2019-08-01</td>\n",
       "      <td>A</td>\n",
       "      <td>719</td>\n",
       "    </tr>\n",
       "    <tr>\n",
       "      <th>31</th>\n",
       "      <td>2019-08-01</td>\n",
       "      <td>B</td>\n",
       "      <td>713</td>\n",
       "    </tr>\n",
       "    <tr>\n",
       "      <th>1</th>\n",
       "      <td>2019-08-02</td>\n",
       "      <td>A</td>\n",
       "      <td>1338</td>\n",
       "    </tr>\n",
       "    <tr>\n",
       "      <th>32</th>\n",
       "      <td>2019-08-02</td>\n",
       "      <td>B</td>\n",
       "      <td>1294</td>\n",
       "    </tr>\n",
       "    <tr>\n",
       "      <th>2</th>\n",
       "      <td>2019-08-03</td>\n",
       "      <td>A</td>\n",
       "      <td>1845</td>\n",
       "    </tr>\n",
       "  </tbody>\n",
       "</table>\n",
       "</div>"
      ],
      "text/plain": [
       "         date group  visitors\n",
       "0  2019-08-01     A       719\n",
       "31 2019-08-01     B       713\n",
       "1  2019-08-02     A      1338\n",
       "32 2019-08-02     B      1294\n",
       "2  2019-08-03     A      1845"
      ]
     },
     "execution_count": 23,
     "metadata": {},
     "output_type": "execute_result"
    }
   ],
   "source": [
    "#расчитываем кумулятвиное количество посльзователей по датам и группам\n",
    "visitors_aggregated = (\n",
    "    visitors_group\n",
    "    .apply(lambda x: visitors[np.logical_and(visitors['date'] <= x['date'], visitors['group'] == x['group'])]\n",
    "    .agg({'date' : 'max', 'group' : 'max', 'visitors' : 'sum'}), axis=1)\n",
    "    .sort_values(by=['date','group']))\n",
    "visitors_aggregated.head()"
   ]
  },
  {
   "cell_type": "markdown",
   "metadata": {},
   "source": [
    "Таким образом, получаем таблицу скумулятивным количеством посетителей в эту дату и в этой группе.\n",
    "\n",
    "Далее объеденим таблицы с кумулятивной выручкой и кумулятивным количеством посетителей."
   ]
  },
  {
   "cell_type": "code",
   "execution_count": 24,
   "metadata": {},
   "outputs": [
    {
     "data": {
      "text/html": [
       "<div>\n",
       "<style scoped>\n",
       "    .dataframe tbody tr th:only-of-type {\n",
       "        vertical-align: middle;\n",
       "    }\n",
       "\n",
       "    .dataframe tbody tr th {\n",
       "        vertical-align: top;\n",
       "    }\n",
       "\n",
       "    .dataframe thead th {\n",
       "        text-align: right;\n",
       "    }\n",
       "</style>\n",
       "<table border=\"1\" class=\"dataframe\">\n",
       "  <thead>\n",
       "    <tr style=\"text-align: right;\">\n",
       "      <th></th>\n",
       "      <th>date</th>\n",
       "      <th>group</th>\n",
       "      <th>transactionId</th>\n",
       "      <th>visitorId</th>\n",
       "      <th>revenue</th>\n",
       "      <th>visitors</th>\n",
       "    </tr>\n",
       "  </thead>\n",
       "  <tbody>\n",
       "    <tr>\n",
       "      <th>0</th>\n",
       "      <td>2019-08-01</td>\n",
       "      <td>A</td>\n",
       "      <td>23</td>\n",
       "      <td>19</td>\n",
       "      <td>142779</td>\n",
       "      <td>719</td>\n",
       "    </tr>\n",
       "    <tr>\n",
       "      <th>1</th>\n",
       "      <td>2019-08-01</td>\n",
       "      <td>B</td>\n",
       "      <td>17</td>\n",
       "      <td>17</td>\n",
       "      <td>59758</td>\n",
       "      <td>713</td>\n",
       "    </tr>\n",
       "    <tr>\n",
       "      <th>2</th>\n",
       "      <td>2019-08-02</td>\n",
       "      <td>A</td>\n",
       "      <td>42</td>\n",
       "      <td>36</td>\n",
       "      <td>234381</td>\n",
       "      <td>1338</td>\n",
       "    </tr>\n",
       "    <tr>\n",
       "      <th>3</th>\n",
       "      <td>2019-08-02</td>\n",
       "      <td>B</td>\n",
       "      <td>40</td>\n",
       "      <td>39</td>\n",
       "      <td>221801</td>\n",
       "      <td>1294</td>\n",
       "    </tr>\n",
       "    <tr>\n",
       "      <th>4</th>\n",
       "      <td>2019-08-03</td>\n",
       "      <td>A</td>\n",
       "      <td>66</td>\n",
       "      <td>60</td>\n",
       "      <td>346854</td>\n",
       "      <td>1845</td>\n",
       "    </tr>\n",
       "  </tbody>\n",
       "</table>\n",
       "</div>"
      ],
      "text/plain": [
       "        date group  transactionId  visitorId  revenue  visitors\n",
       "0 2019-08-01     A             23         19   142779       719\n",
       "1 2019-08-01     B             17         17    59758       713\n",
       "2 2019-08-02     A             42         36   234381      1338\n",
       "3 2019-08-02     B             40         39   221801      1294\n",
       "4 2019-08-03     A             66         60   346854      1845"
      ]
     },
     "execution_count": 24,
     "metadata": {},
     "output_type": "execute_result"
    }
   ],
   "source": [
    "cumulative = orders_aggregated.merge(visitors_aggregated, left_on=['date', 'group'], right_on=['date', 'group'])\n",
    "cumulative.head()"
   ]
  },
  {
   "cell_type": "markdown",
   "metadata": {},
   "source": [
    " Переименуем столбцы так, что бы они отражали свое содержание:"
   ]
  },
  {
   "cell_type": "code",
   "execution_count": 25,
   "metadata": {},
   "outputs": [
    {
     "data": {
      "text/html": [
       "<div>\n",
       "<style scoped>\n",
       "    .dataframe tbody tr th:only-of-type {\n",
       "        vertical-align: middle;\n",
       "    }\n",
       "\n",
       "    .dataframe tbody tr th {\n",
       "        vertical-align: top;\n",
       "    }\n",
       "\n",
       "    .dataframe thead th {\n",
       "        text-align: right;\n",
       "    }\n",
       "</style>\n",
       "<table border=\"1\" class=\"dataframe\">\n",
       "  <thead>\n",
       "    <tr style=\"text-align: right;\">\n",
       "      <th></th>\n",
       "      <th>date</th>\n",
       "      <th>group</th>\n",
       "      <th>orders</th>\n",
       "      <th>buyers</th>\n",
       "      <th>revenue</th>\n",
       "      <th>visitors</th>\n",
       "    </tr>\n",
       "  </thead>\n",
       "  <tbody>\n",
       "    <tr>\n",
       "      <th>0</th>\n",
       "      <td>2019-08-01</td>\n",
       "      <td>A</td>\n",
       "      <td>23</td>\n",
       "      <td>19</td>\n",
       "      <td>142779</td>\n",
       "      <td>719</td>\n",
       "    </tr>\n",
       "    <tr>\n",
       "      <th>1</th>\n",
       "      <td>2019-08-01</td>\n",
       "      <td>B</td>\n",
       "      <td>17</td>\n",
       "      <td>17</td>\n",
       "      <td>59758</td>\n",
       "      <td>713</td>\n",
       "    </tr>\n",
       "    <tr>\n",
       "      <th>2</th>\n",
       "      <td>2019-08-02</td>\n",
       "      <td>A</td>\n",
       "      <td>42</td>\n",
       "      <td>36</td>\n",
       "      <td>234381</td>\n",
       "      <td>1338</td>\n",
       "    </tr>\n",
       "    <tr>\n",
       "      <th>3</th>\n",
       "      <td>2019-08-02</td>\n",
       "      <td>B</td>\n",
       "      <td>40</td>\n",
       "      <td>39</td>\n",
       "      <td>221801</td>\n",
       "      <td>1294</td>\n",
       "    </tr>\n",
       "    <tr>\n",
       "      <th>4</th>\n",
       "      <td>2019-08-03</td>\n",
       "      <td>A</td>\n",
       "      <td>66</td>\n",
       "      <td>60</td>\n",
       "      <td>346854</td>\n",
       "      <td>1845</td>\n",
       "    </tr>\n",
       "  </tbody>\n",
       "</table>\n",
       "</div>"
      ],
      "text/plain": [
       "        date group  orders  buyers  revenue  visitors\n",
       "0 2019-08-01     A      23      19   142779       719\n",
       "1 2019-08-01     B      17      17    59758       713\n",
       "2 2019-08-02     A      42      36   234381      1338\n",
       "3 2019-08-02     B      40      39   221801      1294\n",
       "4 2019-08-03     A      66      60   346854      1845"
      ]
     },
     "execution_count": 25,
     "metadata": {},
     "output_type": "execute_result"
    }
   ],
   "source": [
    "cumulative.columns = ['date', 'group', 'orders', 'buyers', 'revenue', 'visitors']\n",
    "cumulative.head()"
   ]
  },
  {
   "cell_type": "markdown",
   "metadata": {},
   "source": [
    "#### Выводы:\n",
    "\n",
    "Таким образом, в таблице `cumulative` содержатся следующие данные:\n",
    "* date - дата посещения и/ или покупки\n",
    "* group - группа теста \n",
    "* orders - кумулятвиное колчиество заказов \n",
    "* buyers - кумулятивное количество покупателей \n",
    "* revenue - кумулятивная выручка\n",
    "* visitors - кумулятивное количество пользователей "
   ]
  },
  {
   "cell_type": "markdown",
   "metadata": {},
   "source": [
    "### График кумулятивной выручки по группам"
   ]
  },
  {
   "cell_type": "markdown",
   "metadata": {},
   "source": [
    "Выделим данные по группам и кумулятивной выручке этих групп в отдельные переменные, что бы построить графики по группам"
   ]
  },
  {
   "cell_type": "code",
   "execution_count": 26,
   "metadata": {},
   "outputs": [
    {
     "data": {
      "text/html": [
       "<div>\n",
       "<style scoped>\n",
       "    .dataframe tbody tr th:only-of-type {\n",
       "        vertical-align: middle;\n",
       "    }\n",
       "\n",
       "    .dataframe tbody tr th {\n",
       "        vertical-align: top;\n",
       "    }\n",
       "\n",
       "    .dataframe thead th {\n",
       "        text-align: right;\n",
       "    }\n",
       "</style>\n",
       "<table border=\"1\" class=\"dataframe\">\n",
       "  <thead>\n",
       "    <tr style=\"text-align: right;\">\n",
       "      <th></th>\n",
       "      <th>date</th>\n",
       "      <th>revenue</th>\n",
       "      <th>orders</th>\n",
       "    </tr>\n",
       "  </thead>\n",
       "  <tbody>\n",
       "    <tr>\n",
       "      <th>0</th>\n",
       "      <td>2019-08-01</td>\n",
       "      <td>142779</td>\n",
       "      <td>23</td>\n",
       "    </tr>\n",
       "    <tr>\n",
       "      <th>2</th>\n",
       "      <td>2019-08-02</td>\n",
       "      <td>234381</td>\n",
       "      <td>42</td>\n",
       "    </tr>\n",
       "    <tr>\n",
       "      <th>4</th>\n",
       "      <td>2019-08-03</td>\n",
       "      <td>346854</td>\n",
       "      <td>66</td>\n",
       "    </tr>\n",
       "    <tr>\n",
       "      <th>6</th>\n",
       "      <td>2019-08-04</td>\n",
       "      <td>388030</td>\n",
       "      <td>77</td>\n",
       "    </tr>\n",
       "    <tr>\n",
       "      <th>8</th>\n",
       "      <td>2019-08-05</td>\n",
       "      <td>474413</td>\n",
       "      <td>99</td>\n",
       "    </tr>\n",
       "  </tbody>\n",
       "</table>\n",
       "</div>"
      ],
      "text/plain": [
       "        date  revenue  orders\n",
       "0 2019-08-01   142779      23\n",
       "2 2019-08-02   234381      42\n",
       "4 2019-08-03   346854      66\n",
       "6 2019-08-04   388030      77\n",
       "8 2019-08-05   474413      99"
      ]
     },
     "execution_count": 26,
     "metadata": {},
     "output_type": "execute_result"
    }
   ],
   "source": [
    "#выделяем данные по группе А методом query (знаком)\n",
    "cumulative_revenueA = cumulative.query('group == \"A\"')[['date', 'revenue', 'orders']]\n",
    "cumulative_revenueA.head()       "
   ]
  },
  {
   "cell_type": "code",
   "execution_count": 27,
   "metadata": {},
   "outputs": [
    {
     "data": {
      "text/html": [
       "<div>\n",
       "<style scoped>\n",
       "    .dataframe tbody tr th:only-of-type {\n",
       "        vertical-align: middle;\n",
       "    }\n",
       "\n",
       "    .dataframe tbody tr th {\n",
       "        vertical-align: top;\n",
       "    }\n",
       "\n",
       "    .dataframe thead th {\n",
       "        text-align: right;\n",
       "    }\n",
       "</style>\n",
       "<table border=\"1\" class=\"dataframe\">\n",
       "  <thead>\n",
       "    <tr style=\"text-align: right;\">\n",
       "      <th></th>\n",
       "      <th>date</th>\n",
       "      <th>revenue</th>\n",
       "      <th>orders</th>\n",
       "    </tr>\n",
       "  </thead>\n",
       "  <tbody>\n",
       "    <tr>\n",
       "      <th>1</th>\n",
       "      <td>2019-08-01</td>\n",
       "      <td>59758</td>\n",
       "      <td>17</td>\n",
       "    </tr>\n",
       "    <tr>\n",
       "      <th>3</th>\n",
       "      <td>2019-08-02</td>\n",
       "      <td>221801</td>\n",
       "      <td>40</td>\n",
       "    </tr>\n",
       "    <tr>\n",
       "      <th>5</th>\n",
       "      <td>2019-08-03</td>\n",
       "      <td>288850</td>\n",
       "      <td>54</td>\n",
       "    </tr>\n",
       "    <tr>\n",
       "      <th>7</th>\n",
       "      <td>2019-08-04</td>\n",
       "      <td>385740</td>\n",
       "      <td>68</td>\n",
       "    </tr>\n",
       "    <tr>\n",
       "      <th>9</th>\n",
       "      <td>2019-08-05</td>\n",
       "      <td>475648</td>\n",
       "      <td>89</td>\n",
       "    </tr>\n",
       "  </tbody>\n",
       "</table>\n",
       "</div>"
      ],
      "text/plain": [
       "        date  revenue  orders\n",
       "1 2019-08-01    59758      17\n",
       "3 2019-08-02   221801      40\n",
       "5 2019-08-03   288850      54\n",
       "7 2019-08-04   385740      68\n",
       "9 2019-08-05   475648      89"
      ]
     },
     "execution_count": 27,
     "metadata": {},
     "output_type": "execute_result"
    }
   ],
   "source": [
    "#выделяем данные по группе В новым методом из теории\n",
    "cumulative_revenueB = cumulative[cumulative['group'] == 'B'][['date', 'revenue', 'orders']]\n",
    "cumulative_revenueB.head()"
   ]
  },
  {
   "cell_type": "markdown",
   "metadata": {},
   "source": [
    "Построим графики по кумулятивной выручке и по группам"
   ]
  },
  {
   "cell_type": "code",
   "execution_count": 28,
   "metadata": {},
   "outputs": [
    {
     "data": {
      "image/png": "[encoded data removed]",
      "text/plain": [
       "<Figure size 720x360 with 1 Axes>"
      ]
     },
     "metadata": {
      "needs_background": "light"
     },
     "output_type": "display_data"
    }
   ],
   "source": [
    "fig = plt.figure(figsize=(10,5)) #задаем размер фигуры, что бы даты не наслаивались \n",
    "plt.plot(cumulative_revenueA['date'], cumulative_revenueA['revenue'], label='A') #строим график \n",
    "plt.plot(cumulative_revenueB['date'], cumulative_revenueB['revenue'], label='B') #строим график \n",
    "fig.tight_layout() #подгоняем и убираем наслоения на графике \n",
    "plt.title('Кумулятивная выручка по группам')\n",
    "plt.legend();"
   ]
  },
  {
   "cell_type": "markdown",
   "metadata": {},
   "source": [
    "#### Выводы: \n",
    "\n",
    "По графику видно, что кумулятивная выручка растет-это хорошо. \n",
    "Кумулятивная выручка в обеих группах в начале теста не отличалась, однако затем примерно на 5 день  кумулятивная выручка группы В увеличилась.\n",
    "\n",
    "Далее примерно на 14 день кумулятивная выручка по обеим группам уровнялась, а с 14 дня отмечается резкий скачок выручки в группе В и далее группа В лидировала по кумулятвиной выручке до конца теста.\n",
    "\n",
    "Возможно, имели место аномально большие суммы заказаов или большое количество заказаов (то есть аномалии). Посмотрим на график кумулятивного среднего чека."
   ]
  },
  {
   "cell_type": "markdown",
   "metadata": {},
   "source": [
    "### График кумулятивного среднего чека по группам"
   ]
  },
  {
   "cell_type": "markdown",
   "metadata": {},
   "source": [
    "Построим график кумулятивного среднего чека. Для этого кумулятивную сумму разделим на кумулятивное количество заказов:"
   ]
  },
  {
   "cell_type": "code",
   "execution_count": 29,
   "metadata": {},
   "outputs": [
    {
     "data": {
      "image/png": "[encoded data removed]",
      "text/plain": [
       "<Figure size 720x360 with 1 Axes>"
      ]
     },
     "metadata": {
      "needs_background": "light"
     },
     "output_type": "display_data"
    }
   ],
   "source": [
    "#строим графики кумулятивного среднего чека\n",
    "fig = plt.figure(figsize=(10,5)) \n",
    "plt.plot(cumulative_revenueA['date'], cumulative_revenueA['revenue']/cumulative_revenueA['orders'], label='A')\n",
    "plt.plot(cumulative_revenueB['date'], cumulative_revenueB['revenue']/cumulative_revenueB['orders'], label='B')\n",
    "plt.title('Кумулятивный средний чек по группам')\n",
    "fig.tight_layout() \n",
    "plt.legend();"
   ]
  },
  {
   "cell_type": "markdown",
   "metadata": {},
   "source": [
    "#### Выводы:\n",
    "\n",
    "По графику видно, что примерно после 17 августа есть резкий скачек размера кумулятивного среднего чек. В целом, по графику видно, что кумулятивный средний чек пот группам продолжает колебаться.\n",
    "\n",
    "Это так же говорит в пользу аномально больших значений кумулятивной выручки, попавших в группу В и исказивших результаты.\n",
    "\n",
    "\n",
    "Необходим анализ выбросов, которые так исказили результаты. "
   ]
  },
  {
   "cell_type": "markdown",
   "metadata": {},
   "source": [
    "## График относительного изменения кумулятивного среднего чека группы B к группе A"
   ]
  },
  {
   "cell_type": "markdown",
   "metadata": {},
   "source": [
    "Что бы построить график относительного изменения кумулятивного среднего чека - объеденим обе таблицы с данным по  кумулятивной выручке по группе А и по группе В по столбцу date."
   ]
  },
  {
   "cell_type": "code",
   "execution_count": 30,
   "metadata": {
    "scrolled": true
   },
   "outputs": [
    {
     "data": {
      "text/html": [
       "<div>\n",
       "<style scoped>\n",
       "    .dataframe tbody tr th:only-of-type {\n",
       "        vertical-align: middle;\n",
       "    }\n",
       "\n",
       "    .dataframe tbody tr th {\n",
       "        vertical-align: top;\n",
       "    }\n",
       "\n",
       "    .dataframe thead th {\n",
       "        text-align: right;\n",
       "    }\n",
       "</style>\n",
       "<table border=\"1\" class=\"dataframe\">\n",
       "  <thead>\n",
       "    <tr style=\"text-align: right;\">\n",
       "      <th></th>\n",
       "      <th>date</th>\n",
       "      <th>revenue</th>\n",
       "      <th>orders</th>\n",
       "    </tr>\n",
       "  </thead>\n",
       "  <tbody>\n",
       "    <tr>\n",
       "      <th>0</th>\n",
       "      <td>2019-08-01</td>\n",
       "      <td>142779</td>\n",
       "      <td>23</td>\n",
       "    </tr>\n",
       "    <tr>\n",
       "      <th>2</th>\n",
       "      <td>2019-08-02</td>\n",
       "      <td>234381</td>\n",
       "      <td>42</td>\n",
       "    </tr>\n",
       "    <tr>\n",
       "      <th>4</th>\n",
       "      <td>2019-08-03</td>\n",
       "      <td>346854</td>\n",
       "      <td>66</td>\n",
       "    </tr>\n",
       "    <tr>\n",
       "      <th>6</th>\n",
       "      <td>2019-08-04</td>\n",
       "      <td>388030</td>\n",
       "      <td>77</td>\n",
       "    </tr>\n",
       "    <tr>\n",
       "      <th>8</th>\n",
       "      <td>2019-08-05</td>\n",
       "      <td>474413</td>\n",
       "      <td>99</td>\n",
       "    </tr>\n",
       "  </tbody>\n",
       "</table>\n",
       "</div>"
      ],
      "text/plain": [
       "        date  revenue  orders\n",
       "0 2019-08-01   142779      23\n",
       "2 2019-08-02   234381      42\n",
       "4 2019-08-03   346854      66\n",
       "6 2019-08-04   388030      77\n",
       "8 2019-08-05   474413      99"
      ]
     },
     "execution_count": 30,
     "metadata": {},
     "output_type": "execute_result"
    }
   ],
   "source": [
    "cumulative_revenueA.head()"
   ]
  },
  {
   "cell_type": "code",
   "execution_count": 31,
   "metadata": {},
   "outputs": [
    {
     "data": {
      "text/html": [
       "<div>\n",
       "<style scoped>\n",
       "    .dataframe tbody tr th:only-of-type {\n",
       "        vertical-align: middle;\n",
       "    }\n",
       "\n",
       "    .dataframe tbody tr th {\n",
       "        vertical-align: top;\n",
       "    }\n",
       "\n",
       "    .dataframe thead th {\n",
       "        text-align: right;\n",
       "    }\n",
       "</style>\n",
       "<table border=\"1\" class=\"dataframe\">\n",
       "  <thead>\n",
       "    <tr style=\"text-align: right;\">\n",
       "      <th></th>\n",
       "      <th>date</th>\n",
       "      <th>revenue</th>\n",
       "      <th>orders</th>\n",
       "    </tr>\n",
       "  </thead>\n",
       "  <tbody>\n",
       "    <tr>\n",
       "      <th>1</th>\n",
       "      <td>2019-08-01</td>\n",
       "      <td>59758</td>\n",
       "      <td>17</td>\n",
       "    </tr>\n",
       "    <tr>\n",
       "      <th>3</th>\n",
       "      <td>2019-08-02</td>\n",
       "      <td>221801</td>\n",
       "      <td>40</td>\n",
       "    </tr>\n",
       "    <tr>\n",
       "      <th>5</th>\n",
       "      <td>2019-08-03</td>\n",
       "      <td>288850</td>\n",
       "      <td>54</td>\n",
       "    </tr>\n",
       "    <tr>\n",
       "      <th>7</th>\n",
       "      <td>2019-08-04</td>\n",
       "      <td>385740</td>\n",
       "      <td>68</td>\n",
       "    </tr>\n",
       "    <tr>\n",
       "      <th>9</th>\n",
       "      <td>2019-08-05</td>\n",
       "      <td>475648</td>\n",
       "      <td>89</td>\n",
       "    </tr>\n",
       "  </tbody>\n",
       "</table>\n",
       "</div>"
      ],
      "text/plain": [
       "        date  revenue  orders\n",
       "1 2019-08-01    59758      17\n",
       "3 2019-08-02   221801      40\n",
       "5 2019-08-03   288850      54\n",
       "7 2019-08-04   385740      68\n",
       "9 2019-08-05   475648      89"
      ]
     },
     "execution_count": 31,
     "metadata": {},
     "output_type": "execute_result"
    }
   ],
   "source": [
    "cumulative_revenueB.head()"
   ]
  },
  {
   "cell_type": "code",
   "execution_count": 32,
   "metadata": {},
   "outputs": [
    {
     "data": {
      "text/html": [
       "<div>\n",
       "<style scoped>\n",
       "    .dataframe tbody tr th:only-of-type {\n",
       "        vertical-align: middle;\n",
       "    }\n",
       "\n",
       "    .dataframe tbody tr th {\n",
       "        vertical-align: top;\n",
       "    }\n",
       "\n",
       "    .dataframe thead th {\n",
       "        text-align: right;\n",
       "    }\n",
       "</style>\n",
       "<table border=\"1\" class=\"dataframe\">\n",
       "  <thead>\n",
       "    <tr style=\"text-align: right;\">\n",
       "      <th></th>\n",
       "      <th>date</th>\n",
       "      <th>revenueA</th>\n",
       "      <th>ordersA</th>\n",
       "      <th>revenueB</th>\n",
       "      <th>ordersB</th>\n",
       "    </tr>\n",
       "  </thead>\n",
       "  <tbody>\n",
       "    <tr>\n",
       "      <th>0</th>\n",
       "      <td>2019-08-01</td>\n",
       "      <td>142779</td>\n",
       "      <td>23</td>\n",
       "      <td>59758</td>\n",
       "      <td>17</td>\n",
       "    </tr>\n",
       "    <tr>\n",
       "      <th>1</th>\n",
       "      <td>2019-08-02</td>\n",
       "      <td>234381</td>\n",
       "      <td>42</td>\n",
       "      <td>221801</td>\n",
       "      <td>40</td>\n",
       "    </tr>\n",
       "    <tr>\n",
       "      <th>2</th>\n",
       "      <td>2019-08-03</td>\n",
       "      <td>346854</td>\n",
       "      <td>66</td>\n",
       "      <td>288850</td>\n",
       "      <td>54</td>\n",
       "    </tr>\n",
       "    <tr>\n",
       "      <th>3</th>\n",
       "      <td>2019-08-04</td>\n",
       "      <td>388030</td>\n",
       "      <td>77</td>\n",
       "      <td>385740</td>\n",
       "      <td>68</td>\n",
       "    </tr>\n",
       "    <tr>\n",
       "      <th>4</th>\n",
       "      <td>2019-08-05</td>\n",
       "      <td>474413</td>\n",
       "      <td>99</td>\n",
       "      <td>475648</td>\n",
       "      <td>89</td>\n",
       "    </tr>\n",
       "  </tbody>\n",
       "</table>\n",
       "</div>"
      ],
      "text/plain": [
       "        date  revenueA  ordersA  revenueB  ordersB\n",
       "0 2019-08-01    142779       23     59758       17\n",
       "1 2019-08-02    234381       42    221801       40\n",
       "2 2019-08-03    346854       66    288850       54\n",
       "3 2019-08-04    388030       77    385740       68\n",
       "4 2019-08-05    474413       99    475648       89"
      ]
     },
     "execution_count": 32,
     "metadata": {},
     "output_type": "execute_result"
    }
   ],
   "source": [
    "cumulative_revenue = cumulative_revenueA.merge(cumulative_revenueB, \n",
    "                                               left_on='date', \n",
    "                                               right_on='date',\n",
    "                                               how='left', \n",
    "                                               suffixes=['A', 'B'])\n",
    "cumulative_revenue.head()"
   ]
  },
  {
   "cell_type": "markdown",
   "metadata": {},
   "source": [
    "Таким образом, получаем таблицу, в которой указаны:\n",
    "* date-дата \n",
    "* revenueA-кумулятивная выручка по группе А \n",
    "* ordersA-кумулятивное количество заказов по группе А\n",
    "* revenueB-кумулятивная выручка по группе В \n",
    "* ordersB-кумулятивное количество заказаов по группе В\n",
    "    "
   ]
  },
  {
   "cell_type": "code",
   "execution_count": 33,
   "metadata": {},
   "outputs": [
    {
     "data": {
      "image/png": "[encoded data removed]",
      "text/plain": [
       "<Figure size 576x360 with 1 Axes>"
      ]
     },
     "metadata": {
      "needs_background": "light"
     },
     "output_type": "display_data"
    }
   ],
   "source": [
    "#строим график относительного изменение кумулятивного среднего чека группы B к группе A\n",
    "\n",
    "fig = plt.figure(figsize=(8,5)) \n",
    "plt.plot(cumulative_revenue['date'], \n",
    "         (cumulative_revenue['revenueB']/cumulative_revenue['ordersB'])/\n",
    "         (cumulative_revenue['revenueA']/cumulative_revenue['ordersA'])-1)\n",
    "plt.title('Относительное изменение кумулятивного среднего чека группы B к группе A')\n",
    "plt.axhline(y=0, color='black', linestyle='--') #добавляем горизонтальную линию, ось Х\n",
    "fig.tight_layout();"
   ]
  },
  {
   "cell_type": "markdown",
   "metadata": {},
   "source": [
    "#### Вывод: \n",
    "\n",
    "По графику видно, что кумулятивный средний чек резко увеличивается в определенные дни. Вероятнее всего, в эти дни были сделаны крупные заказы. Необходимо проверить данные на аномалии и выбросы."
   ]
  },
  {
   "cell_type": "markdown",
   "metadata": {},
   "source": [
    "## График кумулятивной конверсии по группам\n"
   ]
  },
  {
   "cell_type": "markdown",
   "metadata": {},
   "source": [
    "Построим график кумулятивной конверсии по группам. Для этого разделим количество заказов на количество посетителей."
   ]
  },
  {
   "cell_type": "code",
   "execution_count": 34,
   "metadata": {
    "scrolled": true
   },
   "outputs": [
    {
     "data": {
      "text/html": [
       "<div>\n",
       "<style scoped>\n",
       "    .dataframe tbody tr th:only-of-type {\n",
       "        vertical-align: middle;\n",
       "    }\n",
       "\n",
       "    .dataframe tbody tr th {\n",
       "        vertical-align: top;\n",
       "    }\n",
       "\n",
       "    .dataframe thead th {\n",
       "        text-align: right;\n",
       "    }\n",
       "</style>\n",
       "<table border=\"1\" class=\"dataframe\">\n",
       "  <thead>\n",
       "    <tr style=\"text-align: right;\">\n",
       "      <th></th>\n",
       "      <th>date</th>\n",
       "      <th>group</th>\n",
       "      <th>orders</th>\n",
       "      <th>buyers</th>\n",
       "      <th>revenue</th>\n",
       "      <th>visitors</th>\n",
       "      <th>conversion</th>\n",
       "    </tr>\n",
       "  </thead>\n",
       "  <tbody>\n",
       "    <tr>\n",
       "      <th>0</th>\n",
       "      <td>2019-08-01</td>\n",
       "      <td>A</td>\n",
       "      <td>23</td>\n",
       "      <td>19</td>\n",
       "      <td>142779</td>\n",
       "      <td>719</td>\n",
       "      <td>0.031989</td>\n",
       "    </tr>\n",
       "    <tr>\n",
       "      <th>1</th>\n",
       "      <td>2019-08-01</td>\n",
       "      <td>B</td>\n",
       "      <td>17</td>\n",
       "      <td>17</td>\n",
       "      <td>59758</td>\n",
       "      <td>713</td>\n",
       "      <td>0.023843</td>\n",
       "    </tr>\n",
       "    <tr>\n",
       "      <th>2</th>\n",
       "      <td>2019-08-02</td>\n",
       "      <td>A</td>\n",
       "      <td>42</td>\n",
       "      <td>36</td>\n",
       "      <td>234381</td>\n",
       "      <td>1338</td>\n",
       "      <td>0.031390</td>\n",
       "    </tr>\n",
       "    <tr>\n",
       "      <th>3</th>\n",
       "      <td>2019-08-02</td>\n",
       "      <td>B</td>\n",
       "      <td>40</td>\n",
       "      <td>39</td>\n",
       "      <td>221801</td>\n",
       "      <td>1294</td>\n",
       "      <td>0.030912</td>\n",
       "    </tr>\n",
       "    <tr>\n",
       "      <th>4</th>\n",
       "      <td>2019-08-03</td>\n",
       "      <td>A</td>\n",
       "      <td>66</td>\n",
       "      <td>60</td>\n",
       "      <td>346854</td>\n",
       "      <td>1845</td>\n",
       "      <td>0.035772</td>\n",
       "    </tr>\n",
       "  </tbody>\n",
       "</table>\n",
       "</div>"
      ],
      "text/plain": [
       "        date group  orders  buyers  revenue  visitors  conversion\n",
       "0 2019-08-01     A      23      19   142779       719    0.031989\n",
       "1 2019-08-01     B      17      17    59758       713    0.023843\n",
       "2 2019-08-02     A      42      36   234381      1338    0.031390\n",
       "3 2019-08-02     B      40      39   221801      1294    0.030912\n",
       "4 2019-08-03     A      66      60   346854      1845    0.035772"
      ]
     },
     "execution_count": 34,
     "metadata": {},
     "output_type": "execute_result"
    }
   ],
   "source": [
    "cumulative['conversion'] = cumulative['orders']/cumulative['visitors']\n",
    "cumulative.head()"
   ]
  },
  {
   "cell_type": "markdown",
   "metadata": {},
   "source": [
    "Расчет кумулятивной конверсии произведен. Далее сохраним данные по каждой группе в отлельную переменную, для построения графика по каждой группе"
   ]
  },
  {
   "cell_type": "code",
   "execution_count": 35,
   "metadata": {},
   "outputs": [],
   "source": [
    "# кумулятивная конверсия по группе A\n",
    "cumulative_conversionA = cumulative[cumulative['group']=='A']\n",
    "\n",
    "# кумулятивная конверсия по группе B\n",
    "cumulative_conversionB = cumulative[cumulative['group']=='B']"
   ]
  },
  {
   "cell_type": "markdown",
   "metadata": {},
   "source": [
    "Получим минимальную и максимальную даты, что бы передать необходимый интервал по оси х:"
   ]
  },
  {
   "cell_type": "code",
   "execution_count": 36,
   "metadata": {},
   "outputs": [
    {
     "data": {
      "text/plain": [
       "Timestamp('2019-08-01 00:00:00')"
      ]
     },
     "metadata": {},
     "output_type": "display_data"
    },
    {
     "data": {
      "text/plain": [
       "Timestamp('2019-08-31 00:00:00')"
      ]
     },
     "execution_count": 36,
     "metadata": {},
     "output_type": "execute_result"
    }
   ],
   "source": [
    "display(orders['date'].min())\n",
    "orders['date'].max()"
   ]
  },
  {
   "cell_type": "code",
   "execution_count": 37,
   "metadata": {
    "scrolled": true
   },
   "outputs": [
    {
     "data": {
      "text/plain": [
       "Timestamp('2019-08-01 00:00:00')"
      ]
     },
     "metadata": {},
     "output_type": "display_data"
    },
    {
     "data": {
      "text/plain": [
       "Timestamp('2019-08-31 00:00:00')"
      ]
     },
     "execution_count": 37,
     "metadata": {},
     "output_type": "execute_result"
    }
   ],
   "source": [
    "display(visitors['date'].min())\n",
    "visitors['date'].max()"
   ]
  },
  {
   "cell_type": "markdown",
   "metadata": {},
   "source": [
    "Таким образом, необходимый интервал с 01.08.2019 по 31.08.2019"
   ]
  },
  {
   "cell_type": "markdown",
   "metadata": {},
   "source": [
    "Построим график по кумулятивной конверсии группю Отметим, что будем задавать масштаб осей х и у самостоятельно."
   ]
  },
  {
   "cell_type": "code",
   "execution_count": 38,
   "metadata": {},
   "outputs": [
    {
     "data": {
      "image/png": "[encoded data removed]",
      "text/plain": [
       "<Figure size 576x360 with 1 Axes>"
      ]
     },
     "metadata": {
      "needs_background": "light"
     },
     "output_type": "display_data"
    }
   ],
   "source": [
    "fig = plt.figure(figsize=(8,5)) \n",
    "\n",
    "plt.plot(cumulative_conversionA['date'], cumulative_conversionA['conversion'], label='A')\n",
    "plt.plot(cumulative_conversionB['date'], cumulative_conversionB['conversion'], label='B')\n",
    "plt.title('Кумулятивная конверсия по группам')\n",
    "fig.tight_layout()\n",
    "plt.axis([dt.datetime(2019, 8, 1), dt.datetime(2019, 8, 31), 0, 0.05]) #задаем масштаб осей \n",
    "plt.legend();"
   ]
  },
  {
   "cell_type": "markdown",
   "metadata": {},
   "source": [
    "#### Выводы:\n",
    "\n",
    "\n",
    "По графику видно, что в начале теста у группы А конверсия была больше конверсии группы В, но затем конверсия группы А упала и зафиксировалась, (примерно 4-5 августа), а конверсия группы В  возросла и зафиксировалась.\n",
    "\n",
    "Возможно, в группе В есть аномально большие заказы или очень большие заказы(по количеству)."
   ]
  },
  {
   "cell_type": "markdown",
   "metadata": {},
   "source": [
    "## График относительного изменения кумулятивной конверсии группы B к группе A"
   ]
  },
  {
   "cell_type": "markdown",
   "metadata": {},
   "source": [
    "Соеденим таблицы с кумулятивной конверсией, что бы построить график относительной конвесрии по группам."
   ]
  },
  {
   "cell_type": "code",
   "execution_count": 39,
   "metadata": {},
   "outputs": [
    {
     "data": {
      "text/html": [
       "<div>\n",
       "<style scoped>\n",
       "    .dataframe tbody tr th:only-of-type {\n",
       "        vertical-align: middle;\n",
       "    }\n",
       "\n",
       "    .dataframe tbody tr th {\n",
       "        vertical-align: top;\n",
       "    }\n",
       "\n",
       "    .dataframe thead th {\n",
       "        text-align: right;\n",
       "    }\n",
       "</style>\n",
       "<table border=\"1\" class=\"dataframe\">\n",
       "  <thead>\n",
       "    <tr style=\"text-align: right;\">\n",
       "      <th></th>\n",
       "      <th>date</th>\n",
       "      <th>conversionA</th>\n",
       "      <th>conversionB</th>\n",
       "    </tr>\n",
       "  </thead>\n",
       "  <tbody>\n",
       "    <tr>\n",
       "      <th>0</th>\n",
       "      <td>2019-08-01</td>\n",
       "      <td>0.031989</td>\n",
       "      <td>0.023843</td>\n",
       "    </tr>\n",
       "    <tr>\n",
       "      <th>1</th>\n",
       "      <td>2019-08-02</td>\n",
       "      <td>0.031390</td>\n",
       "      <td>0.030912</td>\n",
       "    </tr>\n",
       "    <tr>\n",
       "      <th>2</th>\n",
       "      <td>2019-08-03</td>\n",
       "      <td>0.035772</td>\n",
       "      <td>0.029950</td>\n",
       "    </tr>\n",
       "    <tr>\n",
       "      <th>3</th>\n",
       "      <td>2019-08-04</td>\n",
       "      <td>0.030055</td>\n",
       "      <td>0.026428</td>\n",
       "    </tr>\n",
       "    <tr>\n",
       "      <th>4</th>\n",
       "      <td>2019-08-05</td>\n",
       "      <td>0.029837</td>\n",
       "      <td>0.027134</td>\n",
       "    </tr>\n",
       "  </tbody>\n",
       "</table>\n",
       "</div>"
      ],
      "text/plain": [
       "        date  conversionA  conversionB\n",
       "0 2019-08-01     0.031989     0.023843\n",
       "1 2019-08-02     0.031390     0.030912\n",
       "2 2019-08-03     0.035772     0.029950\n",
       "3 2019-08-04     0.030055     0.026428\n",
       "4 2019-08-05     0.029837     0.027134"
      ]
     },
     "execution_count": 39,
     "metadata": {},
     "output_type": "execute_result"
    }
   ],
   "source": [
    "cumulative_conversion = (cumulative_conversionA[['date','conversion']]\n",
    "    .merge(cumulative_conversionB[['date','conversion']], \n",
    "           left_on='date', \n",
    "           right_on='date', \n",
    "           how='left',  \n",
    "           suffixes=['A', 'B']))\n",
    "\n",
    "cumulative_conversion.head()"
   ]
  },
  {
   "cell_type": "code",
   "execution_count": 40,
   "metadata": {},
   "outputs": [
    {
     "data": {
      "image/png": "[encoded data removed]",
      "text/plain": [
       "<Figure size 576x360 with 1 Axes>"
      ]
     },
     "metadata": {
      "needs_background": "light"
     },
     "output_type": "display_data"
    }
   ],
   "source": [
    "fig = plt.figure(figsize=(8,5)) \n",
    "\n",
    "plt.plot(cumulative_conversion['date'], cumulative_conversion['conversionB']/cumulative_conversion['conversionA']-1)\n",
    "plt.axhline(y=0, color='black', linestyle='--')\n",
    "plt.axhline(y=0.2, color='grey', linestyle='--')\n",
    "plt.title('Относительный прирост конверсии группы B относительно группы A')\n",
    "fig.tight_layout()\n",
    "plt.axis([dt.datetime(2019, 8, 1), dt.datetime(2019, 8, 31), -0.5, 0.5]);\n"
   ]
  },
  {
   "cell_type": "markdown",
   "metadata": {},
   "source": [
    "#### Выводы:\n",
    "\n",
    "По графику видно, что:\n",
    "* в начале теста группа В проигрывала группе А\n",
    "* затем группа В вырвалась вперед и ее конверсия росла\n",
    "* в середине теста конверсия группы В снижается и до конца теста фиксируется на одном уровне (примерно 10 %)\n",
    "\n",
    "В целом отношение конверсии ещё не установилось (в конце заметен небольшой рост), поэтому делать выводы по тесту нельзя. Сначала проанализируем аномалии,т.к. возможно, они изменят картину."
   ]
  },
  {
   "cell_type": "markdown",
   "metadata": {},
   "source": [
    "## Гистограмма количества заказов"
   ]
  },
  {
   "cell_type": "code",
   "execution_count": 41,
   "metadata": {},
   "outputs": [
    {
     "data": {
      "text/html": [
       "<div>\n",
       "<style scoped>\n",
       "    .dataframe tbody tr th:only-of-type {\n",
       "        vertical-align: middle;\n",
       "    }\n",
       "\n",
       "    .dataframe tbody tr th {\n",
       "        vertical-align: top;\n",
       "    }\n",
       "\n",
       "    .dataframe thead th {\n",
       "        text-align: right;\n",
       "    }\n",
       "</style>\n",
       "<table border=\"1\" class=\"dataframe\">\n",
       "  <thead>\n",
       "    <tr style=\"text-align: right;\">\n",
       "      <th></th>\n",
       "      <th>visitorId</th>\n",
       "      <th>transactionId</th>\n",
       "    </tr>\n",
       "  </thead>\n",
       "  <tbody>\n",
       "    <tr>\n",
       "      <th>908</th>\n",
       "      <td>3967698036</td>\n",
       "      <td>3</td>\n",
       "    </tr>\n",
       "    <tr>\n",
       "      <th>55</th>\n",
       "      <td>249864742</td>\n",
       "      <td>3</td>\n",
       "    </tr>\n",
       "    <tr>\n",
       "      <th>478</th>\n",
       "      <td>2108163459</td>\n",
       "      <td>3</td>\n",
       "    </tr>\n",
       "    <tr>\n",
       "      <th>687</th>\n",
       "      <td>2988190573</td>\n",
       "      <td>3</td>\n",
       "    </tr>\n",
       "    <tr>\n",
       "      <th>890</th>\n",
       "      <td>3908431265</td>\n",
       "      <td>3</td>\n",
       "    </tr>\n",
       "    <tr>\n",
       "      <th>138</th>\n",
       "      <td>611059232</td>\n",
       "      <td>3</td>\n",
       "    </tr>\n",
       "    <tr>\n",
       "      <th>632</th>\n",
       "      <td>2742574263</td>\n",
       "      <td>3</td>\n",
       "    </tr>\n",
       "    <tr>\n",
       "      <th>157</th>\n",
       "      <td>678354126</td>\n",
       "      <td>2</td>\n",
       "    </tr>\n",
       "    <tr>\n",
       "      <th>323</th>\n",
       "      <td>1404560065</td>\n",
       "      <td>2</td>\n",
       "    </tr>\n",
       "    <tr>\n",
       "      <th>452</th>\n",
       "      <td>1985475298</td>\n",
       "      <td>2</td>\n",
       "    </tr>\n",
       "  </tbody>\n",
       "</table>\n",
       "</div>"
      ],
      "text/plain": [
       "      visitorId  transactionId\n",
       "908  3967698036              3\n",
       "55    249864742              3\n",
       "478  2108163459              3\n",
       "687  2988190573              3\n",
       "890  3908431265              3\n",
       "138   611059232              3\n",
       "632  2742574263              3\n",
       "157   678354126              2\n",
       "323  1404560065              2\n",
       "452  1985475298              2"
      ]
     },
     "execution_count": 41,
     "metadata": {},
     "output_type": "execute_result"
    }
   ],
   "source": [
    "orders_count = (\n",
    "    orders\n",
    "    .groupby('visitorId', as_index=False)\n",
    "    .agg({'transactionId': 'nunique'})\n",
    "    .sort_values(by='transactionId', ascending=False))\n",
    "orders_count.head(10)"
   ]
  },
  {
   "cell_type": "markdown",
   "metadata": {},
   "source": [
    "По таблице видно, что у есть количество заказов -11, если они попадут в группу к заказам 1-2, то это скажется на результате. Построим гистрограмму, что бы оценить - какое количество заказов встречается чаще всего."
   ]
  },
  {
   "cell_type": "code",
   "execution_count": 42,
   "metadata": {},
   "outputs": [
    {
     "data": {
      "image/png": "[encoded data removed]",
      "text/plain": [
       "<Figure size 432x288 with 1 Axes>"
      ]
     },
     "metadata": {
      "needs_background": "light"
     },
     "output_type": "display_data"
    }
   ],
   "source": [
    "plt.hist(orders_count['transactionId'])\n",
    "plt.title('Распределение количества заказов');"
   ]
  },
  {
   "cell_type": "markdown",
   "metadata": {},
   "source": [
    "#### Выводы:\n",
    "\n",
    "По графику видно, что чаще всего количество заказов - 1, так же встречается количество заказов: 2 и 3. \n",
    "\n",
    "Построим точечный график количества заказов."
   ]
  },
  {
   "cell_type": "markdown",
   "metadata": {},
   "source": [
    "## Точечный график количества заказов по пользователям"
   ]
  },
  {
   "cell_type": "code",
   "execution_count": 43,
   "metadata": {},
   "outputs": [
    {
     "data": {
      "image/png": "[encoded data removed]",
      "text/plain": [
       "<Figure size 432x288 with 1 Axes>"
      ]
     },
     "metadata": {
      "needs_background": "light"
     },
     "output_type": "display_data"
    }
   ],
   "source": [
    "#создаем значения по оси x, количество значений на графике = количеству значений в столбце \n",
    "x_values = pd.Series(range(0,len(orders_count['transactionId'])))\n",
    "plt.scatter(x_values, orders_count['transactionId'])\n",
    "plt.title('Распределение количества заказов');"
   ]
  },
  {
   "cell_type": "markdown",
   "metadata": {},
   "source": [
    "#### Выводы:\n",
    "\n",
    "Наиболее частое количество заказов - 1.Как мы и предполагали ранее, есть количество заказов и большое 2 и 3.\n",
    "Расчитаем 90, 95 и 99 перцентили количества заказов. "
   ]
  },
  {
   "cell_type": "markdown",
   "metadata": {},
   "source": [
    "## Перцентили количества заказов на пользователя"
   ]
  },
  {
   "cell_type": "markdown",
   "metadata": {},
   "source": [
    "Расчитаем 90, 95-й и 99-й перцентили количества заказов на пользователя и выберемем границу для определения аномальных пользователей."
   ]
  },
  {
   "cell_type": "code",
   "execution_count": 44,
   "metadata": {},
   "outputs": [
    {
     "data": {
      "text/plain": [
       "'90 Перцентиль количества заказов:[1.]'"
      ]
     },
     "metadata": {},
     "output_type": "display_data"
    },
    {
     "data": {
      "text/plain": [
       "'95 Перцентиль количества заказов:[1.]'"
      ]
     },
     "metadata": {},
     "output_type": "display_data"
    },
    {
     "data": {
      "text/plain": [
       "'99 Перцентиль количества заказов:[2.]'"
      ]
     },
     "metadata": {},
     "output_type": "display_data"
    }
   ],
   "source": [
    "#расчитываем 90,95, 99 перцентили\n",
    "percent_order90 = np.percentile(orders_count['transactionId'], [90]) \n",
    "percent_order95 = np.percentile(orders_count['transactionId'], [95]) \n",
    "percent_order99 = np.percentile(orders_count['transactionId'], [99]) \n",
    "\n",
    "display(f'90 Перцентиль количества заказов:{percent_order90}')\n",
    "display(f'95 Перцентиль количества заказов:{percent_order95}')\n",
    "display(f'99 Перцентиль количества заказов:{percent_order99}')"
   ]
  },
  {
   "cell_type": "markdown",
   "metadata": {},
   "source": [
    "#### Выводы:\n",
    "\n",
    "Мы выяснили, что:\n",
    "* у 90 % пользователей - количество заказов 1, \n",
    "* у 95 % пользователей - количество заказов 1,\n",
    "* у 99% пользователей - количество заказов 2\n",
    "\n",
    "Таким образом, количество заказов более 1 - будем считать выбросами."
   ]
  },
  {
   "cell_type": "markdown",
   "metadata": {},
   "source": [
    "## Гистограмма выручки"
   ]
  },
  {
   "cell_type": "code",
   "execution_count": 45,
   "metadata": {
    "scrolled": false
   },
   "outputs": [
    {
     "data": {
      "text/html": [
       "<div>\n",
       "<style scoped>\n",
       "    .dataframe tbody tr th:only-of-type {\n",
       "        vertical-align: middle;\n",
       "    }\n",
       "\n",
       "    .dataframe tbody tr th {\n",
       "        vertical-align: top;\n",
       "    }\n",
       "\n",
       "    .dataframe thead th {\n",
       "        text-align: right;\n",
       "    }\n",
       "</style>\n",
       "<table border=\"1\" class=\"dataframe\">\n",
       "  <thead>\n",
       "    <tr style=\"text-align: right;\">\n",
       "      <th></th>\n",
       "      <th>transactionId</th>\n",
       "      <th>visitorId</th>\n",
       "      <th>date</th>\n",
       "      <th>revenue</th>\n",
       "      <th>group</th>\n",
       "    </tr>\n",
       "  </thead>\n",
       "  <tbody>\n",
       "    <tr>\n",
       "      <th>8</th>\n",
       "      <td>1576988021</td>\n",
       "      <td>295230930</td>\n",
       "      <td>2019-08-15</td>\n",
       "      <td>13710</td>\n",
       "      <td>A</td>\n",
       "    </tr>\n",
       "    <tr>\n",
       "      <th>3</th>\n",
       "      <td>3797467345</td>\n",
       "      <td>1196621759</td>\n",
       "      <td>2019-08-15</td>\n",
       "      <td>9759</td>\n",
       "      <td>B</td>\n",
       "    </tr>\n",
       "    <tr>\n",
       "      <th>10</th>\n",
       "      <td>3649131742</td>\n",
       "      <td>879864040</td>\n",
       "      <td>2019-08-15</td>\n",
       "      <td>4008</td>\n",
       "      <td>A</td>\n",
       "    </tr>\n",
       "    <tr>\n",
       "      <th>4</th>\n",
       "      <td>2282983706</td>\n",
       "      <td>2322279887</td>\n",
       "      <td>2019-08-15</td>\n",
       "      <td>2308</td>\n",
       "      <td>B</td>\n",
       "    </tr>\n",
       "    <tr>\n",
       "      <th>5</th>\n",
       "      <td>182168103</td>\n",
       "      <td>935554773</td>\n",
       "      <td>2019-08-15</td>\n",
       "      <td>2210</td>\n",
       "      <td>B</td>\n",
       "    </tr>\n",
       "    <tr>\n",
       "      <th>6</th>\n",
       "      <td>398296753</td>\n",
       "      <td>2900797465</td>\n",
       "      <td>2019-08-15</td>\n",
       "      <td>1860</td>\n",
       "      <td>B</td>\n",
       "    </tr>\n",
       "    <tr>\n",
       "      <th>9</th>\n",
       "      <td>1506739906</td>\n",
       "      <td>1882260405</td>\n",
       "      <td>2019-08-15</td>\n",
       "      <td>1855</td>\n",
       "      <td>B</td>\n",
       "    </tr>\n",
       "    <tr>\n",
       "      <th>0</th>\n",
       "      <td>3667963787</td>\n",
       "      <td>3312258926</td>\n",
       "      <td>2019-08-15</td>\n",
       "      <td>1650</td>\n",
       "      <td>B</td>\n",
       "    </tr>\n",
       "    <tr>\n",
       "      <th>7</th>\n",
       "      <td>2626614568</td>\n",
       "      <td>78758296</td>\n",
       "      <td>2019-08-15</td>\n",
       "      <td>1044</td>\n",
       "      <td>A</td>\n",
       "    </tr>\n",
       "    <tr>\n",
       "      <th>1</th>\n",
       "      <td>2804400009</td>\n",
       "      <td>3642806036</td>\n",
       "      <td>2019-08-15</td>\n",
       "      <td>730</td>\n",
       "      <td>B</td>\n",
       "    </tr>\n",
       "  </tbody>\n",
       "</table>\n",
       "</div>"
      ],
      "text/plain": [
       "    transactionId   visitorId       date  revenue group\n",
       "8      1576988021   295230930 2019-08-15    13710     A\n",
       "3      3797467345  1196621759 2019-08-15     9759     B\n",
       "10     3649131742   879864040 2019-08-15     4008     A\n",
       "4      2282983706  2322279887 2019-08-15     2308     B\n",
       "5       182168103   935554773 2019-08-15     2210     B\n",
       "6       398296753  2900797465 2019-08-15     1860     B\n",
       "9      1506739906  1882260405 2019-08-15     1855     B\n",
       "0      3667963787  3312258926 2019-08-15     1650     B\n",
       "7      2626614568    78758296 2019-08-15     1044     A\n",
       "1      2804400009  3642806036 2019-08-15      730     B"
      ]
     },
     "execution_count": 45,
     "metadata": {},
     "output_type": "execute_result"
    }
   ],
   "source": [
    "orders.head(10).sort_values(by='revenue', ascending=False) #сортируем выручку в порядке возрастания"
   ]
  },
  {
   "cell_type": "markdown",
   "metadata": {},
   "source": [
    "Среди первых 10 строк цены заказов находятся в диапазоне от 400 до 4008 рублей. Кроме двух заказов, сумма которых составила целых 13710 и 9759 рубля!\n",
    "\n",
    "Если такие дорогие заказы попадут в одну из групп теста, эти заказы сразу же исказят результаты и сделают победителем ту группу, где оказались. \n",
    "\n",
    "При этом такие покупки — редкость, исключение, которое проявилось не из-за тестирования гипотезы, а случайно.\n",
    "Такие аномально дорогие заказы следует удалять из теста. \n",
    "\n",
    "Изучим гистограмму распределения стоимостей заказов:\n"
   ]
  },
  {
   "cell_type": "code",
   "execution_count": 46,
   "metadata": {},
   "outputs": [
    {
     "data": {
      "image/png": "[encoded data removed]",
      "text/plain": [
       "<Figure size 432x288 with 1 Axes>"
      ]
     },
     "metadata": {
      "needs_background": "light"
     },
     "output_type": "display_data"
    }
   ],
   "source": [
    "plt.hist(orders['revenue'])\n",
    "plt.title('Распределние стоимости заказов');"
   ]
  },
  {
   "cell_type": "markdown",
   "metadata": {},
   "source": [
    "#### Выводы: \n",
    "\n",
    "По графику видно, что стоимость большинства заказов - до 100.000 руб.\n",
    "Посмотрим на стоимость заказов на точнечном графике."
   ]
  },
  {
   "cell_type": "markdown",
   "metadata": {},
   "source": [
    "## Точечный график стоимостей заказов"
   ]
  },
  {
   "cell_type": "code",
   "execution_count": 47,
   "metadata": {},
   "outputs": [
    {
     "data": {
      "image/png": "[encoded data removed]",
      "text/plain": [
       "<Figure size 432x288 with 1 Axes>"
      ]
     },
     "metadata": {
      "needs_background": "light"
     },
     "output_type": "display_data"
    }
   ],
   "source": [
    "x_values = pd.Series(range(0,len(orders['revenue'])))\n",
    "plt.scatter(x_values, orders['revenue']) \n",
    "plt.title('Распределние стоимости заказов');"
   ]
  },
  {
   "cell_type": "markdown",
   "metadata": {},
   "source": [
    "#### Выводы:\n",
    "\n",
    "По графику видно, что стоимость заказов чаще всего до 50.000 тыс. Однако есть заказы с аномльно большой стоимостью-около 200 тыс руб и больше 1 млн руб.\n",
    "\n",
    "Вычислим 90,95 и 99 перцентили заказов, что бы отбросить все аномальные значения."
   ]
  },
  {
   "cell_type": "markdown",
   "metadata": {},
   "source": [
    "## Перцентили стоимости заказов"
   ]
  },
  {
   "cell_type": "markdown",
   "metadata": {},
   "source": [
    "Расчитаем 90, 95-й и 99-й перцентили стоимости заказов, что бы выбрать границу для определения аномальных заказов."
   ]
  },
  {
   "cell_type": "code",
   "execution_count": 48,
   "metadata": {},
   "outputs": [
    {
     "data": {
      "text/plain": [
       "'90 Перцентиль количества заказов:[17990.]'"
      ]
     },
     "metadata": {},
     "output_type": "display_data"
    },
    {
     "data": {
      "text/plain": [
       "'95 Перцентиль количества заказов:[26785.]'"
      ]
     },
     "metadata": {},
     "output_type": "display_data"
    },
    {
     "data": {
      "text/plain": [
       "'99 Перцентиль количества заказов:[53904.]'"
      ]
     },
     "metadata": {},
     "output_type": "display_data"
    }
   ],
   "source": [
    "#расчитываем 90,95, 99 перцентили\n",
    "percent_reven90 = np.percentile(orders['revenue'], [90]) \n",
    "percent_reven95 = np.percentile(orders['revenue'], [95]) \n",
    "percent_reven99 = np.percentile(orders['revenue'], [99]) \n",
    "\n",
    "display(f'90 Перцентиль количества заказов:{percent_reven90}')\n",
    "display(f'95 Перцентиль количества заказов:{percent_reven95}')\n",
    "display(f'99 Перцентиль количества заказов:{percent_reven99}')"
   ]
  },
  {
   "cell_type": "markdown",
   "metadata": {},
   "source": [
    "#### Выводы:\n",
    "\n",
    "Мы выяснили, что:\n",
    "* у 90 % пользователей - стоимость заказов до 17.990 тыс, \n",
    "* у 95 % пользователей - стоимость заказов до 26.785 тыс,\n",
    "* у 99% пользователей - стоимость заказов до 53.904 тыс.\n",
    "\n",
    "Таким образом, стоимость заказов более 26.785 тыс - будем считать выбросами."
   ]
  },
  {
   "cell_type": "markdown",
   "metadata": {},
   "source": [
    "## Статистическая значимость различий в конверсии между группами по «сырым» данным"
   ]
  },
  {
   "cell_type": "markdown",
   "metadata": {},
   "source": [
    "Расчитаем статистическую значимость различия в кноверсии между группами А и В по \"сырым\" данным (то есть без удаления аномальных значений). \n",
    "\n",
    "Сформулируем гипотезу:\n",
    "* нулевая гипотеза: различий в конверсии между группами А и В нет\n",
    "* альтернативная гипотеза: различия в конверсии между группами А и В есть"
   ]
  },
  {
   "cell_type": "code",
   "execution_count": 49,
   "metadata": {
    "scrolled": false
   },
   "outputs": [
    {
     "data": {
      "text/html": [
       "<div>\n",
       "<style scoped>\n",
       "    .dataframe tbody tr th:only-of-type {\n",
       "        vertical-align: middle;\n",
       "    }\n",
       "\n",
       "    .dataframe tbody tr th {\n",
       "        vertical-align: top;\n",
       "    }\n",
       "\n",
       "    .dataframe thead th {\n",
       "        text-align: right;\n",
       "    }\n",
       "</style>\n",
       "<table border=\"1\" class=\"dataframe\">\n",
       "  <thead>\n",
       "    <tr style=\"text-align: right;\">\n",
       "      <th></th>\n",
       "      <th>date</th>\n",
       "      <th>group</th>\n",
       "      <th>visitors</th>\n",
       "    </tr>\n",
       "  </thead>\n",
       "  <tbody>\n",
       "    <tr>\n",
       "      <th>0</th>\n",
       "      <td>2019-08-01</td>\n",
       "      <td>A</td>\n",
       "      <td>719</td>\n",
       "    </tr>\n",
       "    <tr>\n",
       "      <th>1</th>\n",
       "      <td>2019-08-02</td>\n",
       "      <td>A</td>\n",
       "      <td>619</td>\n",
       "    </tr>\n",
       "    <tr>\n",
       "      <th>2</th>\n",
       "      <td>2019-08-03</td>\n",
       "      <td>A</td>\n",
       "      <td>507</td>\n",
       "    </tr>\n",
       "    <tr>\n",
       "      <th>3</th>\n",
       "      <td>2019-08-04</td>\n",
       "      <td>A</td>\n",
       "      <td>717</td>\n",
       "    </tr>\n",
       "    <tr>\n",
       "      <th>4</th>\n",
       "      <td>2019-08-05</td>\n",
       "      <td>A</td>\n",
       "      <td>756</td>\n",
       "    </tr>\n",
       "  </tbody>\n",
       "</table>\n",
       "</div>"
      ],
      "text/plain": [
       "        date group  visitors\n",
       "0 2019-08-01     A       719\n",
       "1 2019-08-02     A       619\n",
       "2 2019-08-03     A       507\n",
       "3 2019-08-04     A       717\n",
       "4 2019-08-05     A       756"
      ]
     },
     "execution_count": 49,
     "metadata": {},
     "output_type": "execute_result"
    }
   ],
   "source": [
    "visitors.head()"
   ]
  },
  {
   "cell_type": "markdown",
   "metadata": {},
   "source": [
    "Выделим количество посетителей группы А по дням и сохраним в отдельной переменной:"
   ]
  },
  {
   "cell_type": "code",
   "execution_count": 50,
   "metadata": {
    "scrolled": false
   },
   "outputs": [
    {
     "data": {
      "text/html": [
       "<div>\n",
       "<style scoped>\n",
       "    .dataframe tbody tr th:only-of-type {\n",
       "        vertical-align: middle;\n",
       "    }\n",
       "\n",
       "    .dataframe tbody tr th {\n",
       "        vertical-align: top;\n",
       "    }\n",
       "\n",
       "    .dataframe thead th {\n",
       "        text-align: right;\n",
       "    }\n",
       "</style>\n",
       "<table border=\"1\" class=\"dataframe\">\n",
       "  <thead>\n",
       "    <tr style=\"text-align: right;\">\n",
       "      <th></th>\n",
       "      <th>date</th>\n",
       "      <th>visitors_per_dateA</th>\n",
       "    </tr>\n",
       "  </thead>\n",
       "  <tbody>\n",
       "    <tr>\n",
       "      <th>0</th>\n",
       "      <td>2019-08-01</td>\n",
       "      <td>719</td>\n",
       "    </tr>\n",
       "    <tr>\n",
       "      <th>1</th>\n",
       "      <td>2019-08-02</td>\n",
       "      <td>619</td>\n",
       "    </tr>\n",
       "    <tr>\n",
       "      <th>2</th>\n",
       "      <td>2019-08-03</td>\n",
       "      <td>507</td>\n",
       "    </tr>\n",
       "    <tr>\n",
       "      <th>3</th>\n",
       "      <td>2019-08-04</td>\n",
       "      <td>717</td>\n",
       "    </tr>\n",
       "    <tr>\n",
       "      <th>4</th>\n",
       "      <td>2019-08-05</td>\n",
       "      <td>756</td>\n",
       "    </tr>\n",
       "  </tbody>\n",
       "</table>\n",
       "</div>"
      ],
      "text/plain": [
       "        date  visitors_per_dateA\n",
       "0 2019-08-01                 719\n",
       "1 2019-08-02                 619\n",
       "2 2019-08-03                 507\n",
       "3 2019-08-04                 717\n",
       "4 2019-08-05                 756"
      ]
     },
     "execution_count": 50,
     "metadata": {},
     "output_type": "execute_result"
    }
   ],
   "source": [
    "#сохраняем количество посетителей за день для группы А\n",
    "visitors_dailyA = visitors[visitors['group'] == 'A'][['date', 'visitors']]\n",
    "visitors_dailyA.columns = ['date', 'visitors_per_dateA']\n",
    "visitors_dailyA.head()"
   ]
  },
  {
   "cell_type": "markdown",
   "metadata": {},
   "source": [
    "Расчитаем кумулятивное количество посетителей по дням для группы А и сохраним в новой переменной:"
   ]
  },
  {
   "cell_type": "code",
   "execution_count": 51,
   "metadata": {
    "scrolled": true
   },
   "outputs": [
    {
     "data": {
      "text/html": [
       "<div>\n",
       "<style scoped>\n",
       "    .dataframe tbody tr th:only-of-type {\n",
       "        vertical-align: middle;\n",
       "    }\n",
       "\n",
       "    .dataframe tbody tr th {\n",
       "        vertical-align: top;\n",
       "    }\n",
       "\n",
       "    .dataframe thead th {\n",
       "        text-align: right;\n",
       "    }\n",
       "</style>\n",
       "<table border=\"1\" class=\"dataframe\">\n",
       "  <thead>\n",
       "    <tr style=\"text-align: right;\">\n",
       "      <th></th>\n",
       "      <th>date</th>\n",
       "      <th>visitors_cummulativeA</th>\n",
       "    </tr>\n",
       "  </thead>\n",
       "  <tbody>\n",
       "    <tr>\n",
       "      <th>0</th>\n",
       "      <td>2019-08-01</td>\n",
       "      <td>719</td>\n",
       "    </tr>\n",
       "    <tr>\n",
       "      <th>1</th>\n",
       "      <td>2019-08-02</td>\n",
       "      <td>1338</td>\n",
       "    </tr>\n",
       "    <tr>\n",
       "      <th>2</th>\n",
       "      <td>2019-08-03</td>\n",
       "      <td>1845</td>\n",
       "    </tr>\n",
       "    <tr>\n",
       "      <th>3</th>\n",
       "      <td>2019-08-04</td>\n",
       "      <td>2562</td>\n",
       "    </tr>\n",
       "    <tr>\n",
       "      <th>4</th>\n",
       "      <td>2019-08-05</td>\n",
       "      <td>3318</td>\n",
       "    </tr>\n",
       "  </tbody>\n",
       "</table>\n",
       "</div>"
      ],
      "text/plain": [
       "        date  visitors_cummulativeA\n",
       "0 2019-08-01                    719\n",
       "1 2019-08-02                   1338\n",
       "2 2019-08-03                   1845\n",
       "3 2019-08-04                   2562\n",
       "4 2019-08-05                   3318"
      ]
     },
     "execution_count": 51,
     "metadata": {},
     "output_type": "execute_result"
    }
   ],
   "source": [
    "#расчитываем кумулятивное количество пользователей дря группы А\n",
    "visitors_cummulativeA = (\n",
    "    visitors_dailyA\n",
    "    .apply(lambda x: visitors_dailyA[visitors_dailyA['date'] <= x['date']]\n",
    "    .agg({'date': 'max', 'visitors_per_dateA': 'sum'}), axis=1))\n",
    "visitors_cummulativeA.columns = ['date', 'visitors_cummulativeA']\n",
    "visitors_cummulativeA.head()"
   ]
  },
  {
   "cell_type": "markdown",
   "metadata": {},
   "source": [
    "Сохраним в новой переменной количество посетителей за день для группы В и расчитаем кумулятивное количество пользователей за день для группы В:"
   ]
  },
  {
   "cell_type": "code",
   "execution_count": 52,
   "metadata": {},
   "outputs": [
    {
     "data": {
      "text/html": [
       "<div>\n",
       "<style scoped>\n",
       "    .dataframe tbody tr th:only-of-type {\n",
       "        vertical-align: middle;\n",
       "    }\n",
       "\n",
       "    .dataframe tbody tr th {\n",
       "        vertical-align: top;\n",
       "    }\n",
       "\n",
       "    .dataframe thead th {\n",
       "        text-align: right;\n",
       "    }\n",
       "</style>\n",
       "<table border=\"1\" class=\"dataframe\">\n",
       "  <thead>\n",
       "    <tr style=\"text-align: right;\">\n",
       "      <th></th>\n",
       "      <th>date</th>\n",
       "      <th>visitors_per_dateB</th>\n",
       "    </tr>\n",
       "  </thead>\n",
       "  <tbody>\n",
       "    <tr>\n",
       "      <th>31</th>\n",
       "      <td>2019-08-01</td>\n",
       "      <td>713</td>\n",
       "    </tr>\n",
       "    <tr>\n",
       "      <th>32</th>\n",
       "      <td>2019-08-02</td>\n",
       "      <td>581</td>\n",
       "    </tr>\n",
       "    <tr>\n",
       "      <th>33</th>\n",
       "      <td>2019-08-03</td>\n",
       "      <td>509</td>\n",
       "    </tr>\n",
       "    <tr>\n",
       "      <th>34</th>\n",
       "      <td>2019-08-04</td>\n",
       "      <td>770</td>\n",
       "    </tr>\n",
       "    <tr>\n",
       "      <th>35</th>\n",
       "      <td>2019-08-05</td>\n",
       "      <td>707</td>\n",
       "    </tr>\n",
       "  </tbody>\n",
       "</table>\n",
       "</div>"
      ],
      "text/plain": [
       "         date  visitors_per_dateB\n",
       "31 2019-08-01                 713\n",
       "32 2019-08-02                 581\n",
       "33 2019-08-03                 509\n",
       "34 2019-08-04                 770\n",
       "35 2019-08-05                 707"
      ]
     },
     "metadata": {},
     "output_type": "display_data"
    },
    {
     "data": {
      "text/html": [
       "<div>\n",
       "<style scoped>\n",
       "    .dataframe tbody tr th:only-of-type {\n",
       "        vertical-align: middle;\n",
       "    }\n",
       "\n",
       "    .dataframe tbody tr th {\n",
       "        vertical-align: top;\n",
       "    }\n",
       "\n",
       "    .dataframe thead th {\n",
       "        text-align: right;\n",
       "    }\n",
       "</style>\n",
       "<table border=\"1\" class=\"dataframe\">\n",
       "  <thead>\n",
       "    <tr style=\"text-align: right;\">\n",
       "      <th></th>\n",
       "      <th>date</th>\n",
       "      <th>visitors_cummulativeB</th>\n",
       "    </tr>\n",
       "  </thead>\n",
       "  <tbody>\n",
       "    <tr>\n",
       "      <th>31</th>\n",
       "      <td>2019-08-01</td>\n",
       "      <td>713</td>\n",
       "    </tr>\n",
       "    <tr>\n",
       "      <th>32</th>\n",
       "      <td>2019-08-02</td>\n",
       "      <td>1294</td>\n",
       "    </tr>\n",
       "    <tr>\n",
       "      <th>33</th>\n",
       "      <td>2019-08-03</td>\n",
       "      <td>1803</td>\n",
       "    </tr>\n",
       "    <tr>\n",
       "      <th>34</th>\n",
       "      <td>2019-08-04</td>\n",
       "      <td>2573</td>\n",
       "    </tr>\n",
       "    <tr>\n",
       "      <th>35</th>\n",
       "      <td>2019-08-05</td>\n",
       "      <td>3280</td>\n",
       "    </tr>\n",
       "  </tbody>\n",
       "</table>\n",
       "</div>"
      ],
      "text/plain": [
       "         date  visitors_cummulativeB\n",
       "31 2019-08-01                    713\n",
       "32 2019-08-02                   1294\n",
       "33 2019-08-03                   1803\n",
       "34 2019-08-04                   2573\n",
       "35 2019-08-05                   3280"
      ]
     },
     "execution_count": 52,
     "metadata": {},
     "output_type": "execute_result"
    }
   ],
   "source": [
    "#расчет количества посетителей за день для группы В\n",
    "visitors_dailyB = visitors[visitors['group'] == 'B'][['date', 'visitors']]\n",
    "visitors_dailyB.columns = ['date', 'visitors_per_dateB']\n",
    "display(visitors_dailyB.head())\n",
    "\n",
    "#расчитываем кумулятивное количество пользователей для группы В\n",
    "visitors_cummulativeB = (\n",
    "    visitors_dailyB\n",
    "    .apply(lambda x: visitors_dailyB[visitors_dailyB['date'] <= x['date']]\n",
    "    .agg({'date': 'max', 'visitors_per_dateB': 'sum'}), axis=1))\n",
    "visitors_cummulativeB.columns = ['date', 'visitors_cummulativeB']\n",
    "visitors_cummulativeB.head()"
   ]
  },
  {
   "cell_type": "markdown",
   "metadata": {},
   "source": [
    "Вспоним таблицу с данными о заказах:"
   ]
  },
  {
   "cell_type": "code",
   "execution_count": 53,
   "metadata": {
    "scrolled": true
   },
   "outputs": [
    {
     "data": {
      "text/html": [
       "<div>\n",
       "<style scoped>\n",
       "    .dataframe tbody tr th:only-of-type {\n",
       "        vertical-align: middle;\n",
       "    }\n",
       "\n",
       "    .dataframe tbody tr th {\n",
       "        vertical-align: top;\n",
       "    }\n",
       "\n",
       "    .dataframe thead th {\n",
       "        text-align: right;\n",
       "    }\n",
       "</style>\n",
       "<table border=\"1\" class=\"dataframe\">\n",
       "  <thead>\n",
       "    <tr style=\"text-align: right;\">\n",
       "      <th></th>\n",
       "      <th>transactionId</th>\n",
       "      <th>visitorId</th>\n",
       "      <th>date</th>\n",
       "      <th>revenue</th>\n",
       "      <th>group</th>\n",
       "    </tr>\n",
       "  </thead>\n",
       "  <tbody>\n",
       "    <tr>\n",
       "      <th>0</th>\n",
       "      <td>3667963787</td>\n",
       "      <td>3312258926</td>\n",
       "      <td>2019-08-15</td>\n",
       "      <td>1650</td>\n",
       "      <td>B</td>\n",
       "    </tr>\n",
       "    <tr>\n",
       "      <th>1</th>\n",
       "      <td>2804400009</td>\n",
       "      <td>3642806036</td>\n",
       "      <td>2019-08-15</td>\n",
       "      <td>730</td>\n",
       "      <td>B</td>\n",
       "    </tr>\n",
       "    <tr>\n",
       "      <th>3</th>\n",
       "      <td>3797467345</td>\n",
       "      <td>1196621759</td>\n",
       "      <td>2019-08-15</td>\n",
       "      <td>9759</td>\n",
       "      <td>B</td>\n",
       "    </tr>\n",
       "    <tr>\n",
       "      <th>4</th>\n",
       "      <td>2282983706</td>\n",
       "      <td>2322279887</td>\n",
       "      <td>2019-08-15</td>\n",
       "      <td>2308</td>\n",
       "      <td>B</td>\n",
       "    </tr>\n",
       "    <tr>\n",
       "      <th>5</th>\n",
       "      <td>182168103</td>\n",
       "      <td>935554773</td>\n",
       "      <td>2019-08-15</td>\n",
       "      <td>2210</td>\n",
       "      <td>B</td>\n",
       "    </tr>\n",
       "  </tbody>\n",
       "</table>\n",
       "</div>"
      ],
      "text/plain": [
       "   transactionId   visitorId       date  revenue group\n",
       "0     3667963787  3312258926 2019-08-15     1650     B\n",
       "1     2804400009  3642806036 2019-08-15      730     B\n",
       "3     3797467345  1196621759 2019-08-15     9759     B\n",
       "4     2282983706  2322279887 2019-08-15     2308     B\n",
       "5      182168103   935554773 2019-08-15     2210     B"
      ]
     },
     "execution_count": 53,
     "metadata": {},
     "output_type": "execute_result"
    }
   ],
   "source": [
    "orders.head()"
   ]
  },
  {
   "cell_type": "markdown",
   "metadata": {},
   "source": [
    "Расчитаем количество заказов и сумму заказов за день для группы А:"
   ]
  },
  {
   "cell_type": "code",
   "execution_count": 54,
   "metadata": {
    "scrolled": true
   },
   "outputs": [
    {
     "data": {
      "text/html": [
       "<div>\n",
       "<style scoped>\n",
       "    .dataframe tbody tr th:only-of-type {\n",
       "        vertical-align: middle;\n",
       "    }\n",
       "\n",
       "    .dataframe tbody tr th {\n",
       "        vertical-align: top;\n",
       "    }\n",
       "\n",
       "    .dataframe thead th {\n",
       "        text-align: right;\n",
       "    }\n",
       "</style>\n",
       "<table border=\"1\" class=\"dataframe\">\n",
       "  <thead>\n",
       "    <tr style=\"text-align: right;\">\n",
       "      <th></th>\n",
       "      <th>date</th>\n",
       "      <th>orders_per_dateA</th>\n",
       "      <th>revenue_per_dateA</th>\n",
       "    </tr>\n",
       "  </thead>\n",
       "  <tbody>\n",
       "    <tr>\n",
       "      <th>0</th>\n",
       "      <td>2019-08-01</td>\n",
       "      <td>23</td>\n",
       "      <td>142779</td>\n",
       "    </tr>\n",
       "    <tr>\n",
       "      <th>1</th>\n",
       "      <td>2019-08-02</td>\n",
       "      <td>19</td>\n",
       "      <td>91602</td>\n",
       "    </tr>\n",
       "    <tr>\n",
       "      <th>2</th>\n",
       "      <td>2019-08-03</td>\n",
       "      <td>24</td>\n",
       "      <td>112473</td>\n",
       "    </tr>\n",
       "    <tr>\n",
       "      <th>3</th>\n",
       "      <td>2019-08-04</td>\n",
       "      <td>11</td>\n",
       "      <td>41176</td>\n",
       "    </tr>\n",
       "    <tr>\n",
       "      <th>4</th>\n",
       "      <td>2019-08-05</td>\n",
       "      <td>22</td>\n",
       "      <td>86383</td>\n",
       "    </tr>\n",
       "  </tbody>\n",
       "</table>\n",
       "</div>"
      ],
      "text/plain": [
       "        date  orders_per_dateA  revenue_per_dateA\n",
       "0 2019-08-01                23             142779\n",
       "1 2019-08-02                19              91602\n",
       "2 2019-08-03                24             112473\n",
       "3 2019-08-04                11              41176\n",
       "4 2019-08-05                22              86383"
      ]
     },
     "execution_count": 54,
     "metadata": {},
     "output_type": "execute_result"
    }
   ],
   "source": [
    "#количество заказов и сумма заказов по дням для группы А\n",
    "orders_dailyA = (\n",
    "    orders[orders['group'] == 'A'][['date', 'transactionId', 'visitorId', 'revenue']]\n",
    "    .groupby('date', as_index=False)\n",
    "    .agg({'transactionId': 'nunique', 'revenue': 'sum'})\n",
    ")\n",
    "orders_dailyA.columns = ['date', 'orders_per_dateA', 'revenue_per_dateA']\n",
    "\n",
    "orders_dailyA.head()"
   ]
  },
  {
   "cell_type": "markdown",
   "metadata": {},
   "source": [
    "Расчитаем кумулятивное количество заказов и кумулятивную сумму заказов по дням для группы А:"
   ]
  },
  {
   "cell_type": "code",
   "execution_count": 55,
   "metadata": {
    "scrolled": false
   },
   "outputs": [
    {
     "data": {
      "text/html": [
       "<div>\n",
       "<style scoped>\n",
       "    .dataframe tbody tr th:only-of-type {\n",
       "        vertical-align: middle;\n",
       "    }\n",
       "\n",
       "    .dataframe tbody tr th {\n",
       "        vertical-align: top;\n",
       "    }\n",
       "\n",
       "    .dataframe thead th {\n",
       "        text-align: right;\n",
       "    }\n",
       "</style>\n",
       "<table border=\"1\" class=\"dataframe\">\n",
       "  <thead>\n",
       "    <tr style=\"text-align: right;\">\n",
       "      <th></th>\n",
       "      <th>date</th>\n",
       "      <th>orders_cummulativeA</th>\n",
       "      <th>revenue_cummulativeA</th>\n",
       "    </tr>\n",
       "  </thead>\n",
       "  <tbody>\n",
       "    <tr>\n",
       "      <th>0</th>\n",
       "      <td>2019-08-01</td>\n",
       "      <td>23</td>\n",
       "      <td>142779</td>\n",
       "    </tr>\n",
       "    <tr>\n",
       "      <th>1</th>\n",
       "      <td>2019-08-02</td>\n",
       "      <td>42</td>\n",
       "      <td>234381</td>\n",
       "    </tr>\n",
       "    <tr>\n",
       "      <th>2</th>\n",
       "      <td>2019-08-03</td>\n",
       "      <td>66</td>\n",
       "      <td>346854</td>\n",
       "    </tr>\n",
       "    <tr>\n",
       "      <th>3</th>\n",
       "      <td>2019-08-04</td>\n",
       "      <td>77</td>\n",
       "      <td>388030</td>\n",
       "    </tr>\n",
       "    <tr>\n",
       "      <th>4</th>\n",
       "      <td>2019-08-05</td>\n",
       "      <td>99</td>\n",
       "      <td>474413</td>\n",
       "    </tr>\n",
       "  </tbody>\n",
       "</table>\n",
       "</div>"
      ],
      "text/plain": [
       "        date  orders_cummulativeA  revenue_cummulativeA\n",
       "0 2019-08-01                   23                142779\n",
       "1 2019-08-02                   42                234381\n",
       "2 2019-08-03                   66                346854\n",
       "3 2019-08-04                   77                388030\n",
       "4 2019-08-05                   99                474413"
      ]
     },
     "execution_count": 55,
     "metadata": {},
     "output_type": "execute_result"
    }
   ],
   "source": [
    "#кумулятивное количество заказов и кумулятивная сумма заказов по дням для группы А\n",
    "\n",
    "orders_cummulativeA = (\n",
    "    orders_dailyA\n",
    "    .apply(lambda x: orders_dailyA[orders_dailyA['date'] <= x['date']]\n",
    "    .agg({'date': 'max', 'orders_per_dateA': 'sum', 'revenue_per_dateA': 'sum'}),axis=1)\n",
    "    .sort_values(by=['date']))\n",
    "    \n",
    "orders_cummulativeA.columns = [\n",
    "    'date',\n",
    "    'orders_cummulativeA',\n",
    "    'revenue_cummulativeA',\n",
    "]\n",
    "\n",
    "orders_cummulativeA.head()"
   ]
  },
  {
   "cell_type": "markdown",
   "metadata": {},
   "source": [
    "Расчитаем количество заказов и сумму заказов за день для группы В, и вычислим кумулятивное количество заказов и кумулятивную сумму заказов по дням для группы В:"
   ]
  },
  {
   "cell_type": "code",
   "execution_count": 56,
   "metadata": {},
   "outputs": [
    {
     "data": {
      "text/html": [
       "<div>\n",
       "<style scoped>\n",
       "    .dataframe tbody tr th:only-of-type {\n",
       "        vertical-align: middle;\n",
       "    }\n",
       "\n",
       "    .dataframe tbody tr th {\n",
       "        vertical-align: top;\n",
       "    }\n",
       "\n",
       "    .dataframe thead th {\n",
       "        text-align: right;\n",
       "    }\n",
       "</style>\n",
       "<table border=\"1\" class=\"dataframe\">\n",
       "  <thead>\n",
       "    <tr style=\"text-align: right;\">\n",
       "      <th></th>\n",
       "      <th>date</th>\n",
       "      <th>orders_per_dateB</th>\n",
       "      <th>revenue_per_dateB</th>\n",
       "    </tr>\n",
       "  </thead>\n",
       "  <tbody>\n",
       "    <tr>\n",
       "      <th>0</th>\n",
       "      <td>2019-08-01</td>\n",
       "      <td>17</td>\n",
       "      <td>59758</td>\n",
       "    </tr>\n",
       "    <tr>\n",
       "      <th>1</th>\n",
       "      <td>2019-08-02</td>\n",
       "      <td>23</td>\n",
       "      <td>162043</td>\n",
       "    </tr>\n",
       "    <tr>\n",
       "      <th>2</th>\n",
       "      <td>2019-08-03</td>\n",
       "      <td>14</td>\n",
       "      <td>67049</td>\n",
       "    </tr>\n",
       "    <tr>\n",
       "      <th>3</th>\n",
       "      <td>2019-08-04</td>\n",
       "      <td>14</td>\n",
       "      <td>96890</td>\n",
       "    </tr>\n",
       "    <tr>\n",
       "      <th>4</th>\n",
       "      <td>2019-08-05</td>\n",
       "      <td>21</td>\n",
       "      <td>89908</td>\n",
       "    </tr>\n",
       "  </tbody>\n",
       "</table>\n",
       "</div>"
      ],
      "text/plain": [
       "        date  orders_per_dateB  revenue_per_dateB\n",
       "0 2019-08-01                17              59758\n",
       "1 2019-08-02                23             162043\n",
       "2 2019-08-03                14              67049\n",
       "3 2019-08-04                14              96890\n",
       "4 2019-08-05                21              89908"
      ]
     },
     "execution_count": 56,
     "metadata": {},
     "output_type": "execute_result"
    }
   ],
   "source": [
    "#количество заказов и сумма заказов по дням для группы B\n",
    "\n",
    "orders_dailyB = (\n",
    "    orders[orders['group'] == 'B'][['date', 'transactionId', 'visitorId', 'revenue']]\n",
    "    .groupby('date', as_index=False)\n",
    "    .agg({'transactionId': pd.Series.nunique, 'revenue': 'sum'})\n",
    ")\n",
    "orders_dailyB.columns = ['date', 'orders_per_dateB', 'revenue_per_dateB']\n",
    "orders_dailyB.head()"
   ]
  },
  {
   "cell_type": "code",
   "execution_count": 57,
   "metadata": {},
   "outputs": [
    {
     "data": {
      "text/html": [
       "<div>\n",
       "<style scoped>\n",
       "    .dataframe tbody tr th:only-of-type {\n",
       "        vertical-align: middle;\n",
       "    }\n",
       "\n",
       "    .dataframe tbody tr th {\n",
       "        vertical-align: top;\n",
       "    }\n",
       "\n",
       "    .dataframe thead th {\n",
       "        text-align: right;\n",
       "    }\n",
       "</style>\n",
       "<table border=\"1\" class=\"dataframe\">\n",
       "  <thead>\n",
       "    <tr style=\"text-align: right;\">\n",
       "      <th></th>\n",
       "      <th>date</th>\n",
       "      <th>orders_cummulativeB</th>\n",
       "      <th>revenue_cummulativeB</th>\n",
       "    </tr>\n",
       "  </thead>\n",
       "  <tbody>\n",
       "    <tr>\n",
       "      <th>0</th>\n",
       "      <td>2019-08-01</td>\n",
       "      <td>17</td>\n",
       "      <td>59758</td>\n",
       "    </tr>\n",
       "    <tr>\n",
       "      <th>1</th>\n",
       "      <td>2019-08-02</td>\n",
       "      <td>40</td>\n",
       "      <td>221801</td>\n",
       "    </tr>\n",
       "    <tr>\n",
       "      <th>2</th>\n",
       "      <td>2019-08-03</td>\n",
       "      <td>54</td>\n",
       "      <td>288850</td>\n",
       "    </tr>\n",
       "    <tr>\n",
       "      <th>3</th>\n",
       "      <td>2019-08-04</td>\n",
       "      <td>68</td>\n",
       "      <td>385740</td>\n",
       "    </tr>\n",
       "    <tr>\n",
       "      <th>4</th>\n",
       "      <td>2019-08-05</td>\n",
       "      <td>89</td>\n",
       "      <td>475648</td>\n",
       "    </tr>\n",
       "  </tbody>\n",
       "</table>\n",
       "</div>"
      ],
      "text/plain": [
       "        date  orders_cummulativeB  revenue_cummulativeB\n",
       "0 2019-08-01                   17                 59758\n",
       "1 2019-08-02                   40                221801\n",
       "2 2019-08-03                   54                288850\n",
       "3 2019-08-04                   68                385740\n",
       "4 2019-08-05                   89                475648"
      ]
     },
     "execution_count": 57,
     "metadata": {},
     "output_type": "execute_result"
    }
   ],
   "source": [
    "#кумулятивное количество заказов и кумулятивная сумма заказов по дням для группы B\n",
    "\n",
    "orders_cummulativeB = (\n",
    "    orders_dailyB\n",
    "    .apply(lambda x: orders_dailyB[orders_dailyB['date'] <= x['date']]\n",
    "    .agg({'date': 'max', 'orders_per_dateB': 'sum', 'revenue_per_dateB': 'sum'}),axis=1)\n",
    "    .sort_values(by=['date']))\n",
    "    \n",
    "orders_cummulativeB.columns = [\n",
    "    'date',\n",
    "    'orders_cummulativeB',\n",
    "    'revenue_cummulativeB',\n",
    "]\n",
    "    \n",
    "orders_cummulativeB.head()"
   ]
  },
  {
   "cell_type": "markdown",
   "metadata": {},
   "source": [
    "Объеденим полученные таблицы:"
   ]
  },
  {
   "cell_type": "code",
   "execution_count": 58,
   "metadata": {},
   "outputs": [
    {
     "data": {
      "text/html": [
       "<div>\n",
       "<style scoped>\n",
       "    .dataframe tbody tr th:only-of-type {\n",
       "        vertical-align: middle;\n",
       "    }\n",
       "\n",
       "    .dataframe tbody tr th {\n",
       "        vertical-align: top;\n",
       "    }\n",
       "\n",
       "    .dataframe thead th {\n",
       "        text-align: right;\n",
       "    }\n",
       "</style>\n",
       "<table border=\"1\" class=\"dataframe\">\n",
       "  <thead>\n",
       "    <tr style=\"text-align: right;\">\n",
       "      <th></th>\n",
       "      <th>date</th>\n",
       "      <th>orders_per_dateA</th>\n",
       "      <th>revenue_per_dateA</th>\n",
       "      <th>orders_per_dateB</th>\n",
       "      <th>revenue_per_dateB</th>\n",
       "      <th>orders_cummulativeA</th>\n",
       "      <th>revenue_cummulativeA</th>\n",
       "      <th>orders_cummulativeB</th>\n",
       "      <th>revenue_cummulativeB</th>\n",
       "      <th>visitors_per_dateA</th>\n",
       "      <th>visitors_per_dateB</th>\n",
       "      <th>visitors_cummulativeA</th>\n",
       "      <th>visitors_cummulativeB</th>\n",
       "    </tr>\n",
       "  </thead>\n",
       "  <tbody>\n",
       "    <tr>\n",
       "      <th>0</th>\n",
       "      <td>2019-08-01</td>\n",
       "      <td>23</td>\n",
       "      <td>142779</td>\n",
       "      <td>17</td>\n",
       "      <td>59758</td>\n",
       "      <td>23</td>\n",
       "      <td>142779</td>\n",
       "      <td>17</td>\n",
       "      <td>59758</td>\n",
       "      <td>719</td>\n",
       "      <td>713</td>\n",
       "      <td>719</td>\n",
       "      <td>713</td>\n",
       "    </tr>\n",
       "    <tr>\n",
       "      <th>1</th>\n",
       "      <td>2019-08-02</td>\n",
       "      <td>19</td>\n",
       "      <td>91602</td>\n",
       "      <td>23</td>\n",
       "      <td>162043</td>\n",
       "      <td>42</td>\n",
       "      <td>234381</td>\n",
       "      <td>40</td>\n",
       "      <td>221801</td>\n",
       "      <td>619</td>\n",
       "      <td>581</td>\n",
       "      <td>1338</td>\n",
       "      <td>1294</td>\n",
       "    </tr>\n",
       "    <tr>\n",
       "      <th>2</th>\n",
       "      <td>2019-08-03</td>\n",
       "      <td>24</td>\n",
       "      <td>112473</td>\n",
       "      <td>14</td>\n",
       "      <td>67049</td>\n",
       "      <td>66</td>\n",
       "      <td>346854</td>\n",
       "      <td>54</td>\n",
       "      <td>288850</td>\n",
       "      <td>507</td>\n",
       "      <td>509</td>\n",
       "      <td>1845</td>\n",
       "      <td>1803</td>\n",
       "    </tr>\n",
       "    <tr>\n",
       "      <th>3</th>\n",
       "      <td>2019-08-04</td>\n",
       "      <td>11</td>\n",
       "      <td>41176</td>\n",
       "      <td>14</td>\n",
       "      <td>96890</td>\n",
       "      <td>77</td>\n",
       "      <td>388030</td>\n",
       "      <td>68</td>\n",
       "      <td>385740</td>\n",
       "      <td>717</td>\n",
       "      <td>770</td>\n",
       "      <td>2562</td>\n",
       "      <td>2573</td>\n",
       "    </tr>\n",
       "    <tr>\n",
       "      <th>4</th>\n",
       "      <td>2019-08-05</td>\n",
       "      <td>22</td>\n",
       "      <td>86383</td>\n",
       "      <td>21</td>\n",
       "      <td>89908</td>\n",
       "      <td>99</td>\n",
       "      <td>474413</td>\n",
       "      <td>89</td>\n",
       "      <td>475648</td>\n",
       "      <td>756</td>\n",
       "      <td>707</td>\n",
       "      <td>3318</td>\n",
       "      <td>3280</td>\n",
       "    </tr>\n",
       "  </tbody>\n",
       "</table>\n",
       "</div>"
      ],
      "text/plain": [
       "        date  orders_per_dateA  revenue_per_dateA  orders_per_dateB  \\\n",
       "0 2019-08-01                23             142779                17   \n",
       "1 2019-08-02                19              91602                23   \n",
       "2 2019-08-03                24             112473                14   \n",
       "3 2019-08-04                11              41176                14   \n",
       "4 2019-08-05                22              86383                21   \n",
       "\n",
       "   revenue_per_dateB  orders_cummulativeA  revenue_cummulativeA  \\\n",
       "0              59758                   23                142779   \n",
       "1             162043                   42                234381   \n",
       "2              67049                   66                346854   \n",
       "3              96890                   77                388030   \n",
       "4              89908                   99                474413   \n",
       "\n",
       "   orders_cummulativeB  revenue_cummulativeB  visitors_per_dateA  \\\n",
       "0                   17                 59758                 719   \n",
       "1                   40                221801                 619   \n",
       "2                   54                288850                 507   \n",
       "3                   68                385740                 717   \n",
       "4                   89                475648                 756   \n",
       "\n",
       "   visitors_per_dateB  visitors_cummulativeA  visitors_cummulativeB  \n",
       "0                 713                    719                    713  \n",
       "1                 581                   1338                   1294  \n",
       "2                 509                   1845                   1803  \n",
       "3                 770                   2562                   2573  \n",
       "4                 707                   3318                   3280  "
      ]
     },
     "execution_count": 58,
     "metadata": {},
     "output_type": "execute_result"
    }
   ],
   "source": [
    "data = (orders_dailyA\n",
    "    .merge(orders_dailyB, on='date')\n",
    "    .merge(orders_cummulativeA, on='date')\n",
    "    .merge(orders_cummulativeB, on='date')\n",
    "    .merge(visitors_dailyA, on='date')\n",
    "    .merge(visitors_dailyB,on='date')\n",
    "    .merge(visitors_cummulativeA, on='date')\n",
    "    .merge(visitors_cummulativeB, on='date')\n",
    ")\n",
    "\n",
    "data.head(5)\n"
   ]
  },
  {
   "cell_type": "markdown",
   "metadata": {},
   "source": [
    "Таким образом, получаем таблицу, где указаны:\n",
    "\n",
    "* date — дата;\n",
    "* orders_per_dateA — количество заказов в выбранную дату в группе A;\n",
    "* revenue_per_dateA — суммарная выручка в выбранную дату в группе A;\n",
    "* orders_per_dateB — количество заказов в выбранную дату в группе B;\n",
    "* revenue_per_dateB — суммарная выручка в выбранную дату в группе B;\n",
    "* orders_cummulativeA — суммарное число заказов до выбранной даты включительно в группе A;\n",
    "* revenue_cummulativeA — суммарная выручка до выбранной даты включительно в группе A;\n",
    "* orders_cummulativeB — суммарное количество заказов до выбранной даты включительно в группе B;\n",
    "* revenue_cummulativeB — суммарная выручка до выбранной даты включительно в группе B;\n",
    "* visitors_per_dateA — количество пользователей в выбранную дату в группе A;\n",
    "* visitors_per_dateB — количество пользователей в выбранную дату в группе B;\n",
    "* visitors_cummulativeA — количество пользователей до выбранной даты включительно в группе A;\n",
    "* visitors_cummulativeB — количество пользователей до выбранной даты включительно в группе B."
   ]
  },
  {
   "cell_type": "markdown",
   "metadata": {},
   "source": [
    "Расчитаем количество заказов для уникальных пользователей в группах, то есть сколько заказов сделал каждый пользователь в каждой группе."
   ]
  },
  {
   "cell_type": "code",
   "execution_count": 59,
   "metadata": {},
   "outputs": [
    {
     "data": {
      "text/html": [
       "<div>\n",
       "<style scoped>\n",
       "    .dataframe tbody tr th:only-of-type {\n",
       "        vertical-align: middle;\n",
       "    }\n",
       "\n",
       "    .dataframe tbody tr th {\n",
       "        vertical-align: top;\n",
       "    }\n",
       "\n",
       "    .dataframe thead th {\n",
       "        text-align: right;\n",
       "    }\n",
       "</style>\n",
       "<table border=\"1\" class=\"dataframe\">\n",
       "  <thead>\n",
       "    <tr style=\"text-align: right;\">\n",
       "      <th></th>\n",
       "      <th>visitorId</th>\n",
       "      <th>orders</th>\n",
       "    </tr>\n",
       "  </thead>\n",
       "  <tbody>\n",
       "    <tr>\n",
       "      <th>0</th>\n",
       "      <td>11685486</td>\n",
       "      <td>1</td>\n",
       "    </tr>\n",
       "    <tr>\n",
       "      <th>1</th>\n",
       "      <td>54447517</td>\n",
       "      <td>1</td>\n",
       "    </tr>\n",
       "    <tr>\n",
       "      <th>2</th>\n",
       "      <td>66685450</td>\n",
       "      <td>1</td>\n",
       "    </tr>\n",
       "    <tr>\n",
       "      <th>3</th>\n",
       "      <td>78758296</td>\n",
       "      <td>1</td>\n",
       "    </tr>\n",
       "    <tr>\n",
       "      <th>4</th>\n",
       "      <td>85103373</td>\n",
       "      <td>1</td>\n",
       "    </tr>\n",
       "  </tbody>\n",
       "</table>\n",
       "</div>"
      ],
      "text/plain": [
       "   visitorId  orders\n",
       "0   11685486       1\n",
       "1   54447517       1\n",
       "2   66685450       1\n",
       "3   78758296       1\n",
       "4   85103373       1"
      ]
     },
     "execution_count": 59,
     "metadata": {},
     "output_type": "execute_result"
    }
   ],
   "source": [
    "#расчитываем количество заказов для уникальных пользователей для группы А\n",
    "orders_by_usersA = (\n",
    "    orders[orders['group'] == 'A']\n",
    "    .groupby('visitorId', as_index=False)\n",
    "    .agg({'transactionId': 'nunique'}))\n",
    "\n",
    "orders_by_usersA.columns = ['visitorId', 'orders']\n",
    "orders_by_usersA.head()"
   ]
  },
  {
   "cell_type": "code",
   "execution_count": 60,
   "metadata": {
    "scrolled": true
   },
   "outputs": [
    {
     "data": {
      "text/html": [
       "<div>\n",
       "<style scoped>\n",
       "    .dataframe tbody tr th:only-of-type {\n",
       "        vertical-align: middle;\n",
       "    }\n",
       "\n",
       "    .dataframe tbody tr th {\n",
       "        vertical-align: top;\n",
       "    }\n",
       "\n",
       "    .dataframe thead th {\n",
       "        text-align: right;\n",
       "    }\n",
       "</style>\n",
       "<table border=\"1\" class=\"dataframe\">\n",
       "  <thead>\n",
       "    <tr style=\"text-align: right;\">\n",
       "      <th></th>\n",
       "      <th>visitorId</th>\n",
       "      <th>orders</th>\n",
       "    </tr>\n",
       "  </thead>\n",
       "  <tbody>\n",
       "    <tr>\n",
       "      <th>0</th>\n",
       "      <td>5114589</td>\n",
       "      <td>1</td>\n",
       "    </tr>\n",
       "    <tr>\n",
       "      <th>1</th>\n",
       "      <td>6958315</td>\n",
       "      <td>1</td>\n",
       "    </tr>\n",
       "    <tr>\n",
       "      <th>2</th>\n",
       "      <td>39475350</td>\n",
       "      <td>1</td>\n",
       "    </tr>\n",
       "    <tr>\n",
       "      <th>3</th>\n",
       "      <td>47206413</td>\n",
       "      <td>1</td>\n",
       "    </tr>\n",
       "    <tr>\n",
       "      <th>4</th>\n",
       "      <td>48147722</td>\n",
       "      <td>1</td>\n",
       "    </tr>\n",
       "  </tbody>\n",
       "</table>\n",
       "</div>"
      ],
      "text/plain": [
       "   visitorId  orders\n",
       "0    5114589       1\n",
       "1    6958315       1\n",
       "2   39475350       1\n",
       "3   47206413       1\n",
       "4   48147722       1"
      ]
     },
     "execution_count": 60,
     "metadata": {},
     "output_type": "execute_result"
    }
   ],
   "source": [
    "#расчитываем количество заказов для уникальных пользователей для группы В\n",
    "\n",
    "orders_by_usersB = (\n",
    "    orders[orders['group'] == 'B']\n",
    "    .groupby('visitorId', as_index=False)\n",
    "    .agg({'transactionId': pd.Series.nunique})\n",
    ")\n",
    "orders_by_usersB.columns = ['visitorId', 'orders'] \n",
    "orders_by_usersB.head()"
   ]
  },
  {
   "cell_type": "markdown",
   "metadata": {},
   "source": [
    "Сформируем таблицы-для группы А и В , где:\n",
    "* пользователям, которые совершили 1 и более покупки-будет присвоено количество совершенных покупок,\n",
    "* пользователям, которые не соврешили ни одно йпокупки-будет присвоен 0."
   ]
  },
  {
   "cell_type": "code",
   "execution_count": 61,
   "metadata": {},
   "outputs": [
    {
     "data": {
      "text/plain": [
       "0    1\n",
       "1    1\n",
       "2    1\n",
       "3    1\n",
       "4    1\n",
       "Name: orders, dtype: int64"
      ]
     },
     "execution_count": 61,
     "metadata": {},
     "output_type": "execute_result"
    }
   ],
   "source": [
    "#таблица для группы А\n",
    "sampleA = pd.concat(\n",
    "    [orders_by_usersA['orders'], \n",
    "    pd.Series\n",
    "     (0, index=np.arange(data['visitors_per_dateA'].sum() - len(orders_by_usersA['orders'])), \n",
    "      name='orders')], axis=0)\n",
    "sampleA.head()"
   ]
  },
  {
   "cell_type": "code",
   "execution_count": 62,
   "metadata": {},
   "outputs": [
    {
     "data": {
      "text/plain": [
       "0    1\n",
       "1    1\n",
       "2    1\n",
       "3    1\n",
       "4    1\n",
       "Name: orders, dtype: int64"
      ]
     },
     "execution_count": 62,
     "metadata": {},
     "output_type": "execute_result"
    }
   ],
   "source": [
    "#таблица для группы В\n",
    "\n",
    "sampleB = pd.concat(\n",
    "    [orders_by_usersB['orders'],\n",
    "    pd.Series(0, index=np.arange(data['visitors_per_dateB'].sum() - len(orders_by_usersB['orders'])),\n",
    "    name='orders')], axis=0)\n",
    "sampleB.head()"
   ]
  },
  {
   "cell_type": "markdown",
   "metadata": {},
   "source": [
    "Расчитаем статистическую значимость различия конверсии по результатам теста с помощью тест Манна-Уитни.\n",
    "Так, мы получим p-value для сравнения конверсии между группами. Округлим p-value до 3 знаков после запятой."
   ]
  },
  {
   "cell_type": "code",
   "execution_count": 63,
   "metadata": {},
   "outputs": [
    {
     "data": {
      "text/plain": [
       "'Значение p-value: 0.011'"
      ]
     },
     "execution_count": 63,
     "metadata": {},
     "output_type": "execute_result"
    }
   ],
   "source": [
    "'Значение p-value: {0:.3f}'.format(stats.mannwhitneyu(sampleA, sampleB)[1])"
   ]
  },
  {
   "cell_type": "markdown",
   "metadata": {},
   "source": [
    "#### Выводы:\n",
    "\n",
    "* Значение p-value = 0.011, это меньше 0.05. \n",
    "\n",
    "* Значит, нулевую гипотезу о том, что статистически значимых различий в конверсии между группами нет - отвергаем. \n",
    "\n",
    "Таким образом мы выявили, что есть статистически значимая разница в конверсии между группами по сырым данным."
   ]
  },
  {
   "cell_type": "markdown",
   "metadata": {},
   "source": [
    "## Относительное различие конверсии между группами по \"сырым\" данным"
   ]
  },
  {
   "cell_type": "markdown",
   "metadata": {},
   "source": [
    "Вычислим относительное различие в конверсии между группами по \"сырым\" данным."
   ]
  },
  {
   "cell_type": "code",
   "execution_count": 64,
   "metadata": {},
   "outputs": [
    {
     "data": {
      "text/plain": [
       "'Относительное различие конверсии между группами: 0.160'"
      ]
     },
     "execution_count": 64,
     "metadata": {},
     "output_type": "execute_result"
    }
   ],
   "source": [
    "('Относительное различие конверсии между группами: {0:.3f}'\n",
    "      .format((data['orders_per_dateB'].sum()/\n",
    "               data['visitors_per_dateB'].sum())/\n",
    "              (data['orders_per_dateA'].sum()/data['visitors_per_dateA'].sum())-1))\n"
   ]
  },
  {
   "cell_type": "markdown",
   "metadata": {},
   "source": [
    "#### Выводы:\n",
    "\n",
    "Относительый прирост конверсии группы В к конверсии группы А равен 16 %. \n",
    "\n",
    "Таким образом,это подтвержает выявленный ранее результат, о том что есть статистически значимая разница в конверсии между группами по сырым данным."
   ]
  },
  {
   "cell_type": "markdown",
   "metadata": {},
   "source": [
    "## Статистическая значимость различий в среднем чеке заказа между группами по «сырым» данным"
   ]
  },
  {
   "cell_type": "markdown",
   "metadata": {},
   "source": [
    "Проверим статистическую значимость различий в среднем чеке между группами. Тогда:\n",
    "\n",
    "* нулевая гипотеза: различий в среднем чеке между группами нет\n",
    "* альтернативная гипотеза: различия в среднем чеке между группами есть\n",
    "\n",
    "Отметим, что мы передадим критерию `mannwhitneyu` данные о выручке с заказов по группам"
   ]
  },
  {
   "cell_type": "code",
   "execution_count": 65,
   "metadata": {},
   "outputs": [
    {
     "data": {
      "text/plain": [
       "'Значение p-value:0.829'"
      ]
     },
     "execution_count": 65,
     "metadata": {},
     "output_type": "execute_result"
    }
   ],
   "source": [
    "('Значение p-value:{0:.3f}'.format(stats\n",
    "    .mannwhitneyu(orders[orders['group']=='A']['revenue'], #\"выборка 1\" выручка с заказов в группе А\n",
    "    orders[orders['group']=='B']['revenue'])[1])) #\"выборка 2\" выручка с заказов в группе В"
   ]
  },
  {
   "cell_type": "markdown",
   "metadata": {},
   "source": [
    "#### Выводы:\n",
    "\n",
    "* Значение p-value = 0.829 (это больше 0.05)\n",
    "\n",
    "* Значит, нулевую гипотезу о том, что статистически значимых  различий в среднем чеке между группами нет - не отвергаем. \n",
    "\n",
    "Таким образом мы выявили, что нет статистически значимой разницы в среднем чеке между группами по сырым данным."
   ]
  },
  {
   "cell_type": "markdown",
   "metadata": {},
   "source": [
    "## Относительный прирост среднего чека между группами по \"сырым\" данным"
   ]
  },
  {
   "cell_type": "markdown",
   "metadata": {},
   "source": [
    "Расчитаем относительный прирост среднего чека группы B к среднему чеку группы А:"
   ]
  },
  {
   "cell_type": "code",
   "execution_count": 66,
   "metadata": {},
   "outputs": [
    {
     "data": {
      "text/plain": [
       "'Относительный прирост среднего чека:0.287'"
      ]
     },
     "execution_count": 66,
     "metadata": {},
     "output_type": "execute_result"
    }
   ],
   "source": [
    "('Относительный прирост среднего чека:{0:.3f}'.format(\n",
    "    orders[orders['group']=='B']['revenue'].mean()/\n",
    "    orders[orders['group']=='A']['revenue'].mean()-1))"
   ]
  },
  {
   "cell_type": "markdown",
   "metadata": {},
   "source": [
    "#### Выводы:\n",
    "\n",
    "*  относительный прирост среднего чека группы B к среднему чеку группы А - 0.287, то есть 28,7 % \n",
    "\n",
    "Таким образом мы выявили, что средней чек группы В больше среднего чека группы А на 28 % по сырым данным. Согласно тесту со статистической значимостью различий в среднем чеке нет, соотвественно данная разница статистически не значима.\n"
   ]
  },
  {
   "cell_type": "markdown",
   "metadata": {},
   "source": [
    "## \"Очищенные данные\""
   ]
  },
  {
   "cell_type": "markdown",
   "metadata": {},
   "source": [
    "Напомним, что ранее мы нашли 95-й и 99-й перцентили стоимости заказов:\n",
    "* 95 перцентиль стоимости заказов - 26.785 руб.\n",
    "* 99 перцентиль стоимости заказов - 53.904 руб. \n",
    "\n",
    "Так же, нашли 95 и 99 перцентили количества заказов: \n",
    "* 95-й перцентиль количества заказов на одного пользователя-1\n",
    "* 99-й перцентиль количества заказов на одного пользователя-2\n",
    "\n",
    "Тоггда, примем за аномальных пользователей тех, кто совершил более 1 заказов, или совершил заказ дороже 26.785 рублей. \n",
    "\n",
    "Так мы уберём 5% пользователей с наибольшим числом заказов и  5% пользователей с дорогими заказами. \n",
    "\n",
    "Сделаем срезы пользователей с числом заказов больше 1, и пользователей, совершивших заказы дороже 26.785 руб.\n"
   ]
  },
  {
   "cell_type": "code",
   "execution_count": 67,
   "metadata": {},
   "outputs": [
    {
     "data": {
      "text/plain": [
       "36      366673373\n",
       "58      611059232\n",
       "64      678354126\n",
       "72      759473111\n",
       "171    1617417821\n",
       "Name: visitorId, dtype: int64"
      ]
     },
     "execution_count": 67,
     "metadata": {},
     "output_type": "execute_result"
    }
   ],
   "source": [
    "#срез пользователей с количеством заказов  больше 1\n",
    "users_many_orders = pd.concat(\n",
    "    [orders_by_usersA[orders_by_usersA['orders'] > 1]['visitorId'],\n",
    "     orders_by_usersB[orders_by_usersB['orders'] > 1]['visitorId']], axis=0)\n",
    "users_many_orders.head()"
   ]
  },
  {
   "cell_type": "code",
   "execution_count": 68,
   "metadata": {},
   "outputs": [
    {
     "data": {
      "text/plain": [
       "73     2947100995\n",
       "77      787824685\n",
       "78     3288820196\n",
       "131    2254586615\n",
       "137    1211585711\n",
       "Name: visitorId, dtype: int64"
      ]
     },
     "execution_count": 68,
     "metadata": {},
     "output_type": "execute_result"
    }
   ],
   "source": [
    "#срез пользователей с стоимостью заказов \n",
    "revenue_lim = np.percentile(orders['revenue'], 95)\n",
    "users__expensive_orders = orders[orders['revenue'] > revenue_lim]['visitorId']\n",
    "users__expensive_orders.head()"
   ]
  },
  {
   "cell_type": "markdown",
   "metadata": {},
   "source": [
    "Объединим эти два среза в таблице normal_users."
   ]
  },
  {
   "cell_type": "code",
   "execution_count": 69,
   "metadata": {},
   "outputs": [
    {
     "data": {
      "text/plain": [
       "568     113298937\n",
       "1099    148427295\n",
       "928     204675465\n",
       "33      249864742\n",
       "684     358944393\n",
       "Name: visitorId, dtype: int64"
      ]
     },
     "execution_count": 69,
     "metadata": {},
     "output_type": "execute_result"
    }
   ],
   "source": [
    "normal_users = (\n",
    "    pd.concat([users_many_orders, users__expensive_orders], axis=0)\n",
    "    .drop_duplicates()\n",
    "    .sort_values())\n",
    "\n",
    "normal_users.head()"
   ]
  },
  {
   "cell_type": "markdown",
   "metadata": {},
   "source": [
    "## Статистическую значимость различий в конверсии между группами по «очищенным» данным"
   ]
  },
  {
   "cell_type": "markdown",
   "metadata": {},
   "source": [
    "Посмотрим, как действия аномальных пользователей повлияли на результаты теста. \n",
    "\n",
    "Вспомним наши гипотезы:\n",
    "\n",
    "* нулевая гипотеза: различий в конверсии между группами нет\n",
    "* альтернативная гипотеза: различия в конверсии между группами есть\n",
    "\n",
    "Результаты, полученные ранее по сырым данным:\n",
    "* мы выявили, что есть статистически значимая разница в конверсии между группами по сырым данным (то есть отвергли нулевую гипотезу)\n",
    "\n",
    "Посчитаем статистическую значимость различий в конверсии между группами теста по очищенным данным. Но сначала подготовим выборки количества заказов по пользователям по группам теста:"
   ]
  },
  {
   "cell_type": "code",
   "execution_count": 70,
   "metadata": {},
   "outputs": [
    {
     "data": {
      "text/plain": [
       "0    1\n",
       "1    1\n",
       "2    1\n",
       "3    1\n",
       "4    1\n",
       "Name: orders, dtype: int64"
      ]
     },
     "execution_count": 70,
     "metadata": {},
     "output_type": "execute_result"
    }
   ],
   "source": [
    "#выборка количества заказов по пользователям в группе А\n",
    "sample_filteredA = pd.concat(\n",
    "    [orders_by_usersA[np.logical_not(orders_by_usersA['visitorId'].isin(normal_users))]['orders'],\n",
    "    pd.Series(0, index=np.arange(data['visitors_per_dateA'].sum() - len(orders_by_usersA['orders'])),\n",
    "    name='orders')], axis=0)\n",
    "sample_filteredA.head()"
   ]
  },
  {
   "cell_type": "code",
   "execution_count": 71,
   "metadata": {
    "scrolled": true
   },
   "outputs": [
    {
     "data": {
      "text/plain": [
       "0    1\n",
       "1    1\n",
       "2    1\n",
       "3    1\n",
       "4    1\n",
       "Name: orders, dtype: int64"
      ]
     },
     "execution_count": 71,
     "metadata": {},
     "output_type": "execute_result"
    }
   ],
   "source": [
    "#выборка количества заказов по пользователям в группе А\n",
    "\n",
    "sample_filteredB = pd.concat(\n",
    "    [orders_by_usersB[np.logical_not(orders_by_usersB['visitorId'].isin(normal_users))]['orders'],\n",
    "    pd.Series(0, index=np.arange(data['visitors_per_dateB'].sum() - len(orders_by_usersB['orders'])),\n",
    "    name='orders')],axis=0)\n",
    "sample_filteredB.head()"
   ]
  },
  {
   "cell_type": "markdown",
   "metadata": {},
   "source": [
    "Таким образом, в переменных `sample_filteredA` и `sample_filteredB` сохраним очищенные данные о заказах — не включая аномальных пользователей.\n",
    "\n",
    "Далее, получим p-value для сравнения конверсии между очищенными группами, округлим p-value до трех знаков после запятой."
   ]
  },
  {
   "cell_type": "code",
   "execution_count": 72,
   "metadata": {},
   "outputs": [
    {
     "data": {
      "text/plain": [
       "'Значение p-value: 0.016'"
      ]
     },
     "execution_count": 72,
     "metadata": {},
     "output_type": "execute_result"
    }
   ],
   "source": [
    "'Значение p-value: {0:.3f}'.format(stats.mannwhitneyu(sample_filteredA, sample_filteredB)[1])"
   ]
  },
  {
   "cell_type": "markdown",
   "metadata": {},
   "source": [
    "#### Выводы:\n",
    "\n",
    "* Значение p-value = 0.016, это меньше 0.05. \n",
    "\n",
    "* Значит, нулевую гипотезу о том, что статистически значимых различий в конверсии между группами А и В нет - отвергаем. \n",
    "\n",
    "Мы выявили, что есть статистически значимая разница в конверсии между группами А и В по очищенным данным.\n",
    "\n",
    "Результат по \"очищенным\" данным совпадает с результатом по \"сырым\" данным. "
   ]
  },
  {
   "cell_type": "markdown",
   "metadata": {},
   "source": [
    "## Относительное различие конверсии между группами по \"очищенным\" данным"
   ]
  },
  {
   "cell_type": "markdown",
   "metadata": {},
   "source": [
    "Вычислим относительное различие в конверсии между группами по \"очищенным\" данным."
   ]
  },
  {
   "cell_type": "code",
   "execution_count": 73,
   "metadata": {},
   "outputs": [
    {
     "data": {
      "text/plain": [
       "'Относительное различие в конверсии между группами: 0.174'"
      ]
     },
     "execution_count": 73,
     "metadata": {},
     "output_type": "execute_result"
    }
   ],
   "source": [
    "'Относительное различие в конверсии между группами: {0:.3f}'.format(sample_filteredB.mean()/sample_filteredA.mean()-1)"
   ]
  },
  {
   "cell_type": "markdown",
   "metadata": {},
   "source": [
    "#### Выводы:\n",
    "\n",
    "Относительый прирост конверсии группы В к конверсии группы А увеличился и стал 17,4 % (был равен 16 %)\n",
    "\n",
    "Таким образом,это подтвержает выявленный ранее результат, о том что есть статистически значимая разница в конверсии между группами по сырым данным."
   ]
  },
  {
   "cell_type": "markdown",
   "metadata": {},
   "source": [
    "## Статистическую значимость различий в среднем чеке заказа между группами по «очищенным» данным"
   ]
  },
  {
   "cell_type": "markdown",
   "metadata": {},
   "source": [
    "Вычислим статистическую значимость различия средних чеков после удаления аномальных пользователей.\n",
    "\n",
    "\n",
    "Вспомним наши гипотезы:\n",
    "* нулевая гипотеза: различий в среднем чеке между группами нет\n",
    "* альтернативная гипотеза: различия в среднем чеке между группами есть\n",
    "\n",
    "Результаты, полученные ранее по сырым данным:\n",
    "\n",
    "* мы выявили, что нет статистически значимой разницы в среднем чеке между группами по сырым данным."
   ]
  },
  {
   "cell_type": "code",
   "execution_count": 74,
   "metadata": {},
   "outputs": [
    {
     "data": {
      "text/plain": [
       "'Значение p-value: 0.727'"
      ]
     },
     "execution_count": 74,
     "metadata": {},
     "output_type": "execute_result"
    }
   ],
   "source": [
    "('Значение p-value: {0:.3f}'\n",
    "     .format(stats.mannwhitneyu(orders[np.logical_and(orders['group'] == 'A',\n",
    "                                np.logical_not(orders['visitorId']\n",
    "                                .isin(normal_users)))]['revenue'],\n",
    "                                orders[np.logical_and(orders['group'] == 'B',\n",
    "                                np.logical_not(orders['visitorId']\n",
    "                                .isin(normal_users)))]['revenue'])[1]))\n"
   ]
  },
  {
   "cell_type": "markdown",
   "metadata": {},
   "source": [
    "#### Выводы:\n",
    "\n",
    "* Значение p-value = 0.727, это больше 0.05 (по сырым данным - p-value:0.829). То есть P-value увеличился\n",
    "\n",
    "* Значит, нулевую гипотезу о том, что статистически значимых  различий в среднем чеке между группами нет - не отвергаем. \n",
    "\n",
    "Таким образом мы выявили, что нет статистически значимой разницы в среднем чеке между группами по \"очищенным\" данным."
   ]
  },
  {
   "cell_type": "markdown",
   "metadata": {},
   "source": [
    "## Относительный прирост среднего чека между группами по \"очищенным\" данным"
   ]
  },
  {
   "cell_type": "markdown",
   "metadata": {},
   "source": [
    "Вспомним, что ранее мы выяснили по \"сырым\" данным:\n",
    "* относительный прирост среднего чека группы B к среднему чеку группы А - 0.287, то есть 28,7 % \n",
    "\n",
    "Таким образом мы выявили, что средней чек группы В больше среднего чека группы А на 28,7 % по сырым данным, но согласно тесту со статистической значимостью по сырым данным - различий в среднем чеке нет, соотвественно данная разница статистически не значима. \n",
    "\n",
    "Вычислим относительный прирост среднего чека между группами по \"очищенным\" данным:"
   ]
  },
  {
   "cell_type": "code",
   "execution_count": 75,
   "metadata": {},
   "outputs": [
    {
     "data": {
      "text/plain": [
       "'Относительный прирост среднего чека между группами: -0.034'"
      ]
     },
     "execution_count": 75,
     "metadata": {},
     "output_type": "execute_result"
    }
   ],
   "source": [
    "('Относительный прирост среднего чека между группами: {0:.3f}'.format(\n",
    "    orders[np.logical_and(orders['group'] == 'B',\n",
    "    np.logical_not(orders['visitorId'].isin(normal_users)))]['revenue'].mean() / \n",
    "    orders[np.logical_and(orders['group'] == 'A', \n",
    "    np.logical_not(orders['visitorId'].isin(normal_users)))]['revenue'].mean() - 1))"
   ]
  },
  {
   "cell_type": "markdown",
   "metadata": {},
   "source": [
    "#### Выводы:\n",
    "\n",
    "*  относительный прирост среднего чека по очещенным данным - (-0.034), то есть 3,4 % \n",
    "\n",
    "Таким образом мы выявили, что средней чек группы В больше среднего чека группы А на 3,4 % по \"очищенным\" данным.\n",
    "То есть данное различие в среднем чеке между группами - статистически не значимое.\n",
    "\n",
    "Разница между сегментами сократилась с 25 % до 3,4 %.\n"
   ]
  },
  {
   "cell_type": "markdown",
   "metadata": {},
   "source": [
    "## Решение по результатам теста"
   ]
  },
  {
   "cell_type": "markdown",
   "metadata": {},
   "source": [
    "При анализе результатов А/В теста мы выяснили, что:\n",
    "\n",
    "1. Есть статистически значимое различие по конверсии между группами и по «сырым», и по данным после фильтрации аномалий;\n",
    "* конверсия группы В выше, чем конверсия группы А (прирост конверсии в группе В примерно на 17,4 % больше,чем в группе А)\n",
    "\n",
    "2. Нет статистически значимого различия по среднему чеку между группами  по «очищенным» данным\n",
    "* средний чек группы В на 3,4 % больше среднего чека группы А, что статистически не значимая разница\n",
    "\n",
    "3. График различия кумулятивной конверсии между группами сообщает, что результаты группы B лучше группы A: в целом, конверсия группы В выше, чем у группы В (но в середине теста конверсия группы В снижается на 10 %, и до конца теста фиксируется на одном уровне примерно 10 %)\n",
    "\n",
    "4. График различия кумулятивного среднего чека колеблется: резко увеличивается в определенные дни. Этот график позволил нам найти аномалии. Сделать из этого графика определённые выводы нельзя\n",
    "\n",
    "Таким образом, на основе вышеизложенного - остановим тест и зафиксируем победу группы В:\n",
    "* так как конверсия группы В лучше конверсии группы А\n",
    "* средние чеки групп не имеют статистически значимых различий"
   ]
  }
 ],
 "metadata": {
  "ExecuteTimeLog": [
   {
    "duration": 1855,
    "start_time": "2022-05-05T08:10:32.479Z"
   },
   {
    "duration": 38,
    "start_time": "2022-05-05T08:10:39.038Z"
   },
   {
    "duration": 30,
    "start_time": "2022-05-05T08:10:45.765Z"
   },
   {
    "duration": 22,
    "start_time": "2022-05-05T08:11:17.677Z"
   },
   {
    "duration": 24,
    "start_time": "2022-05-05T08:11:47.165Z"
   },
   {
    "duration": 37,
    "start_time": "2022-05-05T08:24:52.746Z"
   },
   {
    "duration": 47,
    "start_time": "2022-05-05T08:25:06.090Z"
   },
   {
    "duration": 22,
    "start_time": "2022-05-05T08:25:24.023Z"
   },
   {
    "duration": 19,
    "start_time": "2022-05-05T08:28:21.229Z"
   },
   {
    "duration": 159,
    "start_time": "2022-05-05T08:29:19.262Z"
   },
   {
    "duration": 18,
    "start_time": "2022-05-05T08:29:25.524Z"
   },
   {
    "duration": 22,
    "start_time": "2022-05-05T08:29:31.862Z"
   },
   {
    "duration": 25,
    "start_time": "2022-05-05T08:29:33.768Z"
   },
   {
    "duration": 28,
    "start_time": "2022-05-05T08:29:42.840Z"
   },
   {
    "duration": 16,
    "start_time": "2022-05-05T08:30:08.516Z"
   },
   {
    "duration": 11,
    "start_time": "2022-05-05T08:34:31.840Z"
   },
   {
    "duration": 27,
    "start_time": "2022-05-05T08:48:25.969Z"
   },
   {
    "duration": 112,
    "start_time": "2022-05-05T08:48:57.181Z"
   },
   {
    "duration": 13,
    "start_time": "2022-05-05T08:49:09.690Z"
   },
   {
    "duration": 12,
    "start_time": "2022-05-05T08:49:45.209Z"
   },
   {
    "duration": 12,
    "start_time": "2022-05-05T08:49:57.199Z"
   },
   {
    "duration": 12,
    "start_time": "2022-05-05T08:50:06.800Z"
   },
   {
    "duration": 13,
    "start_time": "2022-05-05T08:50:20.132Z"
   },
   {
    "duration": 21,
    "start_time": "2022-05-05T08:50:44.958Z"
   },
   {
    "duration": 17,
    "start_time": "2022-05-05T08:50:59.492Z"
   },
   {
    "duration": 24,
    "start_time": "2022-05-05T08:51:03.418Z"
   },
   {
    "duration": 19,
    "start_time": "2022-05-05T08:51:11.820Z"
   },
   {
    "duration": 14,
    "start_time": "2022-05-05T08:51:20.981Z"
   },
   {
    "duration": 26,
    "start_time": "2022-05-05T08:57:06.878Z"
   },
   {
    "duration": 98,
    "start_time": "2022-05-05T08:58:00.409Z"
   },
   {
    "duration": 13,
    "start_time": "2022-05-05T08:59:56.395Z"
   },
   {
    "duration": 25,
    "start_time": "2022-05-05T09:26:50.185Z"
   },
   {
    "duration": 15,
    "start_time": "2022-05-05T09:26:59.130Z"
   },
   {
    "duration": 15,
    "start_time": "2022-05-05T09:29:23.094Z"
   },
   {
    "duration": 18,
    "start_time": "2022-05-05T09:33:19.158Z"
   },
   {
    "duration": 22,
    "start_time": "2022-05-05T09:33:39.397Z"
   },
   {
    "duration": 14,
    "start_time": "2022-05-05T09:33:58.897Z"
   },
   {
    "duration": 16,
    "start_time": "2022-05-05T09:35:44.495Z"
   },
   {
    "duration": 20,
    "start_time": "2022-05-05T09:35:53.897Z"
   },
   {
    "duration": 23,
    "start_time": "2022-05-05T09:35:59.344Z"
   },
   {
    "duration": 18,
    "start_time": "2022-05-05T09:38:22.546Z"
   },
   {
    "duration": 14,
    "start_time": "2022-05-05T09:38:28.447Z"
   },
   {
    "duration": 17,
    "start_time": "2022-05-05T09:38:40.105Z"
   },
   {
    "duration": 16,
    "start_time": "2022-05-05T09:38:43.989Z"
   },
   {
    "duration": 33,
    "start_time": "2022-05-05T09:39:48.160Z"
   },
   {
    "duration": 84,
    "start_time": "2022-05-05T09:39:52.970Z"
   },
   {
    "duration": 20,
    "start_time": "2022-05-05T09:39:55.472Z"
   },
   {
    "duration": 16,
    "start_time": "2022-05-05T09:40:00.396Z"
   },
   {
    "duration": 19,
    "start_time": "2022-05-05T09:40:06.751Z"
   },
   {
    "duration": 16,
    "start_time": "2022-05-05T09:40:13.575Z"
   },
   {
    "duration": 21,
    "start_time": "2022-05-05T09:40:18.463Z"
   },
   {
    "duration": 17,
    "start_time": "2022-05-05T10:13:18.427Z"
   },
   {
    "duration": 16,
    "start_time": "2022-05-05T10:43:13.943Z"
   },
   {
    "duration": 20,
    "start_time": "2022-05-05T10:43:18.781Z"
   },
   {
    "duration": 20,
    "start_time": "2022-05-05T10:43:24.578Z"
   },
   {
    "duration": 14,
    "start_time": "2022-05-05T10:43:29.311Z"
   },
   {
    "duration": 539,
    "start_time": "2022-05-05T10:45:08.438Z"
   },
   {
    "duration": 183,
    "start_time": "2022-05-05T10:51:49.253Z"
   },
   {
    "duration": 123,
    "start_time": "2022-05-05T10:51:54.509Z"
   },
   {
    "duration": 102,
    "start_time": "2022-05-05T10:52:03.787Z"
   },
   {
    "duration": 12,
    "start_time": "2022-05-05T10:52:10.511Z"
   },
   {
    "duration": 50,
    "start_time": "2022-05-05T10:52:22.715Z"
   },
   {
    "duration": 15,
    "start_time": "2022-05-05T10:53:40.276Z"
   },
   {
    "duration": 34,
    "start_time": "2022-05-05T10:53:41.602Z"
   },
   {
    "duration": 40,
    "start_time": "2022-05-05T10:54:04.240Z"
   },
   {
    "duration": 13,
    "start_time": "2022-05-05T10:54:43.358Z"
   },
   {
    "duration": 5108,
    "start_time": "2022-05-05T10:55:23.192Z"
   },
   {
    "duration": 5047,
    "start_time": "2022-05-05T10:55:29.643Z"
   },
   {
    "duration": 275,
    "start_time": "2022-05-05T10:55:43.868Z"
   },
   {
    "duration": 289,
    "start_time": "2022-05-05T10:55:51.106Z"
   },
   {
    "duration": 299,
    "start_time": "2022-05-05T10:58:51.838Z"
   },
   {
    "duration": 285,
    "start_time": "2022-05-05T10:58:58.490Z"
   },
   {
    "duration": 364,
    "start_time": "2022-05-05T10:59:01.589Z"
   },
   {
    "duration": 4,
    "start_time": "2022-05-05T10:59:06.295Z"
   },
   {
    "duration": 48,
    "start_time": "2022-05-05T10:59:06.301Z"
   },
   {
    "duration": 23,
    "start_time": "2022-05-05T10:59:06.353Z"
   },
   {
    "duration": 23,
    "start_time": "2022-05-05T10:59:06.378Z"
   },
   {
    "duration": 58,
    "start_time": "2022-05-05T10:59:06.404Z"
   },
   {
    "duration": 17,
    "start_time": "2022-05-05T10:59:06.467Z"
   },
   {
    "duration": 22,
    "start_time": "2022-05-05T10:59:06.487Z"
   },
   {
    "duration": 53,
    "start_time": "2022-05-05T10:59:06.511Z"
   },
   {
    "duration": 19,
    "start_time": "2022-05-05T10:59:06.567Z"
   },
   {
    "duration": 15,
    "start_time": "2022-05-05T10:59:06.588Z"
   },
   {
    "duration": 48,
    "start_time": "2022-05-05T10:59:06.605Z"
   },
   {
    "duration": 14,
    "start_time": "2022-05-05T10:59:06.656Z"
   },
   {
    "duration": 13,
    "start_time": "2022-05-05T10:59:06.674Z"
   },
   {
    "duration": 17,
    "start_time": "2022-05-05T10:59:06.690Z"
   },
   {
    "duration": 73,
    "start_time": "2022-05-05T10:59:06.710Z"
   },
   {
    "duration": 450,
    "start_time": "2022-05-05T10:59:06.786Z"
   },
   {
    "duration": 289,
    "start_time": "2022-05-05T10:59:14.850Z"
   },
   {
    "duration": 4,
    "start_time": "2022-05-05T10:59:21.678Z"
   },
   {
    "duration": 47,
    "start_time": "2022-05-05T10:59:21.684Z"
   },
   {
    "duration": 22,
    "start_time": "2022-05-05T10:59:21.733Z"
   },
   {
    "duration": 32,
    "start_time": "2022-05-05T10:59:21.758Z"
   },
   {
    "duration": 26,
    "start_time": "2022-05-05T10:59:21.794Z"
   },
   {
    "duration": 43,
    "start_time": "2022-05-05T10:59:21.822Z"
   },
   {
    "duration": 20,
    "start_time": "2022-05-05T10:59:21.867Z"
   },
   {
    "duration": 15,
    "start_time": "2022-05-05T10:59:21.889Z"
   },
   {
    "duration": 64,
    "start_time": "2022-05-05T10:59:21.906Z"
   },
   {
    "duration": 17,
    "start_time": "2022-05-05T10:59:21.974Z"
   },
   {
    "duration": 21,
    "start_time": "2022-05-05T10:59:21.994Z"
   },
   {
    "duration": 47,
    "start_time": "2022-05-05T10:59:22.017Z"
   },
   {
    "duration": 22,
    "start_time": "2022-05-05T10:59:22.066Z"
   },
   {
    "duration": 14,
    "start_time": "2022-05-05T10:59:22.094Z"
   },
   {
    "duration": 55,
    "start_time": "2022-05-05T10:59:22.110Z"
   },
   {
    "duration": 319,
    "start_time": "2022-05-05T10:59:22.168Z"
   },
   {
    "duration": 128,
    "start_time": "2022-05-05T11:07:24.127Z"
   },
   {
    "duration": 11,
    "start_time": "2022-05-05T11:07:40.624Z"
   },
   {
    "duration": 11,
    "start_time": "2022-05-05T11:07:43.084Z"
   },
   {
    "duration": 20,
    "start_time": "2022-05-05T11:09:16.179Z"
   },
   {
    "duration": 299,
    "start_time": "2022-05-05T11:09:20.056Z"
   },
   {
    "duration": 24,
    "start_time": "2022-05-05T11:09:31.750Z"
   },
   {
    "duration": 13,
    "start_time": "2022-05-05T11:09:34.504Z"
   },
   {
    "duration": 289,
    "start_time": "2022-05-05T11:09:40.025Z"
   },
   {
    "duration": 22,
    "start_time": "2022-05-05T11:10:34.468Z"
   },
   {
    "duration": 688,
    "start_time": "2022-05-05T11:11:12.409Z"
   },
   {
    "duration": 224,
    "start_time": "2022-05-05T11:13:39.996Z"
   },
   {
    "duration": 374,
    "start_time": "2022-05-05T11:14:29.787Z"
   },
   {
    "duration": 8,
    "start_time": "2022-05-05T11:16:59.607Z"
   },
   {
    "duration": 24,
    "start_time": "2022-05-05T11:17:05.424Z"
   },
   {
    "duration": 25,
    "start_time": "2022-05-05T11:17:47.514Z"
   },
   {
    "duration": 17,
    "start_time": "2022-05-05T11:18:26.388Z"
   },
   {
    "duration": 258,
    "start_time": "2022-05-05T11:24:33.387Z"
   },
   {
    "duration": 17,
    "start_time": "2022-05-05T11:26:21.209Z"
   },
   {
    "duration": 5,
    "start_time": "2022-05-05T11:26:34.478Z"
   },
   {
    "duration": 20,
    "start_time": "2022-05-05T11:26:39.616Z"
   },
   {
    "duration": 13,
    "start_time": "2022-05-05T11:27:00.631Z"
   },
   {
    "duration": 9,
    "start_time": "2022-05-05T11:35:08.727Z"
   },
   {
    "duration": 18,
    "start_time": "2022-05-05T11:35:14.821Z"
   },
   {
    "duration": 21,
    "start_time": "2022-05-05T11:35:31.075Z"
   },
   {
    "duration": 13,
    "start_time": "2022-05-05T11:35:50.895Z"
   },
   {
    "duration": 16,
    "start_time": "2022-05-05T11:39:23.433Z"
   },
   {
    "duration": 19,
    "start_time": "2022-05-05T11:39:30.540Z"
   },
   {
    "duration": 15,
    "start_time": "2022-05-05T11:39:36.805Z"
   },
   {
    "duration": 660,
    "start_time": "2022-05-05T11:40:33.702Z"
   },
   {
    "duration": 187,
    "start_time": "2022-05-05T11:41:18.237Z"
   },
   {
    "duration": 290,
    "start_time": "2022-05-05T11:41:22.704Z"
   },
   {
    "duration": 279,
    "start_time": "2022-05-05T11:41:39.986Z"
   },
   {
    "duration": 297,
    "start_time": "2022-05-05T11:41:43.944Z"
   },
   {
    "duration": 285,
    "start_time": "2022-05-05T11:41:49.018Z"
   },
   {
    "duration": 293,
    "start_time": "2022-05-05T11:41:57.836Z"
   },
   {
    "duration": 432,
    "start_time": "2022-05-05T12:01:40.218Z"
   },
   {
    "duration": 316,
    "start_time": "2022-05-05T12:01:46.026Z"
   },
   {
    "duration": 334,
    "start_time": "2022-05-05T12:02:07.068Z"
   },
   {
    "duration": 528,
    "start_time": "2022-05-05T12:03:21.620Z"
   },
   {
    "duration": 482,
    "start_time": "2022-05-05T12:03:27.628Z"
   },
   {
    "duration": 457,
    "start_time": "2022-05-05T12:03:40.778Z"
   },
   {
    "duration": 6,
    "start_time": "2022-05-05T12:03:54.032Z"
   },
   {
    "duration": 493,
    "start_time": "2022-05-05T12:04:02.222Z"
   },
   {
    "duration": 582,
    "start_time": "2022-05-05T12:04:09.941Z"
   },
   {
    "duration": 465,
    "start_time": "2022-05-05T12:04:18.094Z"
   },
   {
    "duration": 544,
    "start_time": "2022-05-05T12:05:04.308Z"
   },
   {
    "duration": 550,
    "start_time": "2022-05-05T12:05:19.997Z"
   },
   {
    "duration": 568,
    "start_time": "2022-05-05T12:05:29.717Z"
   },
   {
    "duration": 527,
    "start_time": "2022-05-05T12:06:32.802Z"
   },
   {
    "duration": 543,
    "start_time": "2022-05-05T12:06:44.878Z"
   },
   {
    "duration": 328,
    "start_time": "2022-05-05T12:06:55.946Z"
   },
   {
    "duration": 299,
    "start_time": "2022-05-05T12:07:00.136Z"
   },
   {
    "duration": 396,
    "start_time": "2022-05-05T12:07:03.991Z"
   },
   {
    "duration": 536,
    "start_time": "2022-05-05T12:07:09.435Z"
   },
   {
    "duration": 5,
    "start_time": "2022-05-05T12:30:50.128Z"
   },
   {
    "duration": 83,
    "start_time": "2022-05-05T12:30:50.137Z"
   },
   {
    "duration": 23,
    "start_time": "2022-05-05T12:30:50.222Z"
   },
   {
    "duration": 33,
    "start_time": "2022-05-05T12:30:50.247Z"
   },
   {
    "duration": 21,
    "start_time": "2022-05-05T12:30:50.287Z"
   },
   {
    "duration": 17,
    "start_time": "2022-05-05T12:30:50.310Z"
   },
   {
    "duration": 26,
    "start_time": "2022-05-05T12:30:50.329Z"
   },
   {
    "duration": 37,
    "start_time": "2022-05-05T12:30:50.358Z"
   },
   {
    "duration": 20,
    "start_time": "2022-05-05T12:30:50.397Z"
   },
   {
    "duration": 24,
    "start_time": "2022-05-05T12:30:50.419Z"
   },
   {
    "duration": 35,
    "start_time": "2022-05-05T12:30:50.445Z"
   },
   {
    "duration": 14,
    "start_time": "2022-05-05T12:30:50.484Z"
   },
   {
    "duration": 16,
    "start_time": "2022-05-05T12:30:50.501Z"
   },
   {
    "duration": 25,
    "start_time": "2022-05-05T12:30:50.521Z"
   },
   {
    "duration": 47,
    "start_time": "2022-05-05T12:30:50.549Z"
   },
   {
    "duration": 306,
    "start_time": "2022-05-05T12:30:50.598Z"
   },
   {
    "duration": 16,
    "start_time": "2022-05-05T12:30:50.906Z"
   },
   {
    "duration": 32,
    "start_time": "2022-05-05T12:30:50.925Z"
   },
   {
    "duration": 404,
    "start_time": "2022-05-05T12:30:50.961Z"
   },
   {
    "duration": 27,
    "start_time": "2022-05-05T12:30:51.368Z"
   },
   {
    "duration": 85,
    "start_time": "2022-05-05T12:30:51.397Z"
   },
   {
    "duration": 72,
    "start_time": "2022-05-05T12:30:51.486Z"
   },
   {
    "duration": 51,
    "start_time": "2022-05-05T12:30:51.561Z"
   },
   {
    "duration": 49,
    "start_time": "2022-05-05T12:30:51.616Z"
   },
   {
    "duration": 624,
    "start_time": "2022-05-05T12:30:51.668Z"
   },
   {
    "duration": 526,
    "start_time": "2022-05-05T12:31:59.215Z"
   },
   {
    "duration": 468,
    "start_time": "2022-05-05T12:32:09.883Z"
   },
   {
    "duration": 483,
    "start_time": "2022-05-05T12:32:15.405Z"
   },
   {
    "duration": 295,
    "start_time": "2022-05-05T12:38:56.876Z"
   },
   {
    "duration": 297,
    "start_time": "2022-05-05T12:39:59.893Z"
   },
   {
    "duration": 282,
    "start_time": "2022-05-05T12:41:26.874Z"
   },
   {
    "duration": 470,
    "start_time": "2022-05-05T12:41:57.886Z"
   },
   {
    "duration": 472,
    "start_time": "2022-05-05T12:42:11.184Z"
   },
   {
    "duration": 300,
    "start_time": "2022-05-05T12:42:19.145Z"
   },
   {
    "duration": 451,
    "start_time": "2022-05-05T12:42:23.053Z"
   },
   {
    "duration": 453,
    "start_time": "2022-05-05T12:42:31.866Z"
   },
   {
    "duration": 459,
    "start_time": "2022-05-05T12:42:44.265Z"
   },
   {
    "duration": 4,
    "start_time": "2022-05-05T12:43:35.486Z"
   },
   {
    "duration": 457,
    "start_time": "2022-05-05T13:34:49.553Z"
   },
   {
    "duration": 589,
    "start_time": "2022-05-05T13:34:57.682Z"
   },
   {
    "duration": 15,
    "start_time": "2022-05-05T13:50:06.029Z"
   },
   {
    "duration": 15,
    "start_time": "2022-05-05T13:50:14.553Z"
   },
   {
    "duration": 9,
    "start_time": "2022-05-05T13:50:46.234Z"
   },
   {
    "duration": 20,
    "start_time": "2022-05-05T13:50:50.828Z"
   },
   {
    "duration": 19,
    "start_time": "2022-05-05T13:51:03.473Z"
   },
   {
    "duration": 4,
    "start_time": "2022-05-05T13:51:46.882Z"
   },
   {
    "duration": 4,
    "start_time": "2022-05-05T13:51:56.792Z"
   },
   {
    "duration": 16,
    "start_time": "2022-05-05T13:52:06.912Z"
   },
   {
    "duration": 17,
    "start_time": "2022-05-05T13:52:11.580Z"
   },
   {
    "duration": 238,
    "start_time": "2022-05-05T14:03:46.503Z"
   },
   {
    "duration": 256,
    "start_time": "2022-05-05T14:04:02.623Z"
   },
   {
    "duration": 428,
    "start_time": "2022-05-05T14:05:56.298Z"
   },
   {
    "duration": 435,
    "start_time": "2022-05-05T14:06:00.425Z"
   },
   {
    "duration": 452,
    "start_time": "2022-05-05T14:06:15.057Z"
   },
   {
    "duration": 563,
    "start_time": "2022-05-05T14:06:38.755Z"
   },
   {
    "duration": 7,
    "start_time": "2022-05-05T14:26:18.573Z"
   },
   {
    "duration": 19,
    "start_time": "2022-05-05T14:26:29.099Z"
   },
   {
    "duration": 6,
    "start_time": "2022-05-05T14:30:39.443Z"
   },
   {
    "duration": 12,
    "start_time": "2022-05-05T14:31:22.618Z"
   },
   {
    "duration": 282,
    "start_time": "2022-05-05T14:31:48.483Z"
   },
   {
    "duration": 297,
    "start_time": "2022-05-05T14:33:12.689Z"
   },
   {
    "duration": 306,
    "start_time": "2022-05-05T14:33:19.322Z"
   },
   {
    "duration": 485,
    "start_time": "2022-05-05T14:33:32.276Z"
   },
   {
    "duration": 468,
    "start_time": "2022-05-05T14:44:52.901Z"
   },
   {
    "duration": 462,
    "start_time": "2022-05-05T14:44:55.580Z"
   },
   {
    "duration": 4,
    "start_time": "2022-05-05T14:45:54.092Z"
   },
   {
    "duration": 5,
    "start_time": "2022-05-05T14:46:02.741Z"
   },
   {
    "duration": 49,
    "start_time": "2022-05-05T14:46:02.749Z"
   },
   {
    "duration": 31,
    "start_time": "2022-05-05T14:46:02.801Z"
   },
   {
    "duration": 39,
    "start_time": "2022-05-05T14:46:02.835Z"
   },
   {
    "duration": 30,
    "start_time": "2022-05-05T14:46:02.879Z"
   },
   {
    "duration": 20,
    "start_time": "2022-05-05T14:46:02.951Z"
   },
   {
    "duration": 23,
    "start_time": "2022-05-05T14:46:02.973Z"
   },
   {
    "duration": 18,
    "start_time": "2022-05-05T14:46:02.998Z"
   },
   {
    "duration": 119,
    "start_time": "2022-05-05T14:46:03.052Z"
   },
   {
    "duration": 17,
    "start_time": "2022-05-05T14:46:03.173Z"
   },
   {
    "duration": 16,
    "start_time": "2022-05-05T14:46:03.192Z"
   },
   {
    "duration": 47,
    "start_time": "2022-05-05T14:46:03.211Z"
   },
   {
    "duration": 22,
    "start_time": "2022-05-05T14:46:03.260Z"
   },
   {
    "duration": 12,
    "start_time": "2022-05-05T14:46:03.286Z"
   },
   {
    "duration": 60,
    "start_time": "2022-05-05T14:46:03.300Z"
   },
   {
    "duration": 300,
    "start_time": "2022-05-05T14:46:03.362Z"
   },
   {
    "duration": 11,
    "start_time": "2022-05-05T14:46:03.664Z"
   },
   {
    "duration": 19,
    "start_time": "2022-05-05T14:46:03.677Z"
   },
   {
    "duration": 260,
    "start_time": "2022-05-05T14:46:03.698Z"
   },
   {
    "duration": 29,
    "start_time": "2022-05-05T14:46:03.960Z"
   },
   {
    "duration": 7,
    "start_time": "2022-05-05T14:46:03.991Z"
   },
   {
    "duration": 19,
    "start_time": "2022-05-05T14:46:04.000Z"
   },
   {
    "duration": 18,
    "start_time": "2022-05-05T14:46:04.052Z"
   },
   {
    "duration": 28,
    "start_time": "2022-05-05T14:46:04.072Z"
   },
   {
    "duration": 484,
    "start_time": "2022-05-05T14:46:04.102Z"
   },
   {
    "duration": 440,
    "start_time": "2022-05-05T14:46:04.590Z"
   },
   {
    "duration": 19,
    "start_time": "2022-05-05T14:46:05.033Z"
   },
   {
    "duration": 12,
    "start_time": "2022-05-05T14:46:05.055Z"
   },
   {
    "duration": 16,
    "start_time": "2022-05-05T14:46:05.069Z"
   },
   {
    "duration": 184,
    "start_time": "2022-05-05T14:46:05.087Z"
   },
   {
    "duration": 0,
    "start_time": "2022-05-05T14:46:05.273Z"
   },
   {
    "duration": 0,
    "start_time": "2022-05-05T14:46:05.274Z"
   },
   {
    "duration": 0,
    "start_time": "2022-05-05T14:46:05.275Z"
   },
   {
    "duration": 0,
    "start_time": "2022-05-05T14:46:05.277Z"
   },
   {
    "duration": 0,
    "start_time": "2022-05-05T14:46:05.279Z"
   },
   {
    "duration": 0,
    "start_time": "2022-05-05T14:46:05.280Z"
   },
   {
    "duration": 0,
    "start_time": "2022-05-05T14:46:05.282Z"
   },
   {
    "duration": 459,
    "start_time": "2022-05-05T14:59:09.859Z"
   },
   {
    "duration": 15,
    "start_time": "2022-05-05T14:59:19.632Z"
   },
   {
    "duration": 6,
    "start_time": "2022-05-05T14:59:22.144Z"
   },
   {
    "duration": 426,
    "start_time": "2022-05-05T14:59:33.392Z"
   },
   {
    "duration": 183,
    "start_time": "2022-05-05T15:06:00.583Z"
   },
   {
    "duration": 20,
    "start_time": "2022-05-05T15:09:40.089Z"
   },
   {
    "duration": 22,
    "start_time": "2022-05-05T15:09:42.627Z"
   },
   {
    "duration": 17,
    "start_time": "2022-05-05T15:10:31.257Z"
   },
   {
    "duration": 20,
    "start_time": "2022-05-05T15:11:20.769Z"
   },
   {
    "duration": 97,
    "start_time": "2022-05-05T15:12:20.188Z"
   },
   {
    "duration": 94,
    "start_time": "2022-05-05T15:13:08.016Z"
   },
   {
    "duration": 20,
    "start_time": "2022-05-05T15:13:23.072Z"
   },
   {
    "duration": 465,
    "start_time": "2022-05-05T15:15:53.729Z"
   },
   {
    "duration": 425,
    "start_time": "2022-05-05T15:16:32.746Z"
   },
   {
    "duration": 435,
    "start_time": "2022-05-05T15:17:02.824Z"
   },
   {
    "duration": 521,
    "start_time": "2022-05-05T15:18:01.846Z"
   },
   {
    "duration": 431,
    "start_time": "2022-05-05T15:18:27.321Z"
   },
   {
    "duration": 404,
    "start_time": "2022-05-05T15:18:37.063Z"
   },
   {
    "duration": 8,
    "start_time": "2022-05-05T15:19:30.737Z"
   },
   {
    "duration": 424,
    "start_time": "2022-05-05T15:19:35.652Z"
   },
   {
    "duration": 385,
    "start_time": "2022-05-05T15:19:47.829Z"
   },
   {
    "duration": 377,
    "start_time": "2022-05-05T15:20:02.030Z"
   },
   {
    "duration": 626,
    "start_time": "2022-05-05T15:20:10.388Z"
   },
   {
    "duration": 350,
    "start_time": "2022-05-05T15:20:14.762Z"
   },
   {
    "duration": 345,
    "start_time": "2022-05-05T15:20:30.541Z"
   },
   {
    "duration": 563,
    "start_time": "2022-05-05T15:20:39.661Z"
   },
   {
    "duration": 950,
    "start_time": "2022-05-05T15:21:02.872Z"
   },
   {
    "duration": 516,
    "start_time": "2022-05-05T15:21:52.666Z"
   },
   {
    "duration": 74,
    "start_time": "2022-05-07T07:49:47.091Z"
   },
   {
    "duration": 1755,
    "start_time": "2022-05-07T07:50:00.138Z"
   },
   {
    "duration": 63,
    "start_time": "2022-05-07T07:50:01.896Z"
   },
   {
    "duration": 29,
    "start_time": "2022-05-07T07:50:01.962Z"
   },
   {
    "duration": 23,
    "start_time": "2022-05-07T07:50:01.994Z"
   },
   {
    "duration": 35,
    "start_time": "2022-05-07T07:50:02.020Z"
   },
   {
    "duration": 44,
    "start_time": "2022-05-07T07:50:02.058Z"
   },
   {
    "duration": 22,
    "start_time": "2022-05-07T07:50:02.105Z"
   },
   {
    "duration": 35,
    "start_time": "2022-05-07T07:50:02.129Z"
   },
   {
    "duration": 41,
    "start_time": "2022-05-07T07:50:02.167Z"
   },
   {
    "duration": 36,
    "start_time": "2022-05-07T07:50:02.212Z"
   },
   {
    "duration": 30,
    "start_time": "2022-05-07T07:50:02.250Z"
   },
   {
    "duration": 15,
    "start_time": "2022-05-07T07:50:02.282Z"
   },
   {
    "duration": 11,
    "start_time": "2022-05-07T07:50:02.300Z"
   },
   {
    "duration": 17,
    "start_time": "2022-05-07T07:50:02.314Z"
   },
   {
    "duration": 25,
    "start_time": "2022-05-07T07:50:02.333Z"
   },
   {
    "duration": 300,
    "start_time": "2022-05-07T07:50:02.360Z"
   },
   {
    "duration": 22,
    "start_time": "2022-05-07T07:50:02.662Z"
   },
   {
    "duration": 16,
    "start_time": "2022-05-07T07:50:02.687Z"
   },
   {
    "duration": 234,
    "start_time": "2022-05-07T07:50:02.705Z"
   },
   {
    "duration": 142,
    "start_time": "2022-05-07T07:50:02.942Z"
   },
   {
    "duration": 0,
    "start_time": "2022-05-07T07:50:03.086Z"
   },
   {
    "duration": 0,
    "start_time": "2022-05-07T07:50:03.088Z"
   },
   {
    "duration": 0,
    "start_time": "2022-05-07T07:50:03.089Z"
   },
   {
    "duration": 0,
    "start_time": "2022-05-07T07:50:03.091Z"
   },
   {
    "duration": 0,
    "start_time": "2022-05-07T07:50:03.094Z"
   },
   {
    "duration": 0,
    "start_time": "2022-05-07T07:50:03.096Z"
   },
   {
    "duration": 0,
    "start_time": "2022-05-07T07:50:03.097Z"
   },
   {
    "duration": 0,
    "start_time": "2022-05-07T07:50:03.099Z"
   },
   {
    "duration": 0,
    "start_time": "2022-05-07T07:50:03.100Z"
   },
   {
    "duration": 0,
    "start_time": "2022-05-07T07:50:03.102Z"
   },
   {
    "duration": 0,
    "start_time": "2022-05-07T07:50:03.104Z"
   },
   {
    "duration": 1,
    "start_time": "2022-05-07T07:50:03.105Z"
   },
   {
    "duration": 0,
    "start_time": "2022-05-07T07:50:03.108Z"
   },
   {
    "duration": 0,
    "start_time": "2022-05-07T07:50:03.109Z"
   },
   {
    "duration": 0,
    "start_time": "2022-05-07T07:50:03.111Z"
   },
   {
    "duration": 0,
    "start_time": "2022-05-07T07:50:03.113Z"
   },
   {
    "duration": 0,
    "start_time": "2022-05-07T07:50:03.114Z"
   },
   {
    "duration": 0,
    "start_time": "2022-05-07T07:50:03.116Z"
   },
   {
    "duration": 0,
    "start_time": "2022-05-07T07:50:03.118Z"
   },
   {
    "duration": 232,
    "start_time": "2022-05-07T07:50:18.651Z"
   },
   {
    "duration": 18,
    "start_time": "2022-05-07T07:50:29.986Z"
   },
   {
    "duration": 22,
    "start_time": "2022-05-07T07:50:42.471Z"
   },
   {
    "duration": 17,
    "start_time": "2022-05-07T07:51:10.002Z"
   },
   {
    "duration": 4,
    "start_time": "2022-05-07T07:52:24.777Z"
   },
   {
    "duration": 45,
    "start_time": "2022-05-07T07:52:24.784Z"
   },
   {
    "duration": 22,
    "start_time": "2022-05-07T07:52:24.832Z"
   },
   {
    "duration": 43,
    "start_time": "2022-05-07T07:52:24.857Z"
   },
   {
    "duration": 20,
    "start_time": "2022-05-07T07:52:24.902Z"
   },
   {
    "duration": 17,
    "start_time": "2022-05-07T07:52:24.925Z"
   },
   {
    "duration": 15,
    "start_time": "2022-05-07T07:52:24.982Z"
   },
   {
    "duration": 19,
    "start_time": "2022-05-07T07:52:25.000Z"
   },
   {
    "duration": 27,
    "start_time": "2022-05-07T07:52:25.021Z"
   },
   {
    "duration": 34,
    "start_time": "2022-05-07T07:52:25.053Z"
   },
   {
    "duration": 16,
    "start_time": "2022-05-07T07:52:25.089Z"
   },
   {
    "duration": 12,
    "start_time": "2022-05-07T07:52:25.107Z"
   },
   {
    "duration": 12,
    "start_time": "2022-05-07T07:52:25.121Z"
   },
   {
    "duration": 50,
    "start_time": "2022-05-07T07:52:25.135Z"
   },
   {
    "duration": 15,
    "start_time": "2022-05-07T07:52:25.187Z"
   },
   {
    "duration": 303,
    "start_time": "2022-05-07T07:52:25.204Z"
   },
   {
    "duration": 10,
    "start_time": "2022-05-07T07:52:25.509Z"
   },
   {
    "duration": 19,
    "start_time": "2022-05-07T07:52:25.520Z"
   },
   {
    "duration": 247,
    "start_time": "2022-05-07T07:52:25.541Z"
   },
   {
    "duration": 19,
    "start_time": "2022-05-07T07:52:25.790Z"
   },
   {
    "duration": 4,
    "start_time": "2022-05-07T07:52:25.811Z"
   },
   {
    "duration": 15,
    "start_time": "2022-05-07T07:52:25.817Z"
   },
   {
    "duration": 57,
    "start_time": "2022-05-07T07:52:25.835Z"
   },
   {
    "duration": 14,
    "start_time": "2022-05-07T07:52:25.894Z"
   },
   {
    "duration": 597,
    "start_time": "2022-05-07T07:52:25.910Z"
   },
   {
    "duration": 876,
    "start_time": "2022-05-07T07:52:26.509Z"
   },
   {
    "duration": 16,
    "start_time": "2022-05-07T07:52:27.388Z"
   },
   {
    "duration": 11,
    "start_time": "2022-05-07T07:52:27.408Z"
   },
   {
    "duration": 64,
    "start_time": "2022-05-07T07:52:27.421Z"
   },
   {
    "duration": 12,
    "start_time": "2022-05-07T07:52:27.487Z"
   },
   {
    "duration": 781,
    "start_time": "2022-05-07T07:52:27.501Z"
   },
   {
    "duration": 15,
    "start_time": "2022-05-07T07:52:28.284Z"
   },
   {
    "duration": 9,
    "start_time": "2022-05-07T07:52:28.301Z"
   },
   {
    "duration": 695,
    "start_time": "2022-05-07T07:52:28.311Z"
   },
   {
    "duration": 75,
    "start_time": "2022-05-07T07:52:29.008Z"
   },
   {
    "duration": 637,
    "start_time": "2022-05-07T07:52:29.085Z"
   },
   {
    "duration": 64,
    "start_time": "2022-05-07T07:52:29.725Z"
   },
   {
    "duration": 0,
    "start_time": "2022-05-07T07:52:29.791Z"
   },
   {
    "duration": 0,
    "start_time": "2022-05-07T07:52:29.793Z"
   },
   {
    "duration": 20,
    "start_time": "2022-05-07T07:59:36.785Z"
   },
   {
    "duration": 18,
    "start_time": "2022-05-07T08:04:19.798Z"
   },
   {
    "duration": 18,
    "start_time": "2022-05-07T08:05:20.407Z"
   },
   {
    "duration": 16,
    "start_time": "2022-05-07T08:06:19.120Z"
   },
   {
    "duration": 11,
    "start_time": "2022-05-07T08:08:02.423Z"
   },
   {
    "duration": 14,
    "start_time": "2022-05-07T08:10:42.461Z"
   },
   {
    "duration": 200,
    "start_time": "2022-05-07T08:11:05.227Z"
   },
   {
    "duration": 196,
    "start_time": "2022-05-07T08:11:08.362Z"
   },
   {
    "duration": 281,
    "start_time": "2022-05-07T08:11:29.356Z"
   },
   {
    "duration": 191,
    "start_time": "2022-05-07T08:12:07.840Z"
   },
   {
    "duration": 222,
    "start_time": "2022-05-07T08:12:14.964Z"
   },
   {
    "duration": 199,
    "start_time": "2022-05-07T08:12:23.170Z"
   },
   {
    "duration": 197,
    "start_time": "2022-05-07T08:12:27.495Z"
   },
   {
    "duration": 163,
    "start_time": "2022-05-07T08:13:26.657Z"
   },
   {
    "duration": 168,
    "start_time": "2022-05-07T08:13:29.978Z"
   },
   {
    "duration": 10,
    "start_time": "2022-05-07T08:16:39.433Z"
   },
   {
    "duration": 11,
    "start_time": "2022-05-07T08:16:57.595Z"
   },
   {
    "duration": 12,
    "start_time": "2022-05-07T08:18:24.998Z"
   },
   {
    "duration": 95,
    "start_time": "2022-05-07T08:18:34.525Z"
   },
   {
    "duration": 176,
    "start_time": "2022-05-07T08:18:37.903Z"
   },
   {
    "duration": 98,
    "start_time": "2022-05-07T08:18:41.971Z"
   },
   {
    "duration": 162,
    "start_time": "2022-05-07T08:18:45.195Z"
   },
   {
    "duration": 7,
    "start_time": "2022-05-07T08:26:00.349Z"
   },
   {
    "duration": 5,
    "start_time": "2022-05-07T08:27:04.518Z"
   },
   {
    "duration": 104,
    "start_time": "2022-05-07T08:27:56.240Z"
   },
   {
    "duration": 7,
    "start_time": "2022-05-07T08:28:00.768Z"
   },
   {
    "duration": 13,
    "start_time": "2022-05-07T08:32:31.070Z"
   },
   {
    "duration": 189,
    "start_time": "2022-05-07T08:33:09.558Z"
   },
   {
    "duration": 172,
    "start_time": "2022-05-07T08:33:15.508Z"
   },
   {
    "duration": 384,
    "start_time": "2022-05-07T08:33:41.945Z"
   },
   {
    "duration": 191,
    "start_time": "2022-05-07T08:34:09.572Z"
   },
   {
    "duration": 184,
    "start_time": "2022-05-07T08:34:18.682Z"
   },
   {
    "duration": 14,
    "start_time": "2022-05-07T08:35:00.666Z"
   },
   {
    "duration": 210,
    "start_time": "2022-05-07T08:35:18.477Z"
   },
   {
    "duration": 197,
    "start_time": "2022-05-07T08:35:24.154Z"
   },
   {
    "duration": 17,
    "start_time": "2022-05-07T08:38:01.529Z"
   },
   {
    "duration": 16,
    "start_time": "2022-05-07T08:41:13.180Z"
   },
   {
    "duration": 20,
    "start_time": "2022-05-07T08:41:22.223Z"
   },
   {
    "duration": 195,
    "start_time": "2022-05-07T08:43:53.353Z"
   },
   {
    "duration": 212,
    "start_time": "2022-05-07T08:45:07.764Z"
   },
   {
    "duration": 5,
    "start_time": "2022-05-07T08:45:18.892Z"
   },
   {
    "duration": 44,
    "start_time": "2022-05-07T08:45:18.900Z"
   },
   {
    "duration": 22,
    "start_time": "2022-05-07T08:45:18.946Z"
   },
   {
    "duration": 37,
    "start_time": "2022-05-07T08:45:18.971Z"
   },
   {
    "duration": 29,
    "start_time": "2022-05-07T08:45:19.013Z"
   },
   {
    "duration": 52,
    "start_time": "2022-05-07T08:45:19.045Z"
   },
   {
    "duration": 23,
    "start_time": "2022-05-07T08:45:19.100Z"
   },
   {
    "duration": 18,
    "start_time": "2022-05-07T08:45:19.125Z"
   },
   {
    "duration": 49,
    "start_time": "2022-05-07T08:45:19.145Z"
   },
   {
    "duration": 18,
    "start_time": "2022-05-07T08:45:19.197Z"
   },
   {
    "duration": 16,
    "start_time": "2022-05-07T08:45:19.218Z"
   },
   {
    "duration": 53,
    "start_time": "2022-05-07T08:45:19.236Z"
   },
   {
    "duration": 15,
    "start_time": "2022-05-07T08:45:19.291Z"
   },
   {
    "duration": 11,
    "start_time": "2022-05-07T08:45:19.311Z"
   },
   {
    "duration": 15,
    "start_time": "2022-05-07T08:45:19.324Z"
   },
   {
    "duration": 311,
    "start_time": "2022-05-07T08:45:19.341Z"
   },
   {
    "duration": 11,
    "start_time": "2022-05-07T08:45:19.654Z"
   },
   {
    "duration": 15,
    "start_time": "2022-05-07T08:45:19.682Z"
   },
   {
    "duration": 241,
    "start_time": "2022-05-07T08:45:19.700Z"
   },
   {
    "duration": 38,
    "start_time": "2022-05-07T08:45:19.944Z"
   },
   {
    "duration": 3,
    "start_time": "2022-05-07T08:45:19.984Z"
   },
   {
    "duration": 15,
    "start_time": "2022-05-07T08:45:19.990Z"
   },
   {
    "duration": 18,
    "start_time": "2022-05-07T08:45:20.008Z"
   },
   {
    "duration": 16,
    "start_time": "2022-05-07T08:45:20.028Z"
   },
   {
    "duration": 459,
    "start_time": "2022-05-07T08:45:20.082Z"
   },
   {
    "duration": 569,
    "start_time": "2022-05-07T08:45:20.544Z"
   },
   {
    "duration": 11,
    "start_time": "2022-05-07T08:45:21.115Z"
   },
   {
    "duration": 15,
    "start_time": "2022-05-07T08:45:21.182Z"
   },
   {
    "duration": 17,
    "start_time": "2022-05-07T08:45:21.200Z"
   },
   {
    "duration": 81,
    "start_time": "2022-05-07T08:45:21.219Z"
   },
   {
    "duration": 794,
    "start_time": "2022-05-07T08:45:21.302Z"
   },
   {
    "duration": 16,
    "start_time": "2022-05-07T08:45:22.098Z"
   },
   {
    "duration": 13,
    "start_time": "2022-05-07T08:45:22.116Z"
   },
   {
    "duration": 751,
    "start_time": "2022-05-07T08:45:22.131Z"
   },
   {
    "duration": 19,
    "start_time": "2022-05-07T08:45:22.884Z"
   },
   {
    "duration": 933,
    "start_time": "2022-05-07T08:45:22.905Z"
   },
   {
    "duration": 52,
    "start_time": "2022-05-07T08:45:23.840Z"
   },
   {
    "duration": 190,
    "start_time": "2022-05-07T08:45:23.894Z"
   },
   {
    "duration": 194,
    "start_time": "2022-05-07T08:45:24.086Z"
   },
   {
    "duration": 15,
    "start_time": "2022-05-07T08:45:24.283Z"
   },
   {
    "duration": 15,
    "start_time": "2022-05-07T08:45:24.305Z"
   },
   {
    "duration": 259,
    "start_time": "2022-05-07T08:45:24.323Z"
   },
   {
    "duration": 0,
    "start_time": "2022-05-07T08:45:24.584Z"
   },
   {
    "duration": 206,
    "start_time": "2022-05-07T08:45:29.237Z"
   },
   {
    "duration": 206,
    "start_time": "2022-05-07T08:46:01.249Z"
   },
   {
    "duration": 212,
    "start_time": "2022-05-07T08:46:04.173Z"
   },
   {
    "duration": 578,
    "start_time": "2022-05-07T08:46:08.319Z"
   },
   {
    "duration": 218,
    "start_time": "2022-05-07T08:46:13.125Z"
   },
   {
    "duration": 314,
    "start_time": "2022-05-07T08:47:14.461Z"
   },
   {
    "duration": 13,
    "start_time": "2022-05-07T08:48:43.149Z"
   },
   {
    "duration": 16,
    "start_time": "2022-05-07T08:51:11.334Z"
   },
   {
    "duration": 16,
    "start_time": "2022-05-07T08:51:25.925Z"
   },
   {
    "duration": 219,
    "start_time": "2022-05-07T08:51:38.453Z"
   },
   {
    "duration": 195,
    "start_time": "2022-05-07T08:51:42.926Z"
   },
   {
    "duration": 100,
    "start_time": "2022-05-07T09:29:46.277Z"
   },
   {
    "duration": 12,
    "start_time": "2022-05-07T09:29:55.410Z"
   },
   {
    "duration": 19,
    "start_time": "2022-05-07T09:40:06.585Z"
   },
   {
    "duration": 15,
    "start_time": "2022-05-07T09:40:16.065Z"
   },
   {
    "duration": 7,
    "start_time": "2022-05-07T09:41:02.739Z"
   },
   {
    "duration": 15,
    "start_time": "2022-05-07T09:41:13.985Z"
   },
   {
    "duration": 13,
    "start_time": "2022-05-07T09:41:20.003Z"
   },
   {
    "duration": 13,
    "start_time": "2022-05-07T09:41:35.282Z"
   },
   {
    "duration": 73,
    "start_time": "2022-05-07T09:43:45.668Z"
   },
   {
    "duration": 81,
    "start_time": "2022-05-07T09:43:57.371Z"
   },
   {
    "duration": 79,
    "start_time": "2022-05-07T09:44:32.525Z"
   },
   {
    "duration": 78,
    "start_time": "2022-05-07T09:44:39.601Z"
   },
   {
    "duration": 193,
    "start_time": "2022-05-07T09:44:53.146Z"
   },
   {
    "duration": 118,
    "start_time": "2022-05-07T09:45:07.092Z"
   },
   {
    "duration": 119,
    "start_time": "2022-05-07T09:45:17.884Z"
   },
   {
    "duration": 81,
    "start_time": "2022-05-07T09:45:25.426Z"
   },
   {
    "duration": 80,
    "start_time": "2022-05-07T09:45:35.512Z"
   },
   {
    "duration": 117,
    "start_time": "2022-05-07T09:54:37.191Z"
   },
   {
    "duration": 106,
    "start_time": "2022-05-07T09:54:44.642Z"
   },
   {
    "duration": 91,
    "start_time": "2022-05-07T09:55:07.320Z"
   },
   {
    "duration": 89,
    "start_time": "2022-05-07T09:55:21.071Z"
   },
   {
    "duration": 87,
    "start_time": "2022-05-07T09:55:34.137Z"
   },
   {
    "duration": 12,
    "start_time": "2022-05-07T09:56:40.456Z"
   },
   {
    "duration": 23,
    "start_time": "2022-05-07T09:57:52.551Z"
   },
   {
    "duration": 30,
    "start_time": "2022-05-07T09:58:03.184Z"
   },
   {
    "duration": 22,
    "start_time": "2022-05-07T09:58:24.350Z"
   },
   {
    "duration": 103,
    "start_time": "2022-05-07T10:01:29.514Z"
   },
   {
    "duration": 33,
    "start_time": "2022-05-07T10:01:33.936Z"
   },
   {
    "duration": 82,
    "start_time": "2022-05-07T10:01:53.444Z"
   },
   {
    "duration": 88,
    "start_time": "2022-05-07T10:02:04.188Z"
   },
   {
    "duration": 91,
    "start_time": "2022-05-07T10:02:37.145Z"
   },
   {
    "duration": 113,
    "start_time": "2022-05-07T10:05:15.912Z"
   },
   {
    "duration": 139,
    "start_time": "2022-05-07T10:08:28.298Z"
   },
   {
    "duration": 126,
    "start_time": "2022-05-07T10:09:51.462Z"
   },
   {
    "duration": 13,
    "start_time": "2022-05-07T10:12:41.147Z"
   },
   {
    "duration": 22,
    "start_time": "2022-05-07T10:12:46.398Z"
   },
   {
    "duration": 23,
    "start_time": "2022-05-07T10:13:15.461Z"
   },
   {
    "duration": 22,
    "start_time": "2022-05-07T10:13:22.461Z"
   },
   {
    "duration": 32,
    "start_time": "2022-05-07T10:13:28.687Z"
   },
   {
    "duration": 88,
    "start_time": "2022-05-07T10:13:50.000Z"
   },
   {
    "duration": 140,
    "start_time": "2022-05-07T10:15:40.281Z"
   },
   {
    "duration": 88,
    "start_time": "2022-05-07T10:15:43.866Z"
   },
   {
    "duration": 25,
    "start_time": "2022-05-07T10:18:42.826Z"
   },
   {
    "duration": 26,
    "start_time": "2022-05-07T10:19:10.326Z"
   },
   {
    "duration": 5,
    "start_time": "2022-05-07T10:19:15.413Z"
   },
   {
    "duration": 42,
    "start_time": "2022-05-07T10:19:15.422Z"
   },
   {
    "duration": 23,
    "start_time": "2022-05-07T10:19:15.467Z"
   },
   {
    "duration": 26,
    "start_time": "2022-05-07T10:19:15.493Z"
   },
   {
    "duration": 63,
    "start_time": "2022-05-07T10:19:15.523Z"
   },
   {
    "duration": 18,
    "start_time": "2022-05-07T10:19:15.588Z"
   },
   {
    "duration": 18,
    "start_time": "2022-05-07T10:19:15.609Z"
   },
   {
    "duration": 53,
    "start_time": "2022-05-07T10:19:15.629Z"
   },
   {
    "duration": 16,
    "start_time": "2022-05-07T10:19:15.685Z"
   },
   {
    "duration": 14,
    "start_time": "2022-05-07T10:19:15.704Z"
   },
   {
    "duration": 18,
    "start_time": "2022-05-07T10:19:15.720Z"
   },
   {
    "duration": 49,
    "start_time": "2022-05-07T10:19:15.740Z"
   },
   {
    "duration": 13,
    "start_time": "2022-05-07T10:19:15.791Z"
   },
   {
    "duration": 22,
    "start_time": "2022-05-07T10:19:15.807Z"
   },
   {
    "duration": 33,
    "start_time": "2022-05-07T10:19:15.831Z"
   },
   {
    "duration": 295,
    "start_time": "2022-05-07T10:19:15.867Z"
   },
   {
    "duration": 20,
    "start_time": "2022-05-07T10:19:16.164Z"
   },
   {
    "duration": 20,
    "start_time": "2022-05-07T10:19:16.187Z"
   },
   {
    "duration": 230,
    "start_time": "2022-05-07T10:19:16.209Z"
   },
   {
    "duration": 25,
    "start_time": "2022-05-07T10:19:16.441Z"
   },
   {
    "duration": 3,
    "start_time": "2022-05-07T10:19:16.481Z"
   },
   {
    "duration": 17,
    "start_time": "2022-05-07T10:19:16.487Z"
   },
   {
    "duration": 18,
    "start_time": "2022-05-07T10:19:16.507Z"
   },
   {
    "duration": 13,
    "start_time": "2022-05-07T10:19:16.532Z"
   },
   {
    "duration": 461,
    "start_time": "2022-05-07T10:19:16.583Z"
   },
   {
    "duration": 454,
    "start_time": "2022-05-07T10:19:17.048Z"
   },
   {
    "duration": 11,
    "start_time": "2022-05-07T10:19:17.504Z"
   },
   {
    "duration": 14,
    "start_time": "2022-05-07T10:19:17.517Z"
   },
   {
    "duration": 16,
    "start_time": "2022-05-07T10:19:17.533Z"
   },
   {
    "duration": 13,
    "start_time": "2022-05-07T10:19:17.582Z"
   },
   {
    "duration": 558,
    "start_time": "2022-05-07T10:19:17.598Z"
   },
   {
    "duration": 25,
    "start_time": "2022-05-07T10:19:18.158Z"
   },
   {
    "duration": 7,
    "start_time": "2022-05-07T10:19:18.186Z"
   },
   {
    "duration": 471,
    "start_time": "2022-05-07T10:19:18.196Z"
   },
   {
    "duration": 26,
    "start_time": "2022-05-07T10:19:18.670Z"
   },
   {
    "duration": 516,
    "start_time": "2022-05-07T10:19:18.699Z"
   },
   {
    "duration": 16,
    "start_time": "2022-05-07T10:19:19.217Z"
   },
   {
    "duration": 204,
    "start_time": "2022-05-07T10:19:19.235Z"
   },
   {
    "duration": 197,
    "start_time": "2022-05-07T10:19:19.441Z"
   },
   {
    "duration": 12,
    "start_time": "2022-05-07T10:19:19.640Z"
   },
   {
    "duration": 35,
    "start_time": "2022-05-07T10:19:19.654Z"
   },
   {
    "duration": 313,
    "start_time": "2022-05-07T10:19:19.691Z"
   },
   {
    "duration": 608,
    "start_time": "2022-05-07T10:19:20.006Z"
   },
   {
    "duration": 67,
    "start_time": "2022-05-07T10:19:20.616Z"
   },
   {
    "duration": 11,
    "start_time": "2022-05-07T10:19:20.685Z"
   },
   {
    "duration": 20,
    "start_time": "2022-05-07T10:19:20.698Z"
   },
   {
    "duration": 182,
    "start_time": "2022-05-07T10:19:20.722Z"
   },
   {
    "duration": 198,
    "start_time": "2022-05-07T10:19:20.906Z"
   },
   {
    "duration": 12,
    "start_time": "2022-05-07T10:19:21.106Z"
   },
   {
    "duration": 74,
    "start_time": "2022-05-07T10:19:21.120Z"
   },
   {
    "duration": 192,
    "start_time": "2022-05-07T10:19:21.196Z"
   },
   {
    "duration": 29,
    "start_time": "2022-05-07T10:19:21.391Z"
   },
   {
    "duration": 192,
    "start_time": "2022-05-07T10:19:21.422Z"
   },
   {
    "duration": 75,
    "start_time": "2022-05-07T10:19:21.616Z"
   },
   {
    "duration": 0,
    "start_time": "2022-05-07T10:19:21.694Z"
   },
   {
    "duration": 31,
    "start_time": "2022-05-07T10:20:09.440Z"
   },
   {
    "duration": 88,
    "start_time": "2022-05-07T10:20:43.307Z"
   },
   {
    "duration": 44,
    "start_time": "2022-05-07T10:20:47.353Z"
   },
   {
    "duration": 20,
    "start_time": "2022-05-07T10:30:25.517Z"
   },
   {
    "duration": 29,
    "start_time": "2022-05-07T10:30:47.175Z"
   },
   {
    "duration": 12,
    "start_time": "2022-05-07T10:30:54.381Z"
   },
   {
    "duration": 26,
    "start_time": "2022-05-07T10:30:59.313Z"
   },
   {
    "duration": 24,
    "start_time": "2022-05-07T10:31:03.609Z"
   },
   {
    "duration": 17,
    "start_time": "2022-05-07T10:32:52.504Z"
   },
   {
    "duration": 159,
    "start_time": "2022-05-07T10:33:35.493Z"
   },
   {
    "duration": 160,
    "start_time": "2022-05-07T10:33:41.930Z"
   },
   {
    "duration": 164,
    "start_time": "2022-05-07T10:33:48.744Z"
   },
   {
    "duration": 7,
    "start_time": "2022-05-07T10:36:03.232Z"
   },
   {
    "duration": 13,
    "start_time": "2022-05-07T10:36:07.725Z"
   },
   {
    "duration": 10,
    "start_time": "2022-05-07T10:36:16.830Z"
   },
   {
    "duration": 1861,
    "start_time": "2022-05-07T10:37:12.801Z"
   },
   {
    "duration": 11,
    "start_time": "2022-05-07T10:37:34.636Z"
   },
   {
    "duration": 9,
    "start_time": "2022-05-07T10:37:39.518Z"
   },
   {
    "duration": 9,
    "start_time": "2022-05-07T10:40:36.862Z"
   },
   {
    "duration": 10,
    "start_time": "2022-05-07T10:41:18.688Z"
   },
   {
    "duration": 10,
    "start_time": "2022-05-07T10:42:08.494Z"
   },
   {
    "duration": 31,
    "start_time": "2022-05-07T10:43:42.004Z"
   },
   {
    "duration": 33,
    "start_time": "2022-05-07T10:45:34.404Z"
   },
   {
    "duration": 48,
    "start_time": "2022-05-07T10:46:16.389Z"
   },
   {
    "duration": 53,
    "start_time": "2022-05-07T10:46:22.613Z"
   },
   {
    "duration": 12,
    "start_time": "2022-05-07T10:47:06.741Z"
   },
   {
    "duration": 16,
    "start_time": "2022-05-07T10:47:45.866Z"
   },
   {
    "duration": 104,
    "start_time": "2022-05-07T10:47:54.931Z"
   },
   {
    "duration": 16,
    "start_time": "2022-05-07T10:47:59.077Z"
   },
   {
    "duration": 15,
    "start_time": "2022-05-07T10:48:21.135Z"
   },
   {
    "duration": 16,
    "start_time": "2022-05-07T10:49:44.557Z"
   },
   {
    "duration": 20,
    "start_time": "2022-05-07T11:03:49.960Z"
   },
   {
    "duration": 12,
    "start_time": "2022-05-07T11:04:06.319Z"
   },
   {
    "duration": 19,
    "start_time": "2022-05-07T11:18:49.288Z"
   },
   {
    "duration": 1681,
    "start_time": "2022-05-07T11:19:20.432Z"
   },
   {
    "duration": 12,
    "start_time": "2022-05-07T11:19:29.709Z"
   },
   {
    "duration": 11,
    "start_time": "2022-05-07T11:19:38.619Z"
   },
   {
    "duration": 13,
    "start_time": "2022-05-07T11:21:16.687Z"
   },
   {
    "duration": 6,
    "start_time": "2022-05-07T11:22:09.210Z"
   },
   {
    "duration": 12,
    "start_time": "2022-05-07T11:22:16.318Z"
   },
   {
    "duration": 8,
    "start_time": "2022-05-07T11:22:42.278Z"
   },
   {
    "duration": 13,
    "start_time": "2022-05-07T11:22:47.233Z"
   },
   {
    "duration": 12,
    "start_time": "2022-05-07T11:22:51.590Z"
   },
   {
    "duration": 6,
    "start_time": "2022-05-07T11:23:30.736Z"
   },
   {
    "duration": 17,
    "start_time": "2022-05-07T11:27:15.033Z"
   },
   {
    "duration": 20,
    "start_time": "2022-05-07T11:27:54.765Z"
   },
   {
    "duration": 25,
    "start_time": "2022-05-07T11:30:00.511Z"
   },
   {
    "duration": 10,
    "start_time": "2022-05-07T11:30:09.205Z"
   },
   {
    "duration": 14,
    "start_time": "2022-05-07T11:33:25.104Z"
   },
   {
    "duration": 1693,
    "start_time": "2022-05-07T11:34:10.404Z"
   },
   {
    "duration": 1835,
    "start_time": "2022-05-07T11:34:23.410Z"
   },
   {
    "duration": 2103,
    "start_time": "2022-05-07T11:34:30.841Z"
   },
   {
    "duration": 12,
    "start_time": "2022-05-07T11:34:33.864Z"
   },
   {
    "duration": 1743,
    "start_time": "2022-05-07T11:37:25.701Z"
   },
   {
    "duration": 19,
    "start_time": "2022-05-07T11:37:34.569Z"
   },
   {
    "duration": 47,
    "start_time": "2022-05-07T11:39:43.335Z"
   },
   {
    "duration": 5,
    "start_time": "2022-05-07T11:40:03.661Z"
   },
   {
    "duration": 46,
    "start_time": "2022-05-07T11:40:06.068Z"
   },
   {
    "duration": 63,
    "start_time": "2022-05-07T11:40:10.574Z"
   },
   {
    "duration": 6,
    "start_time": "2022-05-07T12:29:06.914Z"
   },
   {
    "duration": 47,
    "start_time": "2022-05-07T12:29:06.924Z"
   },
   {
    "duration": 30,
    "start_time": "2022-05-07T12:29:06.974Z"
   },
   {
    "duration": 33,
    "start_time": "2022-05-07T12:29:07.007Z"
   },
   {
    "duration": 63,
    "start_time": "2022-05-07T12:29:07.045Z"
   },
   {
    "duration": 19,
    "start_time": "2022-05-07T12:29:07.111Z"
   },
   {
    "duration": 59,
    "start_time": "2022-05-07T12:29:07.134Z"
   },
   {
    "duration": 31,
    "start_time": "2022-05-07T12:29:07.197Z"
   },
   {
    "duration": 45,
    "start_time": "2022-05-07T12:29:07.231Z"
   },
   {
    "duration": 35,
    "start_time": "2022-05-07T12:29:07.278Z"
   },
   {
    "duration": 26,
    "start_time": "2022-05-07T12:29:07.316Z"
   },
   {
    "duration": 39,
    "start_time": "2022-05-07T12:29:07.346Z"
   },
   {
    "duration": 25,
    "start_time": "2022-05-07T12:29:07.388Z"
   },
   {
    "duration": 14,
    "start_time": "2022-05-07T12:29:07.418Z"
   },
   {
    "duration": 50,
    "start_time": "2022-05-07T12:29:07.434Z"
   },
   {
    "duration": 309,
    "start_time": "2022-05-07T12:29:07.486Z"
   },
   {
    "duration": 12,
    "start_time": "2022-05-07T12:29:07.797Z"
   },
   {
    "duration": 18,
    "start_time": "2022-05-07T12:29:07.812Z"
   },
   {
    "duration": 267,
    "start_time": "2022-05-07T12:29:07.832Z"
   },
   {
    "duration": 31,
    "start_time": "2022-05-07T12:29:08.102Z"
   },
   {
    "duration": 8,
    "start_time": "2022-05-07T12:29:08.137Z"
   },
   {
    "duration": 49,
    "start_time": "2022-05-07T12:29:08.151Z"
   },
   {
    "duration": 122,
    "start_time": "2022-05-07T12:29:08.203Z"
   },
   {
    "duration": 120,
    "start_time": "2022-05-07T12:29:08.332Z"
   },
   {
    "duration": 632,
    "start_time": "2022-05-07T12:29:08.455Z"
   },
   {
    "duration": 632,
    "start_time": "2022-05-07T12:29:09.090Z"
   },
   {
    "duration": 17,
    "start_time": "2022-05-07T12:29:09.725Z"
   },
   {
    "duration": 46,
    "start_time": "2022-05-07T12:29:09.745Z"
   },
   {
    "duration": 27,
    "start_time": "2022-05-07T12:29:09.794Z"
   },
   {
    "duration": 19,
    "start_time": "2022-05-07T12:29:09.823Z"
   },
   {
    "duration": 577,
    "start_time": "2022-05-07T12:29:09.845Z"
   },
   {
    "duration": 27,
    "start_time": "2022-05-07T12:29:10.425Z"
   },
   {
    "duration": 34,
    "start_time": "2022-05-07T12:29:10.455Z"
   },
   {
    "duration": 455,
    "start_time": "2022-05-07T12:29:10.493Z"
   },
   {
    "duration": 31,
    "start_time": "2022-05-07T12:29:10.951Z"
   },
   {
    "duration": 656,
    "start_time": "2022-05-07T12:29:10.985Z"
   },
   {
    "duration": 38,
    "start_time": "2022-05-07T12:29:11.645Z"
   },
   {
    "duration": 304,
    "start_time": "2022-05-07T12:29:11.686Z"
   },
   {
    "duration": 420,
    "start_time": "2022-05-07T12:29:11.993Z"
   },
   {
    "duration": 17,
    "start_time": "2022-05-07T12:29:12.417Z"
   },
   {
    "duration": 48,
    "start_time": "2022-05-07T12:29:12.446Z"
   },
   {
    "duration": 334,
    "start_time": "2022-05-07T12:29:12.497Z"
   },
   {
    "duration": 328,
    "start_time": "2022-05-07T12:29:12.835Z"
   },
   {
    "duration": 26,
    "start_time": "2022-05-07T12:29:13.166Z"
   },
   {
    "duration": 15,
    "start_time": "2022-05-07T12:29:13.195Z"
   },
   {
    "duration": 15,
    "start_time": "2022-05-07T12:29:13.213Z"
   },
   {
    "duration": 162,
    "start_time": "2022-05-07T12:29:13.231Z"
   },
   {
    "duration": 161,
    "start_time": "2022-05-07T12:29:13.396Z"
   },
   {
    "duration": 23,
    "start_time": "2022-05-07T12:29:13.567Z"
   },
   {
    "duration": 37,
    "start_time": "2022-05-07T12:29:13.593Z"
   },
   {
    "duration": 181,
    "start_time": "2022-05-07T12:29:13.634Z"
   },
   {
    "duration": 43,
    "start_time": "2022-05-07T12:29:13.817Z"
   },
   {
    "duration": 146,
    "start_time": "2022-05-07T12:29:13.862Z"
   },
   {
    "duration": 77,
    "start_time": "2022-05-07T12:29:14.011Z"
   },
   {
    "duration": 36,
    "start_time": "2022-05-07T12:29:14.091Z"
   },
   {
    "duration": 288,
    "start_time": "2022-05-07T12:29:14.130Z"
   },
   {
    "duration": 15,
    "start_time": "2022-05-07T12:29:14.422Z"
   },
   {
    "duration": 17,
    "start_time": "2022-05-07T12:29:14.441Z"
   },
   {
    "duration": 68,
    "start_time": "2022-05-07T12:29:14.461Z"
   },
   {
    "duration": 15,
    "start_time": "2022-05-07T12:29:14.532Z"
   },
   {
    "duration": 46,
    "start_time": "2022-05-07T12:29:14.550Z"
   },
   {
    "duration": 20,
    "start_time": "2022-05-07T12:29:14.599Z"
   },
   {
    "duration": 24,
    "start_time": "2022-05-07T12:29:14.622Z"
   },
   {
    "duration": 18,
    "start_time": "2022-05-07T12:29:14.649Z"
   },
   {
    "duration": 14,
    "start_time": "2022-05-07T12:29:14.681Z"
   },
   {
    "duration": 38,
    "start_time": "2022-05-07T12:29:14.698Z"
   },
   {
    "duration": 31,
    "start_time": "2022-05-07T12:29:39.418Z"
   },
   {
    "duration": 34,
    "start_time": "2022-05-07T12:34:30.086Z"
   },
   {
    "duration": 5,
    "start_time": "2022-05-07T12:34:48.630Z"
   },
   {
    "duration": 13,
    "start_time": "2022-05-07T12:38:15.211Z"
   },
   {
    "duration": 1797,
    "start_time": "2022-05-07T12:44:28.903Z"
   },
   {
    "duration": 15,
    "start_time": "2022-05-07T12:44:43.281Z"
   },
   {
    "duration": 20,
    "start_time": "2022-05-07T12:44:59.807Z"
   },
   {
    "duration": 19,
    "start_time": "2022-05-07T12:45:30.693Z"
   },
   {
    "duration": 15,
    "start_time": "2022-05-07T13:01:22.938Z"
   },
   {
    "duration": 1919,
    "start_time": "2022-05-07T13:05:09.434Z"
   },
   {
    "duration": 6,
    "start_time": "2022-05-07T13:05:16.847Z"
   },
   {
    "duration": 107,
    "start_time": "2022-05-07T13:10:31.304Z"
   },
   {
    "duration": 29,
    "start_time": "2022-05-07T13:10:58.370Z"
   },
   {
    "duration": 7,
    "start_time": "2022-05-07T13:11:14.318Z"
   },
   {
    "duration": 13,
    "start_time": "2022-05-07T13:14:19.707Z"
   },
   {
    "duration": 12,
    "start_time": "2022-05-07T13:16:18.272Z"
   },
   {
    "duration": 96,
    "start_time": "2022-05-07T13:18:29.253Z"
   },
   {
    "duration": 5,
    "start_time": "2022-05-07T15:09:58.020Z"
   },
   {
    "duration": 6,
    "start_time": "2022-05-07T15:10:50.745Z"
   },
   {
    "duration": 8,
    "start_time": "2022-05-07T15:10:53.610Z"
   },
   {
    "duration": 12,
    "start_time": "2022-05-07T15:13:20.559Z"
   },
   {
    "duration": 7,
    "start_time": "2022-05-07T15:13:52.656Z"
   },
   {
    "duration": 117,
    "start_time": "2022-05-08T11:34:04.736Z"
   },
   {
    "duration": 1908,
    "start_time": "2022-05-08T11:34:10.397Z"
   },
   {
    "duration": 40,
    "start_time": "2022-05-08T11:34:12.308Z"
   },
   {
    "duration": 32,
    "start_time": "2022-05-08T11:34:12.350Z"
   },
   {
    "duration": 23,
    "start_time": "2022-05-08T11:34:12.385Z"
   },
   {
    "duration": 28,
    "start_time": "2022-05-08T11:34:12.411Z"
   },
   {
    "duration": 61,
    "start_time": "2022-05-08T11:34:12.442Z"
   },
   {
    "duration": 20,
    "start_time": "2022-05-08T11:34:12.507Z"
   },
   {
    "duration": 18,
    "start_time": "2022-05-08T11:34:12.530Z"
   },
   {
    "duration": 49,
    "start_time": "2022-05-08T11:34:12.551Z"
   },
   {
    "duration": 12,
    "start_time": "2022-05-08T11:34:12.606Z"
   },
   {
    "duration": 18,
    "start_time": "2022-05-08T11:34:12.621Z"
   },
   {
    "duration": 50,
    "start_time": "2022-05-08T11:34:12.641Z"
   },
   {
    "duration": 10,
    "start_time": "2022-05-08T11:34:12.694Z"
   },
   {
    "duration": 15,
    "start_time": "2022-05-08T11:34:12.706Z"
   },
   {
    "duration": 17,
    "start_time": "2022-05-08T11:34:12.723Z"
   },
   {
    "duration": 317,
    "start_time": "2022-05-08T11:34:12.742Z"
   },
   {
    "duration": 22,
    "start_time": "2022-05-08T11:34:13.062Z"
   },
   {
    "duration": 21,
    "start_time": "2022-05-08T11:34:13.086Z"
   },
   {
    "duration": 234,
    "start_time": "2022-05-08T11:34:13.110Z"
   },
   {
    "duration": 36,
    "start_time": "2022-05-08T11:34:13.347Z"
   },
   {
    "duration": 4,
    "start_time": "2022-05-08T11:34:13.386Z"
   },
   {
    "duration": 20,
    "start_time": "2022-05-08T11:34:13.392Z"
   },
   {
    "duration": 16,
    "start_time": "2022-05-08T11:34:13.415Z"
   },
   {
    "duration": 51,
    "start_time": "2022-05-08T11:34:13.434Z"
   },
   {
    "duration": 610,
    "start_time": "2022-05-08T11:34:13.488Z"
   },
   {
    "duration": 559,
    "start_time": "2022-05-08T11:34:14.101Z"
   },
   {
    "duration": 27,
    "start_time": "2022-05-08T11:34:14.663Z"
   },
   {
    "duration": 15,
    "start_time": "2022-05-08T11:34:14.696Z"
   },
   {
    "duration": 76,
    "start_time": "2022-05-08T11:34:14.714Z"
   },
   {
    "duration": 17,
    "start_time": "2022-05-08T11:34:14.793Z"
   },
   {
    "duration": 807,
    "start_time": "2022-05-08T11:34:14.813Z"
   },
   {
    "duration": 69,
    "start_time": "2022-05-08T11:34:15.623Z"
   },
   {
    "duration": 12,
    "start_time": "2022-05-08T11:34:15.695Z"
   },
   {
    "duration": 813,
    "start_time": "2022-05-08T11:34:15.710Z"
   },
   {
    "duration": 79,
    "start_time": "2022-05-08T11:34:16.526Z"
   },
   {
    "duration": 777,
    "start_time": "2022-05-08T11:34:16.607Z"
   },
   {
    "duration": 21,
    "start_time": "2022-05-08T11:34:17.387Z"
   },
   {
    "duration": 575,
    "start_time": "2022-05-08T11:34:17.411Z"
   },
   {
    "duration": 512,
    "start_time": "2022-05-08T11:34:17.989Z"
   },
   {
    "duration": 14,
    "start_time": "2022-05-08T11:34:18.504Z"
   },
   {
    "duration": 63,
    "start_time": "2022-05-08T11:34:18.520Z"
   },
   {
    "duration": 206,
    "start_time": "2022-05-08T11:34:18.586Z"
   },
   {
    "duration": 0,
    "start_time": "2022-05-08T11:34:18.794Z"
   },
   {
    "duration": 0,
    "start_time": "2022-05-08T11:34:18.796Z"
   },
   {
    "duration": 0,
    "start_time": "2022-05-08T11:34:18.797Z"
   },
   {
    "duration": 0,
    "start_time": "2022-05-08T11:34:18.798Z"
   },
   {
    "duration": 0,
    "start_time": "2022-05-08T11:34:18.800Z"
   },
   {
    "duration": 0,
    "start_time": "2022-05-08T11:34:18.801Z"
   },
   {
    "duration": 0,
    "start_time": "2022-05-08T11:34:18.802Z"
   },
   {
    "duration": 0,
    "start_time": "2022-05-08T11:34:18.804Z"
   },
   {
    "duration": 0,
    "start_time": "2022-05-08T11:34:18.805Z"
   },
   {
    "duration": 0,
    "start_time": "2022-05-08T11:34:18.807Z"
   },
   {
    "duration": 0,
    "start_time": "2022-05-08T11:34:18.808Z"
   },
   {
    "duration": 0,
    "start_time": "2022-05-08T11:34:18.810Z"
   },
   {
    "duration": 0,
    "start_time": "2022-05-08T11:34:18.811Z"
   },
   {
    "duration": 0,
    "start_time": "2022-05-08T11:34:18.813Z"
   },
   {
    "duration": 0,
    "start_time": "2022-05-08T11:34:18.814Z"
   },
   {
    "duration": 0,
    "start_time": "2022-05-08T11:34:18.818Z"
   },
   {
    "duration": 0,
    "start_time": "2022-05-08T11:34:18.820Z"
   },
   {
    "duration": 0,
    "start_time": "2022-05-08T11:34:18.821Z"
   },
   {
    "duration": 0,
    "start_time": "2022-05-08T11:34:18.823Z"
   },
   {
    "duration": 0,
    "start_time": "2022-05-08T11:34:18.824Z"
   },
   {
    "duration": 0,
    "start_time": "2022-05-08T11:34:18.883Z"
   },
   {
    "duration": 0,
    "start_time": "2022-05-08T11:34:18.885Z"
   },
   {
    "duration": 0,
    "start_time": "2022-05-08T11:34:18.886Z"
   },
   {
    "duration": 0,
    "start_time": "2022-05-08T11:34:18.888Z"
   },
   {
    "duration": 0,
    "start_time": "2022-05-08T11:34:18.890Z"
   },
   {
    "duration": 0,
    "start_time": "2022-05-08T11:34:18.891Z"
   },
   {
    "duration": 0,
    "start_time": "2022-05-08T11:34:18.892Z"
   },
   {
    "duration": 0,
    "start_time": "2022-05-08T11:34:18.894Z"
   },
   {
    "duration": 0,
    "start_time": "2022-05-08T11:34:18.895Z"
   },
   {
    "duration": 0,
    "start_time": "2022-05-08T11:34:18.896Z"
   },
   {
    "duration": 15,
    "start_time": "2022-05-08T11:34:23.325Z"
   },
   {
    "duration": 5,
    "start_time": "2022-05-08T11:34:27.127Z"
   },
   {
    "duration": 46,
    "start_time": "2022-05-08T11:34:27.136Z"
   },
   {
    "duration": 24,
    "start_time": "2022-05-08T11:34:27.185Z"
   },
   {
    "duration": 23,
    "start_time": "2022-05-08T11:34:27.211Z"
   },
   {
    "duration": 23,
    "start_time": "2022-05-08T11:34:27.283Z"
   },
   {
    "duration": 19,
    "start_time": "2022-05-08T11:34:27.308Z"
   },
   {
    "duration": 67,
    "start_time": "2022-05-08T11:34:27.329Z"
   },
   {
    "duration": 13,
    "start_time": "2022-05-08T11:34:27.399Z"
   },
   {
    "duration": 20,
    "start_time": "2022-05-08T11:34:27.414Z"
   },
   {
    "duration": 53,
    "start_time": "2022-05-08T11:34:27.437Z"
   },
   {
    "duration": 19,
    "start_time": "2022-05-08T11:34:27.493Z"
   },
   {
    "duration": 16,
    "start_time": "2022-05-08T11:34:27.515Z"
   },
   {
    "duration": 46,
    "start_time": "2022-05-08T11:34:27.537Z"
   },
   {
    "duration": 14,
    "start_time": "2022-05-08T11:34:27.586Z"
   },
   {
    "duration": 20,
    "start_time": "2022-05-08T11:34:27.602Z"
   },
   {
    "duration": 338,
    "start_time": "2022-05-08T11:34:27.626Z"
   },
   {
    "duration": 18,
    "start_time": "2022-05-08T11:34:27.968Z"
   },
   {
    "duration": 14,
    "start_time": "2022-05-08T11:34:27.988Z"
   },
   {
    "duration": 246,
    "start_time": "2022-05-08T11:34:28.005Z"
   },
   {
    "duration": 31,
    "start_time": "2022-05-08T11:34:28.254Z"
   },
   {
    "duration": 6,
    "start_time": "2022-05-08T11:34:28.287Z"
   },
   {
    "duration": 19,
    "start_time": "2022-05-08T11:34:28.295Z"
   },
   {
    "duration": 20,
    "start_time": "2022-05-08T11:34:28.316Z"
   },
   {
    "duration": 55,
    "start_time": "2022-05-08T11:34:28.339Z"
   },
   {
    "duration": 600,
    "start_time": "2022-05-08T11:34:28.396Z"
   },
   {
    "duration": 472,
    "start_time": "2022-05-08T11:34:28.999Z"
   },
   {
    "duration": 13,
    "start_time": "2022-05-08T11:34:29.482Z"
   },
   {
    "duration": 19,
    "start_time": "2022-05-08T11:34:29.498Z"
   },
   {
    "duration": 19,
    "start_time": "2022-05-08T11:34:29.520Z"
   },
   {
    "duration": 47,
    "start_time": "2022-05-08T11:34:29.541Z"
   },
   {
    "duration": 560,
    "start_time": "2022-05-08T11:34:29.591Z"
   },
   {
    "duration": 28,
    "start_time": "2022-05-08T11:34:30.154Z"
   },
   {
    "duration": 13,
    "start_time": "2022-05-08T11:34:30.185Z"
   },
   {
    "duration": 537,
    "start_time": "2022-05-08T11:34:30.202Z"
   },
   {
    "duration": 26,
    "start_time": "2022-05-08T11:34:30.742Z"
   },
   {
    "duration": 561,
    "start_time": "2022-05-08T11:34:30.783Z"
   },
   {
    "duration": 31,
    "start_time": "2022-05-08T11:34:31.355Z"
   },
   {
    "duration": 252,
    "start_time": "2022-05-08T11:34:31.388Z"
   },
   {
    "duration": 276,
    "start_time": "2022-05-08T11:34:31.643Z"
   },
   {
    "duration": 15,
    "start_time": "2022-05-08T11:34:31.922Z"
   },
   {
    "duration": 53,
    "start_time": "2022-05-08T11:34:31.940Z"
   },
   {
    "duration": 14,
    "start_time": "2022-05-08T11:34:31.995Z"
   },
   {
    "duration": 0,
    "start_time": "2022-05-08T11:34:32.011Z"
   },
   {
    "duration": 0,
    "start_time": "2022-05-08T11:34:32.017Z"
   },
   {
    "duration": 0,
    "start_time": "2022-05-08T11:34:32.019Z"
   },
   {
    "duration": 0,
    "start_time": "2022-05-08T11:34:32.022Z"
   },
   {
    "duration": 0,
    "start_time": "2022-05-08T11:34:32.023Z"
   },
   {
    "duration": 0,
    "start_time": "2022-05-08T11:34:32.024Z"
   },
   {
    "duration": 0,
    "start_time": "2022-05-08T11:34:32.026Z"
   },
   {
    "duration": 1,
    "start_time": "2022-05-08T11:34:32.027Z"
   },
   {
    "duration": 0,
    "start_time": "2022-05-08T11:34:32.030Z"
   },
   {
    "duration": 0,
    "start_time": "2022-05-08T11:34:32.032Z"
   },
   {
    "duration": 0,
    "start_time": "2022-05-08T11:34:32.034Z"
   },
   {
    "duration": 0,
    "start_time": "2022-05-08T11:34:32.037Z"
   },
   {
    "duration": 0,
    "start_time": "2022-05-08T11:34:32.081Z"
   },
   {
    "duration": 0,
    "start_time": "2022-05-08T11:34:32.083Z"
   },
   {
    "duration": 0,
    "start_time": "2022-05-08T11:34:32.085Z"
   },
   {
    "duration": 0,
    "start_time": "2022-05-08T11:34:32.087Z"
   },
   {
    "duration": 0,
    "start_time": "2022-05-08T11:34:32.089Z"
   },
   {
    "duration": 0,
    "start_time": "2022-05-08T11:34:32.090Z"
   },
   {
    "duration": 0,
    "start_time": "2022-05-08T11:34:32.092Z"
   },
   {
    "duration": 0,
    "start_time": "2022-05-08T11:34:32.093Z"
   },
   {
    "duration": 0,
    "start_time": "2022-05-08T11:34:32.095Z"
   },
   {
    "duration": 1,
    "start_time": "2022-05-08T11:34:32.096Z"
   },
   {
    "duration": 0,
    "start_time": "2022-05-08T11:34:32.099Z"
   },
   {
    "duration": 0,
    "start_time": "2022-05-08T11:34:32.101Z"
   },
   {
    "duration": 0,
    "start_time": "2022-05-08T11:34:32.102Z"
   },
   {
    "duration": 0,
    "start_time": "2022-05-08T11:34:32.104Z"
   },
   {
    "duration": 0,
    "start_time": "2022-05-08T11:34:32.106Z"
   },
   {
    "duration": 0,
    "start_time": "2022-05-08T11:34:32.107Z"
   },
   {
    "duration": 0,
    "start_time": "2022-05-08T11:34:32.109Z"
   },
   {
    "duration": 0,
    "start_time": "2022-05-08T11:34:32.110Z"
   },
   {
    "duration": 17,
    "start_time": "2022-05-08T11:34:42.930Z"
   },
   {
    "duration": 309,
    "start_time": "2022-05-08T11:35:10.688Z"
   },
   {
    "duration": 16,
    "start_time": "2022-05-08T11:35:15.229Z"
   },
   {
    "duration": 14,
    "start_time": "2022-05-08T11:35:18.451Z"
   },
   {
    "duration": 106,
    "start_time": "2022-05-08T11:35:19.189Z"
   },
   {
    "duration": 127,
    "start_time": "2022-05-08T11:35:19.917Z"
   },
   {
    "duration": 12,
    "start_time": "2022-05-08T11:35:23.148Z"
   },
   {
    "duration": 22,
    "start_time": "2022-05-08T11:35:23.887Z"
   },
   {
    "duration": 118,
    "start_time": "2022-05-08T11:35:24.980Z"
   },
   {
    "duration": 32,
    "start_time": "2022-05-08T11:35:26.083Z"
   },
   {
    "duration": 123,
    "start_time": "2022-05-08T11:35:26.647Z"
   },
   {
    "duration": 39,
    "start_time": "2022-05-08T11:35:27.663Z"
   },
   {
    "duration": 18,
    "start_time": "2022-05-08T11:35:30.163Z"
   },
   {
    "duration": 182,
    "start_time": "2022-05-08T11:35:30.184Z"
   },
   {
    "duration": 11,
    "start_time": "2022-05-08T11:35:30.721Z"
   },
   {
    "duration": 13,
    "start_time": "2022-05-08T11:35:31.263Z"
   },
   {
    "duration": 32,
    "start_time": "2022-05-08T11:35:32.352Z"
   },
   {
    "duration": 8,
    "start_time": "2022-05-08T11:35:36.620Z"
   },
   {
    "duration": 10,
    "start_time": "2022-05-08T11:37:42.338Z"
   },
   {
    "duration": 11,
    "start_time": "2022-05-08T11:39:08.648Z"
   },
   {
    "duration": 19,
    "start_time": "2022-05-08T11:39:13.573Z"
   },
   {
    "duration": 22,
    "start_time": "2022-05-08T11:39:14.065Z"
   },
   {
    "duration": 10,
    "start_time": "2022-05-08T11:39:21.525Z"
   },
   {
    "duration": 8,
    "start_time": "2022-05-08T11:39:21.903Z"
   },
   {
    "duration": 11,
    "start_time": "2022-05-08T11:39:22.682Z"
   },
   {
    "duration": 12,
    "start_time": "2022-05-08T11:39:23.918Z"
   },
   {
    "duration": 14,
    "start_time": "2022-05-08T11:39:24.367Z"
   },
   {
    "duration": 30,
    "start_time": "2022-05-08T11:39:25.353Z"
   },
   {
    "duration": 7,
    "start_time": "2022-05-08T11:39:32.204Z"
   },
   {
    "duration": 21,
    "start_time": "2022-05-08T11:39:53.404Z"
   },
   {
    "duration": 8,
    "start_time": "2022-05-08T11:39:54.487Z"
   },
   {
    "duration": 10,
    "start_time": "2022-05-08T11:40:13.989Z"
   },
   {
    "duration": 14,
    "start_time": "2022-05-08T11:40:56.175Z"
   },
   {
    "duration": 12,
    "start_time": "2022-05-08T11:40:59.608Z"
   },
   {
    "duration": 13,
    "start_time": "2022-05-08T11:41:03.257Z"
   },
   {
    "duration": 11,
    "start_time": "2022-05-08T11:41:28.901Z"
   },
   {
    "duration": 22,
    "start_time": "2022-05-08T11:44:23.410Z"
   },
   {
    "duration": 6,
    "start_time": "2022-05-08T11:53:13.941Z"
   },
   {
    "duration": 10,
    "start_time": "2022-05-08T11:58:02.395Z"
   },
   {
    "duration": 9,
    "start_time": "2022-05-08T11:58:13.200Z"
   },
   {
    "duration": 9,
    "start_time": "2022-05-08T11:58:15.417Z"
   },
   {
    "duration": 10,
    "start_time": "2022-05-08T11:58:16.765Z"
   },
   {
    "duration": 11,
    "start_time": "2022-05-08T11:58:17.572Z"
   },
   {
    "duration": 30,
    "start_time": "2022-05-08T11:58:18.633Z"
   },
   {
    "duration": 6,
    "start_time": "2022-05-08T11:58:26.976Z"
   },
   {
    "duration": 18,
    "start_time": "2022-05-08T11:58:32.872Z"
   },
   {
    "duration": 5,
    "start_time": "2022-05-08T11:58:39.335Z"
   },
   {
    "duration": 3,
    "start_time": "2022-05-08T11:58:56.628Z"
   },
   {
    "duration": 54,
    "start_time": "2022-05-08T11:58:56.634Z"
   },
   {
    "duration": 26,
    "start_time": "2022-05-08T11:58:56.692Z"
   },
   {
    "duration": 22,
    "start_time": "2022-05-08T11:58:56.722Z"
   },
   {
    "duration": 25,
    "start_time": "2022-05-08T11:58:56.782Z"
   },
   {
    "duration": 19,
    "start_time": "2022-05-08T11:58:56.809Z"
   },
   {
    "duration": 63,
    "start_time": "2022-05-08T11:58:56.831Z"
   },
   {
    "duration": 15,
    "start_time": "2022-05-08T11:58:56.897Z"
   },
   {
    "duration": 11,
    "start_time": "2022-05-08T11:58:56.916Z"
   },
   {
    "duration": 61,
    "start_time": "2022-05-08T11:58:56.930Z"
   },
   {
    "duration": 23,
    "start_time": "2022-05-08T11:58:56.996Z"
   },
   {
    "duration": 13,
    "start_time": "2022-05-08T11:58:57.021Z"
   },
   {
    "duration": 18,
    "start_time": "2022-05-08T11:58:57.036Z"
   },
   {
    "duration": 25,
    "start_time": "2022-05-08T11:58:57.083Z"
   },
   {
    "duration": 10,
    "start_time": "2022-05-08T11:58:57.110Z"
   },
   {
    "duration": 12,
    "start_time": "2022-05-08T11:58:57.122Z"
   },
   {
    "duration": 45,
    "start_time": "2022-05-08T11:58:57.137Z"
   },
   {
    "duration": 290,
    "start_time": "2022-05-08T11:58:57.186Z"
   },
   {
    "duration": 11,
    "start_time": "2022-05-08T11:58:57.478Z"
   },
   {
    "duration": 29,
    "start_time": "2022-05-08T11:58:57.491Z"
   },
   {
    "duration": 232,
    "start_time": "2022-05-08T11:58:57.522Z"
   },
   {
    "duration": 34,
    "start_time": "2022-05-08T11:58:57.756Z"
   },
   {
    "duration": 32,
    "start_time": "2022-05-08T11:58:57.794Z"
   },
   {
    "duration": 17,
    "start_time": "2022-05-08T11:58:57.832Z"
   },
   {
    "duration": 38,
    "start_time": "2022-05-08T11:58:57.852Z"
   },
   {
    "duration": 565,
    "start_time": "2022-05-08T11:58:57.893Z"
   },
   {
    "duration": 469,
    "start_time": "2022-05-08T11:58:58.460Z"
   },
   {
    "duration": 11,
    "start_time": "2022-05-08T11:58:58.932Z"
   },
   {
    "duration": 12,
    "start_time": "2022-05-08T11:58:58.945Z"
   },
   {
    "duration": 44,
    "start_time": "2022-05-08T11:58:58.959Z"
   },
   {
    "duration": 12,
    "start_time": "2022-05-08T11:58:59.005Z"
   },
   {
    "duration": 542,
    "start_time": "2022-05-08T11:58:59.019Z"
   },
   {
    "duration": 30,
    "start_time": "2022-05-08T11:58:59.563Z"
   },
   {
    "duration": 10,
    "start_time": "2022-05-08T11:58:59.595Z"
   },
   {
    "duration": 579,
    "start_time": "2022-05-08T11:58:59.607Z"
   },
   {
    "duration": 23,
    "start_time": "2022-05-08T11:59:00.189Z"
   },
   {
    "duration": 673,
    "start_time": "2022-05-08T11:59:00.214Z"
   },
   {
    "duration": 20,
    "start_time": "2022-05-08T11:59:00.890Z"
   },
   {
    "duration": 282,
    "start_time": "2022-05-08T11:59:00.912Z"
   },
   {
    "duration": 198,
    "start_time": "2022-05-08T11:59:01.198Z"
   },
   {
    "duration": 12,
    "start_time": "2022-05-08T11:59:01.399Z"
   },
   {
    "duration": 40,
    "start_time": "2022-05-08T11:59:01.413Z"
   },
   {
    "duration": 223,
    "start_time": "2022-05-08T11:59:01.456Z"
   },
   {
    "duration": 225,
    "start_time": "2022-05-08T11:59:01.682Z"
   },
   {
    "duration": 16,
    "start_time": "2022-05-08T11:59:01.910Z"
   },
   {
    "duration": 18,
    "start_time": "2022-05-08T11:59:01.928Z"
   },
   {
    "duration": 46,
    "start_time": "2022-05-08T11:59:01.949Z"
   },
   {
    "duration": 105,
    "start_time": "2022-05-08T11:59:01.997Z"
   },
   {
    "duration": 104,
    "start_time": "2022-05-08T11:59:02.105Z"
   },
   {
    "duration": 11,
    "start_time": "2022-05-08T11:59:02.212Z"
   },
   {
    "duration": 26,
    "start_time": "2022-05-08T11:59:02.225Z"
   },
   {
    "duration": 117,
    "start_time": "2022-05-08T11:59:02.253Z"
   },
   {
    "duration": 45,
    "start_time": "2022-05-08T11:59:02.372Z"
   },
   {
    "duration": 102,
    "start_time": "2022-05-08T11:59:02.419Z"
   },
   {
    "duration": 66,
    "start_time": "2022-05-08T11:59:02.524Z"
   },
   {
    "duration": 34,
    "start_time": "2022-05-08T11:59:02.593Z"
   },
   {
    "duration": 191,
    "start_time": "2022-05-08T11:59:02.629Z"
   },
   {
    "duration": 10,
    "start_time": "2022-05-08T11:59:02.822Z"
   },
   {
    "duration": 15,
    "start_time": "2022-05-08T11:59:02.834Z"
   },
   {
    "duration": 69,
    "start_time": "2022-05-08T11:59:02.851Z"
   },
   {
    "duration": 7,
    "start_time": "2022-05-08T11:59:02.922Z"
   },
   {
    "duration": 14,
    "start_time": "2022-05-08T11:59:02.931Z"
   },
   {
    "duration": 9,
    "start_time": "2022-05-08T11:59:02.948Z"
   },
   {
    "duration": 19,
    "start_time": "2022-05-08T11:59:02.987Z"
   },
   {
    "duration": 10,
    "start_time": "2022-05-08T11:59:03.008Z"
   },
   {
    "duration": 10,
    "start_time": "2022-05-08T11:59:03.020Z"
   },
   {
    "duration": 15,
    "start_time": "2022-05-08T11:59:03.033Z"
   },
   {
    "duration": 42,
    "start_time": "2022-05-08T11:59:03.050Z"
   },
   {
    "duration": 29,
    "start_time": "2022-05-08T11:59:03.102Z"
   },
   {
    "duration": 6,
    "start_time": "2022-05-08T11:59:03.133Z"
   },
   {
    "duration": 58,
    "start_time": "2022-05-08T11:59:03.141Z"
   },
   {
    "duration": 9,
    "start_time": "2022-05-08T11:59:03.201Z"
   },
   {
    "duration": 10,
    "start_time": "2022-05-08T12:01:26.597Z"
   },
   {
    "duration": 17,
    "start_time": "2022-05-08T12:01:30.609Z"
   },
   {
    "duration": 11,
    "start_time": "2022-05-08T12:02:53.442Z"
   },
   {
    "duration": 16,
    "start_time": "2022-05-08T12:03:07.487Z"
   },
   {
    "duration": 7,
    "start_time": "2022-05-08T12:12:03.842Z"
   },
   {
    "duration": 7,
    "start_time": "2022-05-08T12:12:09.242Z"
   },
   {
    "duration": 12,
    "start_time": "2022-05-08T12:21:28.194Z"
   },
   {
    "duration": 4,
    "start_time": "2022-05-08T12:21:36.727Z"
   },
   {
    "duration": 49,
    "start_time": "2022-05-08T12:21:36.734Z"
   },
   {
    "duration": 28,
    "start_time": "2022-05-08T12:21:36.786Z"
   },
   {
    "duration": 63,
    "start_time": "2022-05-08T12:21:36.819Z"
   },
   {
    "duration": 23,
    "start_time": "2022-05-08T12:21:36.884Z"
   },
   {
    "duration": 17,
    "start_time": "2022-05-08T12:21:36.909Z"
   },
   {
    "duration": 67,
    "start_time": "2022-05-08T12:21:36.928Z"
   },
   {
    "duration": 20,
    "start_time": "2022-05-08T12:21:36.998Z"
   },
   {
    "duration": 10,
    "start_time": "2022-05-08T12:21:37.022Z"
   },
   {
    "duration": 14,
    "start_time": "2022-05-08T12:21:37.035Z"
   },
   {
    "duration": 43,
    "start_time": "2022-05-08T12:21:37.052Z"
   },
   {
    "duration": 13,
    "start_time": "2022-05-08T12:21:37.098Z"
   },
   {
    "duration": 17,
    "start_time": "2022-05-08T12:21:37.113Z"
   },
   {
    "duration": 14,
    "start_time": "2022-05-08T12:21:37.132Z"
   },
   {
    "duration": 11,
    "start_time": "2022-05-08T12:21:37.182Z"
   },
   {
    "duration": 36,
    "start_time": "2022-05-08T12:21:37.195Z"
   },
   {
    "duration": 14,
    "start_time": "2022-05-08T12:21:37.233Z"
   },
   {
    "duration": 322,
    "start_time": "2022-05-08T12:21:37.249Z"
   },
   {
    "duration": 16,
    "start_time": "2022-05-08T12:21:37.573Z"
   },
   {
    "duration": 16,
    "start_time": "2022-05-08T12:21:37.591Z"
   },
   {
    "duration": 237,
    "start_time": "2022-05-08T12:21:37.610Z"
   },
   {
    "duration": 644,
    "start_time": "2022-05-08T12:21:37.850Z"
   },
   {
    "duration": 14,
    "start_time": "2022-05-08T12:21:38.497Z"
   },
   {
    "duration": 16,
    "start_time": "2022-05-08T12:21:38.517Z"
   },
   {
    "duration": 14,
    "start_time": "2022-05-08T12:21:38.535Z"
   },
   {
    "duration": 496,
    "start_time": "2022-05-08T12:21:38.582Z"
   },
   {
    "duration": 472,
    "start_time": "2022-05-08T12:21:39.081Z"
   },
   {
    "duration": 10,
    "start_time": "2022-05-08T12:21:39.556Z"
   },
   {
    "duration": 20,
    "start_time": "2022-05-08T12:21:39.569Z"
   },
   {
    "duration": 21,
    "start_time": "2022-05-08T12:21:39.591Z"
   },
   {
    "duration": 16,
    "start_time": "2022-05-08T12:21:39.614Z"
   },
   {
    "duration": 551,
    "start_time": "2022-05-08T12:21:39.633Z"
   },
   {
    "duration": 15,
    "start_time": "2022-05-08T12:21:40.187Z"
   },
   {
    "duration": 7,
    "start_time": "2022-05-08T12:21:40.205Z"
   },
   {
    "duration": 511,
    "start_time": "2022-05-08T12:21:40.214Z"
   },
   {
    "duration": 20,
    "start_time": "2022-05-08T12:21:40.727Z"
   },
   {
    "duration": 583,
    "start_time": "2022-05-08T12:21:40.749Z"
   },
   {
    "duration": 16,
    "start_time": "2022-05-08T12:21:41.335Z"
   },
   {
    "duration": 667,
    "start_time": "2022-05-08T12:21:41.353Z"
   },
   {
    "duration": 198,
    "start_time": "2022-05-08T12:21:42.023Z"
   },
   {
    "duration": 12,
    "start_time": "2022-05-08T12:21:42.224Z"
   },
   {
    "duration": 15,
    "start_time": "2022-05-08T12:21:42.238Z"
   },
   {
    "duration": 246,
    "start_time": "2022-05-08T12:21:42.255Z"
   },
   {
    "duration": 224,
    "start_time": "2022-05-08T12:21:42.503Z"
   },
   {
    "duration": 12,
    "start_time": "2022-05-08T12:21:42.729Z"
   },
   {
    "duration": 10,
    "start_time": "2022-05-08T12:21:42.744Z"
   },
   {
    "duration": 37,
    "start_time": "2022-05-08T12:21:42.756Z"
   },
   {
    "duration": 96,
    "start_time": "2022-05-08T12:21:42.795Z"
   },
   {
    "duration": 100,
    "start_time": "2022-05-08T12:21:42.894Z"
   },
   {
    "duration": 11,
    "start_time": "2022-05-08T12:21:42.996Z"
   },
   {
    "duration": 20,
    "start_time": "2022-05-08T12:21:43.009Z"
   },
   {
    "duration": 117,
    "start_time": "2022-05-08T12:21:43.032Z"
   },
   {
    "duration": 52,
    "start_time": "2022-05-08T12:21:43.152Z"
   },
   {
    "duration": 114,
    "start_time": "2022-05-08T12:21:43.207Z"
   },
   {
    "duration": 67,
    "start_time": "2022-05-08T12:21:43.323Z"
   },
   {
    "duration": 19,
    "start_time": "2022-05-08T12:21:43.392Z"
   },
   {
    "duration": 202,
    "start_time": "2022-05-08T12:21:43.413Z"
   },
   {
    "duration": 10,
    "start_time": "2022-05-08T12:21:43.617Z"
   },
   {
    "duration": 9,
    "start_time": "2022-05-08T12:21:43.629Z"
   },
   {
    "duration": 65,
    "start_time": "2022-05-08T12:21:43.640Z"
   },
   {
    "duration": 6,
    "start_time": "2022-05-08T12:21:43.707Z"
   },
   {
    "duration": 22,
    "start_time": "2022-05-08T12:21:43.715Z"
   },
   {
    "duration": 42,
    "start_time": "2022-05-08T12:21:43.740Z"
   },
   {
    "duration": 10,
    "start_time": "2022-05-08T12:21:43.785Z"
   },
   {
    "duration": 12,
    "start_time": "2022-05-08T12:21:43.797Z"
   },
   {
    "duration": 11,
    "start_time": "2022-05-08T12:21:43.810Z"
   },
   {
    "duration": 11,
    "start_time": "2022-05-08T12:21:43.823Z"
   },
   {
    "duration": 49,
    "start_time": "2022-05-08T12:21:43.837Z"
   },
   {
    "duration": 30,
    "start_time": "2022-05-08T12:21:43.894Z"
   },
   {
    "duration": 6,
    "start_time": "2022-05-08T12:21:43.926Z"
   },
   {
    "duration": 14,
    "start_time": "2022-05-08T12:21:43.934Z"
   },
   {
    "duration": 7,
    "start_time": "2022-05-08T12:21:43.983Z"
   },
   {
    "duration": 5,
    "start_time": "2022-05-08T12:24:35.516Z"
   },
   {
    "duration": 47,
    "start_time": "2022-05-08T12:24:35.523Z"
   },
   {
    "duration": 22,
    "start_time": "2022-05-08T12:24:35.572Z"
   },
   {
    "duration": 23,
    "start_time": "2022-05-08T12:24:35.597Z"
   },
   {
    "duration": 72,
    "start_time": "2022-05-08T12:24:35.622Z"
   },
   {
    "duration": 18,
    "start_time": "2022-05-08T12:24:35.696Z"
   },
   {
    "duration": 19,
    "start_time": "2022-05-08T12:24:35.717Z"
   },
   {
    "duration": 13,
    "start_time": "2022-05-08T12:24:35.783Z"
   },
   {
    "duration": 11,
    "start_time": "2022-05-08T12:24:35.802Z"
   },
   {
    "duration": 16,
    "start_time": "2022-05-08T12:24:35.816Z"
   },
   {
    "duration": 56,
    "start_time": "2022-05-08T12:24:35.834Z"
   },
   {
    "duration": 12,
    "start_time": "2022-05-08T12:24:35.893Z"
   },
   {
    "duration": 21,
    "start_time": "2022-05-08T12:24:35.908Z"
   },
   {
    "duration": 22,
    "start_time": "2022-05-08T12:24:35.931Z"
   },
   {
    "duration": 31,
    "start_time": "2022-05-08T12:24:35.956Z"
   },
   {
    "duration": 15,
    "start_time": "2022-05-08T12:24:35.989Z"
   },
   {
    "duration": 20,
    "start_time": "2022-05-08T12:24:36.006Z"
   },
   {
    "duration": 309,
    "start_time": "2022-05-08T12:24:36.028Z"
   },
   {
    "duration": 11,
    "start_time": "2022-05-08T12:24:36.340Z"
   },
   {
    "duration": 37,
    "start_time": "2022-05-08T12:24:36.354Z"
   },
   {
    "duration": 230,
    "start_time": "2022-05-08T12:24:36.393Z"
   },
   {
    "duration": 21,
    "start_time": "2022-05-08T12:24:36.625Z"
   },
   {
    "duration": 39,
    "start_time": "2022-05-08T12:24:36.648Z"
   },
   {
    "duration": 17,
    "start_time": "2022-05-08T12:24:36.693Z"
   },
   {
    "duration": 20,
    "start_time": "2022-05-08T12:24:36.713Z"
   },
   {
    "duration": 438,
    "start_time": "2022-05-08T12:24:36.735Z"
   },
   {
    "duration": 434,
    "start_time": "2022-05-08T12:24:37.175Z"
   },
   {
    "duration": 10,
    "start_time": "2022-05-08T12:24:37.612Z"
   },
   {
    "duration": 18,
    "start_time": "2022-05-08T12:24:37.624Z"
   },
   {
    "duration": 39,
    "start_time": "2022-05-08T12:24:37.644Z"
   },
   {
    "duration": 12,
    "start_time": "2022-05-08T12:24:37.685Z"
   },
   {
    "duration": 520,
    "start_time": "2022-05-08T12:24:37.699Z"
   },
   {
    "duration": 16,
    "start_time": "2022-05-08T12:24:38.221Z"
   },
   {
    "duration": 9,
    "start_time": "2022-05-08T12:24:38.239Z"
   },
   {
    "duration": 610,
    "start_time": "2022-05-08T12:24:38.250Z"
   },
   {
    "duration": 35,
    "start_time": "2022-05-08T12:24:38.862Z"
   },
   {
    "duration": 614,
    "start_time": "2022-05-08T12:24:38.899Z"
   },
   {
    "duration": 23,
    "start_time": "2022-05-08T12:24:39.515Z"
   },
   {
    "duration": 287,
    "start_time": "2022-05-08T12:24:39.541Z"
   },
   {
    "duration": 306,
    "start_time": "2022-05-08T12:24:39.831Z"
   },
   {
    "duration": 12,
    "start_time": "2022-05-08T12:24:40.139Z"
   },
   {
    "duration": 38,
    "start_time": "2022-05-08T12:24:40.153Z"
   },
   {
    "duration": 277,
    "start_time": "2022-05-08T12:24:40.193Z"
   },
   {
    "duration": 214,
    "start_time": "2022-05-08T12:24:40.472Z"
   },
   {
    "duration": 13,
    "start_time": "2022-05-08T12:24:40.688Z"
   },
   {
    "duration": 12,
    "start_time": "2022-05-08T12:24:40.703Z"
   },
   {
    "duration": 15,
    "start_time": "2022-05-08T12:24:40.718Z"
   },
   {
    "duration": 120,
    "start_time": "2022-05-08T12:24:40.736Z"
   },
   {
    "duration": 143,
    "start_time": "2022-05-08T12:24:40.859Z"
   },
   {
    "duration": 11,
    "start_time": "2022-05-08T12:24:41.004Z"
   },
   {
    "duration": 22,
    "start_time": "2022-05-08T12:24:41.018Z"
   },
   {
    "duration": 116,
    "start_time": "2022-05-08T12:24:41.043Z"
   },
   {
    "duration": 49,
    "start_time": "2022-05-08T12:24:41.161Z"
   },
   {
    "duration": 118,
    "start_time": "2022-05-08T12:24:41.212Z"
   },
   {
    "duration": 54,
    "start_time": "2022-05-08T12:24:41.332Z"
   },
   {
    "duration": 18,
    "start_time": "2022-05-08T12:24:41.389Z"
   },
   {
    "duration": 204,
    "start_time": "2022-05-08T12:24:41.409Z"
   },
   {
    "duration": 10,
    "start_time": "2022-05-08T12:24:41.615Z"
   },
   {
    "duration": 11,
    "start_time": "2022-05-08T12:24:41.628Z"
   },
   {
    "duration": 64,
    "start_time": "2022-05-08T12:24:41.642Z"
   },
   {
    "duration": 7,
    "start_time": "2022-05-08T12:24:41.709Z"
   },
   {
    "duration": 17,
    "start_time": "2022-05-08T12:24:41.718Z"
   },
   {
    "duration": 49,
    "start_time": "2022-05-08T12:24:41.737Z"
   },
   {
    "duration": 11,
    "start_time": "2022-05-08T12:24:41.789Z"
   },
   {
    "duration": 15,
    "start_time": "2022-05-08T12:24:41.802Z"
   },
   {
    "duration": 10,
    "start_time": "2022-05-08T12:24:41.819Z"
   },
   {
    "duration": 11,
    "start_time": "2022-05-08T12:24:41.832Z"
   },
   {
    "duration": 12,
    "start_time": "2022-05-08T12:24:41.882Z"
   },
   {
    "duration": 80,
    "start_time": "2022-05-08T12:24:41.901Z"
   },
   {
    "duration": 6,
    "start_time": "2022-05-08T12:24:41.984Z"
   },
   {
    "duration": 14,
    "start_time": "2022-05-08T12:24:41.993Z"
   },
   {
    "duration": 6,
    "start_time": "2022-05-08T12:24:42.009Z"
   },
   {
    "duration": 18,
    "start_time": "2022-05-08T12:30:45.416Z"
   },
   {
    "duration": 18,
    "start_time": "2022-05-08T12:31:39.297Z"
   },
   {
    "duration": 19,
    "start_time": "2022-05-08T12:33:18.467Z"
   },
   {
    "duration": 13,
    "start_time": "2022-05-08T12:33:21.308Z"
   },
   {
    "duration": 7,
    "start_time": "2022-05-08T12:33:33.457Z"
   },
   {
    "duration": 56,
    "start_time": "2022-05-08T12:33:33.467Z"
   },
   {
    "duration": 38,
    "start_time": "2022-05-08T12:33:33.528Z"
   },
   {
    "duration": 33,
    "start_time": "2022-05-08T12:33:33.569Z"
   },
   {
    "duration": 25,
    "start_time": "2022-05-08T12:33:33.607Z"
   },
   {
    "duration": 20,
    "start_time": "2022-05-08T12:33:33.635Z"
   },
   {
    "duration": 38,
    "start_time": "2022-05-08T12:33:33.657Z"
   },
   {
    "duration": 24,
    "start_time": "2022-05-08T12:33:33.698Z"
   },
   {
    "duration": 16,
    "start_time": "2022-05-08T12:33:33.725Z"
   },
   {
    "duration": 16,
    "start_time": "2022-05-08T12:33:33.743Z"
   },
   {
    "duration": 26,
    "start_time": "2022-05-08T12:33:33.761Z"
   },
   {
    "duration": 21,
    "start_time": "2022-05-08T12:33:33.789Z"
   },
   {
    "duration": 39,
    "start_time": "2022-05-08T12:33:33.813Z"
   },
   {
    "duration": 14,
    "start_time": "2022-05-08T12:33:33.857Z"
   },
   {
    "duration": 14,
    "start_time": "2022-05-08T12:33:33.873Z"
   },
   {
    "duration": 12,
    "start_time": "2022-05-08T12:33:33.890Z"
   },
   {
    "duration": 30,
    "start_time": "2022-05-08T12:33:33.904Z"
   },
   {
    "duration": 610,
    "start_time": "2022-05-08T12:33:33.937Z"
   },
   {
    "duration": 15,
    "start_time": "2022-05-08T12:33:34.550Z"
   },
   {
    "duration": 15,
    "start_time": "2022-05-08T12:33:34.583Z"
   },
   {
    "duration": 250,
    "start_time": "2022-05-08T12:33:34.601Z"
   },
   {
    "duration": 40,
    "start_time": "2022-05-08T12:33:34.854Z"
   },
   {
    "duration": 18,
    "start_time": "2022-05-08T12:33:34.896Z"
   },
   {
    "duration": 18,
    "start_time": "2022-05-08T12:33:34.916Z"
   },
   {
    "duration": 52,
    "start_time": "2022-05-08T12:33:34.936Z"
   },
   {
    "duration": 493,
    "start_time": "2022-05-08T12:33:34.991Z"
   },
   {
    "duration": 473,
    "start_time": "2022-05-08T12:33:35.486Z"
   },
   {
    "duration": 22,
    "start_time": "2022-05-08T12:33:35.961Z"
   },
   {
    "duration": 16,
    "start_time": "2022-05-08T12:33:35.986Z"
   },
   {
    "duration": 27,
    "start_time": "2022-05-08T12:33:36.005Z"
   },
   {
    "duration": 49,
    "start_time": "2022-05-08T12:33:36.035Z"
   },
   {
    "duration": 574,
    "start_time": "2022-05-08T12:33:36.088Z"
   },
   {
    "duration": 24,
    "start_time": "2022-05-08T12:33:36.664Z"
   },
   {
    "duration": 7,
    "start_time": "2022-05-08T12:33:36.691Z"
   },
   {
    "duration": 462,
    "start_time": "2022-05-08T12:33:36.702Z"
   },
   {
    "duration": 30,
    "start_time": "2022-05-08T12:33:37.168Z"
   },
   {
    "duration": 590,
    "start_time": "2022-05-08T12:33:37.200Z"
   },
   {
    "duration": 30,
    "start_time": "2022-05-08T12:33:37.792Z"
   },
   {
    "duration": 273,
    "start_time": "2022-05-08T12:33:37.825Z"
   },
   {
    "duration": 201,
    "start_time": "2022-05-08T12:33:38.101Z"
   },
   {
    "duration": 14,
    "start_time": "2022-05-08T12:33:38.309Z"
   },
   {
    "duration": 21,
    "start_time": "2022-05-08T12:33:38.325Z"
   },
   {
    "duration": 248,
    "start_time": "2022-05-08T12:33:38.348Z"
   },
   {
    "duration": 491,
    "start_time": "2022-05-08T12:33:38.598Z"
   },
   {
    "duration": 12,
    "start_time": "2022-05-08T12:33:39.091Z"
   },
   {
    "duration": 21,
    "start_time": "2022-05-08T12:33:39.106Z"
   },
   {
    "duration": 14,
    "start_time": "2022-05-08T12:33:39.182Z"
   },
   {
    "duration": 183,
    "start_time": "2022-05-08T12:33:39.199Z"
   },
   {
    "duration": 198,
    "start_time": "2022-05-08T12:33:39.384Z"
   },
   {
    "duration": 12,
    "start_time": "2022-05-08T12:33:39.584Z"
   },
   {
    "duration": 26,
    "start_time": "2022-05-08T12:33:39.598Z"
   },
   {
    "duration": 397,
    "start_time": "2022-05-08T12:33:39.627Z"
   },
   {
    "duration": 84,
    "start_time": "2022-05-08T12:33:40.026Z"
   },
   {
    "duration": 201,
    "start_time": "2022-05-08T12:33:40.113Z"
   },
   {
    "duration": 90,
    "start_time": "2022-05-08T12:33:40.316Z"
   },
   {
    "duration": 74,
    "start_time": "2022-05-08T12:33:40.409Z"
   },
   {
    "duration": 310,
    "start_time": "2022-05-08T12:33:40.485Z"
   },
   {
    "duration": 10,
    "start_time": "2022-05-08T12:33:40.797Z"
   },
   {
    "duration": 12,
    "start_time": "2022-05-08T12:33:40.809Z"
   },
   {
    "duration": 99,
    "start_time": "2022-05-08T12:33:40.825Z"
   },
   {
    "duration": 9,
    "start_time": "2022-05-08T12:33:40.982Z"
   },
   {
    "duration": 15,
    "start_time": "2022-05-08T12:33:40.994Z"
   },
   {
    "duration": 80,
    "start_time": "2022-05-08T12:33:41.012Z"
   },
   {
    "duration": 13,
    "start_time": "2022-05-08T12:33:41.096Z"
   },
   {
    "duration": 68,
    "start_time": "2022-05-08T12:33:41.113Z"
   },
   {
    "duration": 10,
    "start_time": "2022-05-08T12:33:41.184Z"
   },
   {
    "duration": 23,
    "start_time": "2022-05-08T12:33:41.196Z"
   },
   {
    "duration": 69,
    "start_time": "2022-05-08T12:33:41.223Z"
   },
   {
    "duration": 99,
    "start_time": "2022-05-08T12:33:41.296Z"
   },
   {
    "duration": 6,
    "start_time": "2022-05-08T12:33:41.398Z"
   },
   {
    "duration": 16,
    "start_time": "2022-05-08T12:33:41.407Z"
   },
   {
    "duration": 61,
    "start_time": "2022-05-08T12:33:41.426Z"
   },
   {
    "duration": 510,
    "start_time": "2022-05-08T12:34:07.310Z"
   },
   {
    "duration": 20,
    "start_time": "2022-05-08T12:34:33.328Z"
   },
   {
    "duration": 517,
    "start_time": "2022-05-08T12:34:36.931Z"
   },
   {
    "duration": 6,
    "start_time": "2022-05-08T12:35:05.798Z"
   },
   {
    "duration": 7,
    "start_time": "2022-05-08T12:35:16.567Z"
   },
   {
    "duration": 10,
    "start_time": "2022-05-08T12:35:47.445Z"
   },
   {
    "duration": 102,
    "start_time": "2022-05-08T12:36:38.102Z"
   },
   {
    "duration": 13,
    "start_time": "2022-05-08T12:36:55.483Z"
   },
   {
    "duration": 8,
    "start_time": "2022-05-08T12:37:12.340Z"
   },
   {
    "duration": 435,
    "start_time": "2022-05-08T12:38:28.526Z"
   },
   {
    "duration": 622,
    "start_time": "2022-05-08T12:38:41.754Z"
   },
   {
    "duration": 517,
    "start_time": "2022-05-08T12:38:52.522Z"
   },
   {
    "duration": 425,
    "start_time": "2022-05-08T12:38:59.988Z"
   },
   {
    "duration": 594,
    "start_time": "2022-05-08T12:39:46.664Z"
   },
   {
    "duration": 8,
    "start_time": "2022-05-08T12:40:24.232Z"
   },
   {
    "duration": 9,
    "start_time": "2022-05-08T12:40:26.222Z"
   },
   {
    "duration": 554,
    "start_time": "2022-05-08T12:40:32.613Z"
   },
   {
    "duration": 522,
    "start_time": "2022-05-08T12:40:38.441Z"
   },
   {
    "duration": 9,
    "start_time": "2022-05-08T12:41:11.943Z"
   },
   {
    "duration": 12,
    "start_time": "2022-05-08T12:42:39.613Z"
   },
   {
    "duration": 12,
    "start_time": "2022-05-08T12:42:43.947Z"
   },
   {
    "duration": 71,
    "start_time": "2022-05-09T06:05:09.019Z"
   },
   {
    "duration": 1777,
    "start_time": "2022-05-09T06:05:14.756Z"
   },
   {
    "duration": 46,
    "start_time": "2022-05-09T06:05:16.536Z"
   },
   {
    "duration": 28,
    "start_time": "2022-05-09T06:05:16.584Z"
   },
   {
    "duration": 22,
    "start_time": "2022-05-09T06:05:16.615Z"
   },
   {
    "duration": 20,
    "start_time": "2022-05-09T06:05:16.639Z"
   },
   {
    "duration": 18,
    "start_time": "2022-05-09T06:05:16.661Z"
   },
   {
    "duration": 55,
    "start_time": "2022-05-09T06:05:16.681Z"
   },
   {
    "duration": 16,
    "start_time": "2022-05-09T06:05:16.738Z"
   },
   {
    "duration": 10,
    "start_time": "2022-05-09T06:05:16.756Z"
   },
   {
    "duration": 129,
    "start_time": "2022-05-09T06:05:16.770Z"
   },
   {
    "duration": 0,
    "start_time": "2022-05-09T06:05:16.903Z"
   },
   {
    "duration": 0,
    "start_time": "2022-05-09T06:05:16.904Z"
   },
   {
    "duration": 0,
    "start_time": "2022-05-09T06:05:16.906Z"
   },
   {
    "duration": 0,
    "start_time": "2022-05-09T06:05:16.907Z"
   },
   {
    "duration": 0,
    "start_time": "2022-05-09T06:05:16.924Z"
   },
   {
    "duration": 0,
    "start_time": "2022-05-09T06:05:16.926Z"
   },
   {
    "duration": 0,
    "start_time": "2022-05-09T06:05:16.927Z"
   },
   {
    "duration": 0,
    "start_time": "2022-05-09T06:05:16.928Z"
   },
   {
    "duration": 1,
    "start_time": "2022-05-09T06:05:16.929Z"
   },
   {
    "duration": 0,
    "start_time": "2022-05-09T06:05:16.931Z"
   },
   {
    "duration": 0,
    "start_time": "2022-05-09T06:05:16.932Z"
   },
   {
    "duration": 0,
    "start_time": "2022-05-09T06:05:16.933Z"
   },
   {
    "duration": 0,
    "start_time": "2022-05-09T06:05:16.934Z"
   },
   {
    "duration": 0,
    "start_time": "2022-05-09T06:05:16.936Z"
   },
   {
    "duration": 0,
    "start_time": "2022-05-09T06:05:16.937Z"
   },
   {
    "duration": 0,
    "start_time": "2022-05-09T06:05:16.938Z"
   },
   {
    "duration": 0,
    "start_time": "2022-05-09T06:05:16.939Z"
   },
   {
    "duration": 0,
    "start_time": "2022-05-09T06:05:16.940Z"
   },
   {
    "duration": 0,
    "start_time": "2022-05-09T06:05:16.942Z"
   },
   {
    "duration": 0,
    "start_time": "2022-05-09T06:05:16.943Z"
   },
   {
    "duration": 0,
    "start_time": "2022-05-09T06:05:16.944Z"
   },
   {
    "duration": 0,
    "start_time": "2022-05-09T06:05:16.945Z"
   },
   {
    "duration": 0,
    "start_time": "2022-05-09T06:05:16.947Z"
   },
   {
    "duration": 0,
    "start_time": "2022-05-09T06:05:16.948Z"
   },
   {
    "duration": 0,
    "start_time": "2022-05-09T06:05:16.949Z"
   },
   {
    "duration": 0,
    "start_time": "2022-05-09T06:05:16.951Z"
   },
   {
    "duration": 0,
    "start_time": "2022-05-09T06:05:16.952Z"
   },
   {
    "duration": 0,
    "start_time": "2022-05-09T06:05:16.953Z"
   },
   {
    "duration": 0,
    "start_time": "2022-05-09T06:05:16.955Z"
   },
   {
    "duration": 0,
    "start_time": "2022-05-09T06:05:16.956Z"
   },
   {
    "duration": 0,
    "start_time": "2022-05-09T06:05:16.957Z"
   },
   {
    "duration": 0,
    "start_time": "2022-05-09T06:05:16.958Z"
   },
   {
    "duration": 0,
    "start_time": "2022-05-09T06:05:16.960Z"
   },
   {
    "duration": 0,
    "start_time": "2022-05-09T06:05:16.961Z"
   },
   {
    "duration": 0,
    "start_time": "2022-05-09T06:05:16.962Z"
   },
   {
    "duration": 0,
    "start_time": "2022-05-09T06:05:16.964Z"
   },
   {
    "duration": 0,
    "start_time": "2022-05-09T06:05:16.965Z"
   },
   {
    "duration": 0,
    "start_time": "2022-05-09T06:05:16.966Z"
   },
   {
    "duration": 0,
    "start_time": "2022-05-09T06:05:17.025Z"
   },
   {
    "duration": 0,
    "start_time": "2022-05-09T06:05:17.027Z"
   },
   {
    "duration": 0,
    "start_time": "2022-05-09T06:05:17.028Z"
   },
   {
    "duration": 0,
    "start_time": "2022-05-09T06:05:17.030Z"
   },
   {
    "duration": 0,
    "start_time": "2022-05-09T06:05:17.031Z"
   },
   {
    "duration": 0,
    "start_time": "2022-05-09T06:05:17.032Z"
   },
   {
    "duration": 0,
    "start_time": "2022-05-09T06:05:17.033Z"
   },
   {
    "duration": 0,
    "start_time": "2022-05-09T06:05:17.035Z"
   },
   {
    "duration": 0,
    "start_time": "2022-05-09T06:05:17.036Z"
   },
   {
    "duration": 0,
    "start_time": "2022-05-09T06:05:17.037Z"
   },
   {
    "duration": 0,
    "start_time": "2022-05-09T06:05:17.038Z"
   },
   {
    "duration": 0,
    "start_time": "2022-05-09T06:05:17.040Z"
   },
   {
    "duration": 0,
    "start_time": "2022-05-09T06:05:17.041Z"
   },
   {
    "duration": 0,
    "start_time": "2022-05-09T06:05:17.043Z"
   },
   {
    "duration": 0,
    "start_time": "2022-05-09T06:05:17.044Z"
   },
   {
    "duration": 0,
    "start_time": "2022-05-09T06:05:17.045Z"
   },
   {
    "duration": 0,
    "start_time": "2022-05-09T06:05:17.046Z"
   },
   {
    "duration": 0,
    "start_time": "2022-05-09T06:05:17.048Z"
   },
   {
    "duration": 0,
    "start_time": "2022-05-09T06:05:17.049Z"
   },
   {
    "duration": 0,
    "start_time": "2022-05-09T06:05:17.050Z"
   },
   {
    "duration": 0,
    "start_time": "2022-05-09T06:05:17.052Z"
   },
   {
    "duration": 0,
    "start_time": "2022-05-09T06:05:17.053Z"
   },
   {
    "duration": 0,
    "start_time": "2022-05-09T06:05:17.054Z"
   },
   {
    "duration": 0,
    "start_time": "2022-05-09T06:05:17.056Z"
   },
   {
    "duration": 0,
    "start_time": "2022-05-09T06:05:17.057Z"
   },
   {
    "duration": 0,
    "start_time": "2022-05-09T06:05:17.058Z"
   },
   {
    "duration": 1821,
    "start_time": "2022-05-09T06:05:32.546Z"
   },
   {
    "duration": 15,
    "start_time": "2022-05-09T06:05:38.540Z"
   },
   {
    "duration": 49,
    "start_time": "2022-05-09T06:06:07.732Z"
   },
   {
    "duration": 15,
    "start_time": "2022-05-09T06:06:15.884Z"
   },
   {
    "duration": 27,
    "start_time": "2022-05-09T06:06:19.548Z"
   },
   {
    "duration": 27,
    "start_time": "2022-05-09T06:06:53.501Z"
   },
   {
    "duration": 12,
    "start_time": "2022-05-09T06:07:02.157Z"
   },
   {
    "duration": 11,
    "start_time": "2022-05-09T06:07:06.252Z"
   },
   {
    "duration": 15,
    "start_time": "2022-05-09T06:07:09.173Z"
   },
   {
    "duration": 12,
    "start_time": "2022-05-09T06:07:15.958Z"
   },
   {
    "duration": 15,
    "start_time": "2022-05-09T06:07:22.959Z"
   },
   {
    "duration": 4,
    "start_time": "2022-05-09T06:08:57.346Z"
   },
   {
    "duration": 46,
    "start_time": "2022-05-09T06:08:57.354Z"
   },
   {
    "duration": 30,
    "start_time": "2022-05-09T06:08:57.402Z"
   },
   {
    "duration": 30,
    "start_time": "2022-05-09T06:08:57.437Z"
   },
   {
    "duration": 78,
    "start_time": "2022-05-09T06:08:57.470Z"
   },
   {
    "duration": 18,
    "start_time": "2022-05-09T06:08:57.552Z"
   },
   {
    "duration": 67,
    "start_time": "2022-05-09T06:08:57.574Z"
   },
   {
    "duration": 30,
    "start_time": "2022-05-09T06:08:57.644Z"
   },
   {
    "duration": 11,
    "start_time": "2022-05-09T06:08:57.676Z"
   },
   {
    "duration": 17,
    "start_time": "2022-05-09T06:08:57.726Z"
   },
   {
    "duration": 17,
    "start_time": "2022-05-09T06:08:57.745Z"
   },
   {
    "duration": 20,
    "start_time": "2022-05-09T06:08:57.764Z"
   },
   {
    "duration": 47,
    "start_time": "2022-05-09T06:08:57.786Z"
   },
   {
    "duration": 14,
    "start_time": "2022-05-09T06:08:57.836Z"
   },
   {
    "duration": 21,
    "start_time": "2022-05-09T06:08:57.852Z"
   },
   {
    "duration": 26,
    "start_time": "2022-05-09T06:08:57.875Z"
   },
   {
    "duration": 308,
    "start_time": "2022-05-09T06:08:57.903Z"
   },
   {
    "duration": 15,
    "start_time": "2022-05-09T06:08:58.213Z"
   },
   {
    "duration": 15,
    "start_time": "2022-05-09T06:08:58.230Z"
   },
   {
    "duration": 238,
    "start_time": "2022-05-09T06:08:58.247Z"
   },
   {
    "duration": 39,
    "start_time": "2022-05-09T06:08:58.487Z"
   },
   {
    "duration": 17,
    "start_time": "2022-05-09T06:08:58.528Z"
   },
   {
    "duration": 16,
    "start_time": "2022-05-09T06:08:58.548Z"
   },
   {
    "duration": 17,
    "start_time": "2022-05-09T06:08:58.566Z"
   },
   {
    "duration": 671,
    "start_time": "2022-05-09T06:08:58.585Z"
   },
   {
    "duration": 466,
    "start_time": "2022-05-09T06:08:59.258Z"
   },
   {
    "duration": 11,
    "start_time": "2022-05-09T06:08:59.726Z"
   },
   {
    "duration": 10,
    "start_time": "2022-05-09T06:08:59.744Z"
   },
   {
    "duration": 18,
    "start_time": "2022-05-09T06:08:59.756Z"
   },
   {
    "duration": 607,
    "start_time": "2022-05-09T06:08:59.776Z"
   },
   {
    "duration": 16,
    "start_time": "2022-05-09T06:09:00.386Z"
   },
   {
    "duration": 21,
    "start_time": "2022-05-09T06:09:00.404Z"
   },
   {
    "duration": 26,
    "start_time": "2022-05-09T06:09:00.427Z"
   },
   {
    "duration": 12,
    "start_time": "2022-05-09T06:09:00.456Z"
   },
   {
    "duration": 452,
    "start_time": "2022-05-09T06:09:00.470Z"
   },
   {
    "duration": 20,
    "start_time": "2022-05-09T06:09:00.925Z"
   },
   {
    "duration": 527,
    "start_time": "2022-05-09T06:09:00.947Z"
   },
   {
    "duration": 16,
    "start_time": "2022-05-09T06:09:01.476Z"
   },
   {
    "duration": 230,
    "start_time": "2022-05-09T06:09:01.494Z"
   },
   {
    "duration": 226,
    "start_time": "2022-05-09T06:09:01.726Z"
   },
   {
    "duration": 12,
    "start_time": "2022-05-09T06:09:01.954Z"
   },
   {
    "duration": 28,
    "start_time": "2022-05-09T06:09:01.968Z"
   },
   {
    "duration": 319,
    "start_time": "2022-05-09T06:09:01.999Z"
   },
   {
    "duration": 215,
    "start_time": "2022-05-09T06:09:02.324Z"
   },
   {
    "duration": 13,
    "start_time": "2022-05-09T06:09:02.541Z"
   },
   {
    "duration": 12,
    "start_time": "2022-05-09T06:09:02.556Z"
   },
   {
    "duration": 21,
    "start_time": "2022-05-09T06:09:02.570Z"
   },
   {
    "duration": 79,
    "start_time": "2022-05-09T06:09:02.625Z"
   },
   {
    "duration": 105,
    "start_time": "2022-05-09T06:09:02.724Z"
   },
   {
    "duration": 19,
    "start_time": "2022-05-09T06:09:02.831Z"
   },
   {
    "duration": 58,
    "start_time": "2022-05-09T06:09:02.852Z"
   },
   {
    "duration": 116,
    "start_time": "2022-05-09T06:09:02.913Z"
   },
   {
    "duration": 59,
    "start_time": "2022-05-09T06:09:03.031Z"
   },
   {
    "duration": 104,
    "start_time": "2022-05-09T06:09:03.093Z"
   },
   {
    "duration": 54,
    "start_time": "2022-05-09T06:09:03.199Z"
   },
   {
    "duration": 17,
    "start_time": "2022-05-09T06:09:03.255Z"
   },
   {
    "duration": 187,
    "start_time": "2022-05-09T06:09:03.274Z"
   },
   {
    "duration": 63,
    "start_time": "2022-05-09T06:09:03.463Z"
   },
   {
    "duration": 24,
    "start_time": "2022-05-09T06:09:03.528Z"
   },
   {
    "duration": 79,
    "start_time": "2022-05-09T06:09:03.554Z"
   },
   {
    "duration": 7,
    "start_time": "2022-05-09T06:09:03.635Z"
   },
   {
    "duration": 43,
    "start_time": "2022-05-09T06:09:03.644Z"
   },
   {
    "duration": 43,
    "start_time": "2022-05-09T06:09:03.689Z"
   },
   {
    "duration": 32,
    "start_time": "2022-05-09T06:09:03.734Z"
   },
   {
    "duration": 65,
    "start_time": "2022-05-09T06:09:03.768Z"
   },
   {
    "duration": 19,
    "start_time": "2022-05-09T06:09:03.835Z"
   },
   {
    "duration": 18,
    "start_time": "2022-05-09T06:09:03.856Z"
   },
   {
    "duration": 60,
    "start_time": "2022-05-09T06:09:03.877Z"
   },
   {
    "duration": 111,
    "start_time": "2022-05-09T06:09:03.940Z"
   },
   {
    "duration": 8,
    "start_time": "2022-05-09T06:09:04.054Z"
   },
   {
    "duration": 76,
    "start_time": "2022-05-09T06:09:04.065Z"
   },
   {
    "duration": 29,
    "start_time": "2022-05-09T06:09:04.144Z"
   },
   {
    "duration": 4,
    "start_time": "2022-05-09T06:12:13.358Z"
   },
   {
    "duration": 46,
    "start_time": "2022-05-09T06:12:13.365Z"
   },
   {
    "duration": 22,
    "start_time": "2022-05-09T06:12:13.413Z"
   },
   {
    "duration": 24,
    "start_time": "2022-05-09T06:12:13.438Z"
   },
   {
    "duration": 65,
    "start_time": "2022-05-09T06:12:13.464Z"
   },
   {
    "duration": 18,
    "start_time": "2022-05-09T06:12:13.531Z"
   },
   {
    "duration": 20,
    "start_time": "2022-05-09T06:12:13.551Z"
   },
   {
    "duration": 15,
    "start_time": "2022-05-09T06:12:13.574Z"
   },
   {
    "duration": 15,
    "start_time": "2022-05-09T06:12:13.625Z"
   },
   {
    "duration": 18,
    "start_time": "2022-05-09T06:12:13.644Z"
   },
   {
    "duration": 27,
    "start_time": "2022-05-09T06:12:13.665Z"
   },
   {
    "duration": 35,
    "start_time": "2022-05-09T06:12:13.695Z"
   },
   {
    "duration": 11,
    "start_time": "2022-05-09T06:12:13.733Z"
   },
   {
    "duration": 13,
    "start_time": "2022-05-09T06:12:13.747Z"
   },
   {
    "duration": 14,
    "start_time": "2022-05-09T06:12:13.762Z"
   },
   {
    "duration": 304,
    "start_time": "2022-05-09T06:12:13.779Z"
   },
   {
    "duration": 11,
    "start_time": "2022-05-09T06:12:14.085Z"
   },
   {
    "duration": 37,
    "start_time": "2022-05-09T06:12:14.098Z"
   },
   {
    "duration": 225,
    "start_time": "2022-05-09T06:12:14.137Z"
   },
   {
    "duration": 19,
    "start_time": "2022-05-09T06:12:14.365Z"
   },
   {
    "duration": 13,
    "start_time": "2022-05-09T06:12:14.386Z"
   },
   {
    "duration": 16,
    "start_time": "2022-05-09T06:12:14.424Z"
   },
   {
    "duration": 13,
    "start_time": "2022-05-09T06:12:14.443Z"
   },
   {
    "duration": 464,
    "start_time": "2022-05-09T06:12:14.458Z"
   },
   {
    "duration": 488,
    "start_time": "2022-05-09T06:12:14.925Z"
   },
   {
    "duration": 12,
    "start_time": "2022-05-09T06:12:15.415Z"
   },
   {
    "duration": 14,
    "start_time": "2022-05-09T06:12:15.429Z"
   },
   {
    "duration": 19,
    "start_time": "2022-05-09T06:12:15.451Z"
   },
   {
    "duration": 592,
    "start_time": "2022-05-09T06:12:15.473Z"
   },
   {
    "duration": 17,
    "start_time": "2022-05-09T06:12:16.068Z"
   },
   {
    "duration": 16,
    "start_time": "2022-05-09T06:12:16.087Z"
   },
   {
    "duration": 24,
    "start_time": "2022-05-09T06:12:16.106Z"
   },
   {
    "duration": 12,
    "start_time": "2022-05-09T06:12:16.133Z"
   },
   {
    "duration": 454,
    "start_time": "2022-05-09T06:12:16.148Z"
   },
   {
    "duration": 27,
    "start_time": "2022-05-09T06:12:16.604Z"
   },
   {
    "duration": 521,
    "start_time": "2022-05-09T06:12:16.634Z"
   },
   {
    "duration": 18,
    "start_time": "2022-05-09T06:12:17.158Z"
   },
   {
    "duration": 214,
    "start_time": "2022-05-09T06:12:17.179Z"
   },
   {
    "duration": 205,
    "start_time": "2022-05-09T06:12:17.396Z"
   },
   {
    "duration": 27,
    "start_time": "2022-05-09T06:12:17.604Z"
   },
   {
    "duration": 21,
    "start_time": "2022-05-09T06:12:17.634Z"
   },
   {
    "duration": 241,
    "start_time": "2022-05-09T06:12:17.658Z"
   },
   {
    "duration": 337,
    "start_time": "2022-05-09T06:12:17.902Z"
   },
   {
    "duration": 13,
    "start_time": "2022-05-09T06:12:18.241Z"
   },
   {
    "duration": 14,
    "start_time": "2022-05-09T06:12:18.256Z"
   },
   {
    "duration": 17,
    "start_time": "2022-05-09T06:12:18.272Z"
   },
   {
    "duration": 108,
    "start_time": "2022-05-09T06:12:18.291Z"
   },
   {
    "duration": 125,
    "start_time": "2022-05-09T06:12:18.401Z"
   },
   {
    "duration": 14,
    "start_time": "2022-05-09T06:12:18.528Z"
   },
   {
    "duration": 23,
    "start_time": "2022-05-09T06:12:18.544Z"
   },
   {
    "duration": 132,
    "start_time": "2022-05-09T06:12:18.569Z"
   },
   {
    "duration": 34,
    "start_time": "2022-05-09T06:12:18.703Z"
   },
   {
    "duration": 93,
    "start_time": "2022-05-09T06:12:18.740Z"
   },
   {
    "duration": 42,
    "start_time": "2022-05-09T06:12:18.835Z"
   },
   {
    "duration": 19,
    "start_time": "2022-05-09T06:12:18.880Z"
   },
   {
    "duration": 179,
    "start_time": "2022-05-09T06:12:18.901Z"
   },
   {
    "duration": 10,
    "start_time": "2022-05-09T06:12:19.082Z"
   },
   {
    "duration": 12,
    "start_time": "2022-05-09T06:12:19.094Z"
   },
   {
    "duration": 33,
    "start_time": "2022-05-09T06:12:19.108Z"
   },
   {
    "duration": 7,
    "start_time": "2022-05-09T06:12:19.144Z"
   },
   {
    "duration": 18,
    "start_time": "2022-05-09T06:12:19.153Z"
   },
   {
    "duration": 12,
    "start_time": "2022-05-09T06:12:19.173Z"
   },
   {
    "duration": 11,
    "start_time": "2022-05-09T06:12:19.187Z"
   },
   {
    "duration": 9,
    "start_time": "2022-05-09T06:12:19.200Z"
   },
   {
    "duration": 18,
    "start_time": "2022-05-09T06:12:19.212Z"
   },
   {
    "duration": 21,
    "start_time": "2022-05-09T06:12:19.232Z"
   },
   {
    "duration": 13,
    "start_time": "2022-05-09T06:12:19.255Z"
   },
   {
    "duration": 56,
    "start_time": "2022-05-09T06:12:19.270Z"
   },
   {
    "duration": 8,
    "start_time": "2022-05-09T06:12:19.329Z"
   },
   {
    "duration": 22,
    "start_time": "2022-05-09T06:12:19.340Z"
   },
   {
    "duration": 62,
    "start_time": "2022-05-09T06:12:19.365Z"
   },
   {
    "duration": 4,
    "start_time": "2022-05-09T06:33:07.607Z"
   },
   {
    "duration": 44,
    "start_time": "2022-05-09T06:33:07.614Z"
   },
   {
    "duration": 26,
    "start_time": "2022-05-09T06:33:07.661Z"
   },
   {
    "duration": 45,
    "start_time": "2022-05-09T06:33:07.689Z"
   },
   {
    "duration": 22,
    "start_time": "2022-05-09T06:33:07.737Z"
   },
   {
    "duration": 67,
    "start_time": "2022-05-09T06:33:07.761Z"
   },
   {
    "duration": 17,
    "start_time": "2022-05-09T06:33:07.830Z"
   },
   {
    "duration": 15,
    "start_time": "2022-05-09T06:33:07.850Z"
   },
   {
    "duration": 58,
    "start_time": "2022-05-09T06:33:07.868Z"
   },
   {
    "duration": 14,
    "start_time": "2022-05-09T06:33:07.928Z"
   },
   {
    "duration": 20,
    "start_time": "2022-05-09T06:33:07.948Z"
   },
   {
    "duration": 16,
    "start_time": "2022-05-09T06:33:07.971Z"
   },
   {
    "duration": 11,
    "start_time": "2022-05-09T06:33:08.026Z"
   },
   {
    "duration": 16,
    "start_time": "2022-05-09T06:33:08.040Z"
   },
   {
    "duration": 15,
    "start_time": "2022-05-09T06:33:08.059Z"
   },
   {
    "duration": 329,
    "start_time": "2022-05-09T06:33:08.077Z"
   },
   {
    "duration": 20,
    "start_time": "2022-05-09T06:33:08.409Z"
   },
   {
    "duration": 19,
    "start_time": "2022-05-09T06:33:08.432Z"
   },
   {
    "duration": 246,
    "start_time": "2022-05-09T06:33:08.453Z"
   },
   {
    "duration": 34,
    "start_time": "2022-05-09T06:33:08.702Z"
   },
   {
    "duration": 19,
    "start_time": "2022-05-09T06:33:08.739Z"
   },
   {
    "duration": 21,
    "start_time": "2022-05-09T06:33:08.760Z"
   },
   {
    "duration": 22,
    "start_time": "2022-05-09T06:33:08.783Z"
   },
   {
    "duration": 514,
    "start_time": "2022-05-09T06:33:08.807Z"
   },
   {
    "duration": 489,
    "start_time": "2022-05-09T06:33:09.325Z"
   },
   {
    "duration": 16,
    "start_time": "2022-05-09T06:33:09.816Z"
   },
   {
    "duration": 15,
    "start_time": "2022-05-09T06:33:09.834Z"
   },
   {
    "duration": 19,
    "start_time": "2022-05-09T06:33:09.851Z"
   },
   {
    "duration": 618,
    "start_time": "2022-05-09T06:33:09.876Z"
   },
   {
    "duration": 28,
    "start_time": "2022-05-09T06:33:10.496Z"
   },
   {
    "duration": 7,
    "start_time": "2022-05-09T06:33:10.526Z"
   },
   {
    "duration": 12,
    "start_time": "2022-05-09T06:33:10.535Z"
   },
   {
    "duration": 7,
    "start_time": "2022-05-09T06:33:10.549Z"
   },
   {
    "duration": 466,
    "start_time": "2022-05-09T06:33:10.558Z"
   },
   {
    "duration": 20,
    "start_time": "2022-05-09T06:33:11.026Z"
   },
   {
    "duration": 523,
    "start_time": "2022-05-09T06:33:11.049Z"
   },
   {
    "duration": 16,
    "start_time": "2022-05-09T06:33:11.575Z"
   },
   {
    "duration": 206,
    "start_time": "2022-05-09T06:33:11.593Z"
   },
   {
    "duration": 194,
    "start_time": "2022-05-09T06:33:11.801Z"
   },
   {
    "duration": 30,
    "start_time": "2022-05-09T06:33:11.997Z"
   },
   {
    "duration": 14,
    "start_time": "2022-05-09T06:33:12.029Z"
   },
   {
    "duration": 229,
    "start_time": "2022-05-09T06:33:12.046Z"
   },
   {
    "duration": 238,
    "start_time": "2022-05-09T06:33:12.277Z"
   },
   {
    "duration": 13,
    "start_time": "2022-05-09T06:33:12.524Z"
   },
   {
    "duration": 10,
    "start_time": "2022-05-09T06:33:12.539Z"
   },
   {
    "duration": 13,
    "start_time": "2022-05-09T06:33:12.551Z"
   },
   {
    "duration": 110,
    "start_time": "2022-05-09T06:33:12.566Z"
   },
   {
    "duration": 98,
    "start_time": "2022-05-09T06:33:12.678Z"
   },
   {
    "duration": 11,
    "start_time": "2022-05-09T06:33:12.778Z"
   },
   {
    "duration": 33,
    "start_time": "2022-05-09T06:33:12.791Z"
   },
   {
    "duration": 205,
    "start_time": "2022-05-09T06:33:12.826Z"
   },
   {
    "duration": 96,
    "start_time": "2022-05-09T06:33:13.034Z"
   },
   {
    "duration": 235,
    "start_time": "2022-05-09T06:33:13.132Z"
   },
   {
    "duration": 164,
    "start_time": "2022-05-09T06:33:13.369Z"
   },
   {
    "duration": 16,
    "start_time": "2022-05-09T06:33:13.536Z"
   },
   {
    "duration": 371,
    "start_time": "2022-05-09T06:33:13.554Z"
   },
   {
    "duration": 10,
    "start_time": "2022-05-09T06:33:13.927Z"
   },
   {
    "duration": 10,
    "start_time": "2022-05-09T06:33:13.939Z"
   },
   {
    "duration": 85,
    "start_time": "2022-05-09T06:33:13.951Z"
   },
   {
    "duration": 8,
    "start_time": "2022-05-09T06:33:14.039Z"
   },
   {
    "duration": 12,
    "start_time": "2022-05-09T06:33:14.050Z"
   },
   {
    "duration": 68,
    "start_time": "2022-05-09T06:33:14.065Z"
   },
   {
    "duration": 14,
    "start_time": "2022-05-09T06:33:14.136Z"
   },
   {
    "duration": 13,
    "start_time": "2022-05-09T06:33:14.152Z"
   },
   {
    "duration": 61,
    "start_time": "2022-05-09T06:33:14.167Z"
   },
   {
    "duration": 11,
    "start_time": "2022-05-09T06:33:14.231Z"
   },
   {
    "duration": 15,
    "start_time": "2022-05-09T06:33:14.245Z"
   },
   {
    "duration": 106,
    "start_time": "2022-05-09T06:33:14.263Z"
   },
   {
    "duration": 9,
    "start_time": "2022-05-09T06:33:14.425Z"
   },
   {
    "duration": 20,
    "start_time": "2022-05-09T06:33:14.437Z"
   },
   {
    "duration": 7,
    "start_time": "2022-05-09T06:33:14.460Z"
   },
   {
    "duration": 27,
    "start_time": "2022-05-09T06:34:15.120Z"
   },
   {
    "duration": 18,
    "start_time": "2022-05-09T06:35:05.385Z"
   },
   {
    "duration": 5,
    "start_time": "2022-05-09T06:35:21.255Z"
   },
   {
    "duration": 58,
    "start_time": "2022-05-09T06:35:21.262Z"
   },
   {
    "duration": 23,
    "start_time": "2022-05-09T06:35:21.322Z"
   },
   {
    "duration": 22,
    "start_time": "2022-05-09T06:35:21.348Z"
   },
   {
    "duration": 66,
    "start_time": "2022-05-09T06:35:21.372Z"
   },
   {
    "duration": 18,
    "start_time": "2022-05-09T06:35:21.440Z"
   },
   {
    "duration": 22,
    "start_time": "2022-05-09T06:35:21.460Z"
   },
   {
    "duration": 46,
    "start_time": "2022-05-09T06:35:21.484Z"
   },
   {
    "duration": 17,
    "start_time": "2022-05-09T06:35:21.532Z"
   },
   {
    "duration": 15,
    "start_time": "2022-05-09T06:35:21.553Z"
   },
   {
    "duration": 22,
    "start_time": "2022-05-09T06:35:21.570Z"
   },
   {
    "duration": 12,
    "start_time": "2022-05-09T06:35:21.626Z"
   },
   {
    "duration": 12,
    "start_time": "2022-05-09T06:35:21.640Z"
   },
   {
    "duration": 12,
    "start_time": "2022-05-09T06:35:21.655Z"
   },
   {
    "duration": 17,
    "start_time": "2022-05-09T06:35:21.669Z"
   },
   {
    "duration": 300,
    "start_time": "2022-05-09T06:35:21.725Z"
   },
   {
    "duration": 11,
    "start_time": "2022-05-09T06:35:22.028Z"
   },
   {
    "duration": 15,
    "start_time": "2022-05-09T06:35:22.041Z"
   },
   {
    "duration": 254,
    "start_time": "2022-05-09T06:35:22.058Z"
   },
   {
    "duration": 28,
    "start_time": "2022-05-09T06:35:22.314Z"
   },
   {
    "duration": 18,
    "start_time": "2022-05-09T06:35:22.344Z"
   },
   {
    "duration": 24,
    "start_time": "2022-05-09T06:35:22.364Z"
   },
   {
    "duration": 45,
    "start_time": "2022-05-09T06:35:22.390Z"
   },
   {
    "duration": 555,
    "start_time": "2022-05-09T06:35:22.437Z"
   },
   {
    "duration": 433,
    "start_time": "2022-05-09T06:35:22.994Z"
   },
   {
    "duration": 11,
    "start_time": "2022-05-09T06:35:23.429Z"
   },
   {
    "duration": 13,
    "start_time": "2022-05-09T06:35:23.442Z"
   },
   {
    "duration": 17,
    "start_time": "2022-05-09T06:35:23.461Z"
   },
   {
    "duration": 583,
    "start_time": "2022-05-09T06:35:23.480Z"
   },
   {
    "duration": 17,
    "start_time": "2022-05-09T06:35:24.066Z"
   },
   {
    "duration": 8,
    "start_time": "2022-05-09T06:35:24.087Z"
   },
   {
    "duration": 35,
    "start_time": "2022-05-09T06:35:24.098Z"
   },
   {
    "duration": 10,
    "start_time": "2022-05-09T06:35:24.136Z"
   },
   {
    "duration": 454,
    "start_time": "2022-05-09T06:35:24.149Z"
   },
   {
    "duration": 32,
    "start_time": "2022-05-09T06:35:24.607Z"
   },
   {
    "duration": 511,
    "start_time": "2022-05-09T06:35:24.642Z"
   },
   {
    "duration": 19,
    "start_time": "2022-05-09T06:35:25.156Z"
   },
   {
    "duration": 216,
    "start_time": "2022-05-09T06:35:25.177Z"
   },
   {
    "duration": 196,
    "start_time": "2022-05-09T06:35:25.397Z"
   },
   {
    "duration": 11,
    "start_time": "2022-05-09T06:35:25.595Z"
   },
   {
    "duration": 16,
    "start_time": "2022-05-09T06:35:25.625Z"
   },
   {
    "duration": 230,
    "start_time": "2022-05-09T06:35:25.643Z"
   },
   {
    "duration": 218,
    "start_time": "2022-05-09T06:35:25.876Z"
   },
   {
    "duration": 27,
    "start_time": "2022-05-09T06:35:26.096Z"
   },
   {
    "duration": 11,
    "start_time": "2022-05-09T06:35:26.126Z"
   },
   {
    "duration": 15,
    "start_time": "2022-05-09T06:35:26.139Z"
   },
   {
    "duration": 107,
    "start_time": "2022-05-09T06:35:26.157Z"
   },
   {
    "duration": 99,
    "start_time": "2022-05-09T06:35:26.267Z"
   },
   {
    "duration": 11,
    "start_time": "2022-05-09T06:35:26.368Z"
   },
   {
    "duration": 46,
    "start_time": "2022-05-09T06:35:26.381Z"
   },
   {
    "duration": 99,
    "start_time": "2022-05-09T06:35:26.430Z"
   },
   {
    "duration": 30,
    "start_time": "2022-05-09T06:35:26.531Z"
   },
   {
    "duration": 108,
    "start_time": "2022-05-09T06:35:26.563Z"
   },
   {
    "duration": 55,
    "start_time": "2022-05-09T06:35:26.674Z"
   },
   {
    "duration": 19,
    "start_time": "2022-05-09T06:35:26.732Z"
   },
   {
    "duration": 180,
    "start_time": "2022-05-09T06:35:26.753Z"
   },
   {
    "duration": 11,
    "start_time": "2022-05-09T06:35:26.936Z"
   },
   {
    "duration": 11,
    "start_time": "2022-05-09T06:35:26.950Z"
   },
   {
    "duration": 67,
    "start_time": "2022-05-09T06:35:26.964Z"
   },
   {
    "duration": 9,
    "start_time": "2022-05-09T06:35:27.034Z"
   },
   {
    "duration": 15,
    "start_time": "2022-05-09T06:35:27.045Z"
   },
   {
    "duration": 13,
    "start_time": "2022-05-09T06:35:27.062Z"
   },
   {
    "duration": 55,
    "start_time": "2022-05-09T06:35:27.077Z"
   },
   {
    "duration": 20,
    "start_time": "2022-05-09T06:35:27.134Z"
   },
   {
    "duration": 13,
    "start_time": "2022-05-09T06:35:27.156Z"
   },
   {
    "duration": 17,
    "start_time": "2022-05-09T06:35:27.171Z"
   },
   {
    "duration": 36,
    "start_time": "2022-05-09T06:35:27.190Z"
   },
   {
    "duration": 32,
    "start_time": "2022-05-09T06:35:27.228Z"
   },
   {
    "duration": 6,
    "start_time": "2022-05-09T06:35:27.262Z"
   },
   {
    "duration": 23,
    "start_time": "2022-05-09T06:35:27.270Z"
   },
   {
    "duration": 33,
    "start_time": "2022-05-09T06:35:27.296Z"
   },
   {
    "duration": 7,
    "start_time": "2022-05-09T06:48:13.031Z"
   },
   {
    "duration": 8,
    "start_time": "2022-05-09T06:48:40.959Z"
   },
   {
    "duration": 6,
    "start_time": "2022-05-09T06:49:29.321Z"
   },
   {
    "duration": 5,
    "start_time": "2022-05-09T06:49:32.457Z"
   },
   {
    "duration": 5,
    "start_time": "2022-05-09T06:50:01.375Z"
   },
   {
    "duration": 113,
    "start_time": "2022-05-09T06:50:25.424Z"
   },
   {
    "duration": 2119,
    "start_time": "2022-05-09T06:50:29.739Z"
   },
   {
    "duration": 21,
    "start_time": "2022-05-09T06:53:09.212Z"
   },
   {
    "duration": 14,
    "start_time": "2022-05-09T06:54:17.457Z"
   },
   {
    "duration": 111,
    "start_time": "2022-05-09T06:55:04.785Z"
   },
   {
    "duration": 14,
    "start_time": "2022-05-09T06:55:32.440Z"
   },
   {
    "duration": 14,
    "start_time": "2022-05-09T06:57:35.378Z"
   },
   {
    "duration": 15,
    "start_time": "2022-05-09T06:57:48.041Z"
   },
   {
    "duration": 15,
    "start_time": "2022-05-09T09:05:15.408Z"
   },
   {
    "duration": 19,
    "start_time": "2022-05-09T09:05:29.011Z"
   },
   {
    "duration": 104,
    "start_time": "2022-05-09T09:10:57.559Z"
   },
   {
    "duration": 14,
    "start_time": "2022-05-09T09:11:02.522Z"
   },
   {
    "duration": 4,
    "start_time": "2022-05-09T09:24:50.023Z"
   },
   {
    "duration": 61,
    "start_time": "2022-05-09T09:24:50.030Z"
   },
   {
    "duration": 33,
    "start_time": "2022-05-09T09:24:50.093Z"
   },
   {
    "duration": 26,
    "start_time": "2022-05-09T09:24:50.129Z"
   },
   {
    "duration": 69,
    "start_time": "2022-05-09T09:24:50.157Z"
   },
   {
    "duration": 19,
    "start_time": "2022-05-09T09:24:50.228Z"
   },
   {
    "duration": 22,
    "start_time": "2022-05-09T09:24:50.249Z"
   },
   {
    "duration": 50,
    "start_time": "2022-05-09T09:24:50.274Z"
   },
   {
    "duration": 15,
    "start_time": "2022-05-09T09:24:50.327Z"
   },
   {
    "duration": 19,
    "start_time": "2022-05-09T09:24:50.346Z"
   },
   {
    "duration": 30,
    "start_time": "2022-05-09T09:24:50.367Z"
   },
   {
    "duration": 38,
    "start_time": "2022-05-09T09:24:50.400Z"
   },
   {
    "duration": 20,
    "start_time": "2022-05-09T09:24:50.441Z"
   },
   {
    "duration": 18,
    "start_time": "2022-05-09T09:24:50.464Z"
   },
   {
    "duration": 41,
    "start_time": "2022-05-09T09:24:50.484Z"
   },
   {
    "duration": 309,
    "start_time": "2022-05-09T09:24:50.527Z"
   },
   {
    "duration": 12,
    "start_time": "2022-05-09T09:24:50.838Z"
   },
   {
    "duration": 29,
    "start_time": "2022-05-09T09:24:50.853Z"
   },
   {
    "duration": 259,
    "start_time": "2022-05-09T09:24:50.885Z"
   },
   {
    "duration": 26,
    "start_time": "2022-05-09T09:24:51.148Z"
   },
   {
    "duration": 25,
    "start_time": "2022-05-09T09:24:51.176Z"
   },
   {
    "duration": 45,
    "start_time": "2022-05-09T09:24:51.203Z"
   },
   {
    "duration": 20,
    "start_time": "2022-05-09T09:24:51.251Z"
   },
   {
    "duration": 467,
    "start_time": "2022-05-09T09:24:51.274Z"
   },
   {
    "duration": 454,
    "start_time": "2022-05-09T09:24:51.743Z"
   },
   {
    "duration": 10,
    "start_time": "2022-05-09T09:24:52.200Z"
   },
   {
    "duration": 11,
    "start_time": "2022-05-09T09:24:52.224Z"
   },
   {
    "duration": 18,
    "start_time": "2022-05-09T09:24:52.241Z"
   },
   {
    "duration": 706,
    "start_time": "2022-05-09T09:24:52.261Z"
   },
   {
    "duration": 16,
    "start_time": "2022-05-09T09:24:52.969Z"
   },
   {
    "duration": 7,
    "start_time": "2022-05-09T09:24:52.987Z"
   },
   {
    "duration": 33,
    "start_time": "2022-05-09T09:24:52.996Z"
   },
   {
    "duration": 12,
    "start_time": "2022-05-09T09:24:53.031Z"
   },
   {
    "duration": 711,
    "start_time": "2022-05-09T09:24:53.045Z"
   },
   {
    "duration": 84,
    "start_time": "2022-05-09T09:24:53.758Z"
   },
   {
    "duration": 1014,
    "start_time": "2022-05-09T09:24:53.846Z"
   },
   {
    "duration": 70,
    "start_time": "2022-05-09T09:24:54.863Z"
   },
   {
    "duration": 334,
    "start_time": "2022-05-09T09:24:54.936Z"
   },
   {
    "duration": 399,
    "start_time": "2022-05-09T09:24:55.325Z"
   },
   {
    "duration": 13,
    "start_time": "2022-05-09T09:24:55.727Z"
   },
   {
    "duration": 21,
    "start_time": "2022-05-09T09:24:55.743Z"
   },
   {
    "duration": 675,
    "start_time": "2022-05-09T09:24:55.767Z"
   },
   {
    "duration": 679,
    "start_time": "2022-05-09T09:24:56.445Z"
   },
   {
    "duration": 13,
    "start_time": "2022-05-09T09:24:57.126Z"
   },
   {
    "duration": 15,
    "start_time": "2022-05-09T09:24:57.141Z"
   },
   {
    "duration": 69,
    "start_time": "2022-05-09T09:24:57.158Z"
   },
   {
    "duration": 132,
    "start_time": "2022-05-09T09:24:57.229Z"
   },
   {
    "duration": 196,
    "start_time": "2022-05-09T09:24:57.364Z"
   },
   {
    "duration": 11,
    "start_time": "2022-05-09T09:24:57.562Z"
   },
   {
    "duration": 49,
    "start_time": "2022-05-09T09:24:57.575Z"
   },
   {
    "duration": 97,
    "start_time": "2022-05-09T09:24:57.627Z"
   },
   {
    "duration": 31,
    "start_time": "2022-05-09T09:24:57.726Z"
   },
   {
    "duration": 116,
    "start_time": "2022-05-09T09:24:57.760Z"
   },
   {
    "duration": 49,
    "start_time": "2022-05-09T09:24:57.878Z"
   },
   {
    "duration": 17,
    "start_time": "2022-05-09T09:24:57.929Z"
   },
   {
    "duration": 200,
    "start_time": "2022-05-09T09:24:57.948Z"
   },
   {
    "duration": 10,
    "start_time": "2022-05-09T09:24:58.151Z"
   },
   {
    "duration": 10,
    "start_time": "2022-05-09T09:24:58.163Z"
   },
   {
    "duration": 59,
    "start_time": "2022-05-09T09:24:58.175Z"
   },
   {
    "duration": 7,
    "start_time": "2022-05-09T09:24:58.236Z"
   },
   {
    "duration": 19,
    "start_time": "2022-05-09T09:24:58.245Z"
   },
   {
    "duration": 19,
    "start_time": "2022-05-09T09:24:58.267Z"
   },
   {
    "duration": 12,
    "start_time": "2022-05-09T09:24:58.288Z"
   },
   {
    "duration": 8,
    "start_time": "2022-05-09T09:24:58.325Z"
   },
   {
    "duration": 13,
    "start_time": "2022-05-09T09:24:58.336Z"
   },
   {
    "duration": 10,
    "start_time": "2022-05-09T09:24:58.352Z"
   },
   {
    "duration": 11,
    "start_time": "2022-05-09T09:24:58.364Z"
   },
   {
    "duration": 70,
    "start_time": "2022-05-09T09:24:58.377Z"
   },
   {
    "duration": 15,
    "start_time": "2022-05-09T09:24:58.450Z"
   },
   {
    "duration": 21,
    "start_time": "2022-05-09T09:24:58.467Z"
   },
   {
    "duration": 13,
    "start_time": "2022-05-09T09:24:58.490Z"
   },
   {
    "duration": 1543,
    "start_time": "2022-05-10T16:39:07.823Z"
   },
   {
    "duration": 37,
    "start_time": "2022-05-10T16:39:09.369Z"
   },
   {
    "duration": 25,
    "start_time": "2022-05-10T16:39:09.408Z"
   },
   {
    "duration": 19,
    "start_time": "2022-05-10T16:39:09.436Z"
   },
   {
    "duration": 51,
    "start_time": "2022-05-10T16:39:09.458Z"
   },
   {
    "duration": 17,
    "start_time": "2022-05-10T16:39:09.512Z"
   },
   {
    "duration": 16,
    "start_time": "2022-05-10T16:39:09.535Z"
   },
   {
    "duration": 12,
    "start_time": "2022-05-10T16:39:09.554Z"
   },
   {
    "duration": 44,
    "start_time": "2022-05-10T16:39:09.568Z"
   },
   {
    "duration": 10,
    "start_time": "2022-05-10T16:39:09.615Z"
   },
   {
    "duration": 19,
    "start_time": "2022-05-10T16:39:09.628Z"
   },
   {
    "duration": 10,
    "start_time": "2022-05-10T16:39:09.649Z"
   },
   {
    "duration": 8,
    "start_time": "2022-05-10T16:39:09.661Z"
   },
   {
    "duration": 148,
    "start_time": "2022-05-10T16:39:09.709Z"
   },
   {
    "duration": 0,
    "start_time": "2022-05-10T16:39:09.861Z"
   },
   {
    "duration": 0,
    "start_time": "2022-05-10T16:39:09.863Z"
   },
   {
    "duration": 0,
    "start_time": "2022-05-10T16:39:09.865Z"
   },
   {
    "duration": 0,
    "start_time": "2022-05-10T16:39:09.867Z"
   },
   {
    "duration": 0,
    "start_time": "2022-05-10T16:39:09.869Z"
   },
   {
    "duration": 0,
    "start_time": "2022-05-10T16:39:09.870Z"
   },
   {
    "duration": 0,
    "start_time": "2022-05-10T16:39:09.871Z"
   },
   {
    "duration": 0,
    "start_time": "2022-05-10T16:39:09.873Z"
   },
   {
    "duration": 0,
    "start_time": "2022-05-10T16:39:09.876Z"
   },
   {
    "duration": 0,
    "start_time": "2022-05-10T16:39:09.878Z"
   },
   {
    "duration": 0,
    "start_time": "2022-05-10T16:39:09.907Z"
   },
   {
    "duration": 0,
    "start_time": "2022-05-10T16:39:09.909Z"
   },
   {
    "duration": 0,
    "start_time": "2022-05-10T16:39:09.910Z"
   },
   {
    "duration": 0,
    "start_time": "2022-05-10T16:39:09.912Z"
   },
   {
    "duration": 0,
    "start_time": "2022-05-10T16:39:09.913Z"
   },
   {
    "duration": 0,
    "start_time": "2022-05-10T16:39:09.915Z"
   },
   {
    "duration": 0,
    "start_time": "2022-05-10T16:39:09.916Z"
   },
   {
    "duration": 0,
    "start_time": "2022-05-10T16:39:09.918Z"
   },
   {
    "duration": 0,
    "start_time": "2022-05-10T16:39:09.919Z"
   },
   {
    "duration": 0,
    "start_time": "2022-05-10T16:39:09.920Z"
   },
   {
    "duration": 1,
    "start_time": "2022-05-10T16:39:09.921Z"
   },
   {
    "duration": 0,
    "start_time": "2022-05-10T16:39:09.923Z"
   },
   {
    "duration": 0,
    "start_time": "2022-05-10T16:39:09.924Z"
   },
   {
    "duration": 0,
    "start_time": "2022-05-10T16:39:09.925Z"
   },
   {
    "duration": 0,
    "start_time": "2022-05-10T16:39:09.928Z"
   },
   {
    "duration": 0,
    "start_time": "2022-05-10T16:39:09.929Z"
   },
   {
    "duration": 0,
    "start_time": "2022-05-10T16:39:09.930Z"
   },
   {
    "duration": 0,
    "start_time": "2022-05-10T16:39:09.931Z"
   },
   {
    "duration": 0,
    "start_time": "2022-05-10T16:39:09.933Z"
   },
   {
    "duration": 0,
    "start_time": "2022-05-10T16:39:09.934Z"
   },
   {
    "duration": 0,
    "start_time": "2022-05-10T16:39:09.935Z"
   },
   {
    "duration": 0,
    "start_time": "2022-05-10T16:39:09.937Z"
   },
   {
    "duration": 0,
    "start_time": "2022-05-10T16:39:09.938Z"
   },
   {
    "duration": 0,
    "start_time": "2022-05-10T16:39:09.940Z"
   },
   {
    "duration": 0,
    "start_time": "2022-05-10T16:39:09.941Z"
   },
   {
    "duration": 0,
    "start_time": "2022-05-10T16:39:09.943Z"
   },
   {
    "duration": 0,
    "start_time": "2022-05-10T16:39:09.944Z"
   },
   {
    "duration": 0,
    "start_time": "2022-05-10T16:39:09.945Z"
   },
   {
    "duration": 0,
    "start_time": "2022-05-10T16:39:10.008Z"
   },
   {
    "duration": 0,
    "start_time": "2022-05-10T16:39:10.009Z"
   },
   {
    "duration": 0,
    "start_time": "2022-05-10T16:39:10.011Z"
   },
   {
    "duration": 0,
    "start_time": "2022-05-10T16:39:10.012Z"
   },
   {
    "duration": 0,
    "start_time": "2022-05-10T16:39:10.014Z"
   },
   {
    "duration": 0,
    "start_time": "2022-05-10T16:39:10.016Z"
   },
   {
    "duration": 0,
    "start_time": "2022-05-10T16:39:10.018Z"
   },
   {
    "duration": 0,
    "start_time": "2022-05-10T16:39:10.020Z"
   },
   {
    "duration": 0,
    "start_time": "2022-05-10T16:39:10.022Z"
   },
   {
    "duration": 0,
    "start_time": "2022-05-10T16:39:10.023Z"
   },
   {
    "duration": 0,
    "start_time": "2022-05-10T16:39:10.024Z"
   },
   {
    "duration": 0,
    "start_time": "2022-05-10T16:39:10.025Z"
   },
   {
    "duration": 0,
    "start_time": "2022-05-10T16:39:10.026Z"
   },
   {
    "duration": 0,
    "start_time": "2022-05-10T16:39:10.028Z"
   },
   {
    "duration": 0,
    "start_time": "2022-05-10T16:39:10.029Z"
   },
   {
    "duration": 0,
    "start_time": "2022-05-10T16:39:10.030Z"
   },
   {
    "duration": 0,
    "start_time": "2022-05-10T16:39:10.031Z"
   },
   {
    "duration": 0,
    "start_time": "2022-05-10T16:39:10.032Z"
   },
   {
    "duration": 0,
    "start_time": "2022-05-10T16:39:10.033Z"
   },
   {
    "duration": 1284,
    "start_time": "2022-05-10T16:42:23.171Z"
   },
   {
    "duration": 35,
    "start_time": "2022-05-10T16:42:24.457Z"
   },
   {
    "duration": 21,
    "start_time": "2022-05-10T16:42:24.494Z"
   },
   {
    "duration": 19,
    "start_time": "2022-05-10T16:42:24.517Z"
   },
   {
    "duration": 21,
    "start_time": "2022-05-10T16:42:24.538Z"
   },
   {
    "duration": 46,
    "start_time": "2022-05-10T16:42:24.561Z"
   },
   {
    "duration": 15,
    "start_time": "2022-05-10T16:42:24.610Z"
   },
   {
    "duration": 10,
    "start_time": "2022-05-10T16:42:24.627Z"
   },
   {
    "duration": 13,
    "start_time": "2022-05-10T16:42:24.639Z"
   },
   {
    "duration": 9,
    "start_time": "2022-05-10T16:42:24.655Z"
   },
   {
    "duration": 49,
    "start_time": "2022-05-10T16:42:24.666Z"
   },
   {
    "duration": 11,
    "start_time": "2022-05-10T16:42:24.717Z"
   },
   {
    "duration": 10,
    "start_time": "2022-05-10T16:42:24.731Z"
   },
   {
    "duration": 3,
    "start_time": "2022-05-10T16:42:24.743Z"
   },
   {
    "duration": 15,
    "start_time": "2022-05-10T16:42:24.748Z"
   },
   {
    "duration": 215,
    "start_time": "2022-05-10T16:42:24.765Z"
   },
   {
    "duration": 9,
    "start_time": "2022-05-10T16:42:24.983Z"
   },
   {
    "duration": 25,
    "start_time": "2022-05-10T16:42:24.993Z"
   },
   {
    "duration": 227,
    "start_time": "2022-05-10T16:42:25.020Z"
   },
   {
    "duration": 66,
    "start_time": "2022-05-10T16:42:25.249Z"
   },
   {
    "duration": 21,
    "start_time": "2022-05-10T16:42:25.317Z"
   },
   {
    "duration": 66,
    "start_time": "2022-05-10T16:42:25.341Z"
   },
   {
    "duration": 16,
    "start_time": "2022-05-10T16:42:25.410Z"
   },
   {
    "duration": 715,
    "start_time": "2022-05-10T16:42:25.428Z"
   },
   {
    "duration": 793,
    "start_time": "2022-05-10T16:42:26.144Z"
   },
   {
    "duration": 10,
    "start_time": "2022-05-10T16:42:26.939Z"
   },
   {
    "duration": 10,
    "start_time": "2022-05-10T16:42:26.952Z"
   },
   {
    "duration": 17,
    "start_time": "2022-05-10T16:42:26.968Z"
   },
   {
    "duration": 503,
    "start_time": "2022-05-10T16:42:27.009Z"
   },
   {
    "duration": 12,
    "start_time": "2022-05-10T16:42:27.515Z"
   },
   {
    "duration": 6,
    "start_time": "2022-05-10T16:42:27.530Z"
   },
   {
    "duration": 9,
    "start_time": "2022-05-10T16:42:27.538Z"
   },
   {
    "duration": 8,
    "start_time": "2022-05-10T16:42:27.549Z"
   },
   {
    "duration": 346,
    "start_time": "2022-05-10T16:42:27.561Z"
   },
   {
    "duration": 16,
    "start_time": "2022-05-10T16:42:27.910Z"
   },
   {
    "duration": 461,
    "start_time": "2022-05-10T16:42:27.929Z"
   },
   {
    "duration": 22,
    "start_time": "2022-05-10T16:42:28.392Z"
   },
   {
    "duration": 145,
    "start_time": "2022-05-10T16:42:28.416Z"
   },
   {
    "duration": 137,
    "start_time": "2022-05-10T16:42:28.563Z"
   },
   {
    "duration": 14,
    "start_time": "2022-05-10T16:42:28.702Z"
   },
   {
    "duration": 12,
    "start_time": "2022-05-10T16:42:28.718Z"
   },
   {
    "duration": 172,
    "start_time": "2022-05-10T16:42:28.732Z"
   },
   {
    "duration": 232,
    "start_time": "2022-05-10T16:42:28.906Z"
   },
   {
    "duration": 9,
    "start_time": "2022-05-10T16:42:29.140Z"
   },
   {
    "duration": 46,
    "start_time": "2022-05-10T16:42:29.150Z"
   },
   {
    "duration": 32,
    "start_time": "2022-05-10T16:42:29.198Z"
   },
   {
    "duration": 84,
    "start_time": "2022-05-10T16:42:29.232Z"
   },
   {
    "duration": 77,
    "start_time": "2022-05-10T16:42:29.318Z"
   },
   {
    "duration": 9,
    "start_time": "2022-05-10T16:42:29.397Z"
   },
   {
    "duration": 18,
    "start_time": "2022-05-10T16:42:29.408Z"
   },
   {
    "duration": 65,
    "start_time": "2022-05-10T16:42:29.428Z"
   },
   {
    "duration": 28,
    "start_time": "2022-05-10T16:42:29.496Z"
   },
   {
    "duration": 94,
    "start_time": "2022-05-10T16:42:29.528Z"
   },
   {
    "duration": 28,
    "start_time": "2022-05-10T16:42:29.623Z"
   },
   {
    "duration": 12,
    "start_time": "2022-05-10T16:42:29.653Z"
   },
   {
    "duration": 104,
    "start_time": "2022-05-10T16:42:29.667Z"
   },
   {
    "duration": 8,
    "start_time": "2022-05-10T16:42:29.772Z"
   },
   {
    "duration": 29,
    "start_time": "2022-05-10T16:42:29.782Z"
   },
   {
    "duration": 42,
    "start_time": "2022-05-10T16:42:29.813Z"
   },
   {
    "duration": 7,
    "start_time": "2022-05-10T16:42:29.857Z"
   },
   {
    "duration": 18,
    "start_time": "2022-05-10T16:42:29.866Z"
   },
   {
    "duration": 16,
    "start_time": "2022-05-10T16:42:29.886Z"
   },
   {
    "duration": 11,
    "start_time": "2022-05-10T16:42:29.904Z"
   },
   {
    "duration": 14,
    "start_time": "2022-05-10T16:42:29.917Z"
   },
   {
    "duration": 11,
    "start_time": "2022-05-10T16:42:29.933Z"
   },
   {
    "duration": 18,
    "start_time": "2022-05-10T16:42:29.946Z"
   },
   {
    "duration": 20,
    "start_time": "2022-05-10T16:42:29.966Z"
   },
   {
    "duration": 48,
    "start_time": "2022-05-10T16:42:29.989Z"
   },
   {
    "duration": 6,
    "start_time": "2022-05-10T16:42:30.039Z"
   },
   {
    "duration": 14,
    "start_time": "2022-05-10T16:42:30.047Z"
   },
   {
    "duration": 28,
    "start_time": "2022-05-10T16:42:30.063Z"
   },
   {
    "duration": 91,
    "start_time": "2022-05-10T16:46:33.220Z"
   },
   {
    "duration": 139,
    "start_time": "2022-05-10T16:48:43.828Z"
   },
   {
    "duration": 51,
    "start_time": "2022-05-11T11:10:45.173Z"
   },
   {
    "duration": 1388,
    "start_time": "2022-05-11T11:10:49.990Z"
   },
   {
    "duration": 47,
    "start_time": "2022-05-11T11:10:51.381Z"
   },
   {
    "duration": 21,
    "start_time": "2022-05-11T11:10:51.430Z"
   },
   {
    "duration": 16,
    "start_time": "2022-05-11T11:10:51.453Z"
   },
   {
    "duration": 14,
    "start_time": "2022-05-11T11:10:51.471Z"
   },
   {
    "duration": 28,
    "start_time": "2022-05-11T11:10:51.487Z"
   },
   {
    "duration": 20,
    "start_time": "2022-05-11T11:10:51.517Z"
   },
   {
    "duration": 80,
    "start_time": "2022-05-11T11:10:51.539Z"
   },
   {
    "duration": 0,
    "start_time": "2022-05-11T11:10:51.623Z"
   },
   {
    "duration": 0,
    "start_time": "2022-05-11T11:10:51.624Z"
   },
   {
    "duration": 0,
    "start_time": "2022-05-11T11:10:51.626Z"
   },
   {
    "duration": 0,
    "start_time": "2022-05-11T11:10:51.627Z"
   },
   {
    "duration": 0,
    "start_time": "2022-05-11T11:10:51.628Z"
   },
   {
    "duration": 0,
    "start_time": "2022-05-11T11:10:51.629Z"
   },
   {
    "duration": 0,
    "start_time": "2022-05-11T11:10:51.629Z"
   },
   {
    "duration": 0,
    "start_time": "2022-05-11T11:10:51.630Z"
   },
   {
    "duration": 0,
    "start_time": "2022-05-11T11:10:51.631Z"
   },
   {
    "duration": 0,
    "start_time": "2022-05-11T11:10:51.632Z"
   },
   {
    "duration": 0,
    "start_time": "2022-05-11T11:10:51.633Z"
   },
   {
    "duration": 0,
    "start_time": "2022-05-11T11:10:51.634Z"
   },
   {
    "duration": 0,
    "start_time": "2022-05-11T11:10:51.635Z"
   },
   {
    "duration": 0,
    "start_time": "2022-05-11T11:10:51.636Z"
   },
   {
    "duration": 0,
    "start_time": "2022-05-11T11:10:51.637Z"
   },
   {
    "duration": 0,
    "start_time": "2022-05-11T11:10:51.638Z"
   },
   {
    "duration": 0,
    "start_time": "2022-05-11T11:10:51.639Z"
   },
   {
    "duration": 0,
    "start_time": "2022-05-11T11:10:51.640Z"
   },
   {
    "duration": 0,
    "start_time": "2022-05-11T11:10:51.641Z"
   },
   {
    "duration": 0,
    "start_time": "2022-05-11T11:10:51.642Z"
   },
   {
    "duration": 0,
    "start_time": "2022-05-11T11:10:51.643Z"
   },
   {
    "duration": 0,
    "start_time": "2022-05-11T11:10:51.644Z"
   },
   {
    "duration": 0,
    "start_time": "2022-05-11T11:10:51.645Z"
   },
   {
    "duration": 0,
    "start_time": "2022-05-11T11:10:51.646Z"
   },
   {
    "duration": 0,
    "start_time": "2022-05-11T11:10:51.647Z"
   },
   {
    "duration": 0,
    "start_time": "2022-05-11T11:10:51.648Z"
   },
   {
    "duration": 0,
    "start_time": "2022-05-11T11:10:51.649Z"
   },
   {
    "duration": 0,
    "start_time": "2022-05-11T11:10:51.651Z"
   },
   {
    "duration": 0,
    "start_time": "2022-05-11T11:10:51.651Z"
   },
   {
    "duration": 0,
    "start_time": "2022-05-11T11:10:51.653Z"
   },
   {
    "duration": 0,
    "start_time": "2022-05-11T11:10:51.654Z"
   },
   {
    "duration": 0,
    "start_time": "2022-05-11T11:10:51.708Z"
   },
   {
    "duration": 0,
    "start_time": "2022-05-11T11:10:51.709Z"
   },
   {
    "duration": 0,
    "start_time": "2022-05-11T11:10:51.710Z"
   },
   {
    "duration": 0,
    "start_time": "2022-05-11T11:10:51.711Z"
   },
   {
    "duration": 0,
    "start_time": "2022-05-11T11:10:51.712Z"
   },
   {
    "duration": 0,
    "start_time": "2022-05-11T11:10:51.713Z"
   },
   {
    "duration": 0,
    "start_time": "2022-05-11T11:10:51.715Z"
   },
   {
    "duration": 0,
    "start_time": "2022-05-11T11:10:51.716Z"
   },
   {
    "duration": 0,
    "start_time": "2022-05-11T11:10:51.717Z"
   },
   {
    "duration": 0,
    "start_time": "2022-05-11T11:10:51.718Z"
   },
   {
    "duration": 0,
    "start_time": "2022-05-11T11:10:51.719Z"
   },
   {
    "duration": 0,
    "start_time": "2022-05-11T11:10:51.720Z"
   },
   {
    "duration": 0,
    "start_time": "2022-05-11T11:10:51.721Z"
   },
   {
    "duration": 0,
    "start_time": "2022-05-11T11:10:51.722Z"
   },
   {
    "duration": 0,
    "start_time": "2022-05-11T11:10:51.723Z"
   },
   {
    "duration": 0,
    "start_time": "2022-05-11T11:10:51.724Z"
   },
   {
    "duration": 0,
    "start_time": "2022-05-11T11:10:51.725Z"
   },
   {
    "duration": 0,
    "start_time": "2022-05-11T11:10:51.727Z"
   },
   {
    "duration": 0,
    "start_time": "2022-05-11T11:10:51.727Z"
   },
   {
    "duration": 0,
    "start_time": "2022-05-11T11:10:51.729Z"
   },
   {
    "duration": 0,
    "start_time": "2022-05-11T11:10:51.730Z"
   },
   {
    "duration": 0,
    "start_time": "2022-05-11T11:10:51.731Z"
   },
   {
    "duration": 0,
    "start_time": "2022-05-11T11:10:51.732Z"
   },
   {
    "duration": 0,
    "start_time": "2022-05-11T11:10:51.733Z"
   },
   {
    "duration": 0,
    "start_time": "2022-05-11T11:10:51.734Z"
   },
   {
    "duration": 0,
    "start_time": "2022-05-11T11:10:51.736Z"
   },
   {
    "duration": 0,
    "start_time": "2022-05-11T11:10:51.737Z"
   },
   {
    "duration": 0,
    "start_time": "2022-05-11T11:10:51.738Z"
   },
   {
    "duration": 0,
    "start_time": "2022-05-11T11:10:51.739Z"
   },
   {
    "duration": 0,
    "start_time": "2022-05-11T11:10:51.740Z"
   },
   {
    "duration": 0,
    "start_time": "2022-05-11T11:10:51.741Z"
   },
   {
    "duration": 0,
    "start_time": "2022-05-11T11:10:51.742Z"
   },
   {
    "duration": 0,
    "start_time": "2022-05-11T11:10:51.743Z"
   },
   {
    "duration": 0,
    "start_time": "2022-05-11T11:10:51.744Z"
   },
   {
    "duration": 12,
    "start_time": "2022-05-11T11:11:07.487Z"
   },
   {
    "duration": 12,
    "start_time": "2022-05-11T11:11:12.413Z"
   },
   {
    "duration": 11,
    "start_time": "2022-05-11T11:11:17.467Z"
   },
   {
    "duration": 12,
    "start_time": "2022-05-11T11:11:47.707Z"
   },
   {
    "duration": 13,
    "start_time": "2022-05-11T11:12:02.752Z"
   },
   {
    "duration": 13,
    "start_time": "2022-05-11T11:12:06.607Z"
   },
   {
    "duration": 32,
    "start_time": "2022-05-11T11:13:10.447Z"
   },
   {
    "duration": 30,
    "start_time": "2022-05-11T11:13:14.879Z"
   },
   {
    "duration": 13,
    "start_time": "2022-05-11T11:13:19.962Z"
   },
   {
    "duration": 11,
    "start_time": "2022-05-11T11:19:32.142Z"
   },
   {
    "duration": 9,
    "start_time": "2022-05-11T11:19:36.650Z"
   },
   {
    "duration": 9,
    "start_time": "2022-05-11T11:19:44.555Z"
   },
   {
    "duration": 10,
    "start_time": "2022-05-11T11:19:47.121Z"
   },
   {
    "duration": 2,
    "start_time": "2022-05-11T11:19:52.851Z"
   },
   {
    "duration": 37,
    "start_time": "2022-05-11T11:19:52.855Z"
   },
   {
    "duration": 16,
    "start_time": "2022-05-11T11:19:52.894Z"
   },
   {
    "duration": 16,
    "start_time": "2022-05-11T11:19:52.912Z"
   },
   {
    "duration": 21,
    "start_time": "2022-05-11T11:19:52.929Z"
   },
   {
    "duration": 18,
    "start_time": "2022-05-11T11:19:52.951Z"
   },
   {
    "duration": 39,
    "start_time": "2022-05-11T11:19:52.971Z"
   },
   {
    "duration": 12,
    "start_time": "2022-05-11T11:19:53.012Z"
   },
   {
    "duration": 13,
    "start_time": "2022-05-11T11:19:53.027Z"
   },
   {
    "duration": 10,
    "start_time": "2022-05-11T11:19:53.042Z"
   },
   {
    "duration": 57,
    "start_time": "2022-05-11T11:19:53.054Z"
   },
   {
    "duration": 6,
    "start_time": "2022-05-11T11:19:53.113Z"
   },
   {
    "duration": 11,
    "start_time": "2022-05-11T11:19:53.121Z"
   },
   {
    "duration": 11,
    "start_time": "2022-05-11T11:19:53.133Z"
   },
   {
    "duration": 10,
    "start_time": "2022-05-11T11:19:53.146Z"
   },
   {
    "duration": 9,
    "start_time": "2022-05-11T11:19:53.157Z"
   },
   {
    "duration": 41,
    "start_time": "2022-05-11T11:19:53.168Z"
   },
   {
    "duration": 180,
    "start_time": "2022-05-11T11:19:53.211Z"
   },
   {
    "duration": 7,
    "start_time": "2022-05-11T11:19:53.393Z"
   },
   {
    "duration": 12,
    "start_time": "2022-05-11T11:19:53.407Z"
   },
   {
    "duration": 146,
    "start_time": "2022-05-11T11:19:53.421Z"
   },
   {
    "duration": 16,
    "start_time": "2022-05-11T11:19:53.569Z"
   },
   {
    "duration": 26,
    "start_time": "2022-05-11T11:19:53.587Z"
   },
   {
    "duration": 12,
    "start_time": "2022-05-11T11:19:53.617Z"
   },
   {
    "duration": 11,
    "start_time": "2022-05-11T11:19:53.631Z"
   },
   {
    "duration": 504,
    "start_time": "2022-05-11T11:19:53.644Z"
   },
   {
    "duration": 403,
    "start_time": "2022-05-11T11:19:54.150Z"
   },
   {
    "duration": 8,
    "start_time": "2022-05-11T11:19:54.607Z"
   },
   {
    "duration": 8,
    "start_time": "2022-05-11T11:19:54.618Z"
   },
   {
    "duration": 13,
    "start_time": "2022-05-11T11:19:54.628Z"
   },
   {
    "duration": 701,
    "start_time": "2022-05-11T11:19:54.643Z"
   },
   {
    "duration": 64,
    "start_time": "2022-05-11T11:19:55.346Z"
   },
   {
    "duration": 7,
    "start_time": "2022-05-11T11:19:55.412Z"
   },
   {
    "duration": 9,
    "start_time": "2022-05-11T11:19:55.421Z"
   },
   {
    "duration": 10,
    "start_time": "2022-05-11T11:19:55.432Z"
   },
   {
    "duration": 578,
    "start_time": "2022-05-11T11:19:55.444Z"
   },
   {
    "duration": 13,
    "start_time": "2022-05-11T11:19:56.024Z"
   },
   {
    "duration": 668,
    "start_time": "2022-05-11T11:19:56.039Z"
   },
   {
    "duration": 12,
    "start_time": "2022-05-11T11:19:56.709Z"
   },
   {
    "duration": 194,
    "start_time": "2022-05-11T11:19:56.723Z"
   },
   {
    "duration": 146,
    "start_time": "2022-05-11T11:19:56.919Z"
   },
   {
    "duration": 11,
    "start_time": "2022-05-11T11:19:57.067Z"
   },
   {
    "duration": 35,
    "start_time": "2022-05-11T11:19:57.080Z"
   },
   {
    "duration": 210,
    "start_time": "2022-05-11T11:19:57.116Z"
   },
   {
    "duration": 145,
    "start_time": "2022-05-11T11:19:57.328Z"
   },
   {
    "duration": 31,
    "start_time": "2022-05-11T11:19:57.475Z"
   },
   {
    "duration": 10,
    "start_time": "2022-05-11T11:19:57.508Z"
   },
   {
    "duration": 11,
    "start_time": "2022-05-11T11:19:57.520Z"
   },
   {
    "duration": 76,
    "start_time": "2022-05-11T11:19:57.532Z"
   },
   {
    "duration": 61,
    "start_time": "2022-05-11T11:19:57.610Z"
   },
   {
    "duration": 8,
    "start_time": "2022-05-11T11:19:57.672Z"
   },
   {
    "duration": 40,
    "start_time": "2022-05-11T11:19:57.681Z"
   },
   {
    "duration": 57,
    "start_time": "2022-05-11T11:19:57.723Z"
   },
   {
    "duration": 43,
    "start_time": "2022-05-11T11:19:57.781Z"
   },
   {
    "duration": 57,
    "start_time": "2022-05-11T11:19:57.826Z"
   },
   {
    "duration": 41,
    "start_time": "2022-05-11T11:19:57.885Z"
   },
   {
    "duration": 11,
    "start_time": "2022-05-11T11:19:57.928Z"
   },
   {
    "duration": 104,
    "start_time": "2022-05-11T11:19:57.940Z"
   },
   {
    "duration": 11,
    "start_time": "2022-05-11T11:19:58.046Z"
   },
   {
    "duration": 11,
    "start_time": "2022-05-11T11:19:58.059Z"
   },
   {
    "duration": 49,
    "start_time": "2022-05-11T11:19:58.071Z"
   },
   {
    "duration": 5,
    "start_time": "2022-05-11T11:19:58.122Z"
   },
   {
    "duration": 10,
    "start_time": "2022-05-11T11:19:58.129Z"
   },
   {
    "duration": 7,
    "start_time": "2022-05-11T11:19:58.140Z"
   },
   {
    "duration": 8,
    "start_time": "2022-05-11T11:19:58.149Z"
   },
   {
    "duration": 7,
    "start_time": "2022-05-11T11:19:58.158Z"
   },
   {
    "duration": 45,
    "start_time": "2022-05-11T11:19:58.167Z"
   },
   {
    "duration": 13,
    "start_time": "2022-05-11T11:19:58.214Z"
   },
   {
    "duration": 8,
    "start_time": "2022-05-11T11:19:58.232Z"
   },
   {
    "duration": 25,
    "start_time": "2022-05-11T11:19:58.242Z"
   },
   {
    "duration": 4,
    "start_time": "2022-05-11T11:19:58.268Z"
   },
   {
    "duration": 11,
    "start_time": "2022-05-11T11:19:58.307Z"
   },
   {
    "duration": 9,
    "start_time": "2022-05-11T11:19:58.319Z"
   },
   {
    "duration": 11,
    "start_time": "2022-05-11T11:20:04.974Z"
   },
   {
    "duration": 3,
    "start_time": "2022-05-11T11:20:11.056Z"
   },
   {
    "duration": 39,
    "start_time": "2022-05-11T11:20:11.061Z"
   },
   {
    "duration": 17,
    "start_time": "2022-05-11T11:20:11.102Z"
   },
   {
    "duration": 16,
    "start_time": "2022-05-11T11:20:11.120Z"
   },
   {
    "duration": 15,
    "start_time": "2022-05-11T11:20:11.138Z"
   },
   {
    "duration": 13,
    "start_time": "2022-05-11T11:20:11.154Z"
   },
   {
    "duration": 13,
    "start_time": "2022-05-11T11:20:11.168Z"
   },
   {
    "duration": 11,
    "start_time": "2022-05-11T11:20:11.182Z"
   },
   {
    "duration": 23,
    "start_time": "2022-05-11T11:20:11.194Z"
   },
   {
    "duration": 9,
    "start_time": "2022-05-11T11:20:11.219Z"
   },
   {
    "duration": 12,
    "start_time": "2022-05-11T11:20:11.229Z"
   },
   {
    "duration": 10,
    "start_time": "2022-05-11T11:20:11.242Z"
   },
   {
    "duration": 15,
    "start_time": "2022-05-11T11:20:11.254Z"
   },
   {
    "duration": 13,
    "start_time": "2022-05-11T11:20:11.272Z"
   },
   {
    "duration": 9,
    "start_time": "2022-05-11T11:20:11.286Z"
   },
   {
    "duration": 9,
    "start_time": "2022-05-11T11:20:11.297Z"
   },
   {
    "duration": 11,
    "start_time": "2022-05-11T11:20:11.308Z"
   },
   {
    "duration": 180,
    "start_time": "2022-05-11T11:20:11.321Z"
   },
   {
    "duration": 8,
    "start_time": "2022-05-11T11:20:11.502Z"
   },
   {
    "duration": 11,
    "start_time": "2022-05-11T11:20:11.512Z"
   },
   {
    "duration": 133,
    "start_time": "2022-05-11T11:20:11.525Z"
   },
   {
    "duration": 13,
    "start_time": "2022-05-11T11:20:11.660Z"
   },
   {
    "duration": 10,
    "start_time": "2022-05-11T11:20:11.675Z"
   },
   {
    "duration": 22,
    "start_time": "2022-05-11T11:20:11.687Z"
   },
   {
    "duration": 13,
    "start_time": "2022-05-11T11:20:11.710Z"
   },
   {
    "duration": 332,
    "start_time": "2022-05-11T11:20:11.725Z"
   },
   {
    "duration": 341,
    "start_time": "2022-05-11T11:20:12.059Z"
   },
   {
    "duration": 12,
    "start_time": "2022-05-11T11:20:12.402Z"
   },
   {
    "duration": 9,
    "start_time": "2022-05-11T11:20:12.416Z"
   },
   {
    "duration": 13,
    "start_time": "2022-05-11T11:20:12.426Z"
   },
   {
    "duration": 349,
    "start_time": "2022-05-11T11:20:12.441Z"
   },
   {
    "duration": 17,
    "start_time": "2022-05-11T11:20:12.792Z"
   },
   {
    "duration": 6,
    "start_time": "2022-05-11T11:20:12.810Z"
   },
   {
    "duration": 7,
    "start_time": "2022-05-11T11:20:12.818Z"
   },
   {
    "duration": 8,
    "start_time": "2022-05-11T11:20:12.826Z"
   },
   {
    "duration": 476,
    "start_time": "2022-05-11T11:20:12.835Z"
   },
   {
    "duration": 15,
    "start_time": "2022-05-11T11:20:13.313Z"
   },
   {
    "duration": 437,
    "start_time": "2022-05-11T11:20:13.330Z"
   },
   {
    "duration": 15,
    "start_time": "2022-05-11T11:20:13.769Z"
   },
   {
    "duration": 170,
    "start_time": "2022-05-11T11:20:13.786Z"
   },
   {
    "duration": 157,
    "start_time": "2022-05-11T11:20:13.961Z"
   },
   {
    "duration": 12,
    "start_time": "2022-05-11T11:20:14.119Z"
   },
   {
    "duration": 15,
    "start_time": "2022-05-11T11:20:14.133Z"
   },
   {
    "duration": 284,
    "start_time": "2022-05-11T11:20:14.150Z"
   },
   {
    "duration": 482,
    "start_time": "2022-05-11T11:20:14.436Z"
   },
   {
    "duration": 10,
    "start_time": "2022-05-11T11:20:14.919Z"
   },
   {
    "duration": 7,
    "start_time": "2022-05-11T11:20:14.931Z"
   },
   {
    "duration": 14,
    "start_time": "2022-05-11T11:20:14.940Z"
   },
   {
    "duration": 107,
    "start_time": "2022-05-11T11:20:15.008Z"
   },
   {
    "duration": 113,
    "start_time": "2022-05-11T11:20:15.117Z"
   },
   {
    "duration": 8,
    "start_time": "2022-05-11T11:20:15.232Z"
   },
   {
    "duration": 67,
    "start_time": "2022-05-11T11:20:15.242Z"
   },
   {
    "duration": 110,
    "start_time": "2022-05-11T11:20:15.311Z"
   },
   {
    "duration": 23,
    "start_time": "2022-05-11T11:20:15.423Z"
   },
   {
    "duration": 160,
    "start_time": "2022-05-11T11:20:15.449Z"
   },
   {
    "duration": 27,
    "start_time": "2022-05-11T11:20:15.611Z"
   },
   {
    "duration": 75,
    "start_time": "2022-05-11T11:20:15.640Z"
   },
   {
    "duration": 128,
    "start_time": "2022-05-11T11:20:15.717Z"
   },
   {
    "duration": 62,
    "start_time": "2022-05-11T11:20:15.847Z"
   },
   {
    "duration": 8,
    "start_time": "2022-05-11T11:20:15.910Z"
   },
   {
    "duration": 25,
    "start_time": "2022-05-11T11:20:15.920Z"
   },
   {
    "duration": 62,
    "start_time": "2022-05-11T11:20:15.947Z"
   },
   {
    "duration": 10,
    "start_time": "2022-05-11T11:20:16.011Z"
   },
   {
    "duration": 10,
    "start_time": "2022-05-11T11:20:16.023Z"
   },
   {
    "duration": 12,
    "start_time": "2022-05-11T11:20:16.034Z"
   },
   {
    "duration": 10,
    "start_time": "2022-05-11T11:20:16.047Z"
   },
   {
    "duration": 8,
    "start_time": "2022-05-11T11:20:16.058Z"
   },
   {
    "duration": 44,
    "start_time": "2022-05-11T11:20:16.068Z"
   },
   {
    "duration": 9,
    "start_time": "2022-05-11T11:20:16.114Z"
   },
   {
    "duration": 26,
    "start_time": "2022-05-11T11:20:16.124Z"
   },
   {
    "duration": 5,
    "start_time": "2022-05-11T11:20:16.151Z"
   },
   {
    "duration": 11,
    "start_time": "2022-05-11T11:20:16.158Z"
   },
   {
    "duration": 44,
    "start_time": "2022-05-11T11:20:16.170Z"
   },
   {
    "duration": 15,
    "start_time": "2022-05-11T11:20:35.680Z"
   },
   {
    "duration": 12,
    "start_time": "2022-05-11T11:20:44.344Z"
   },
   {
    "duration": 11,
    "start_time": "2022-05-11T11:20:55.314Z"
   },
   {
    "duration": 13,
    "start_time": "2022-05-11T11:22:56.513Z"
   },
   {
    "duration": 4,
    "start_time": "2022-05-11T11:23:08.431Z"
   },
   {
    "duration": 49,
    "start_time": "2022-05-11T11:23:08.437Z"
   },
   {
    "duration": 17,
    "start_time": "2022-05-11T11:23:08.487Z"
   },
   {
    "duration": 19,
    "start_time": "2022-05-11T11:23:08.507Z"
   },
   {
    "duration": 19,
    "start_time": "2022-05-11T11:23:08.528Z"
   },
   {
    "duration": 16,
    "start_time": "2022-05-11T11:23:08.548Z"
   },
   {
    "duration": 46,
    "start_time": "2022-05-11T11:23:08.566Z"
   },
   {
    "duration": 12,
    "start_time": "2022-05-11T11:23:08.614Z"
   },
   {
    "duration": 12,
    "start_time": "2022-05-11T11:23:08.628Z"
   },
   {
    "duration": 10,
    "start_time": "2022-05-11T11:23:08.641Z"
   },
   {
    "duration": 12,
    "start_time": "2022-05-11T11:23:08.653Z"
   },
   {
    "duration": 10,
    "start_time": "2022-05-11T11:23:08.706Z"
   },
   {
    "duration": 14,
    "start_time": "2022-05-11T11:23:08.718Z"
   },
   {
    "duration": 11,
    "start_time": "2022-05-11T11:23:08.733Z"
   },
   {
    "duration": 10,
    "start_time": "2022-05-11T11:23:08.745Z"
   },
   {
    "duration": 50,
    "start_time": "2022-05-11T11:23:08.757Z"
   },
   {
    "duration": 184,
    "start_time": "2022-05-11T11:23:08.810Z"
   },
   {
    "duration": 12,
    "start_time": "2022-05-11T11:23:08.996Z"
   },
   {
    "duration": 14,
    "start_time": "2022-05-11T11:23:09.011Z"
   },
   {
    "duration": 166,
    "start_time": "2022-05-11T11:23:09.028Z"
   },
   {
    "duration": 14,
    "start_time": "2022-05-11T11:23:09.207Z"
   },
   {
    "duration": 10,
    "start_time": "2022-05-11T11:23:09.222Z"
   },
   {
    "duration": 13,
    "start_time": "2022-05-11T11:23:09.234Z"
   },
   {
    "duration": 9,
    "start_time": "2022-05-11T11:23:09.252Z"
   },
   {
    "duration": 338,
    "start_time": "2022-05-11T11:23:09.263Z"
   },
   {
    "duration": 314,
    "start_time": "2022-05-11T11:23:09.608Z"
   },
   {
    "duration": 8,
    "start_time": "2022-05-11T11:23:09.924Z"
   },
   {
    "duration": 9,
    "start_time": "2022-05-11T11:23:09.933Z"
   },
   {
    "duration": 12,
    "start_time": "2022-05-11T11:23:09.944Z"
   },
   {
    "duration": 493,
    "start_time": "2022-05-11T11:23:09.958Z"
   },
   {
    "duration": 64,
    "start_time": "2022-05-11T11:23:10.453Z"
   },
   {
    "duration": 5,
    "start_time": "2022-05-11T11:23:10.519Z"
   },
   {
    "duration": 9,
    "start_time": "2022-05-11T11:23:10.526Z"
   },
   {
    "duration": 7,
    "start_time": "2022-05-11T11:23:10.536Z"
   },
   {
    "duration": 568,
    "start_time": "2022-05-11T11:23:10.545Z"
   },
   {
    "duration": 15,
    "start_time": "2022-05-11T11:23:11.115Z"
   },
   {
    "duration": 687,
    "start_time": "2022-05-11T11:23:11.132Z"
   },
   {
    "duration": 12,
    "start_time": "2022-05-11T11:23:11.821Z"
   },
   {
    "duration": 299,
    "start_time": "2022-05-11T11:23:11.835Z"
   },
   {
    "duration": 248,
    "start_time": "2022-05-11T11:23:12.136Z"
   },
   {
    "duration": 22,
    "start_time": "2022-05-11T11:23:12.387Z"
   },
   {
    "duration": 13,
    "start_time": "2022-05-11T11:23:12.411Z"
   },
   {
    "duration": 158,
    "start_time": "2022-05-11T11:23:12.426Z"
   },
   {
    "duration": 146,
    "start_time": "2022-05-11T11:23:12.586Z"
   },
   {
    "duration": 9,
    "start_time": "2022-05-11T11:23:12.734Z"
   },
   {
    "duration": 8,
    "start_time": "2022-05-11T11:23:12.745Z"
   },
   {
    "duration": 28,
    "start_time": "2022-05-11T11:23:12.755Z"
   },
   {
    "duration": 65,
    "start_time": "2022-05-11T11:23:12.784Z"
   },
   {
    "duration": 75,
    "start_time": "2022-05-11T11:23:12.850Z"
   },
   {
    "duration": 7,
    "start_time": "2022-05-11T11:23:12.927Z"
   },
   {
    "duration": 26,
    "start_time": "2022-05-11T11:23:12.936Z"
   },
   {
    "duration": 72,
    "start_time": "2022-05-11T11:23:12.963Z"
   },
   {
    "duration": 33,
    "start_time": "2022-05-11T11:23:13.037Z"
   },
   {
    "duration": 67,
    "start_time": "2022-05-11T11:23:13.071Z"
   },
   {
    "duration": 25,
    "start_time": "2022-05-11T11:23:13.139Z"
   },
   {
    "duration": 14,
    "start_time": "2022-05-11T11:23:13.165Z"
   },
   {
    "duration": 74,
    "start_time": "2022-05-11T11:23:13.208Z"
   },
   {
    "duration": 24,
    "start_time": "2022-05-11T11:23:13.284Z"
   },
   {
    "duration": 7,
    "start_time": "2022-05-11T11:23:13.310Z"
   },
   {
    "duration": 30,
    "start_time": "2022-05-11T11:23:13.319Z"
   },
   {
    "duration": 5,
    "start_time": "2022-05-11T11:23:13.351Z"
   },
   {
    "duration": 12,
    "start_time": "2022-05-11T11:23:13.357Z"
   },
   {
    "duration": 38,
    "start_time": "2022-05-11T11:23:13.371Z"
   },
   {
    "duration": 12,
    "start_time": "2022-05-11T11:23:13.411Z"
   },
   {
    "duration": 7,
    "start_time": "2022-05-11T11:23:13.425Z"
   },
   {
    "duration": 22,
    "start_time": "2022-05-11T11:23:13.434Z"
   },
   {
    "duration": 11,
    "start_time": "2022-05-11T11:23:13.458Z"
   },
   {
    "duration": 20,
    "start_time": "2022-05-11T11:23:13.471Z"
   },
   {
    "duration": 25,
    "start_time": "2022-05-11T11:23:13.509Z"
   },
   {
    "duration": 5,
    "start_time": "2022-05-11T11:23:13.535Z"
   },
   {
    "duration": 13,
    "start_time": "2022-05-11T11:23:13.542Z"
   },
   {
    "duration": 20,
    "start_time": "2022-05-11T11:23:13.557Z"
   },
   {
    "duration": 14,
    "start_time": "2022-05-11T11:24:35.230Z"
   },
   {
    "duration": 14,
    "start_time": "2022-05-11T11:24:37.635Z"
   },
   {
    "duration": 143,
    "start_time": "2022-05-11T11:24:40.057Z"
   },
   {
    "duration": 16,
    "start_time": "2022-05-11T11:24:47.994Z"
   },
   {
    "duration": 14,
    "start_time": "2022-05-11T11:24:58.939Z"
   },
   {
    "duration": 16,
    "start_time": "2022-05-11T11:25:11.848Z"
   },
   {
    "duration": 13,
    "start_time": "2022-05-11T11:25:57.063Z"
   },
   {
    "duration": 13,
    "start_time": "2022-05-11T11:26:36.741Z"
   },
   {
    "duration": 9,
    "start_time": "2022-05-11T11:27:41.431Z"
   },
   {
    "duration": 13,
    "start_time": "2022-05-11T11:27:54.443Z"
   },
   {
    "duration": 12,
    "start_time": "2022-05-11T11:28:02.456Z"
   },
   {
    "duration": 12,
    "start_time": "2022-05-11T11:28:29.147Z"
   },
   {
    "duration": 1050,
    "start_time": "2022-05-11T11:30:25.294Z"
   },
   {
    "duration": 13,
    "start_time": "2022-05-11T11:31:02.111Z"
   },
   {
    "duration": 12,
    "start_time": "2022-05-11T11:31:12.300Z"
   },
   {
    "duration": 3,
    "start_time": "2022-05-11T11:31:16.915Z"
   },
   {
    "duration": 46,
    "start_time": "2022-05-11T11:31:16.920Z"
   },
   {
    "duration": 17,
    "start_time": "2022-05-11T11:31:16.968Z"
   },
   {
    "duration": 20,
    "start_time": "2022-05-11T11:31:16.988Z"
   },
   {
    "duration": 17,
    "start_time": "2022-05-11T11:31:17.010Z"
   },
   {
    "duration": 12,
    "start_time": "2022-05-11T11:31:17.029Z"
   },
   {
    "duration": 12,
    "start_time": "2022-05-11T11:31:17.043Z"
   },
   {
    "duration": 52,
    "start_time": "2022-05-11T11:31:17.057Z"
   },
   {
    "duration": 13,
    "start_time": "2022-05-11T11:31:17.112Z"
   },
   {
    "duration": 9,
    "start_time": "2022-05-11T11:31:17.127Z"
   },
   {
    "duration": 17,
    "start_time": "2022-05-11T11:31:17.139Z"
   },
   {
    "duration": 15,
    "start_time": "2022-05-11T11:31:17.157Z"
   },
   {
    "duration": 43,
    "start_time": "2022-05-11T11:31:17.174Z"
   },
   {
    "duration": 17,
    "start_time": "2022-05-11T11:31:17.219Z"
   },
   {
    "duration": 13,
    "start_time": "2022-05-11T11:31:17.238Z"
   },
   {
    "duration": 18,
    "start_time": "2022-05-11T11:31:17.252Z"
   },
   {
    "duration": 13,
    "start_time": "2022-05-11T11:31:17.272Z"
   },
   {
    "duration": 196,
    "start_time": "2022-05-11T11:31:17.287Z"
   },
   {
    "duration": 8,
    "start_time": "2022-05-11T11:31:17.484Z"
   },
   {
    "duration": 22,
    "start_time": "2022-05-11T11:31:17.494Z"
   },
   {
    "duration": 144,
    "start_time": "2022-05-11T11:31:17.518Z"
   },
   {
    "duration": 13,
    "start_time": "2022-05-11T11:31:17.664Z"
   },
   {
    "duration": 28,
    "start_time": "2022-05-11T11:31:17.679Z"
   },
   {
    "duration": 12,
    "start_time": "2022-05-11T11:31:17.712Z"
   },
   {
    "duration": 15,
    "start_time": "2022-05-11T11:31:17.725Z"
   },
   {
    "duration": 356,
    "start_time": "2022-05-11T11:31:17.741Z"
   },
   {
    "duration": 328,
    "start_time": "2022-05-11T11:31:18.107Z"
   },
   {
    "duration": 8,
    "start_time": "2022-05-11T11:31:18.437Z"
   },
   {
    "duration": 9,
    "start_time": "2022-05-11T11:31:18.446Z"
   },
   {
    "duration": 12,
    "start_time": "2022-05-11T11:31:18.508Z"
   },
   {
    "duration": 523,
    "start_time": "2022-05-11T11:31:18.522Z"
   },
   {
    "duration": 62,
    "start_time": "2022-05-11T11:31:19.047Z"
   },
   {
    "duration": 5,
    "start_time": "2022-05-11T11:31:19.111Z"
   },
   {
    "duration": 9,
    "start_time": "2022-05-11T11:31:19.118Z"
   },
   {
    "duration": 8,
    "start_time": "2022-05-11T11:31:19.129Z"
   },
   {
    "duration": 592,
    "start_time": "2022-05-11T11:31:19.140Z"
   },
   {
    "duration": 15,
    "start_time": "2022-05-11T11:31:19.734Z"
   },
   {
    "duration": 587,
    "start_time": "2022-05-11T11:31:19.750Z"
   },
   {
    "duration": 11,
    "start_time": "2022-05-11T11:31:20.339Z"
   },
   {
    "duration": 225,
    "start_time": "2022-05-11T11:31:20.352Z"
   },
   {
    "duration": 151,
    "start_time": "2022-05-11T11:31:20.578Z"
   },
   {
    "duration": 11,
    "start_time": "2022-05-11T11:31:20.731Z"
   },
   {
    "duration": 11,
    "start_time": "2022-05-11T11:31:20.745Z"
   },
   {
    "duration": 165,
    "start_time": "2022-05-11T11:31:20.758Z"
   },
   {
    "duration": 143,
    "start_time": "2022-05-11T11:31:20.925Z"
   },
   {
    "duration": 10,
    "start_time": "2022-05-11T11:31:21.070Z"
   },
   {
    "duration": 28,
    "start_time": "2022-05-11T11:31:21.081Z"
   },
   {
    "duration": 11,
    "start_time": "2022-05-11T11:31:21.111Z"
   },
   {
    "duration": 60,
    "start_time": "2022-05-11T11:31:21.123Z"
   },
   {
    "duration": 82,
    "start_time": "2022-05-11T11:31:21.185Z"
   },
   {
    "duration": 9,
    "start_time": "2022-05-11T11:31:21.268Z"
   },
   {
    "duration": 37,
    "start_time": "2022-05-11T11:31:21.279Z"
   },
   {
    "duration": 58,
    "start_time": "2022-05-11T11:31:21.318Z"
   },
   {
    "duration": 39,
    "start_time": "2022-05-11T11:31:21.378Z"
   },
   {
    "duration": 70,
    "start_time": "2022-05-11T11:31:21.419Z"
   },
   {
    "duration": 31,
    "start_time": "2022-05-11T11:31:21.491Z"
   },
   {
    "duration": 12,
    "start_time": "2022-05-11T11:31:21.524Z"
   },
   {
    "duration": 101,
    "start_time": "2022-05-11T11:31:21.537Z"
   },
   {
    "duration": 7,
    "start_time": "2022-05-11T11:31:21.640Z"
   },
   {
    "duration": 8,
    "start_time": "2022-05-11T11:31:21.649Z"
   },
   {
    "duration": 50,
    "start_time": "2022-05-11T11:31:21.658Z"
   },
   {
    "duration": 5,
    "start_time": "2022-05-11T11:31:21.710Z"
   },
   {
    "duration": 24,
    "start_time": "2022-05-11T11:31:21.717Z"
   },
   {
    "duration": 32,
    "start_time": "2022-05-11T11:31:21.742Z"
   },
   {
    "duration": 28,
    "start_time": "2022-05-11T11:31:21.776Z"
   },
   {
    "duration": 8,
    "start_time": "2022-05-11T11:31:21.806Z"
   },
   {
    "duration": 11,
    "start_time": "2022-05-11T11:31:21.816Z"
   },
   {
    "duration": 14,
    "start_time": "2022-05-11T11:31:21.829Z"
   },
   {
    "duration": 9,
    "start_time": "2022-05-11T11:31:21.848Z"
   },
   {
    "duration": 25,
    "start_time": "2022-05-11T11:31:21.859Z"
   },
   {
    "duration": 23,
    "start_time": "2022-05-11T11:31:21.886Z"
   },
   {
    "duration": 11,
    "start_time": "2022-05-11T11:31:21.911Z"
   },
   {
    "duration": 9,
    "start_time": "2022-05-11T11:31:21.924Z"
   },
   {
    "duration": 12,
    "start_time": "2022-05-11T11:33:12.604Z"
   },
   {
    "duration": 10,
    "start_time": "2022-05-11T11:33:39.504Z"
   },
   {
    "duration": 70,
    "start_time": "2022-05-11T11:34:09.017Z"
   },
   {
    "duration": 10,
    "start_time": "2022-05-11T11:34:13.473Z"
   },
   {
    "duration": 15,
    "start_time": "2022-05-11T11:34:19.015Z"
   },
   {
    "duration": 8,
    "start_time": "2022-05-11T11:35:58.592Z"
   },
   {
    "duration": 9,
    "start_time": "2022-05-11T11:36:03.872Z"
   },
   {
    "duration": 16,
    "start_time": "2022-05-11T11:36:09.692Z"
   },
   {
    "duration": 11,
    "start_time": "2022-05-11T11:36:48.340Z"
   },
   {
    "duration": 12,
    "start_time": "2022-05-11T11:37:17.342Z"
   },
   {
    "duration": 14,
    "start_time": "2022-05-11T11:37:28.078Z"
   },
   {
    "duration": 4,
    "start_time": "2022-05-11T11:37:47.186Z"
   },
   {
    "duration": 41,
    "start_time": "2022-05-11T11:37:47.192Z"
   },
   {
    "duration": 16,
    "start_time": "2022-05-11T11:37:47.235Z"
   },
   {
    "duration": 15,
    "start_time": "2022-05-11T11:37:47.252Z"
   },
   {
    "duration": 15,
    "start_time": "2022-05-11T11:37:47.270Z"
   },
   {
    "duration": 30,
    "start_time": "2022-05-11T11:37:47.287Z"
   },
   {
    "duration": 14,
    "start_time": "2022-05-11T11:37:47.319Z"
   },
   {
    "duration": 16,
    "start_time": "2022-05-11T11:37:47.336Z"
   },
   {
    "duration": 12,
    "start_time": "2022-05-11T11:37:47.354Z"
   },
   {
    "duration": 8,
    "start_time": "2022-05-11T11:37:47.368Z"
   },
   {
    "duration": 39,
    "start_time": "2022-05-11T11:37:47.378Z"
   },
   {
    "duration": 9,
    "start_time": "2022-05-11T11:37:47.419Z"
   },
   {
    "duration": 12,
    "start_time": "2022-05-11T11:37:47.430Z"
   },
   {
    "duration": 11,
    "start_time": "2022-05-11T11:37:47.446Z"
   },
   {
    "duration": 48,
    "start_time": "2022-05-11T11:37:47.459Z"
   },
   {
    "duration": 10,
    "start_time": "2022-05-11T11:37:47.509Z"
   },
   {
    "duration": 8,
    "start_time": "2022-05-11T11:37:47.520Z"
   },
   {
    "duration": 12,
    "start_time": "2022-05-11T11:37:47.530Z"
   },
   {
    "duration": 194,
    "start_time": "2022-05-11T11:37:47.544Z"
   },
   {
    "duration": 7,
    "start_time": "2022-05-11T11:37:47.740Z"
   },
   {
    "duration": 12,
    "start_time": "2022-05-11T11:37:47.749Z"
   },
   {
    "duration": 153,
    "start_time": "2022-05-11T11:37:47.763Z"
   },
   {
    "duration": 13,
    "start_time": "2022-05-11T11:37:47.918Z"
   },
   {
    "duration": 9,
    "start_time": "2022-05-11T11:37:47.933Z"
   },
   {
    "duration": 11,
    "start_time": "2022-05-11T11:37:47.944Z"
   },
   {
    "duration": 10,
    "start_time": "2022-05-11T11:37:47.957Z"
   },
   {
    "duration": 441,
    "start_time": "2022-05-11T11:37:47.969Z"
   },
   {
    "duration": 305,
    "start_time": "2022-05-11T11:37:48.412Z"
   },
   {
    "duration": 7,
    "start_time": "2022-05-11T11:37:48.719Z"
   },
   {
    "duration": 9,
    "start_time": "2022-05-11T11:37:48.728Z"
   },
   {
    "duration": 14,
    "start_time": "2022-05-11T11:37:48.739Z"
   },
   {
    "duration": 457,
    "start_time": "2022-05-11T11:37:48.754Z"
   },
   {
    "duration": 12,
    "start_time": "2022-05-11T11:37:49.212Z"
   },
   {
    "duration": 9,
    "start_time": "2022-05-11T11:37:49.225Z"
   },
   {
    "duration": 12,
    "start_time": "2022-05-11T11:37:49.235Z"
   },
   {
    "duration": 58,
    "start_time": "2022-05-11T11:37:49.249Z"
   },
   {
    "duration": 506,
    "start_time": "2022-05-11T11:37:49.310Z"
   },
   {
    "duration": 15,
    "start_time": "2022-05-11T11:37:49.817Z"
   },
   {
    "duration": 673,
    "start_time": "2022-05-11T11:37:49.834Z"
   },
   {
    "duration": 12,
    "start_time": "2022-05-11T11:37:50.509Z"
   },
   {
    "duration": 299,
    "start_time": "2022-05-11T11:37:50.525Z"
   },
   {
    "duration": 197,
    "start_time": "2022-05-11T11:37:50.825Z"
   },
   {
    "duration": 9,
    "start_time": "2022-05-11T11:37:51.024Z"
   },
   {
    "duration": 13,
    "start_time": "2022-05-11T11:37:51.035Z"
   },
   {
    "duration": 157,
    "start_time": "2022-05-11T11:37:51.050Z"
   },
   {
    "duration": 140,
    "start_time": "2022-05-11T11:37:51.209Z"
   },
   {
    "duration": 9,
    "start_time": "2022-05-11T11:37:51.351Z"
   },
   {
    "duration": 10,
    "start_time": "2022-05-11T11:37:51.362Z"
   },
   {
    "duration": 35,
    "start_time": "2022-05-11T11:37:51.374Z"
   },
   {
    "duration": 62,
    "start_time": "2022-05-11T11:37:51.411Z"
   },
   {
    "duration": 82,
    "start_time": "2022-05-11T11:37:51.474Z"
   },
   {
    "duration": 9,
    "start_time": "2022-05-11T11:37:51.558Z"
   },
   {
    "duration": 40,
    "start_time": "2022-05-11T11:37:51.568Z"
   },
   {
    "duration": 59,
    "start_time": "2022-05-11T11:37:51.610Z"
   },
   {
    "duration": 41,
    "start_time": "2022-05-11T11:37:51.672Z"
   },
   {
    "duration": 59,
    "start_time": "2022-05-11T11:37:51.715Z"
   },
   {
    "duration": 52,
    "start_time": "2022-05-11T11:37:51.776Z"
   },
   {
    "duration": 13,
    "start_time": "2022-05-11T11:37:51.830Z"
   },
   {
    "duration": 93,
    "start_time": "2022-05-11T11:37:51.845Z"
   },
   {
    "duration": 8,
    "start_time": "2022-05-11T11:37:51.940Z"
   },
   {
    "duration": 30,
    "start_time": "2022-05-11T11:37:51.950Z"
   },
   {
    "duration": 34,
    "start_time": "2022-05-11T11:37:51.982Z"
   },
   {
    "duration": 5,
    "start_time": "2022-05-11T11:37:52.018Z"
   },
   {
    "duration": 17,
    "start_time": "2022-05-11T11:37:52.024Z"
   },
   {
    "duration": 25,
    "start_time": "2022-05-11T11:37:52.042Z"
   },
   {
    "duration": 29,
    "start_time": "2022-05-11T11:37:52.068Z"
   },
   {
    "duration": 8,
    "start_time": "2022-05-11T11:37:52.098Z"
   },
   {
    "duration": 19,
    "start_time": "2022-05-11T11:37:52.108Z"
   },
   {
    "duration": 23,
    "start_time": "2022-05-11T11:37:52.130Z"
   },
   {
    "duration": 8,
    "start_time": "2022-05-11T11:37:52.155Z"
   },
   {
    "duration": 40,
    "start_time": "2022-05-11T11:37:52.166Z"
   },
   {
    "duration": 5,
    "start_time": "2022-05-11T11:37:52.208Z"
   },
   {
    "duration": 17,
    "start_time": "2022-05-11T11:37:52.214Z"
   },
   {
    "duration": 8,
    "start_time": "2022-05-11T11:37:52.233Z"
   },
   {
    "duration": 70,
    "start_time": "2022-05-11T11:42:39.467Z"
   },
   {
    "duration": 3,
    "start_time": "2022-05-11T11:42:57.865Z"
   },
   {
    "duration": 42,
    "start_time": "2022-05-11T11:42:57.870Z"
   },
   {
    "duration": 15,
    "start_time": "2022-05-11T11:42:57.914Z"
   },
   {
    "duration": 16,
    "start_time": "2022-05-11T11:42:57.930Z"
   },
   {
    "duration": 14,
    "start_time": "2022-05-11T11:42:57.948Z"
   },
   {
    "duration": 51,
    "start_time": "2022-05-11T11:42:57.963Z"
   },
   {
    "duration": 11,
    "start_time": "2022-05-11T11:42:58.016Z"
   },
   {
    "duration": 10,
    "start_time": "2022-05-11T11:42:58.029Z"
   },
   {
    "duration": 4,
    "start_time": "2022-05-11T11:42:58.041Z"
   },
   {
    "duration": 12,
    "start_time": "2022-05-11T11:42:58.046Z"
   },
   {
    "duration": 54,
    "start_time": "2022-05-11T11:42:58.060Z"
   },
   {
    "duration": 12,
    "start_time": "2022-05-11T11:42:58.116Z"
   },
   {
    "duration": 13,
    "start_time": "2022-05-11T11:42:58.130Z"
   },
   {
    "duration": 14,
    "start_time": "2022-05-11T11:42:58.144Z"
   },
   {
    "duration": 12,
    "start_time": "2022-05-11T11:42:58.159Z"
   },
   {
    "duration": 46,
    "start_time": "2022-05-11T11:42:58.173Z"
   },
   {
    "duration": 8,
    "start_time": "2022-05-11T11:42:58.221Z"
   },
   {
    "duration": 9,
    "start_time": "2022-05-11T11:42:58.231Z"
   },
   {
    "duration": 12,
    "start_time": "2022-05-11T11:42:58.242Z"
   },
   {
    "duration": 197,
    "start_time": "2022-05-11T11:42:58.256Z"
   },
   {
    "duration": 8,
    "start_time": "2022-05-11T11:42:58.455Z"
   },
   {
    "duration": 13,
    "start_time": "2022-05-11T11:42:58.465Z"
   },
   {
    "duration": 142,
    "start_time": "2022-05-11T11:42:58.480Z"
   },
   {
    "duration": 14,
    "start_time": "2022-05-11T11:42:58.624Z"
   },
   {
    "duration": 14,
    "start_time": "2022-05-11T11:42:58.639Z"
   },
   {
    "duration": 14,
    "start_time": "2022-05-11T11:42:58.655Z"
   },
   {
    "duration": 12,
    "start_time": "2022-05-11T11:42:58.671Z"
   },
   {
    "duration": 313,
    "start_time": "2022-05-11T11:42:58.708Z"
   },
   {
    "duration": 322,
    "start_time": "2022-05-11T11:42:59.026Z"
   },
   {
    "duration": 8,
    "start_time": "2022-05-11T11:42:59.351Z"
   },
   {
    "duration": 10,
    "start_time": "2022-05-11T11:42:59.361Z"
   },
   {
    "duration": 37,
    "start_time": "2022-05-11T11:42:59.372Z"
   },
   {
    "duration": 634,
    "start_time": "2022-05-11T11:42:59.411Z"
   },
   {
    "duration": 60,
    "start_time": "2022-05-11T11:43:00.047Z"
   },
   {
    "duration": 8,
    "start_time": "2022-05-11T11:43:00.109Z"
   },
   {
    "duration": 8,
    "start_time": "2022-05-11T11:43:00.119Z"
   },
   {
    "duration": 7,
    "start_time": "2022-05-11T11:43:00.129Z"
   },
   {
    "duration": 571,
    "start_time": "2022-05-11T11:43:00.138Z"
   },
   {
    "duration": 13,
    "start_time": "2022-05-11T11:43:00.711Z"
   },
   {
    "duration": 514,
    "start_time": "2022-05-11T11:43:00.726Z"
   },
   {
    "duration": 11,
    "start_time": "2022-05-11T11:43:01.242Z"
   },
   {
    "duration": 294,
    "start_time": "2022-05-11T11:43:01.255Z"
   },
   {
    "duration": 223,
    "start_time": "2022-05-11T11:43:01.551Z"
   },
   {
    "duration": 10,
    "start_time": "2022-05-11T11:43:01.775Z"
   },
   {
    "duration": 27,
    "start_time": "2022-05-11T11:43:01.787Z"
   },
   {
    "duration": 141,
    "start_time": "2022-05-11T11:43:01.816Z"
   },
   {
    "duration": 140,
    "start_time": "2022-05-11T11:43:01.959Z"
   },
   {
    "duration": 12,
    "start_time": "2022-05-11T11:43:02.107Z"
   },
   {
    "duration": 10,
    "start_time": "2022-05-11T11:43:02.121Z"
   },
   {
    "duration": 12,
    "start_time": "2022-05-11T11:43:02.133Z"
   },
   {
    "duration": 76,
    "start_time": "2022-05-11T11:43:02.147Z"
   },
   {
    "duration": 60,
    "start_time": "2022-05-11T11:43:02.225Z"
   },
   {
    "duration": 21,
    "start_time": "2022-05-11T11:43:02.287Z"
   },
   {
    "duration": 18,
    "start_time": "2022-05-11T11:43:02.310Z"
   },
   {
    "duration": 56,
    "start_time": "2022-05-11T11:43:02.329Z"
   },
   {
    "duration": 41,
    "start_time": "2022-05-11T11:43:02.386Z"
   },
   {
    "duration": 79,
    "start_time": "2022-05-11T11:43:02.430Z"
   },
   {
    "duration": 27,
    "start_time": "2022-05-11T11:43:02.511Z"
   },
   {
    "duration": 12,
    "start_time": "2022-05-11T11:43:02.540Z"
   },
   {
    "duration": 97,
    "start_time": "2022-05-11T11:43:02.553Z"
   },
   {
    "duration": 7,
    "start_time": "2022-05-11T11:43:02.651Z"
   },
   {
    "duration": 7,
    "start_time": "2022-05-11T11:43:02.660Z"
   },
   {
    "duration": 44,
    "start_time": "2022-05-11T11:43:02.669Z"
   },
   {
    "duration": 6,
    "start_time": "2022-05-11T11:43:02.715Z"
   },
   {
    "duration": 10,
    "start_time": "2022-05-11T11:43:02.722Z"
   },
   {
    "duration": 10,
    "start_time": "2022-05-11T11:43:02.734Z"
   },
   {
    "duration": 8,
    "start_time": "2022-05-11T11:43:02.746Z"
   },
   {
    "duration": 6,
    "start_time": "2022-05-11T11:43:02.756Z"
   },
   {
    "duration": 10,
    "start_time": "2022-05-11T11:43:02.764Z"
   },
   {
    "duration": 8,
    "start_time": "2022-05-11T11:43:02.807Z"
   },
   {
    "duration": 9,
    "start_time": "2022-05-11T11:43:02.817Z"
   },
   {
    "duration": 23,
    "start_time": "2022-05-11T11:43:02.828Z"
   },
   {
    "duration": 4,
    "start_time": "2022-05-11T11:43:02.853Z"
   },
   {
    "duration": 15,
    "start_time": "2022-05-11T11:43:02.859Z"
   },
   {
    "duration": 13,
    "start_time": "2022-05-11T11:43:02.908Z"
   },
   {
    "duration": 335,
    "start_time": "2022-05-11T11:44:25.060Z"
   },
   {
    "duration": 346,
    "start_time": "2022-05-11T11:45:07.064Z"
   },
   {
    "duration": 4,
    "start_time": "2022-05-11T11:48:45.400Z"
   },
   {
    "duration": 42,
    "start_time": "2022-05-11T11:48:45.406Z"
   },
   {
    "duration": 16,
    "start_time": "2022-05-11T11:48:45.451Z"
   },
   {
    "duration": 16,
    "start_time": "2022-05-11T11:48:45.469Z"
   },
   {
    "duration": 30,
    "start_time": "2022-05-11T11:48:45.487Z"
   },
   {
    "duration": 12,
    "start_time": "2022-05-11T11:48:45.519Z"
   },
   {
    "duration": 13,
    "start_time": "2022-05-11T11:48:45.532Z"
   },
   {
    "duration": 12,
    "start_time": "2022-05-11T11:48:45.546Z"
   },
   {
    "duration": 49,
    "start_time": "2022-05-11T11:48:45.560Z"
   },
   {
    "duration": 14,
    "start_time": "2022-05-11T11:48:45.611Z"
   },
   {
    "duration": 12,
    "start_time": "2022-05-11T11:48:45.628Z"
   },
   {
    "duration": 12,
    "start_time": "2022-05-11T11:48:45.641Z"
   },
   {
    "duration": 12,
    "start_time": "2022-05-11T11:48:45.655Z"
   },
   {
    "duration": 51,
    "start_time": "2022-05-11T11:48:45.668Z"
   },
   {
    "duration": 12,
    "start_time": "2022-05-11T11:48:45.721Z"
   },
   {
    "duration": 14,
    "start_time": "2022-05-11T11:48:45.735Z"
   },
   {
    "duration": 9,
    "start_time": "2022-05-11T11:48:45.751Z"
   },
   {
    "duration": 10,
    "start_time": "2022-05-11T11:48:45.762Z"
   },
   {
    "duration": 41,
    "start_time": "2022-05-11T11:48:45.773Z"
   },
   {
    "duration": 183,
    "start_time": "2022-05-11T11:48:45.815Z"
   },
   {
    "duration": 13,
    "start_time": "2022-05-11T11:48:45.999Z"
   },
   {
    "duration": 10,
    "start_time": "2022-05-11T11:48:46.014Z"
   },
   {
    "duration": 158,
    "start_time": "2022-05-11T11:48:46.026Z"
   },
   {
    "duration": 24,
    "start_time": "2022-05-11T11:48:46.186Z"
   },
   {
    "duration": 16,
    "start_time": "2022-05-11T11:48:46.212Z"
   },
   {
    "duration": 16,
    "start_time": "2022-05-11T11:48:46.230Z"
   },
   {
    "duration": 13,
    "start_time": "2022-05-11T11:48:46.248Z"
   },
   {
    "duration": 352,
    "start_time": "2022-05-11T11:48:46.263Z"
   },
   {
    "duration": 317,
    "start_time": "2022-05-11T11:48:46.619Z"
   },
   {
    "duration": 9,
    "start_time": "2022-05-11T11:48:46.937Z"
   },
   {
    "duration": 9,
    "start_time": "2022-05-11T11:48:46.948Z"
   },
   {
    "duration": 12,
    "start_time": "2022-05-11T11:48:46.958Z"
   },
   {
    "duration": 585,
    "start_time": "2022-05-11T11:48:46.972Z"
   },
   {
    "duration": 12,
    "start_time": "2022-05-11T11:48:47.559Z"
   },
   {
    "duration": 5,
    "start_time": "2022-05-11T11:48:47.572Z"
   },
   {
    "duration": 29,
    "start_time": "2022-05-11T11:48:47.579Z"
   },
   {
    "duration": 6,
    "start_time": "2022-05-11T11:48:47.610Z"
   },
   {
    "duration": 312,
    "start_time": "2022-05-11T11:48:47.618Z"
   },
   {
    "duration": 18,
    "start_time": "2022-05-11T11:48:47.932Z"
   },
   {
    "duration": 404,
    "start_time": "2022-05-11T11:48:47.951Z"
   },
   {
    "duration": 12,
    "start_time": "2022-05-11T11:48:48.357Z"
   },
   {
    "duration": 152,
    "start_time": "2022-05-11T11:48:48.371Z"
   },
   {
    "duration": 157,
    "start_time": "2022-05-11T11:48:48.525Z"
   },
   {
    "duration": 10,
    "start_time": "2022-05-11T11:48:48.684Z"
   },
   {
    "duration": 11,
    "start_time": "2022-05-11T11:48:48.708Z"
   },
   {
    "duration": 148,
    "start_time": "2022-05-11T11:48:48.721Z"
   },
   {
    "duration": 147,
    "start_time": "2022-05-11T11:48:48.871Z"
   },
   {
    "duration": 11,
    "start_time": "2022-05-11T11:48:49.019Z"
   },
   {
    "duration": 8,
    "start_time": "2022-05-11T11:48:49.031Z"
   },
   {
    "duration": 12,
    "start_time": "2022-05-11T11:48:49.041Z"
   },
   {
    "duration": 89,
    "start_time": "2022-05-11T11:48:49.055Z"
   },
   {
    "duration": 72,
    "start_time": "2022-05-11T11:48:49.146Z"
   },
   {
    "duration": 11,
    "start_time": "2022-05-11T11:48:49.221Z"
   },
   {
    "duration": 19,
    "start_time": "2022-05-11T11:48:49.234Z"
   },
   {
    "duration": 79,
    "start_time": "2022-05-11T11:48:49.255Z"
   },
   {
    "duration": 21,
    "start_time": "2022-05-11T11:48:49.335Z"
   },
   {
    "duration": 77,
    "start_time": "2022-05-11T11:48:49.357Z"
   },
   {
    "duration": 38,
    "start_time": "2022-05-11T11:48:49.435Z"
   },
   {
    "duration": 37,
    "start_time": "2022-05-11T11:48:49.475Z"
   },
   {
    "duration": 95,
    "start_time": "2022-05-11T11:48:49.514Z"
   },
   {
    "duration": 8,
    "start_time": "2022-05-11T11:48:49.611Z"
   },
   {
    "duration": 7,
    "start_time": "2022-05-11T11:48:49.621Z"
   },
   {
    "duration": 27,
    "start_time": "2022-05-11T11:48:49.630Z"
   },
   {
    "duration": 6,
    "start_time": "2022-05-11T11:48:49.659Z"
   },
   {
    "duration": 45,
    "start_time": "2022-05-11T11:48:49.667Z"
   },
   {
    "duration": 8,
    "start_time": "2022-05-11T11:48:49.714Z"
   },
   {
    "duration": 8,
    "start_time": "2022-05-11T11:48:49.725Z"
   },
   {
    "duration": 8,
    "start_time": "2022-05-11T11:48:49.735Z"
   },
   {
    "duration": 9,
    "start_time": "2022-05-11T11:48:49.745Z"
   },
   {
    "duration": 11,
    "start_time": "2022-05-11T11:48:49.756Z"
   },
   {
    "duration": 9,
    "start_time": "2022-05-11T11:48:49.806Z"
   },
   {
    "duration": 25,
    "start_time": "2022-05-11T11:48:49.817Z"
   },
   {
    "duration": 5,
    "start_time": "2022-05-11T11:48:49.844Z"
   },
   {
    "duration": 67,
    "start_time": "2022-05-11T11:48:49.851Z"
   },
   {
    "duration": 9,
    "start_time": "2022-05-11T11:48:49.920Z"
   },
   {
    "duration": 78,
    "start_time": "2022-05-11T11:51:53.175Z"
   },
   {
    "duration": 42,
    "start_time": "2022-05-11T11:53:30.761Z"
   },
   {
    "duration": 8,
    "start_time": "2022-05-11T12:02:36.096Z"
   },
   {
    "duration": 7,
    "start_time": "2022-05-11T12:02:37.904Z"
   },
   {
    "duration": 10,
    "start_time": "2022-05-11T12:02:57.161Z"
   },
   {
    "duration": 9,
    "start_time": "2022-05-11T12:03:00.912Z"
   },
   {
    "duration": 3,
    "start_time": "2022-05-11T12:03:07.522Z"
   },
   {
    "duration": 46,
    "start_time": "2022-05-11T12:03:07.528Z"
   },
   {
    "duration": 19,
    "start_time": "2022-05-11T12:03:07.577Z"
   },
   {
    "duration": 15,
    "start_time": "2022-05-11T12:03:07.598Z"
   },
   {
    "duration": 15,
    "start_time": "2022-05-11T12:03:07.615Z"
   },
   {
    "duration": 14,
    "start_time": "2022-05-11T12:03:07.632Z"
   },
   {
    "duration": 13,
    "start_time": "2022-05-11T12:03:07.648Z"
   },
   {
    "duration": 55,
    "start_time": "2022-05-11T12:03:07.663Z"
   },
   {
    "duration": 4,
    "start_time": "2022-05-11T12:03:07.721Z"
   },
   {
    "duration": 12,
    "start_time": "2022-05-11T12:03:07.727Z"
   },
   {
    "duration": 8,
    "start_time": "2022-05-11T12:03:07.741Z"
   },
   {
    "duration": 56,
    "start_time": "2022-05-11T12:03:07.751Z"
   },
   {
    "duration": 10,
    "start_time": "2022-05-11T12:03:07.809Z"
   },
   {
    "duration": 11,
    "start_time": "2022-05-11T12:03:07.821Z"
   },
   {
    "duration": 11,
    "start_time": "2022-05-11T12:03:07.834Z"
   },
   {
    "duration": 14,
    "start_time": "2022-05-11T12:03:07.846Z"
   },
   {
    "duration": 48,
    "start_time": "2022-05-11T12:03:07.861Z"
   },
   {
    "duration": 10,
    "start_time": "2022-05-11T12:03:07.910Z"
   },
   {
    "duration": 15,
    "start_time": "2022-05-11T12:03:07.921Z"
   },
   {
    "duration": 188,
    "start_time": "2022-05-11T12:03:07.937Z"
   },
   {
    "duration": 7,
    "start_time": "2022-05-11T12:03:08.128Z"
   },
   {
    "duration": 10,
    "start_time": "2022-05-11T12:03:08.137Z"
   },
   {
    "duration": 169,
    "start_time": "2022-05-11T12:03:08.148Z"
   },
   {
    "duration": 14,
    "start_time": "2022-05-11T12:03:08.322Z"
   },
   {
    "duration": 13,
    "start_time": "2022-05-11T12:03:08.338Z"
   },
   {
    "duration": 12,
    "start_time": "2022-05-11T12:03:08.352Z"
   },
   {
    "duration": 41,
    "start_time": "2022-05-11T12:03:08.366Z"
   },
   {
    "duration": 330,
    "start_time": "2022-05-11T12:03:08.409Z"
   },
   {
    "duration": 354,
    "start_time": "2022-05-11T12:03:08.741Z"
   },
   {
    "duration": 13,
    "start_time": "2022-05-11T12:03:09.097Z"
   },
   {
    "duration": 8,
    "start_time": "2022-05-11T12:03:09.111Z"
   },
   {
    "duration": 13,
    "start_time": "2022-05-11T12:03:09.121Z"
   },
   {
    "duration": 395,
    "start_time": "2022-05-11T12:03:09.136Z"
   },
   {
    "duration": 12,
    "start_time": "2022-05-11T12:03:09.533Z"
   },
   {
    "duration": 7,
    "start_time": "2022-05-11T12:03:09.546Z"
   },
   {
    "duration": 9,
    "start_time": "2022-05-11T12:03:09.554Z"
   },
   {
    "duration": 6,
    "start_time": "2022-05-11T12:03:09.565Z"
   },
   {
    "duration": 336,
    "start_time": "2022-05-11T12:03:09.573Z"
   },
   {
    "duration": 15,
    "start_time": "2022-05-11T12:03:09.911Z"
   },
   {
    "duration": 499,
    "start_time": "2022-05-11T12:03:09.928Z"
   },
   {
    "duration": 12,
    "start_time": "2022-05-11T12:03:10.429Z"
   },
   {
    "duration": 161,
    "start_time": "2022-05-11T12:03:10.443Z"
   },
   {
    "duration": 152,
    "start_time": "2022-05-11T12:03:10.608Z"
   },
   {
    "duration": 9,
    "start_time": "2022-05-11T12:03:10.762Z"
   },
   {
    "duration": 34,
    "start_time": "2022-05-11T12:03:10.773Z"
   },
   {
    "duration": 147,
    "start_time": "2022-05-11T12:03:10.809Z"
   },
   {
    "duration": 155,
    "start_time": "2022-05-11T12:03:10.958Z"
   },
   {
    "duration": 11,
    "start_time": "2022-05-11T12:03:11.115Z"
   },
   {
    "duration": 8,
    "start_time": "2022-05-11T12:03:11.128Z"
   },
   {
    "duration": 12,
    "start_time": "2022-05-11T12:03:11.138Z"
   },
   {
    "duration": 91,
    "start_time": "2022-05-11T12:03:11.152Z"
   },
   {
    "duration": 74,
    "start_time": "2022-05-11T12:03:11.245Z"
   },
   {
    "duration": 9,
    "start_time": "2022-05-11T12:03:11.322Z"
   },
   {
    "duration": 24,
    "start_time": "2022-05-11T12:03:11.333Z"
   },
   {
    "duration": 76,
    "start_time": "2022-05-11T12:03:11.359Z"
   },
   {
    "duration": 19,
    "start_time": "2022-05-11T12:03:11.437Z"
   },
   {
    "duration": 81,
    "start_time": "2022-05-11T12:03:11.458Z"
   },
   {
    "duration": 32,
    "start_time": "2022-05-11T12:03:11.540Z"
   },
   {
    "duration": 35,
    "start_time": "2022-05-11T12:03:11.574Z"
   },
   {
    "duration": 108,
    "start_time": "2022-05-11T12:03:11.610Z"
   },
   {
    "duration": 7,
    "start_time": "2022-05-11T12:03:11.720Z"
   },
   {
    "duration": 7,
    "start_time": "2022-05-11T12:03:11.729Z"
   },
   {
    "duration": 31,
    "start_time": "2022-05-11T12:03:11.738Z"
   },
   {
    "duration": 7,
    "start_time": "2022-05-11T12:03:11.770Z"
   },
   {
    "duration": 12,
    "start_time": "2022-05-11T12:03:11.808Z"
   },
   {
    "duration": 9,
    "start_time": "2022-05-11T12:03:11.823Z"
   },
   {
    "duration": 10,
    "start_time": "2022-05-11T12:03:11.835Z"
   },
   {
    "duration": 12,
    "start_time": "2022-05-11T12:03:11.847Z"
   },
   {
    "duration": 7,
    "start_time": "2022-05-11T12:03:11.864Z"
   },
   {
    "duration": 42,
    "start_time": "2022-05-11T12:03:11.872Z"
   },
   {
    "duration": 11,
    "start_time": "2022-05-11T12:03:11.915Z"
   },
   {
    "duration": 24,
    "start_time": "2022-05-11T12:03:11.927Z"
   },
   {
    "duration": 6,
    "start_time": "2022-05-11T12:03:11.952Z"
   },
   {
    "duration": 51,
    "start_time": "2022-05-11T12:03:11.960Z"
   },
   {
    "duration": 0,
    "start_time": "2022-05-11T12:03:12.012Z"
   },
   {
    "duration": 7,
    "start_time": "2022-05-11T12:03:44.258Z"
   },
   {
    "duration": 8,
    "start_time": "2022-05-11T12:03:48.101Z"
   },
   {
    "duration": 8,
    "start_time": "2022-05-11T12:03:49.405Z"
   },
   {
    "duration": 9,
    "start_time": "2022-05-11T12:03:50.029Z"
   },
   {
    "duration": 23,
    "start_time": "2022-05-11T12:03:51.029Z"
   },
   {
    "duration": 6,
    "start_time": "2022-05-11T12:03:59.803Z"
   },
   {
    "duration": 10,
    "start_time": "2022-05-11T12:04:24.617Z"
   },
   {
    "duration": 61,
    "start_time": "2022-05-11T12:05:24.913Z"
   },
   {
    "duration": 69,
    "start_time": "2022-05-11T12:05:29.481Z"
   },
   {
    "duration": 5,
    "start_time": "2022-05-11T12:05:36.533Z"
   },
   {
    "duration": 8,
    "start_time": "2022-05-11T12:05:42.882Z"
   },
   {
    "duration": 8,
    "start_time": "2022-05-11T12:05:46.938Z"
   },
   {
    "duration": 3,
    "start_time": "2022-05-11T12:07:17.234Z"
   },
   {
    "duration": 43,
    "start_time": "2022-05-11T12:07:17.239Z"
   },
   {
    "duration": 17,
    "start_time": "2022-05-11T12:07:17.283Z"
   },
   {
    "duration": 16,
    "start_time": "2022-05-11T12:07:17.301Z"
   },
   {
    "duration": 15,
    "start_time": "2022-05-11T12:07:17.320Z"
   },
   {
    "duration": 12,
    "start_time": "2022-05-11T12:07:17.336Z"
   },
   {
    "duration": 14,
    "start_time": "2022-05-11T12:07:17.350Z"
   },
   {
    "duration": 51,
    "start_time": "2022-05-11T12:07:17.366Z"
   },
   {
    "duration": 4,
    "start_time": "2022-05-11T12:07:17.418Z"
   },
   {
    "duration": 13,
    "start_time": "2022-05-11T12:07:17.424Z"
   },
   {
    "duration": 9,
    "start_time": "2022-05-11T12:07:17.440Z"
   },
   {
    "duration": 56,
    "start_time": "2022-05-11T12:07:17.451Z"
   },
   {
    "duration": 10,
    "start_time": "2022-05-11T12:07:17.509Z"
   },
   {
    "duration": 18,
    "start_time": "2022-05-11T12:07:17.520Z"
   },
   {
    "duration": 14,
    "start_time": "2022-05-11T12:07:17.540Z"
   },
   {
    "duration": 14,
    "start_time": "2022-05-11T12:07:17.556Z"
   },
   {
    "duration": 41,
    "start_time": "2022-05-11T12:07:17.572Z"
   },
   {
    "duration": 8,
    "start_time": "2022-05-11T12:07:17.615Z"
   },
   {
    "duration": 12,
    "start_time": "2022-05-11T12:07:17.624Z"
   },
   {
    "duration": 191,
    "start_time": "2022-05-11T12:07:17.638Z"
   },
   {
    "duration": 7,
    "start_time": "2022-05-11T12:07:17.831Z"
   },
   {
    "duration": 10,
    "start_time": "2022-05-11T12:07:17.840Z"
   },
   {
    "duration": 156,
    "start_time": "2022-05-11T12:07:17.852Z"
   },
   {
    "duration": 13,
    "start_time": "2022-05-11T12:07:18.010Z"
   },
   {
    "duration": 18,
    "start_time": "2022-05-11T12:07:18.025Z"
   },
   {
    "duration": 19,
    "start_time": "2022-05-11T12:07:18.045Z"
   },
   {
    "duration": 24,
    "start_time": "2022-05-11T12:07:18.066Z"
   },
   {
    "duration": 331,
    "start_time": "2022-05-11T12:07:18.091Z"
   },
   {
    "duration": 370,
    "start_time": "2022-05-11T12:07:18.426Z"
   },
   {
    "duration": 13,
    "start_time": "2022-05-11T12:07:18.798Z"
   },
   {
    "duration": 9,
    "start_time": "2022-05-11T12:07:18.813Z"
   },
   {
    "duration": 13,
    "start_time": "2022-05-11T12:07:18.823Z"
   },
   {
    "duration": 457,
    "start_time": "2022-05-11T12:07:18.838Z"
   },
   {
    "duration": 18,
    "start_time": "2022-05-11T12:07:19.297Z"
   },
   {
    "duration": 5,
    "start_time": "2022-05-11T12:07:19.317Z"
   },
   {
    "duration": 7,
    "start_time": "2022-05-11T12:07:19.324Z"
   },
   {
    "duration": 9,
    "start_time": "2022-05-11T12:07:19.333Z"
   },
   {
    "duration": 381,
    "start_time": "2022-05-11T12:07:19.345Z"
   },
   {
    "duration": 15,
    "start_time": "2022-05-11T12:07:19.728Z"
   },
   {
    "duration": 342,
    "start_time": "2022-05-11T12:07:19.745Z"
   },
   {
    "duration": 22,
    "start_time": "2022-05-11T12:07:20.089Z"
   },
   {
    "duration": 157,
    "start_time": "2022-05-11T12:07:20.112Z"
   },
   {
    "duration": 251,
    "start_time": "2022-05-11T12:07:20.271Z"
   },
   {
    "duration": 11,
    "start_time": "2022-05-11T12:07:20.524Z"
   },
   {
    "duration": 14,
    "start_time": "2022-05-11T12:07:20.537Z"
   },
   {
    "duration": 174,
    "start_time": "2022-05-11T12:07:20.553Z"
   },
   {
    "duration": 169,
    "start_time": "2022-05-11T12:07:20.729Z"
   },
   {
    "duration": 15,
    "start_time": "2022-05-11T12:07:20.900Z"
   },
   {
    "duration": 8,
    "start_time": "2022-05-11T12:07:20.917Z"
   },
   {
    "duration": 10,
    "start_time": "2022-05-11T12:07:20.927Z"
   },
   {
    "duration": 81,
    "start_time": "2022-05-11T12:07:20.938Z"
   },
   {
    "duration": 62,
    "start_time": "2022-05-11T12:07:21.021Z"
   },
   {
    "duration": 32,
    "start_time": "2022-05-11T12:07:21.085Z"
   },
   {
    "duration": 28,
    "start_time": "2022-05-11T12:07:21.118Z"
   },
   {
    "duration": 76,
    "start_time": "2022-05-11T12:07:21.148Z"
   },
   {
    "duration": 21,
    "start_time": "2022-05-11T12:07:21.226Z"
   },
   {
    "duration": 74,
    "start_time": "2022-05-11T12:07:21.249Z"
   },
   {
    "duration": 30,
    "start_time": "2022-05-11T12:07:21.324Z"
   },
   {
    "duration": 12,
    "start_time": "2022-05-11T12:07:21.356Z"
   },
   {
    "duration": 102,
    "start_time": "2022-05-11T12:07:21.370Z"
   },
   {
    "duration": 8,
    "start_time": "2022-05-11T12:07:21.474Z"
   },
   {
    "duration": 25,
    "start_time": "2022-05-11T12:07:21.484Z"
   },
   {
    "duration": 24,
    "start_time": "2022-05-11T12:07:21.511Z"
   },
   {
    "duration": 5,
    "start_time": "2022-05-11T12:07:21.537Z"
   },
   {
    "duration": 9,
    "start_time": "2022-05-11T12:07:21.544Z"
   },
   {
    "duration": 9,
    "start_time": "2022-05-11T12:07:21.554Z"
   },
   {
    "duration": 10,
    "start_time": "2022-05-11T12:07:21.564Z"
   },
   {
    "duration": 7,
    "start_time": "2022-05-11T12:07:21.608Z"
   },
   {
    "duration": 7,
    "start_time": "2022-05-11T12:07:21.617Z"
   },
   {
    "duration": 8,
    "start_time": "2022-05-11T12:07:21.626Z"
   },
   {
    "duration": 8,
    "start_time": "2022-05-11T12:07:21.636Z"
   },
   {
    "duration": 24,
    "start_time": "2022-05-11T12:07:21.645Z"
   },
   {
    "duration": 40,
    "start_time": "2022-05-11T12:07:21.671Z"
   },
   {
    "duration": 13,
    "start_time": "2022-05-11T12:07:21.713Z"
   },
   {
    "duration": 10,
    "start_time": "2022-05-11T12:07:21.728Z"
   },
   {
    "duration": 3,
    "start_time": "2022-05-11T12:46:58.349Z"
   },
   {
    "duration": 40,
    "start_time": "2022-05-11T12:46:58.357Z"
   },
   {
    "duration": 18,
    "start_time": "2022-05-11T12:46:58.399Z"
   },
   {
    "duration": 26,
    "start_time": "2022-05-11T12:46:58.420Z"
   },
   {
    "duration": 20,
    "start_time": "2022-05-11T12:46:58.449Z"
   },
   {
    "duration": 20,
    "start_time": "2022-05-11T12:46:58.509Z"
   },
   {
    "duration": 16,
    "start_time": "2022-05-11T12:46:58.532Z"
   },
   {
    "duration": 58,
    "start_time": "2022-05-11T12:46:58.551Z"
   },
   {
    "duration": 6,
    "start_time": "2022-05-11T12:46:58.611Z"
   },
   {
    "duration": 19,
    "start_time": "2022-05-11T12:46:58.619Z"
   },
   {
    "duration": 13,
    "start_time": "2022-05-11T12:46:58.642Z"
   },
   {
    "duration": 51,
    "start_time": "2022-05-11T12:46:58.657Z"
   },
   {
    "duration": 10,
    "start_time": "2022-05-11T12:46:58.709Z"
   },
   {
    "duration": 16,
    "start_time": "2022-05-11T12:46:58.721Z"
   },
   {
    "duration": 13,
    "start_time": "2022-05-11T12:46:58.739Z"
   },
   {
    "duration": 55,
    "start_time": "2022-05-11T12:46:58.754Z"
   },
   {
    "duration": 12,
    "start_time": "2022-05-11T12:46:58.811Z"
   },
   {
    "duration": 10,
    "start_time": "2022-05-11T12:46:58.825Z"
   },
   {
    "duration": 17,
    "start_time": "2022-05-11T12:46:58.837Z"
   },
   {
    "duration": 350,
    "start_time": "2022-05-11T12:46:58.857Z"
   },
   {
    "duration": 11,
    "start_time": "2022-05-11T12:46:59.209Z"
   },
   {
    "duration": 17,
    "start_time": "2022-05-11T12:46:59.222Z"
   },
   {
    "duration": 187,
    "start_time": "2022-05-11T12:46:59.241Z"
   },
   {
    "duration": 19,
    "start_time": "2022-05-11T12:46:59.430Z"
   },
   {
    "duration": 15,
    "start_time": "2022-05-11T12:46:59.451Z"
   },
   {
    "duration": 44,
    "start_time": "2022-05-11T12:46:59.468Z"
   },
   {
    "duration": 16,
    "start_time": "2022-05-11T12:46:59.514Z"
   },
   {
    "duration": 487,
    "start_time": "2022-05-11T12:46:59.533Z"
   },
   {
    "duration": 404,
    "start_time": "2022-05-11T12:47:00.027Z"
   },
   {
    "duration": 9,
    "start_time": "2022-05-11T12:47:00.433Z"
   },
   {
    "duration": 15,
    "start_time": "2022-05-11T12:47:00.444Z"
   },
   {
    "duration": 18,
    "start_time": "2022-05-11T12:47:00.461Z"
   },
   {
    "duration": 549,
    "start_time": "2022-05-11T12:47:00.481Z"
   },
   {
    "duration": 12,
    "start_time": "2022-05-11T12:47:01.032Z"
   },
   {
    "duration": 19,
    "start_time": "2022-05-11T12:47:01.046Z"
   },
   {
    "duration": 14,
    "start_time": "2022-05-11T12:47:01.067Z"
   },
   {
    "duration": 29,
    "start_time": "2022-05-11T12:47:01.083Z"
   },
   {
    "duration": 414,
    "start_time": "2022-05-11T12:47:01.114Z"
   },
   {
    "duration": 16,
    "start_time": "2022-05-11T12:47:01.530Z"
   },
   {
    "duration": 446,
    "start_time": "2022-05-11T12:47:01.548Z"
   },
   {
    "duration": 18,
    "start_time": "2022-05-11T12:47:01.997Z"
   },
   {
    "duration": 163,
    "start_time": "2022-05-11T12:47:02.018Z"
   },
   {
    "duration": 157,
    "start_time": "2022-05-11T12:47:02.183Z"
   },
   {
    "duration": 10,
    "start_time": "2022-05-11T12:47:02.342Z"
   },
   {
    "duration": 16,
    "start_time": "2022-05-11T12:47:02.354Z"
   },
   {
    "duration": 178,
    "start_time": "2022-05-11T12:47:02.372Z"
   },
   {
    "duration": 250,
    "start_time": "2022-05-11T12:47:02.552Z"
   },
   {
    "duration": 13,
    "start_time": "2022-05-11T12:47:02.808Z"
   },
   {
    "duration": 12,
    "start_time": "2022-05-11T12:47:02.824Z"
   },
   {
    "duration": 26,
    "start_time": "2022-05-11T12:47:02.839Z"
   },
   {
    "duration": 92,
    "start_time": "2022-05-11T12:47:02.868Z"
   },
   {
    "duration": 78,
    "start_time": "2022-05-11T12:47:02.962Z"
   },
   {
    "duration": 10,
    "start_time": "2022-05-11T12:47:03.042Z"
   },
   {
    "duration": 23,
    "start_time": "2022-05-11T12:47:03.053Z"
   },
   {
    "duration": 98,
    "start_time": "2022-05-11T12:47:03.078Z"
   },
   {
    "duration": 38,
    "start_time": "2022-05-11T12:47:03.178Z"
   },
   {
    "duration": 101,
    "start_time": "2022-05-11T12:47:03.218Z"
   },
   {
    "duration": 50,
    "start_time": "2022-05-11T12:47:03.322Z"
   },
   {
    "duration": 42,
    "start_time": "2022-05-11T12:47:03.374Z"
   },
   {
    "duration": 124,
    "start_time": "2022-05-11T12:47:03.419Z"
   },
   {
    "duration": 10,
    "start_time": "2022-05-11T12:47:03.545Z"
   },
   {
    "duration": 8,
    "start_time": "2022-05-11T12:47:03.557Z"
   },
   {
    "duration": 58,
    "start_time": "2022-05-11T12:47:03.567Z"
   },
   {
    "duration": 6,
    "start_time": "2022-05-11T12:47:03.628Z"
   },
   {
    "duration": 11,
    "start_time": "2022-05-11T12:47:03.636Z"
   },
   {
    "duration": 11,
    "start_time": "2022-05-11T12:47:03.649Z"
   },
   {
    "duration": 12,
    "start_time": "2022-05-11T12:47:03.662Z"
   },
   {
    "duration": 10,
    "start_time": "2022-05-11T12:47:03.708Z"
   },
   {
    "duration": 9,
    "start_time": "2022-05-11T12:47:03.720Z"
   },
   {
    "duration": 11,
    "start_time": "2022-05-11T12:47:03.732Z"
   },
   {
    "duration": 9,
    "start_time": "2022-05-11T12:47:03.745Z"
   },
   {
    "duration": 68,
    "start_time": "2022-05-11T12:47:03.757Z"
   },
   {
    "duration": 7,
    "start_time": "2022-05-11T12:47:03.827Z"
   },
   {
    "duration": 16,
    "start_time": "2022-05-11T12:47:03.837Z"
   },
   {
    "duration": 11,
    "start_time": "2022-05-11T12:47:03.855Z"
   },
   {
    "duration": 12,
    "start_time": "2022-05-11T12:50:48.722Z"
   },
   {
    "duration": 1869,
    "start_time": "2022-05-12T08:07:58.014Z"
   },
   {
    "duration": 64,
    "start_time": "2022-05-12T08:07:59.887Z"
   },
   {
    "duration": 41,
    "start_time": "2022-05-12T08:07:59.954Z"
   },
   {
    "duration": 36,
    "start_time": "2022-05-12T08:08:00.001Z"
   },
   {
    "duration": 27,
    "start_time": "2022-05-12T08:08:00.042Z"
   },
   {
    "duration": 45,
    "start_time": "2022-05-12T08:08:00.072Z"
   },
   {
    "duration": 41,
    "start_time": "2022-05-12T08:08:00.119Z"
   },
   {
    "duration": 41,
    "start_time": "2022-05-12T08:08:00.162Z"
   },
   {
    "duration": 40,
    "start_time": "2022-05-12T08:08:00.206Z"
   },
   {
    "duration": 23,
    "start_time": "2022-05-12T08:08:00.249Z"
   },
   {
    "duration": 74,
    "start_time": "2022-05-12T08:08:00.274Z"
   },
   {
    "duration": 17,
    "start_time": "2022-05-12T08:08:00.351Z"
   },
   {
    "duration": 26,
    "start_time": "2022-05-12T08:08:00.370Z"
   },
   {
    "duration": 49,
    "start_time": "2022-05-12T08:08:00.408Z"
   },
   {
    "duration": 18,
    "start_time": "2022-05-12T08:08:00.459Z"
   },
   {
    "duration": 135,
    "start_time": "2022-05-12T08:08:00.480Z"
   },
   {
    "duration": 19,
    "start_time": "2022-05-12T08:08:00.625Z"
   },
   {
    "duration": 13,
    "start_time": "2022-05-12T08:08:00.646Z"
   },
   {
    "duration": 30,
    "start_time": "2022-05-12T08:08:00.662Z"
   },
   {
    "duration": 360,
    "start_time": "2022-05-12T08:08:00.694Z"
   },
   {
    "duration": 18,
    "start_time": "2022-05-12T08:08:01.056Z"
   },
   {
    "duration": 32,
    "start_time": "2022-05-12T08:08:01.077Z"
   },
   {
    "duration": 330,
    "start_time": "2022-05-12T08:08:01.113Z"
   },
   {
    "duration": 24,
    "start_time": "2022-05-12T08:08:01.446Z"
   },
   {
    "duration": 64,
    "start_time": "2022-05-12T08:08:01.482Z"
   },
   {
    "duration": 27,
    "start_time": "2022-05-12T08:08:01.548Z"
   },
   {
    "duration": 73,
    "start_time": "2022-05-12T08:08:01.578Z"
   },
   {
    "duration": 698,
    "start_time": "2022-05-12T08:08:01.654Z"
   },
   {
    "duration": 471,
    "start_time": "2022-05-12T08:08:02.354Z"
   },
   {
    "duration": 13,
    "start_time": "2022-05-12T08:08:02.829Z"
   },
   {
    "duration": 18,
    "start_time": "2022-05-12T08:08:02.845Z"
   },
   {
    "duration": 34,
    "start_time": "2022-05-12T08:08:02.881Z"
   },
   {
    "duration": 689,
    "start_time": "2022-05-12T08:08:02.918Z"
   },
   {
    "duration": 24,
    "start_time": "2022-05-12T08:08:03.610Z"
   },
   {
    "duration": 19,
    "start_time": "2022-05-12T08:08:03.637Z"
   },
   {
    "duration": 25,
    "start_time": "2022-05-12T08:08:03.658Z"
   },
   {
    "duration": 14,
    "start_time": "2022-05-12T08:08:03.693Z"
   },
   {
    "duration": 476,
    "start_time": "2022-05-12T08:08:03.709Z"
   },
   {
    "duration": 25,
    "start_time": "2022-05-12T08:08:04.190Z"
   },
   {
    "duration": 622,
    "start_time": "2022-05-12T08:08:04.217Z"
   },
   {
    "duration": 21,
    "start_time": "2022-05-12T08:08:04.850Z"
   },
   {
    "duration": 323,
    "start_time": "2022-05-12T08:08:04.874Z"
   },
   {
    "duration": 339,
    "start_time": "2022-05-12T08:08:05.199Z"
   },
   {
    "duration": 13,
    "start_time": "2022-05-12T08:08:05.541Z"
   },
   {
    "duration": 39,
    "start_time": "2022-05-12T08:08:05.556Z"
   },
   {
    "duration": 435,
    "start_time": "2022-05-12T08:08:05.597Z"
   },
   {
    "duration": 237,
    "start_time": "2022-05-12T08:08:06.035Z"
   },
   {
    "duration": 19,
    "start_time": "2022-05-12T08:08:06.275Z"
   },
   {
    "duration": 55,
    "start_time": "2022-05-12T08:08:06.297Z"
   },
   {
    "duration": 15,
    "start_time": "2022-05-12T08:08:06.355Z"
   },
   {
    "duration": 105,
    "start_time": "2022-05-12T08:08:06.373Z"
   },
   {
    "duration": 180,
    "start_time": "2022-05-12T08:08:06.481Z"
   },
   {
    "duration": 13,
    "start_time": "2022-05-12T08:08:06.664Z"
   },
   {
    "duration": 89,
    "start_time": "2022-05-12T08:08:06.680Z"
   },
   {
    "duration": 155,
    "start_time": "2022-05-12T08:08:06.771Z"
   },
   {
    "duration": 45,
    "start_time": "2022-05-12T08:08:06.929Z"
   },
   {
    "duration": 109,
    "start_time": "2022-05-12T08:08:06.977Z"
   },
   {
    "duration": 59,
    "start_time": "2022-05-12T08:08:07.089Z"
   },
   {
    "duration": 47,
    "start_time": "2022-05-12T08:08:07.151Z"
   },
   {
    "duration": 183,
    "start_time": "2022-05-12T08:08:07.202Z"
   },
   {
    "duration": 15,
    "start_time": "2022-05-12T08:08:07.388Z"
   },
   {
    "duration": 49,
    "start_time": "2022-05-12T08:08:07.406Z"
   },
   {
    "duration": 59,
    "start_time": "2022-05-12T08:08:07.458Z"
   },
   {
    "duration": 14,
    "start_time": "2022-05-12T08:08:07.522Z"
   },
   {
    "duration": 27,
    "start_time": "2022-05-12T08:08:07.538Z"
   },
   {
    "duration": 11,
    "start_time": "2022-05-12T08:08:07.567Z"
   },
   {
    "duration": 66,
    "start_time": "2022-05-12T08:08:07.585Z"
   },
   {
    "duration": 11,
    "start_time": "2022-05-12T08:08:07.654Z"
   },
   {
    "duration": 8,
    "start_time": "2022-05-12T08:08:07.667Z"
   },
   {
    "duration": 73,
    "start_time": "2022-05-12T08:08:07.678Z"
   },
   {
    "duration": 11,
    "start_time": "2022-05-12T08:08:07.754Z"
   },
   {
    "duration": 67,
    "start_time": "2022-05-12T08:08:07.768Z"
   },
   {
    "duration": 8,
    "start_time": "2022-05-12T08:08:07.838Z"
   },
   {
    "duration": 18,
    "start_time": "2022-05-12T08:08:07.849Z"
   },
   {
    "duration": 16,
    "start_time": "2022-05-12T08:08:07.869Z"
   }
  ],
  "kernelspec": {
   "display_name": "Python 3 (ipykernel)",
   "language": "python",
   "name": "python3"
  },
  "language_info": {
   "codemirror_mode": {
    "name": "ipython",
    "version": 3
   },
   "file_extension": ".py",
   "mimetype": "text/x-python",
   "name": "python",
   "nbconvert_exporter": "python",
   "pygments_lexer": "ipython3",
   "version": "3.9.5"
  },
  "toc": {
   "base_numbering": 1,
   "nav_menu": {},
   "number_sections": true,
   "sideBar": true,
   "skip_h1_title": true,
   "title_cell": "Table of Contents",
   "title_sidebar": "Contents",
   "toc_cell": false,
   "toc_position": {
    "height": "calc(100% - 180px)",
    "left": "10px",
    "top": "150px",
    "width": "199px"
   },
   "toc_section_display": true,
   "toc_window_display": true
  }
 },
 "nbformat": 4,
 "nbformat_minor": 2
}
